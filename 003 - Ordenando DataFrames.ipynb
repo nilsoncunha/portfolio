{
  "cells": [
    {
      "metadata": {
        "collapsed": true
      },
      "cell_type": "markdown",
      "source": "## Ordenando DataFrames"
    },
    {
      "metadata": {
        "trusted": true
      },
      "cell_type": "code",
      "source": "import numpy as np\nimport pandas as pd",
      "execution_count": 1,
      "outputs": []
    },
    {
      "metadata": {
        "trusted": true
      },
      "cell_type": "code",
      "source": "colunas_filmes = ['star_rating','title','content_rating','genre','duration','actors_list']\n\nfile = 'movies.csv'\nfilmes = pd.read_csv(file, header=0, names=colunas_filmes)\nfilmes.columns",
      "execution_count": 2,
      "outputs": [
        {
          "output_type": "execute_result",
          "execution_count": 2,
          "data": {
            "text/plain": "Index(['star_rating', 'title', 'content_rating', 'genre', 'duration',\n       'actors_list'],\n      dtype='object')"
          },
          "metadata": {}
        }
      ]
    },
    {
      "metadata": {
        "trusted": true
      },
      "cell_type": "code",
      "source": "filmes.head()",
      "execution_count": 3,
      "outputs": [
        {
          "output_type": "execute_result",
          "execution_count": 3,
          "data": {
            "text/html": "<div>\n<style scoped>\n    .dataframe tbody tr th:only-of-type {\n        vertical-align: middle;\n    }\n\n    .dataframe tbody tr th {\n        vertical-align: top;\n    }\n\n    .dataframe thead th {\n        text-align: right;\n    }\n</style>\n<table border=\"1\" class=\"dataframe\">\n  <thead>\n    <tr style=\"text-align: right;\">\n      <th></th>\n      <th>star_rating</th>\n      <th>title</th>\n      <th>content_rating</th>\n      <th>genre</th>\n      <th>duration</th>\n      <th>actors_list</th>\n    </tr>\n  </thead>\n  <tbody>\n    <tr>\n      <th>0</th>\n      <td>9.3</td>\n      <td>The Shawshank Redemption</td>\n      <td>R</td>\n      <td>Crime</td>\n      <td>142</td>\n      <td>[u'Tim Robbins', u'Morgan Freeman', u'Bob Gunt...</td>\n    </tr>\n    <tr>\n      <th>1</th>\n      <td>9.2</td>\n      <td>The Godfather</td>\n      <td>R</td>\n      <td>Crime</td>\n      <td>175</td>\n      <td>[u'Marlon Brando', u'Al Pacino', u'James Caan']</td>\n    </tr>\n    <tr>\n      <th>2</th>\n      <td>9.1</td>\n      <td>The Godfather: Part II</td>\n      <td>R</td>\n      <td>Crime</td>\n      <td>200</td>\n      <td>[u'Al Pacino', u'Robert De Niro', u'Robert Duv...</td>\n    </tr>\n    <tr>\n      <th>3</th>\n      <td>9.0</td>\n      <td>The Dark Knight</td>\n      <td>PG-13</td>\n      <td>Action</td>\n      <td>152</td>\n      <td>[u'Christian Bale', u'Heath Ledger', u'Aaron E...</td>\n    </tr>\n    <tr>\n      <th>4</th>\n      <td>8.9</td>\n      <td>Pulp Fiction</td>\n      <td>R</td>\n      <td>Crime</td>\n      <td>154</td>\n      <td>[u'John Travolta', u'Uma Thurman', u'Samuel L....</td>\n    </tr>\n  </tbody>\n</table>\n</div>",
            "text/plain": "   star_rating                     title content_rating   genre  duration  \\\n0          9.3  The Shawshank Redemption              R   Crime       142   \n1          9.2             The Godfather              R   Crime       175   \n2          9.1    The Godfather: Part II              R   Crime       200   \n3          9.0           The Dark Knight          PG-13  Action       152   \n4          8.9              Pulp Fiction              R   Crime       154   \n\n                                         actors_list  \n0  [u'Tim Robbins', u'Morgan Freeman', u'Bob Gunt...  \n1    [u'Marlon Brando', u'Al Pacino', u'James Caan']  \n2  [u'Al Pacino', u'Robert De Niro', u'Robert Duv...  \n3  [u'Christian Bale', u'Heath Ledger', u'Aaron E...  \n4  [u'John Travolta', u'Uma Thurman', u'Samuel L....  "
          },
          "metadata": {}
        }
      ]
    },
    {
      "metadata": {
        "trusted": true
      },
      "cell_type": "code",
      "source": "# Ordenando por título\n# Aqui usamos a ordenação na coluna do Dataframe, com isso ele retornou uma Series\nfilmes.title.sort_values().head(10)",
      "execution_count": 4,
      "outputs": [
        {
          "output_type": "execute_result",
          "execution_count": 4,
          "data": {
            "text/plain": "542     (500) Days of Summer\n5               12 Angry Men\n201         12 Years a Slave\n698                127 Hours\n110    2001: A Space Odyssey\n910                     2046\n596                 21 Grams\n624                25th Hour\n708         28 Days Later...\n60                  3 Idiots\nName: title, dtype: object"
          },
          "metadata": {}
        }
      ]
    },
    {
      "metadata": {
        "trusted": true
      },
      "cell_type": "code",
      "source": "# O retorno é uma série\nA = filmes.title.sort_values()\ntype(A)",
      "execution_count": 5,
      "outputs": [
        {
          "output_type": "execute_result",
          "execution_count": 5,
          "data": {
            "text/plain": "pandas.core.series.Series"
          },
          "metadata": {}
        }
      ]
    },
    {
      "metadata": {
        "trusted": true
      },
      "cell_type": "code",
      "source": "A",
      "execution_count": 6,
      "outputs": [
        {
          "output_type": "execute_result",
          "execution_count": 6,
          "data": {
            "text/plain": "542                   (500) Days of Summer\n5                             12 Angry Men\n201                       12 Years a Slave\n698                              127 Hours\n110                  2001: A Space Odyssey\n910                                   2046\n596                               21 Grams\n624                              25th Hour\n708                       28 Days Later...\n60                                3 Idiots\n225                                 3-Iron\n570                                    300\n555                           3:10 to Yuma\n427           4 Months, 3 Weeks and 2 Days\n824                                     42\n597                                  50/50\n203                                  8 1/2\n170                       A Beautiful Mind\n941                       A Bridge Too Far\n571                           A Bronx Tale\n266                      A Christmas Story\n86                      A Clockwork Orange\n716                         A Few Good Men\n750                    A Fish Called Wanda\n276                   A Fistful of Dollars\n612                     A Hard Day's Night\n883                  A History of Violence\n869              A Nightmare on Elm Street\n865                        A Perfect World\n426                              A Prophet\n                      ...                 \n207       What Ever Happened to Baby Jane?\n562            What's Eating Gilbert Grape\n719                When Harry Met Sally...\n649                      Where Eagles Dare\n33                                Whiplash\n669                Who Framed Roger Rabbit\n219        Who's Afraid of Virginia Woolf?\n127                      Wild Strawberries\n497    Willy Wonka & the Chocolate Factory\n270                        Wings of Desire\n483                           Withnail & I\n920                                Witness\n65             Witness for the Prosecution\n970                            Wonder Boys\n518                         Wreck-It Ralph\n954                                  X-Men\n248             X-Men: Days of Future Past\n532                     X-Men: First Class\n871                                     X2\n695                      Y Tu Mama Tambien\n403                             Ying xiong\n235                                Yip Man\n96                                 Yojimbo\n280                     Young Frankenstein\n535                                  Zelig\n955                       Zero Dark Thirty\n677                                 Zodiac\n615                             Zombieland\n526                                   Zulu\n864                                  [Rec]\nName: title, Length: 979, dtype: object"
          },
          "metadata": {}
        }
      ]
    },
    {
      "metadata": {
        "trusted": true
      },
      "cell_type": "code",
      "source": "# Ordenando decrescente\n# Aqui usamos a ordenação na coluna do Dataframe, com isso ele retornou uma Series\nfilmes.title.sort_values(ascending=False).head(10)",
      "execution_count": 7,
      "outputs": [
        {
          "output_type": "execute_result",
          "execution_count": 7,
          "data": {
            "text/plain": "864                 [Rec]\n526                  Zulu\n615            Zombieland\n677                Zodiac\n955      Zero Dark Thirty\n535                 Zelig\n280    Young Frankenstein\n96                Yojimbo\n235               Yip Man\n403            Ying xiong\nName: title, dtype: object"
          },
          "metadata": {}
        }
      ]
    },
    {
      "metadata": {
        "trusted": true,
        "scrolled": true
      },
      "cell_type": "code",
      "source": "# Aqui usamos a ordenação no DataFrame. Dessa forma ele retorna o próprio DataFrame\nfilmes.sort_values('title').head()",
      "execution_count": 8,
      "outputs": [
        {
          "output_type": "execute_result",
          "execution_count": 8,
          "data": {
            "text/html": "<div>\n<style scoped>\n    .dataframe tbody tr th:only-of-type {\n        vertical-align: middle;\n    }\n\n    .dataframe tbody tr th {\n        vertical-align: top;\n    }\n\n    .dataframe thead th {\n        text-align: right;\n    }\n</style>\n<table border=\"1\" class=\"dataframe\">\n  <thead>\n    <tr style=\"text-align: right;\">\n      <th></th>\n      <th>star_rating</th>\n      <th>title</th>\n      <th>content_rating</th>\n      <th>genre</th>\n      <th>duration</th>\n      <th>actors_list</th>\n    </tr>\n  </thead>\n  <tbody>\n    <tr>\n      <th>542</th>\n      <td>7.8</td>\n      <td>(500) Days of Summer</td>\n      <td>PG-13</td>\n      <td>Comedy</td>\n      <td>95</td>\n      <td>[u'Zooey Deschanel', u'Joseph Gordon-Levitt', ...</td>\n    </tr>\n    <tr>\n      <th>5</th>\n      <td>8.9</td>\n      <td>12 Angry Men</td>\n      <td>NOT RATED</td>\n      <td>Drama</td>\n      <td>96</td>\n      <td>[u'Henry Fonda', u'Lee J. Cobb', u'Martin Bals...</td>\n    </tr>\n    <tr>\n      <th>201</th>\n      <td>8.1</td>\n      <td>12 Years a Slave</td>\n      <td>R</td>\n      <td>Biography</td>\n      <td>134</td>\n      <td>[u'Chiwetel Ejiofor', u'Michael Kenneth Willia...</td>\n    </tr>\n    <tr>\n      <th>698</th>\n      <td>7.6</td>\n      <td>127 Hours</td>\n      <td>R</td>\n      <td>Adventure</td>\n      <td>94</td>\n      <td>[u'James Franco', u'Amber Tamblyn', u'Kate Mara']</td>\n    </tr>\n    <tr>\n      <th>110</th>\n      <td>8.3</td>\n      <td>2001: A Space Odyssey</td>\n      <td>G</td>\n      <td>Mystery</td>\n      <td>160</td>\n      <td>[u'Keir Dullea', u'Gary Lockwood', u'William S...</td>\n    </tr>\n  </tbody>\n</table>\n</div>",
            "text/plain": "     star_rating                  title content_rating      genre  duration  \\\n542          7.8   (500) Days of Summer          PG-13     Comedy        95   \n5            8.9           12 Angry Men      NOT RATED      Drama        96   \n201          8.1       12 Years a Slave              R  Biography       134   \n698          7.6              127 Hours              R  Adventure        94   \n110          8.3  2001: A Space Odyssey              G    Mystery       160   \n\n                                           actors_list  \n542  [u'Zooey Deschanel', u'Joseph Gordon-Levitt', ...  \n5    [u'Henry Fonda', u'Lee J. Cobb', u'Martin Bals...  \n201  [u'Chiwetel Ejiofor', u'Michael Kenneth Willia...  \n698  [u'James Franco', u'Amber Tamblyn', u'Kate Mara']  \n110  [u'Keir Dullea', u'Gary Lockwood', u'William S...  "
          },
          "metadata": {}
        }
      ]
    },
    {
      "metadata": {
        "trusted": true
      },
      "cell_type": "code",
      "source": "filmes.sort_values('title', ascending=False).head(20)",
      "execution_count": 9,
      "outputs": [
        {
          "output_type": "execute_result",
          "execution_count": 9,
          "data": {
            "text/html": "<div>\n<style scoped>\n    .dataframe tbody tr th:only-of-type {\n        vertical-align: middle;\n    }\n\n    .dataframe tbody tr th {\n        vertical-align: top;\n    }\n\n    .dataframe thead th {\n        text-align: right;\n    }\n</style>\n<table border=\"1\" class=\"dataframe\">\n  <thead>\n    <tr style=\"text-align: right;\">\n      <th></th>\n      <th>star_rating</th>\n      <th>title</th>\n      <th>content_rating</th>\n      <th>genre</th>\n      <th>duration</th>\n      <th>actors_list</th>\n    </tr>\n  </thead>\n  <tbody>\n    <tr>\n      <th>864</th>\n      <td>7.5</td>\n      <td>[Rec]</td>\n      <td>R</td>\n      <td>Horror</td>\n      <td>78</td>\n      <td>[u'Manuela Velasco', u'Ferran Terraza', u'Jorg...</td>\n    </tr>\n    <tr>\n      <th>526</th>\n      <td>7.8</td>\n      <td>Zulu</td>\n      <td>UNRATED</td>\n      <td>Drama</td>\n      <td>138</td>\n      <td>[u'Stanley Baker', u'Jack Hawkins', u'Ulla Jac...</td>\n    </tr>\n    <tr>\n      <th>615</th>\n      <td>7.7</td>\n      <td>Zombieland</td>\n      <td>R</td>\n      <td>Comedy</td>\n      <td>88</td>\n      <td>[u'Jesse Eisenberg', u'Emma Stone', u'Woody Ha...</td>\n    </tr>\n    <tr>\n      <th>677</th>\n      <td>7.7</td>\n      <td>Zodiac</td>\n      <td>R</td>\n      <td>Crime</td>\n      <td>157</td>\n      <td>[u'Jake Gyllenhaal', u'Robert Downey Jr.', u'M...</td>\n    </tr>\n    <tr>\n      <th>955</th>\n      <td>7.4</td>\n      <td>Zero Dark Thirty</td>\n      <td>R</td>\n      <td>Drama</td>\n      <td>157</td>\n      <td>[u'Jessica Chastain', u'Joel Edgerton', u'Chri...</td>\n    </tr>\n    <tr>\n      <th>535</th>\n      <td>7.8</td>\n      <td>Zelig</td>\n      <td>PG</td>\n      <td>Comedy</td>\n      <td>79</td>\n      <td>[u'Woody Allen', u'Mia Farrow', u'Patrick Horg...</td>\n    </tr>\n    <tr>\n      <th>280</th>\n      <td>8.1</td>\n      <td>Young Frankenstein</td>\n      <td>PG</td>\n      <td>Comedy</td>\n      <td>106</td>\n      <td>[u'Gene Wilder', u'Madeline Kahn', u'Marty Fel...</td>\n    </tr>\n    <tr>\n      <th>96</th>\n      <td>8.4</td>\n      <td>Yojimbo</td>\n      <td>UNRATED</td>\n      <td>Action</td>\n      <td>110</td>\n      <td>[u'Toshir\\xf4 Mifune', u'Eijir\\xf4 T\\xf4no', u...</td>\n    </tr>\n    <tr>\n      <th>235</th>\n      <td>8.1</td>\n      <td>Yip Man</td>\n      <td>R</td>\n      <td>Action</td>\n      <td>106</td>\n      <td>[u'Donnie Yen', u'Simon Yam', u'Siu-Wong Fan']</td>\n    </tr>\n    <tr>\n      <th>403</th>\n      <td>7.9</td>\n      <td>Ying xiong</td>\n      <td>PG-13</td>\n      <td>Action</td>\n      <td>99</td>\n      <td>[u'Jet Li', u'Tony Chiu Wai Leung', u'Maggie C...</td>\n    </tr>\n    <tr>\n      <th>695</th>\n      <td>7.7</td>\n      <td>Y Tu Mama Tambien</td>\n      <td>R</td>\n      <td>Drama</td>\n      <td>106</td>\n      <td>[u'Maribel Verd\\xfa', u'Gael Garc\\xeda Bernal'...</td>\n    </tr>\n    <tr>\n      <th>871</th>\n      <td>7.5</td>\n      <td>X2</td>\n      <td>PG-13</td>\n      <td>Action</td>\n      <td>134</td>\n      <td>[u'Patrick Stewart', u'Hugh Jackman', u'Halle ...</td>\n    </tr>\n    <tr>\n      <th>532</th>\n      <td>7.8</td>\n      <td>X-Men: First Class</td>\n      <td>PG-13</td>\n      <td>Action</td>\n      <td>132</td>\n      <td>[u'James McAvoy', u'Michael Fassbender', u'Jen...</td>\n    </tr>\n    <tr>\n      <th>248</th>\n      <td>8.1</td>\n      <td>X-Men: Days of Future Past</td>\n      <td>PG-13</td>\n      <td>Action</td>\n      <td>131</td>\n      <td>[u'Patrick Stewart', u'Ian McKellen', u'Hugh J...</td>\n    </tr>\n    <tr>\n      <th>954</th>\n      <td>7.4</td>\n      <td>X-Men</td>\n      <td>PG-13</td>\n      <td>Action</td>\n      <td>104</td>\n      <td>[u'Patrick Stewart', u'Hugh Jackman', u'Ian Mc...</td>\n    </tr>\n    <tr>\n      <th>518</th>\n      <td>7.8</td>\n      <td>Wreck-It Ralph</td>\n      <td>PG</td>\n      <td>Animation</td>\n      <td>101</td>\n      <td>[u'John C. Reilly', u'Jack McBrayer', u'Jane L...</td>\n    </tr>\n    <tr>\n      <th>970</th>\n      <td>7.4</td>\n      <td>Wonder Boys</td>\n      <td>R</td>\n      <td>Drama</td>\n      <td>107</td>\n      <td>[u'Michael Douglas', u'Tobey Maguire', u'Franc...</td>\n    </tr>\n    <tr>\n      <th>65</th>\n      <td>8.4</td>\n      <td>Witness for the Prosecution</td>\n      <td>APPROVED</td>\n      <td>Crime</td>\n      <td>116</td>\n      <td>[u'Tyrone Power', u'Marlene Dietrich', u'Charl...</td>\n    </tr>\n    <tr>\n      <th>920</th>\n      <td>7.5</td>\n      <td>Witness</td>\n      <td>R</td>\n      <td>Crime</td>\n      <td>112</td>\n      <td>[u'Harrison Ford', u'Kelly McGillis', u'Lukas ...</td>\n    </tr>\n    <tr>\n      <th>483</th>\n      <td>7.8</td>\n      <td>Withnail &amp; I</td>\n      <td>R</td>\n      <td>Comedy</td>\n      <td>107</td>\n      <td>[u'Richard E. Grant', u'Paul McGann', u'Richar...</td>\n    </tr>\n  </tbody>\n</table>\n</div>",
            "text/plain": "     star_rating                        title content_rating      genre  \\\n864          7.5                        [Rec]              R     Horror   \n526          7.8                         Zulu        UNRATED      Drama   \n615          7.7                   Zombieland              R     Comedy   \n677          7.7                       Zodiac              R      Crime   \n955          7.4             Zero Dark Thirty              R      Drama   \n535          7.8                        Zelig             PG     Comedy   \n280          8.1           Young Frankenstein             PG     Comedy   \n96           8.4                      Yojimbo        UNRATED     Action   \n235          8.1                      Yip Man              R     Action   \n403          7.9                   Ying xiong          PG-13     Action   \n695          7.7            Y Tu Mama Tambien              R      Drama   \n871          7.5                           X2          PG-13     Action   \n532          7.8           X-Men: First Class          PG-13     Action   \n248          8.1   X-Men: Days of Future Past          PG-13     Action   \n954          7.4                        X-Men          PG-13     Action   \n518          7.8               Wreck-It Ralph             PG  Animation   \n970          7.4                  Wonder Boys              R      Drama   \n65           8.4  Witness for the Prosecution       APPROVED      Crime   \n920          7.5                      Witness              R      Crime   \n483          7.8                 Withnail & I              R     Comedy   \n\n     duration                                        actors_list  \n864        78  [u'Manuela Velasco', u'Ferran Terraza', u'Jorg...  \n526       138  [u'Stanley Baker', u'Jack Hawkins', u'Ulla Jac...  \n615        88  [u'Jesse Eisenberg', u'Emma Stone', u'Woody Ha...  \n677       157  [u'Jake Gyllenhaal', u'Robert Downey Jr.', u'M...  \n955       157  [u'Jessica Chastain', u'Joel Edgerton', u'Chri...  \n535        79  [u'Woody Allen', u'Mia Farrow', u'Patrick Horg...  \n280       106  [u'Gene Wilder', u'Madeline Kahn', u'Marty Fel...  \n96        110  [u'Toshir\\xf4 Mifune', u'Eijir\\xf4 T\\xf4no', u...  \n235       106     [u'Donnie Yen', u'Simon Yam', u'Siu-Wong Fan']  \n403        99  [u'Jet Li', u'Tony Chiu Wai Leung', u'Maggie C...  \n695       106  [u'Maribel Verd\\xfa', u'Gael Garc\\xeda Bernal'...  \n871       134  [u'Patrick Stewart', u'Hugh Jackman', u'Halle ...  \n532       132  [u'James McAvoy', u'Michael Fassbender', u'Jen...  \n248       131  [u'Patrick Stewart', u'Ian McKellen', u'Hugh J...  \n954       104  [u'Patrick Stewart', u'Hugh Jackman', u'Ian Mc...  \n518       101  [u'John C. Reilly', u'Jack McBrayer', u'Jane L...  \n970       107  [u'Michael Douglas', u'Tobey Maguire', u'Franc...  \n65        116  [u'Tyrone Power', u'Marlene Dietrich', u'Charl...  \n920       112  [u'Harrison Ford', u'Kelly McGillis', u'Lukas ...  \n483       107  [u'Richard E. Grant', u'Paul McGann', u'Richar...  "
          },
          "metadata": {}
        }
      ]
    },
    {
      "metadata": {
        "trusted": true
      },
      "cell_type": "code",
      "source": "# Não altera o Dataframe original\nfilmes.head()",
      "execution_count": 10,
      "outputs": [
        {
          "output_type": "execute_result",
          "execution_count": 10,
          "data": {
            "text/html": "<div>\n<style scoped>\n    .dataframe tbody tr th:only-of-type {\n        vertical-align: middle;\n    }\n\n    .dataframe tbody tr th {\n        vertical-align: top;\n    }\n\n    .dataframe thead th {\n        text-align: right;\n    }\n</style>\n<table border=\"1\" class=\"dataframe\">\n  <thead>\n    <tr style=\"text-align: right;\">\n      <th></th>\n      <th>star_rating</th>\n      <th>title</th>\n      <th>content_rating</th>\n      <th>genre</th>\n      <th>duration</th>\n      <th>actors_list</th>\n    </tr>\n  </thead>\n  <tbody>\n    <tr>\n      <th>0</th>\n      <td>9.3</td>\n      <td>The Shawshank Redemption</td>\n      <td>R</td>\n      <td>Crime</td>\n      <td>142</td>\n      <td>[u'Tim Robbins', u'Morgan Freeman', u'Bob Gunt...</td>\n    </tr>\n    <tr>\n      <th>1</th>\n      <td>9.2</td>\n      <td>The Godfather</td>\n      <td>R</td>\n      <td>Crime</td>\n      <td>175</td>\n      <td>[u'Marlon Brando', u'Al Pacino', u'James Caan']</td>\n    </tr>\n    <tr>\n      <th>2</th>\n      <td>9.1</td>\n      <td>The Godfather: Part II</td>\n      <td>R</td>\n      <td>Crime</td>\n      <td>200</td>\n      <td>[u'Al Pacino', u'Robert De Niro', u'Robert Duv...</td>\n    </tr>\n    <tr>\n      <th>3</th>\n      <td>9.0</td>\n      <td>The Dark Knight</td>\n      <td>PG-13</td>\n      <td>Action</td>\n      <td>152</td>\n      <td>[u'Christian Bale', u'Heath Ledger', u'Aaron E...</td>\n    </tr>\n    <tr>\n      <th>4</th>\n      <td>8.9</td>\n      <td>Pulp Fiction</td>\n      <td>R</td>\n      <td>Crime</td>\n      <td>154</td>\n      <td>[u'John Travolta', u'Uma Thurman', u'Samuel L....</td>\n    </tr>\n  </tbody>\n</table>\n</div>",
            "text/plain": "   star_rating                     title content_rating   genre  duration  \\\n0          9.3  The Shawshank Redemption              R   Crime       142   \n1          9.2             The Godfather              R   Crime       175   \n2          9.1    The Godfather: Part II              R   Crime       200   \n3          9.0           The Dark Knight          PG-13  Action       152   \n4          8.9              Pulp Fiction              R   Crime       154   \n\n                                         actors_list  \n0  [u'Tim Robbins', u'Morgan Freeman', u'Bob Gunt...  \n1    [u'Marlon Brando', u'Al Pacino', u'James Caan']  \n2  [u'Al Pacino', u'Robert De Niro', u'Robert Duv...  \n3  [u'Christian Bale', u'Heath Ledger', u'Aaron E...  \n4  [u'John Travolta', u'Uma Thurman', u'Samuel L....  "
          },
          "metadata": {}
        }
      ]
    },
    {
      "metadata": {
        "trusted": true
      },
      "cell_type": "code",
      "source": "# Podemos ordenar por mais de uma coluna.\nfilmes.sort_values(['genre','star_rating','title']).head(20)",
      "execution_count": 13,
      "outputs": [
        {
          "output_type": "execute_result",
          "execution_count": 13,
          "data": {
            "text/html": "<div>\n<style scoped>\n    .dataframe tbody tr th:only-of-type {\n        vertical-align: middle;\n    }\n\n    .dataframe tbody tr th {\n        vertical-align: top;\n    }\n\n    .dataframe thead th {\n        text-align: right;\n    }\n</style>\n<table border=\"1\" class=\"dataframe\">\n  <thead>\n    <tr style=\"text-align: right;\">\n      <th></th>\n      <th>star_rating</th>\n      <th>title</th>\n      <th>content_rating</th>\n      <th>genre</th>\n      <th>duration</th>\n      <th>actors_list</th>\n    </tr>\n  </thead>\n  <tbody>\n    <tr>\n      <th>963</th>\n      <td>7.4</td>\n      <td>La Femme Nikita</td>\n      <td>R</td>\n      <td>Action</td>\n      <td>118</td>\n      <td>[u'Anne Parillaud', u'Marc Duret', u'Patrick F...</td>\n    </tr>\n    <tr>\n      <th>976</th>\n      <td>7.4</td>\n      <td>Master and Commander: The Far Side of the World</td>\n      <td>PG-13</td>\n      <td>Action</td>\n      <td>138</td>\n      <td>[u'Russell Crowe', u'Paul Bettany', u'Billy Bo...</td>\n    </tr>\n    <tr>\n      <th>967</th>\n      <td>7.4</td>\n      <td>The Rock</td>\n      <td>R</td>\n      <td>Action</td>\n      <td>136</td>\n      <td>[u'Sean Connery', u'Nicolas Cage', u'Ed Harris']</td>\n    </tr>\n    <tr>\n      <th>954</th>\n      <td>7.4</td>\n      <td>X-Men</td>\n      <td>PG-13</td>\n      <td>Action</td>\n      <td>104</td>\n      <td>[u'Patrick Stewart', u'Hugh Jackman', u'Ian Mc...</td>\n    </tr>\n    <tr>\n      <th>908</th>\n      <td>7.5</td>\n      <td>Bullitt</td>\n      <td>PG</td>\n      <td>Action</td>\n      <td>114</td>\n      <td>[u'Steve McQueen', u'Jacqueline Bisset', u'Rob...</td>\n    </tr>\n    <tr>\n      <th>896</th>\n      <td>7.5</td>\n      <td>From Russia with Love</td>\n      <td>APPROVED</td>\n      <td>Action</td>\n      <td>115</td>\n      <td>[u'Sean Connery', u'Robert Shaw', u'Lotte Lenya']</td>\n    </tr>\n    <tr>\n      <th>906</th>\n      <td>7.5</td>\n      <td>Looper</td>\n      <td>R</td>\n      <td>Action</td>\n      <td>119</td>\n      <td>[u'Joseph Gordon-Levitt', u'Bruce Willis', u'E...</td>\n    </tr>\n    <tr>\n      <th>884</th>\n      <td>7.5</td>\n      <td>Open Range</td>\n      <td>R</td>\n      <td>Action</td>\n      <td>139</td>\n      <td>[u'Kevin Costner', u'Robert Duvall', u'Diego L...</td>\n    </tr>\n    <tr>\n      <th>832</th>\n      <td>7.5</td>\n      <td>RoboCop</td>\n      <td>R</td>\n      <td>Action</td>\n      <td>102</td>\n      <td>[u'Peter Weller', u'Nancy Allen', u\"Dan O'Herl...</td>\n    </tr>\n    <tr>\n      <th>918</th>\n      <td>7.5</td>\n      <td>Running Scared</td>\n      <td>R</td>\n      <td>Action</td>\n      <td>122</td>\n      <td>[u'Paul Walker', u'Cameron Bright', u'Chazz Pa...</td>\n    </tr>\n    <tr>\n      <th>856</th>\n      <td>7.5</td>\n      <td>Scott Pilgrim vs. the World</td>\n      <td>PG-13</td>\n      <td>Action</td>\n      <td>112</td>\n      <td>[u'Michael Cera', u'Mary Elizabeth Winstead', ...</td>\n    </tr>\n    <tr>\n      <th>858</th>\n      <td>7.5</td>\n      <td>Sherlock Holmes: A Game of Shadows</td>\n      <td>PG-13</td>\n      <td>Action</td>\n      <td>129</td>\n      <td>[u'Robert Downey Jr.', u'Jude Law', u'Jared Ha...</td>\n    </tr>\n    <tr>\n      <th>885</th>\n      <td>7.5</td>\n      <td>Total Recall</td>\n      <td>R</td>\n      <td>Action</td>\n      <td>113</td>\n      <td>[u'Arnold Schwarzenegger', u'Sharon Stone', u'...</td>\n    </tr>\n    <tr>\n      <th>871</th>\n      <td>7.5</td>\n      <td>X2</td>\n      <td>PG-13</td>\n      <td>Action</td>\n      <td>134</td>\n      <td>[u'Patrick Stewart', u'Hugh Jackman', u'Halle ...</td>\n    </tr>\n    <tr>\n      <th>801</th>\n      <td>7.6</td>\n      <td>Batman</td>\n      <td>PG-13</td>\n      <td>Action</td>\n      <td>126</td>\n      <td>[u'Michael Keaton', u'Jack Nicholson', u'Kim B...</td>\n    </tr>\n    <tr>\n      <th>778</th>\n      <td>7.6</td>\n      <td>Die Hard: With a Vengeance</td>\n      <td>R</td>\n      <td>Action</td>\n      <td>131</td>\n      <td>[u'Bruce Willis', u'Jeremy Irons', u'Samuel L....</td>\n    </tr>\n    <tr>\n      <th>815</th>\n      <td>7.6</td>\n      <td>Equilibrium</td>\n      <td>R</td>\n      <td>Action</td>\n      <td>107</td>\n      <td>[u'Christian Bale', u'Sean Bean', u'Emily Wats...</td>\n    </tr>\n    <tr>\n      <th>753</th>\n      <td>7.6</td>\n      <td>Escape from Alcatraz</td>\n      <td>PG</td>\n      <td>Action</td>\n      <td>112</td>\n      <td>[u'Clint Eastwood', u'Patrick McGoohan', u'Rob...</td>\n    </tr>\n    <tr>\n      <th>803</th>\n      <td>7.6</td>\n      <td>Ghost Dog: The Way of the Samurai</td>\n      <td>R</td>\n      <td>Action</td>\n      <td>116</td>\n      <td>[u'Forest Whitaker', u'Henry Silva', u'John To...</td>\n    </tr>\n    <tr>\n      <th>809</th>\n      <td>7.6</td>\n      <td>House of Flying Daggers</td>\n      <td>PG-13</td>\n      <td>Action</td>\n      <td>119</td>\n      <td>[u'Ziyi Zhang', u'Takeshi Kaneshiro', u'Andy L...</td>\n    </tr>\n  </tbody>\n</table>\n</div>",
            "text/plain": "     star_rating                                            title  \\\n963          7.4                                  La Femme Nikita   \n976          7.4  Master and Commander: The Far Side of the World   \n967          7.4                                         The Rock   \n954          7.4                                            X-Men   \n908          7.5                                          Bullitt   \n896          7.5                            From Russia with Love   \n906          7.5                                           Looper   \n884          7.5                                       Open Range   \n832          7.5                                          RoboCop   \n918          7.5                                   Running Scared   \n856          7.5                      Scott Pilgrim vs. the World   \n858          7.5               Sherlock Holmes: A Game of Shadows   \n885          7.5                                     Total Recall   \n871          7.5                                               X2   \n801          7.6                                           Batman   \n778          7.6                       Die Hard: With a Vengeance   \n815          7.6                                      Equilibrium   \n753          7.6                             Escape from Alcatraz   \n803          7.6                Ghost Dog: The Way of the Samurai   \n809          7.6                          House of Flying Daggers   \n\n    content_rating   genre  duration  \\\n963              R  Action       118   \n976          PG-13  Action       138   \n967              R  Action       136   \n954          PG-13  Action       104   \n908             PG  Action       114   \n896       APPROVED  Action       115   \n906              R  Action       119   \n884              R  Action       139   \n832              R  Action       102   \n918              R  Action       122   \n856          PG-13  Action       112   \n858          PG-13  Action       129   \n885              R  Action       113   \n871          PG-13  Action       134   \n801          PG-13  Action       126   \n778              R  Action       131   \n815              R  Action       107   \n753             PG  Action       112   \n803              R  Action       116   \n809          PG-13  Action       119   \n\n                                           actors_list  \n963  [u'Anne Parillaud', u'Marc Duret', u'Patrick F...  \n976  [u'Russell Crowe', u'Paul Bettany', u'Billy Bo...  \n967   [u'Sean Connery', u'Nicolas Cage', u'Ed Harris']  \n954  [u'Patrick Stewart', u'Hugh Jackman', u'Ian Mc...  \n908  [u'Steve McQueen', u'Jacqueline Bisset', u'Rob...  \n896  [u'Sean Connery', u'Robert Shaw', u'Lotte Lenya']  \n906  [u'Joseph Gordon-Levitt', u'Bruce Willis', u'E...  \n884  [u'Kevin Costner', u'Robert Duvall', u'Diego L...  \n832  [u'Peter Weller', u'Nancy Allen', u\"Dan O'Herl...  \n918  [u'Paul Walker', u'Cameron Bright', u'Chazz Pa...  \n856  [u'Michael Cera', u'Mary Elizabeth Winstead', ...  \n858  [u'Robert Downey Jr.', u'Jude Law', u'Jared Ha...  \n885  [u'Arnold Schwarzenegger', u'Sharon Stone', u'...  \n871  [u'Patrick Stewart', u'Hugh Jackman', u'Halle ...  \n801  [u'Michael Keaton', u'Jack Nicholson', u'Kim B...  \n778  [u'Bruce Willis', u'Jeremy Irons', u'Samuel L....  \n815  [u'Christian Bale', u'Sean Bean', u'Emily Wats...  \n753  [u'Clint Eastwood', u'Patrick McGoohan', u'Rob...  \n803  [u'Forest Whitaker', u'Henry Silva', u'John To...  \n809  [u'Ziyi Zhang', u'Takeshi Kaneshiro', u'Andy L...  "
          },
          "metadata": {}
        }
      ]
    },
    {
      "metadata": {},
      "cell_type": "markdown",
      "source": "## Filtrando um DataFrame"
    },
    {
      "metadata": {
        "trusted": true
      },
      "cell_type": "code",
      "source": "# Vamos criar uma lista para saber os filmes com maior duração do que 180 min\n\nboleanos = []\nfor item in filmes['duration']:\n    if item >= 200:\n        boleanos.append(True)\n    else:\n        boleanos.append(False)",
      "execution_count": 14,
      "outputs": []
    },
    {
      "metadata": {
        "trusted": true,
        "scrolled": true
      },
      "cell_type": "code",
      "source": "boleanos[:20]",
      "execution_count": 15,
      "outputs": [
        {
          "output_type": "execute_result",
          "execution_count": 15,
          "data": {
            "text/plain": "[False,\n False,\n True,\n False,\n False,\n False,\n False,\n True,\n False,\n False,\n False,\n False,\n False,\n False,\n False,\n False,\n False,\n True,\n False,\n False]"
          },
          "metadata": {}
        }
      ]
    },
    {
      "metadata": {
        "trusted": true
      },
      "cell_type": "code",
      "source": "type(boleanos)",
      "execution_count": 16,
      "outputs": [
        {
          "output_type": "execute_result",
          "execution_count": 16,
          "data": {
            "text/plain": "list"
          },
          "metadata": {}
        }
      ]
    },
    {
      "metadata": {
        "trusted": true
      },
      "cell_type": "code",
      "source": "# Verificando o tamanho da lista\nlen(boleanos)",
      "execution_count": 17,
      "outputs": [
        {
          "output_type": "execute_result",
          "execution_count": 17,
          "data": {
            "text/plain": "979"
          },
          "metadata": {}
        }
      ]
    },
    {
      "metadata": {
        "trusted": true
      },
      "cell_type": "code",
      "source": "filmes.shape",
      "execution_count": 18,
      "outputs": [
        {
          "output_type": "execute_result",
          "execution_count": 18,
          "data": {
            "text/plain": "(979, 6)"
          },
          "metadata": {}
        }
      ]
    },
    {
      "metadata": {},
      "cell_type": "markdown",
      "source": "Precisamos converter a lista em uma SERIE para aplicar como filtro de Dataframe Pandas."
    },
    {
      "metadata": {
        "trusted": true,
        "scrolled": true
      },
      "cell_type": "code",
      "source": "# Convertendo a lista em serie\nduracao = pd.Series(boleanos)\nduracao.head()",
      "execution_count": 19,
      "outputs": [
        {
          "output_type": "execute_result",
          "execution_count": 19,
          "data": {
            "text/plain": "0    False\n1    False\n2     True\n3    False\n4    False\ndtype: bool"
          },
          "metadata": {}
        }
      ]
    },
    {
      "metadata": {
        "trusted": true
      },
      "cell_type": "code",
      "source": "type(duracao)",
      "execution_count": 20,
      "outputs": [
        {
          "output_type": "execute_result",
          "execution_count": 20,
          "data": {
            "text/plain": "pandas.core.series.Series"
          },
          "metadata": {}
        }
      ]
    },
    {
      "metadata": {
        "trusted": true,
        "scrolled": true
      },
      "cell_type": "code",
      "source": "# Podemos usar a notação de colchetes para indexar ou para aplicar filtros de series boleanas\nprint(filmes['title'][:10])",
      "execution_count": 21,
      "outputs": [
        {
          "output_type": "stream",
          "text": "0                         The Shawshank Redemption\n1                                    The Godfather\n2                           The Godfather: Part II\n3                                  The Dark Knight\n4                                     Pulp Fiction\n5                                     12 Angry Men\n6                   The Good, the Bad and the Ugly\n7    The Lord of the Rings: The Return of the King\n8                                 Schindler's List\n9                                       Fight Club\nName: title, dtype: object\n",
          "name": "stdout"
        }
      ]
    },
    {
      "metadata": {
        "trusted": true
      },
      "cell_type": "code",
      "source": "filmes[duracao]",
      "execution_count": 22,
      "outputs": [
        {
          "output_type": "execute_result",
          "execution_count": 22,
          "data": {
            "text/html": "<div>\n<style scoped>\n    .dataframe tbody tr th:only-of-type {\n        vertical-align: middle;\n    }\n\n    .dataframe tbody tr th {\n        vertical-align: top;\n    }\n\n    .dataframe thead th {\n        text-align: right;\n    }\n</style>\n<table border=\"1\" class=\"dataframe\">\n  <thead>\n    <tr style=\"text-align: right;\">\n      <th></th>\n      <th>star_rating</th>\n      <th>title</th>\n      <th>content_rating</th>\n      <th>genre</th>\n      <th>duration</th>\n      <th>actors_list</th>\n    </tr>\n  </thead>\n  <tbody>\n    <tr>\n      <th>2</th>\n      <td>9.1</td>\n      <td>The Godfather: Part II</td>\n      <td>R</td>\n      <td>Crime</td>\n      <td>200</td>\n      <td>[u'Al Pacino', u'Robert De Niro', u'Robert Duv...</td>\n    </tr>\n    <tr>\n      <th>7</th>\n      <td>8.9</td>\n      <td>The Lord of the Rings: The Return of the King</td>\n      <td>PG-13</td>\n      <td>Adventure</td>\n      <td>201</td>\n      <td>[u'Elijah Wood', u'Viggo Mortensen', u'Ian McK...</td>\n    </tr>\n    <tr>\n      <th>17</th>\n      <td>8.7</td>\n      <td>Seven Samurai</td>\n      <td>UNRATED</td>\n      <td>Drama</td>\n      <td>207</td>\n      <td>[u'Toshir\\xf4 Mifune', u'Takashi Shimura', u'K...</td>\n    </tr>\n    <tr>\n      <th>78</th>\n      <td>8.4</td>\n      <td>Once Upon a Time in America</td>\n      <td>R</td>\n      <td>Crime</td>\n      <td>229</td>\n      <td>[u'Robert De Niro', u'James Woods', u'Elizabet...</td>\n    </tr>\n    <tr>\n      <th>85</th>\n      <td>8.4</td>\n      <td>Lawrence of Arabia</td>\n      <td>PG</td>\n      <td>Adventure</td>\n      <td>216</td>\n      <td>[u\"Peter O'Toole\", u'Alec Guinness', u'Anthony...</td>\n    </tr>\n    <tr>\n      <th>142</th>\n      <td>8.3</td>\n      <td>Lagaan: Once Upon a Time in India</td>\n      <td>PG</td>\n      <td>Adventure</td>\n      <td>224</td>\n      <td>[u'Aamir Khan', u'Gracy Singh', u'Rachel Shell...</td>\n    </tr>\n    <tr>\n      <th>157</th>\n      <td>8.2</td>\n      <td>Gone with the Wind</td>\n      <td>G</td>\n      <td>Drama</td>\n      <td>238</td>\n      <td>[u'Clark Gable', u'Vivien Leigh', u'Thomas Mit...</td>\n    </tr>\n    <tr>\n      <th>204</th>\n      <td>8.1</td>\n      <td>Ben-Hur</td>\n      <td>G</td>\n      <td>Adventure</td>\n      <td>212</td>\n      <td>[u'Charlton Heston', u'Jack Hawkins', u'Stephe...</td>\n    </tr>\n    <tr>\n      <th>445</th>\n      <td>7.9</td>\n      <td>The Ten Commandments</td>\n      <td>APPROVED</td>\n      <td>Adventure</td>\n      <td>220</td>\n      <td>[u'Charlton Heston', u'Yul Brynner', u'Anne Ba...</td>\n    </tr>\n    <tr>\n      <th>476</th>\n      <td>7.8</td>\n      <td>Hamlet</td>\n      <td>PG-13</td>\n      <td>Drama</td>\n      <td>242</td>\n      <td>[u'Kenneth Branagh', u'Julie Christie', u'Dere...</td>\n    </tr>\n    <tr>\n      <th>630</th>\n      <td>7.7</td>\n      <td>Malcolm X</td>\n      <td>PG-13</td>\n      <td>Biography</td>\n      <td>202</td>\n      <td>[u'Denzel Washington', u'Angela Bassett', u'De...</td>\n    </tr>\n    <tr>\n      <th>767</th>\n      <td>7.6</td>\n      <td>It's a Mad, Mad, Mad, Mad World</td>\n      <td>APPROVED</td>\n      <td>Action</td>\n      <td>205</td>\n      <td>[u'Spencer Tracy', u'Milton Berle', u'Ethel Me...</td>\n    </tr>\n  </tbody>\n</table>\n</div>",
            "text/plain": "     star_rating                                          title  \\\n2            9.1                         The Godfather: Part II   \n7            8.9  The Lord of the Rings: The Return of the King   \n17           8.7                                  Seven Samurai   \n78           8.4                    Once Upon a Time in America   \n85           8.4                             Lawrence of Arabia   \n142          8.3              Lagaan: Once Upon a Time in India   \n157          8.2                             Gone with the Wind   \n204          8.1                                        Ben-Hur   \n445          7.9                           The Ten Commandments   \n476          7.8                                         Hamlet   \n630          7.7                                      Malcolm X   \n767          7.6                It's a Mad, Mad, Mad, Mad World   \n\n    content_rating      genre  duration  \\\n2                R      Crime       200   \n7            PG-13  Adventure       201   \n17         UNRATED      Drama       207   \n78               R      Crime       229   \n85              PG  Adventure       216   \n142             PG  Adventure       224   \n157              G      Drama       238   \n204              G  Adventure       212   \n445       APPROVED  Adventure       220   \n476          PG-13      Drama       242   \n630          PG-13  Biography       202   \n767       APPROVED     Action       205   \n\n                                           actors_list  \n2    [u'Al Pacino', u'Robert De Niro', u'Robert Duv...  \n7    [u'Elijah Wood', u'Viggo Mortensen', u'Ian McK...  \n17   [u'Toshir\\xf4 Mifune', u'Takashi Shimura', u'K...  \n78   [u'Robert De Niro', u'James Woods', u'Elizabet...  \n85   [u\"Peter O'Toole\", u'Alec Guinness', u'Anthony...  \n142  [u'Aamir Khan', u'Gracy Singh', u'Rachel Shell...  \n157  [u'Clark Gable', u'Vivien Leigh', u'Thomas Mit...  \n204  [u'Charlton Heston', u'Jack Hawkins', u'Stephe...  \n445  [u'Charlton Heston', u'Yul Brynner', u'Anne Ba...  \n476  [u'Kenneth Branagh', u'Julie Christie', u'Dere...  \n630  [u'Denzel Washington', u'Angela Bassett', u'De...  \n767  [u'Spencer Tracy', u'Milton Berle', u'Ethel Me...  "
          },
          "metadata": {}
        }
      ]
    },
    {
      "metadata": {
        "trusted": true
      },
      "cell_type": "code",
      "source": "# Podemos ainda continuar a notação trazendo somente as colunas desejadas\n\nfilmes[duracao][['title','star_rating']]",
      "execution_count": 23,
      "outputs": [
        {
          "output_type": "execute_result",
          "execution_count": 23,
          "data": {
            "text/html": "<div>\n<style scoped>\n    .dataframe tbody tr th:only-of-type {\n        vertical-align: middle;\n    }\n\n    .dataframe tbody tr th {\n        vertical-align: top;\n    }\n\n    .dataframe thead th {\n        text-align: right;\n    }\n</style>\n<table border=\"1\" class=\"dataframe\">\n  <thead>\n    <tr style=\"text-align: right;\">\n      <th></th>\n      <th>title</th>\n      <th>star_rating</th>\n    </tr>\n  </thead>\n  <tbody>\n    <tr>\n      <th>2</th>\n      <td>The Godfather: Part II</td>\n      <td>9.1</td>\n    </tr>\n    <tr>\n      <th>7</th>\n      <td>The Lord of the Rings: The Return of the King</td>\n      <td>8.9</td>\n    </tr>\n    <tr>\n      <th>17</th>\n      <td>Seven Samurai</td>\n      <td>8.7</td>\n    </tr>\n    <tr>\n      <th>78</th>\n      <td>Once Upon a Time in America</td>\n      <td>8.4</td>\n    </tr>\n    <tr>\n      <th>85</th>\n      <td>Lawrence of Arabia</td>\n      <td>8.4</td>\n    </tr>\n    <tr>\n      <th>142</th>\n      <td>Lagaan: Once Upon a Time in India</td>\n      <td>8.3</td>\n    </tr>\n    <tr>\n      <th>157</th>\n      <td>Gone with the Wind</td>\n      <td>8.2</td>\n    </tr>\n    <tr>\n      <th>204</th>\n      <td>Ben-Hur</td>\n      <td>8.1</td>\n    </tr>\n    <tr>\n      <th>445</th>\n      <td>The Ten Commandments</td>\n      <td>7.9</td>\n    </tr>\n    <tr>\n      <th>476</th>\n      <td>Hamlet</td>\n      <td>7.8</td>\n    </tr>\n    <tr>\n      <th>630</th>\n      <td>Malcolm X</td>\n      <td>7.7</td>\n    </tr>\n    <tr>\n      <th>767</th>\n      <td>It's a Mad, Mad, Mad, Mad World</td>\n      <td>7.6</td>\n    </tr>\n  </tbody>\n</table>\n</div>",
            "text/plain": "                                             title  star_rating\n2                           The Godfather: Part II          9.1\n7    The Lord of the Rings: The Return of the King          8.9\n17                                   Seven Samurai          8.7\n78                     Once Upon a Time in America          8.4\n85                              Lawrence of Arabia          8.4\n142              Lagaan: Once Upon a Time in India          8.3\n157                             Gone with the Wind          8.2\n204                                        Ben-Hur          8.1\n445                           The Ten Commandments          7.9\n476                                         Hamlet          7.8\n630                                      Malcolm X          7.7\n767                It's a Mad, Mad, Mad, Mad World          7.6"
          },
          "metadata": {}
        }
      ]
    },
    {
      "metadata": {},
      "cell_type": "markdown",
      "source": "Podemos simplificar o filtro conforme abaixo ou ainda escrevedo em List comprehension"
    },
    {
      "metadata": {
        "trusted": true
      },
      "cell_type": "code",
      "source": "# Forma simplificada\n\nA = filmes.duration >= 180\nA.head(20)",
      "execution_count": 24,
      "outputs": [
        {
          "output_type": "execute_result",
          "execution_count": 24,
          "data": {
            "text/plain": "0     False\n1     False\n2      True\n3     False\n4     False\n5     False\n6     False\n7      True\n8      True\n9     False\n10    False\n11    False\n12    False\n13    False\n14    False\n15    False\n16    False\n17     True\n18    False\n19    False\nName: duration, dtype: bool"
          },
          "metadata": {}
        }
      ]
    },
    {
      "metadata": {
        "trusted": true
      },
      "cell_type": "code",
      "source": "filmes[A].head()",
      "execution_count": 25,
      "outputs": [
        {
          "output_type": "execute_result",
          "execution_count": 25,
          "data": {
            "text/html": "<div>\n<style scoped>\n    .dataframe tbody tr th:only-of-type {\n        vertical-align: middle;\n    }\n\n    .dataframe tbody tr th {\n        vertical-align: top;\n    }\n\n    .dataframe thead th {\n        text-align: right;\n    }\n</style>\n<table border=\"1\" class=\"dataframe\">\n  <thead>\n    <tr style=\"text-align: right;\">\n      <th></th>\n      <th>star_rating</th>\n      <th>title</th>\n      <th>content_rating</th>\n      <th>genre</th>\n      <th>duration</th>\n      <th>actors_list</th>\n    </tr>\n  </thead>\n  <tbody>\n    <tr>\n      <th>2</th>\n      <td>9.1</td>\n      <td>The Godfather: Part II</td>\n      <td>R</td>\n      <td>Crime</td>\n      <td>200</td>\n      <td>[u'Al Pacino', u'Robert De Niro', u'Robert Duv...</td>\n    </tr>\n    <tr>\n      <th>7</th>\n      <td>8.9</td>\n      <td>The Lord of the Rings: The Return of the King</td>\n      <td>PG-13</td>\n      <td>Adventure</td>\n      <td>201</td>\n      <td>[u'Elijah Wood', u'Viggo Mortensen', u'Ian McK...</td>\n    </tr>\n    <tr>\n      <th>8</th>\n      <td>8.9</td>\n      <td>Schindler's List</td>\n      <td>R</td>\n      <td>Biography</td>\n      <td>195</td>\n      <td>[u'Liam Neeson', u'Ralph Fiennes', u'Ben Kings...</td>\n    </tr>\n    <tr>\n      <th>17</th>\n      <td>8.7</td>\n      <td>Seven Samurai</td>\n      <td>UNRATED</td>\n      <td>Drama</td>\n      <td>207</td>\n      <td>[u'Toshir\\xf4 Mifune', u'Takashi Shimura', u'K...</td>\n    </tr>\n    <tr>\n      <th>40</th>\n      <td>8.5</td>\n      <td>The Green Mile</td>\n      <td>R</td>\n      <td>Crime</td>\n      <td>189</td>\n      <td>[u'Tom Hanks', u'Michael Clarke Duncan', u'Dav...</td>\n    </tr>\n  </tbody>\n</table>\n</div>",
            "text/plain": "    star_rating                                          title content_rating  \\\n2           9.1                         The Godfather: Part II              R   \n7           8.9  The Lord of the Rings: The Return of the King          PG-13   \n8           8.9                               Schindler's List              R   \n17          8.7                                  Seven Samurai        UNRATED   \n40          8.5                                 The Green Mile              R   \n\n        genre  duration                                        actors_list  \n2       Crime       200  [u'Al Pacino', u'Robert De Niro', u'Robert Duv...  \n7   Adventure       201  [u'Elijah Wood', u'Viggo Mortensen', u'Ian McK...  \n8   Biography       195  [u'Liam Neeson', u'Ralph Fiennes', u'Ben Kings...  \n17      Drama       207  [u'Toshir\\xf4 Mifune', u'Takashi Shimura', u'K...  \n40      Crime       189  [u'Tom Hanks', u'Michael Clarke Duncan', u'Dav...  "
          },
          "metadata": {}
        }
      ]
    },
    {
      "metadata": {
        "trusted": true
      },
      "cell_type": "code",
      "source": "# Escrevendo por List Comprehension\nfilmes[filmes.duration >= 180].head(10)",
      "execution_count": 26,
      "outputs": [
        {
          "output_type": "execute_result",
          "execution_count": 26,
          "data": {
            "text/html": "<div>\n<style scoped>\n    .dataframe tbody tr th:only-of-type {\n        vertical-align: middle;\n    }\n\n    .dataframe tbody tr th {\n        vertical-align: top;\n    }\n\n    .dataframe thead th {\n        text-align: right;\n    }\n</style>\n<table border=\"1\" class=\"dataframe\">\n  <thead>\n    <tr style=\"text-align: right;\">\n      <th></th>\n      <th>star_rating</th>\n      <th>title</th>\n      <th>content_rating</th>\n      <th>genre</th>\n      <th>duration</th>\n      <th>actors_list</th>\n    </tr>\n  </thead>\n  <tbody>\n    <tr>\n      <th>2</th>\n      <td>9.1</td>\n      <td>The Godfather: Part II</td>\n      <td>R</td>\n      <td>Crime</td>\n      <td>200</td>\n      <td>[u'Al Pacino', u'Robert De Niro', u'Robert Duv...</td>\n    </tr>\n    <tr>\n      <th>7</th>\n      <td>8.9</td>\n      <td>The Lord of the Rings: The Return of the King</td>\n      <td>PG-13</td>\n      <td>Adventure</td>\n      <td>201</td>\n      <td>[u'Elijah Wood', u'Viggo Mortensen', u'Ian McK...</td>\n    </tr>\n    <tr>\n      <th>8</th>\n      <td>8.9</td>\n      <td>Schindler's List</td>\n      <td>R</td>\n      <td>Biography</td>\n      <td>195</td>\n      <td>[u'Liam Neeson', u'Ralph Fiennes', u'Ben Kings...</td>\n    </tr>\n    <tr>\n      <th>17</th>\n      <td>8.7</td>\n      <td>Seven Samurai</td>\n      <td>UNRATED</td>\n      <td>Drama</td>\n      <td>207</td>\n      <td>[u'Toshir\\xf4 Mifune', u'Takashi Shimura', u'K...</td>\n    </tr>\n    <tr>\n      <th>40</th>\n      <td>8.5</td>\n      <td>The Green Mile</td>\n      <td>R</td>\n      <td>Crime</td>\n      <td>189</td>\n      <td>[u'Tom Hanks', u'Michael Clarke Duncan', u'Dav...</td>\n    </tr>\n    <tr>\n      <th>78</th>\n      <td>8.4</td>\n      <td>Once Upon a Time in America</td>\n      <td>R</td>\n      <td>Crime</td>\n      <td>229</td>\n      <td>[u'Robert De Niro', u'James Woods', u'Elizabet...</td>\n    </tr>\n    <tr>\n      <th>85</th>\n      <td>8.4</td>\n      <td>Lawrence of Arabia</td>\n      <td>PG</td>\n      <td>Adventure</td>\n      <td>216</td>\n      <td>[u\"Peter O'Toole\", u'Alec Guinness', u'Anthony...</td>\n    </tr>\n    <tr>\n      <th>89</th>\n      <td>8.4</td>\n      <td>Swades</td>\n      <td>NOT RATED</td>\n      <td>Drama</td>\n      <td>189</td>\n      <td>[u'Shah Rukh Khan', u'Gayatri Joshi', u'Kishor...</td>\n    </tr>\n    <tr>\n      <th>93</th>\n      <td>8.4</td>\n      <td>Dilwale Dulhania Le Jayenge</td>\n      <td>NOT RATED</td>\n      <td>Comedy</td>\n      <td>181</td>\n      <td>[u'Shah Rukh Khan', u'Kajol', u'Amrish Puri']</td>\n    </tr>\n    <tr>\n      <th>109</th>\n      <td>8.3</td>\n      <td>Dil Chahta Hai</td>\n      <td>NOT RATED</td>\n      <td>Comedy</td>\n      <td>183</td>\n      <td>[u'Aamir Khan', u'Saif Ali Khan', u'Akshaye Kh...</td>\n    </tr>\n  </tbody>\n</table>\n</div>",
            "text/plain": "     star_rating                                          title  \\\n2            9.1                         The Godfather: Part II   \n7            8.9  The Lord of the Rings: The Return of the King   \n8            8.9                               Schindler's List   \n17           8.7                                  Seven Samurai   \n40           8.5                                 The Green Mile   \n78           8.4                    Once Upon a Time in America   \n85           8.4                             Lawrence of Arabia   \n89           8.4                                         Swades   \n93           8.4                    Dilwale Dulhania Le Jayenge   \n109          8.3                                 Dil Chahta Hai   \n\n    content_rating      genre  duration  \\\n2                R      Crime       200   \n7            PG-13  Adventure       201   \n8                R  Biography       195   \n17         UNRATED      Drama       207   \n40               R      Crime       189   \n78               R      Crime       229   \n85              PG  Adventure       216   \n89       NOT RATED      Drama       189   \n93       NOT RATED     Comedy       181   \n109      NOT RATED     Comedy       183   \n\n                                           actors_list  \n2    [u'Al Pacino', u'Robert De Niro', u'Robert Duv...  \n7    [u'Elijah Wood', u'Viggo Mortensen', u'Ian McK...  \n8    [u'Liam Neeson', u'Ralph Fiennes', u'Ben Kings...  \n17   [u'Toshir\\xf4 Mifune', u'Takashi Shimura', u'K...  \n40   [u'Tom Hanks', u'Michael Clarke Duncan', u'Dav...  \n78   [u'Robert De Niro', u'James Woods', u'Elizabet...  \n85   [u\"Peter O'Toole\", u'Alec Guinness', u'Anthony...  \n89   [u'Shah Rukh Khan', u'Gayatri Joshi', u'Kishor...  \n93       [u'Shah Rukh Khan', u'Kajol', u'Amrish Puri']  \n109  [u'Aamir Khan', u'Saif Ali Khan', u'Akshaye Kh...  "
          },
          "metadata": {}
        }
      ]
    },
    {
      "metadata": {
        "trusted": true
      },
      "cell_type": "code",
      "source": "# Podemos também retornar outra série com a coluna que desejarmos\n# Usamos abaixo o Dot Notation\ngenero_maior_200 = filmes[filmes.duration >= 200].genre",
      "execution_count": 27,
      "outputs": []
    },
    {
      "metadata": {
        "trusted": true
      },
      "cell_type": "code",
      "source": "genero_maior_200",
      "execution_count": 28,
      "outputs": [
        {
          "output_type": "execute_result",
          "execution_count": 28,
          "data": {
            "text/plain": "2          Crime\n7      Adventure\n17         Drama\n78         Crime\n85     Adventure\n142    Adventure\n157        Drama\n204    Adventure\n445    Adventure\n476        Drama\n630    Biography\n767       Action\nName: genre, dtype: object"
          },
          "metadata": {}
        }
      ]
    },
    {
      "metadata": {
        "trusted": true
      },
      "cell_type": "code",
      "source": "type(genero_maior_200)",
      "execution_count": 29,
      "outputs": [
        {
          "output_type": "execute_result",
          "execution_count": 29,
          "data": {
            "text/plain": "pandas.core.series.Series"
          },
          "metadata": {}
        }
      ]
    },
    {
      "metadata": {
        "trusted": true
      },
      "cell_type": "code",
      "source": "# Podemos ainda utilizar a notação de colchetes para fazer a mesma coisa\ngenero_maior_200 = filmes[filmes.duration >= 200]['genre']\ngenero_maior_200",
      "execution_count": 30,
      "outputs": [
        {
          "output_type": "execute_result",
          "execution_count": 30,
          "data": {
            "text/plain": "2          Crime\n7      Adventure\n17         Drama\n78         Crime\n85     Adventure\n142    Adventure\n157        Drama\n204    Adventure\n445    Adventure\n476        Drama\n630    Biography\n767       Action\nName: genre, dtype: object"
          },
          "metadata": {}
        }
      ]
    },
    {
      "metadata": {},
      "cell_type": "markdown",
      "source": "### Utilizando o método Loc"
    },
    {
      "metadata": {
        "trusted": true
      },
      "cell_type": "code",
      "source": "# Porém, por boa prática, utilizamso sempre o método LOC que nada mais é do que definir uma condição e filtrar por labels\n# Veremos mais sobre LOC em outra aula.\n\nfilmes.loc[filmes.duration >= 200, ['title','duration','genre']]",
      "execution_count": 14,
      "outputs": [
        {
          "output_type": "execute_result",
          "execution_count": 14,
          "data": {
            "text/html": "<div>\n<style scoped>\n    .dataframe tbody tr th:only-of-type {\n        vertical-align: middle;\n    }\n\n    .dataframe tbody tr th {\n        vertical-align: top;\n    }\n\n    .dataframe thead th {\n        text-align: right;\n    }\n</style>\n<table border=\"1\" class=\"dataframe\">\n  <thead>\n    <tr style=\"text-align: right;\">\n      <th></th>\n      <th>title</th>\n      <th>duration</th>\n      <th>genre</th>\n    </tr>\n  </thead>\n  <tbody>\n    <tr>\n      <th>2</th>\n      <td>The Godfather: Part II</td>\n      <td>200</td>\n      <td>Crime</td>\n    </tr>\n    <tr>\n      <th>7</th>\n      <td>The Lord of the Rings: The Return of the King</td>\n      <td>201</td>\n      <td>Adventure</td>\n    </tr>\n    <tr>\n      <th>17</th>\n      <td>Seven Samurai</td>\n      <td>207</td>\n      <td>Drama</td>\n    </tr>\n    <tr>\n      <th>78</th>\n      <td>Once Upon a Time in America</td>\n      <td>229</td>\n      <td>Crime</td>\n    </tr>\n    <tr>\n      <th>85</th>\n      <td>Lawrence of Arabia</td>\n      <td>216</td>\n      <td>Adventure</td>\n    </tr>\n    <tr>\n      <th>142</th>\n      <td>Lagaan: Once Upon a Time in India</td>\n      <td>224</td>\n      <td>Adventure</td>\n    </tr>\n    <tr>\n      <th>157</th>\n      <td>Gone with the Wind</td>\n      <td>238</td>\n      <td>Drama</td>\n    </tr>\n    <tr>\n      <th>204</th>\n      <td>Ben-Hur</td>\n      <td>212</td>\n      <td>Adventure</td>\n    </tr>\n    <tr>\n      <th>445</th>\n      <td>The Ten Commandments</td>\n      <td>220</td>\n      <td>Adventure</td>\n    </tr>\n    <tr>\n      <th>476</th>\n      <td>Hamlet</td>\n      <td>242</td>\n      <td>Drama</td>\n    </tr>\n    <tr>\n      <th>630</th>\n      <td>Malcolm X</td>\n      <td>202</td>\n      <td>Biography</td>\n    </tr>\n    <tr>\n      <th>767</th>\n      <td>It's a Mad, Mad, Mad, Mad World</td>\n      <td>205</td>\n      <td>Action</td>\n    </tr>\n  </tbody>\n</table>\n</div>",
            "text/plain": "                                             title  duration      genre\n2                           The Godfather: Part II       200      Crime\n7    The Lord of the Rings: The Return of the King       201  Adventure\n17                                   Seven Samurai       207      Drama\n78                     Once Upon a Time in America       229      Crime\n85                              Lawrence of Arabia       216  Adventure\n142              Lagaan: Once Upon a Time in India       224  Adventure\n157                             Gone with the Wind       238      Drama\n204                                        Ben-Hur       212  Adventure\n445                           The Ten Commandments       220  Adventure\n476                                         Hamlet       242      Drama\n630                                      Malcolm X       202  Biography\n767                It's a Mad, Mad, Mad, Mad World       205     Action"
          },
          "metadata": {}
        }
      ]
    },
    {
      "metadata": {
        "trusted": true
      },
      "cell_type": "code",
      "source": "",
      "execution_count": null,
      "outputs": []
    }
  ],
  "metadata": {
    "kernelspec": {
      "name": "python36",
      "display_name": "Python 3.6",
      "language": "python"
    },
    "language_info": {
      "mimetype": "text/x-python",
      "nbconvert_exporter": "python",
      "name": "python",
      "pygments_lexer": "ipython3",
      "version": "3.6.6",
      "file_extension": ".py",
      "codemirror_mode": {
        "version": 3,
        "name": "ipython"
      }
    }
  },
  "nbformat": 4,
  "nbformat_minor": 2
}