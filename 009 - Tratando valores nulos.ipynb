{
  "cells": [
    {
      "metadata": {
        "collapsed": true
      },
      "cell_type": "markdown",
      "source": "## Tratando valores nulos (NaN)"
    },
    {
      "metadata": {
        "trusted": true
      },
      "cell_type": "code",
      "source": "import pandas as pd\nimport numpy as np",
      "execution_count": 1,
      "outputs": []
    },
    {
      "metadata": {
        "trusted": true
      },
      "cell_type": "code",
      "source": "file = 'ufo.csv'\nufo = pd.read_csv(file)",
      "execution_count": 2,
      "outputs": []
    },
    {
      "metadata": {
        "trusted": true
      },
      "cell_type": "code",
      "source": "# Utilizando o tail (inverso do head())\nufo.tail()",
      "execution_count": 3,
      "outputs": [
        {
          "output_type": "execute_result",
          "execution_count": 3,
          "data": {
            "text/html": "<div>\n<style scoped>\n    .dataframe tbody tr th:only-of-type {\n        vertical-align: middle;\n    }\n\n    .dataframe tbody tr th {\n        vertical-align: top;\n    }\n\n    .dataframe thead th {\n        text-align: right;\n    }\n</style>\n<table border=\"1\" class=\"dataframe\">\n  <thead>\n    <tr style=\"text-align: right;\">\n      <th></th>\n      <th>City</th>\n      <th>Colors Reported</th>\n      <th>Shape Reported</th>\n      <th>State</th>\n      <th>Time</th>\n    </tr>\n  </thead>\n  <tbody>\n    <tr>\n      <th>18236</th>\n      <td>Grant Park</td>\n      <td>NaN</td>\n      <td>TRIANGLE</td>\n      <td>IL</td>\n      <td>12/31/2000 23:00</td>\n    </tr>\n    <tr>\n      <th>18237</th>\n      <td>Spirit Lake</td>\n      <td>NaN</td>\n      <td>DISK</td>\n      <td>IA</td>\n      <td>12/31/2000 23:00</td>\n    </tr>\n    <tr>\n      <th>18238</th>\n      <td>Eagle River</td>\n      <td>NaN</td>\n      <td>NaN</td>\n      <td>WI</td>\n      <td>12/31/2000 23:45</td>\n    </tr>\n    <tr>\n      <th>18239</th>\n      <td>Eagle River</td>\n      <td>RED</td>\n      <td>LIGHT</td>\n      <td>WI</td>\n      <td>12/31/2000 23:45</td>\n    </tr>\n    <tr>\n      <th>18240</th>\n      <td>Ybor</td>\n      <td>NaN</td>\n      <td>OVAL</td>\n      <td>FL</td>\n      <td>12/31/2000 23:59</td>\n    </tr>\n  </tbody>\n</table>\n</div>",
            "text/plain": "              City Colors Reported Shape Reported State              Time\n18236   Grant Park             NaN       TRIANGLE    IL  12/31/2000 23:00\n18237  Spirit Lake             NaN           DISK    IA  12/31/2000 23:00\n18238  Eagle River             NaN            NaN    WI  12/31/2000 23:45\n18239  Eagle River             RED          LIGHT    WI  12/31/2000 23:45\n18240         Ybor             NaN           OVAL    FL  12/31/2000 23:59"
          },
          "metadata": {}
        }
      ]
    },
    {
      "metadata": {},
      "cell_type": "markdown",
      "source": "<ul>\n    <li>\"NaN\" não é uma string. Ele é um valor especial do numpy: <b>numpy.nan</b></li>\n    <li>É comum a referência \"Not a number\", que significa <b>missing value</b></li>\n    <li>O método <b><i>read_csv</i></b> detecta valores nulos automaticamente e preenche com NaN na leitura do arquivo</li>\n</ul>"
    },
    {
      "metadata": {},
      "cell_type": "markdown",
      "source": "## O isnull() retorna um Dataframe boleano, onde True indica valor nulo e False valor preenchido"
    },
    {
      "metadata": {
        "trusted": true
      },
      "cell_type": "code",
      "source": "# No arquivo null, os valores ímpares são nulos\nfile = 'nulos.csv'\nnulos = pd.read_csv(file)",
      "execution_count": 4,
      "outputs": []
    },
    {
      "metadata": {
        "trusted": true
      },
      "cell_type": "code",
      "source": "nulos.isnull().tail()",
      "execution_count": 5,
      "outputs": [
        {
          "output_type": "execute_result",
          "execution_count": 5,
          "data": {
            "text/html": "<div>\n<style scoped>\n    .dataframe tbody tr th:only-of-type {\n        vertical-align: middle;\n    }\n\n    .dataframe tbody tr th {\n        vertical-align: top;\n    }\n\n    .dataframe thead th {\n        text-align: right;\n    }\n</style>\n<table border=\"1\" class=\"dataframe\">\n  <thead>\n    <tr style=\"text-align: right;\">\n      <th></th>\n      <th>id</th>\n      <th>nome</th>\n    </tr>\n  </thead>\n  <tbody>\n    <tr>\n      <th>0</th>\n      <td>False</td>\n      <td>True</td>\n    </tr>\n    <tr>\n      <th>1</th>\n      <td>False</td>\n      <td>False</td>\n    </tr>\n    <tr>\n      <th>2</th>\n      <td>False</td>\n      <td>True</td>\n    </tr>\n    <tr>\n      <th>3</th>\n      <td>False</td>\n      <td>False</td>\n    </tr>\n  </tbody>\n</table>\n</div>",
            "text/plain": "      id   nome\n0  False   True\n1  False  False\n2  False   True\n3  False  False"
          },
          "metadata": {}
        }
      ]
    },
    {
      "metadata": {
        "trusted": true
      },
      "cell_type": "code",
      "source": "ufo.isnull().tail()",
      "execution_count": 6,
      "outputs": [
        {
          "output_type": "execute_result",
          "execution_count": 6,
          "data": {
            "text/html": "<div>\n<style scoped>\n    .dataframe tbody tr th:only-of-type {\n        vertical-align: middle;\n    }\n\n    .dataframe tbody tr th {\n        vertical-align: top;\n    }\n\n    .dataframe thead th {\n        text-align: right;\n    }\n</style>\n<table border=\"1\" class=\"dataframe\">\n  <thead>\n    <tr style=\"text-align: right;\">\n      <th></th>\n      <th>City</th>\n      <th>Colors Reported</th>\n      <th>Shape Reported</th>\n      <th>State</th>\n      <th>Time</th>\n    </tr>\n  </thead>\n  <tbody>\n    <tr>\n      <th>18236</th>\n      <td>False</td>\n      <td>True</td>\n      <td>False</td>\n      <td>False</td>\n      <td>False</td>\n    </tr>\n    <tr>\n      <th>18237</th>\n      <td>False</td>\n      <td>True</td>\n      <td>False</td>\n      <td>False</td>\n      <td>False</td>\n    </tr>\n    <tr>\n      <th>18238</th>\n      <td>False</td>\n      <td>True</td>\n      <td>True</td>\n      <td>False</td>\n      <td>False</td>\n    </tr>\n    <tr>\n      <th>18239</th>\n      <td>False</td>\n      <td>False</td>\n      <td>False</td>\n      <td>False</td>\n      <td>False</td>\n    </tr>\n    <tr>\n      <th>18240</th>\n      <td>False</td>\n      <td>True</td>\n      <td>False</td>\n      <td>False</td>\n      <td>False</td>\n    </tr>\n  </tbody>\n</table>\n</div>",
            "text/plain": "        City  Colors Reported  Shape Reported  State   Time\n18236  False             True           False  False  False\n18237  False             True           False  False  False\n18238  False             True            True  False  False\n18239  False            False           False  False  False\n18240  False             True           False  False  False"
          },
          "metadata": {}
        }
      ]
    },
    {
      "metadata": {
        "trusted": true
      },
      "cell_type": "markdown",
      "source": "## notnull() é exatamente o oposto do isnull()"
    },
    {
      "metadata": {
        "trusted": true
      },
      "cell_type": "code",
      "source": "nulos.notnull().tail()",
      "execution_count": 9,
      "outputs": [
        {
          "output_type": "execute_result",
          "execution_count": 9,
          "data": {
            "text/html": "<div>\n<style scoped>\n    .dataframe tbody tr th:only-of-type {\n        vertical-align: middle;\n    }\n\n    .dataframe tbody tr th {\n        vertical-align: top;\n    }\n\n    .dataframe thead th {\n        text-align: right;\n    }\n</style>\n<table border=\"1\" class=\"dataframe\">\n  <thead>\n    <tr style=\"text-align: right;\">\n      <th></th>\n      <th>id</th>\n      <th>nome</th>\n    </tr>\n  </thead>\n  <tbody>\n    <tr>\n      <th>0</th>\n      <td>True</td>\n      <td>False</td>\n    </tr>\n    <tr>\n      <th>1</th>\n      <td>True</td>\n      <td>True</td>\n    </tr>\n    <tr>\n      <th>2</th>\n      <td>True</td>\n      <td>False</td>\n    </tr>\n    <tr>\n      <th>3</th>\n      <td>True</td>\n      <td>True</td>\n    </tr>\n  </tbody>\n</table>\n</div>",
            "text/plain": "     id   nome\n0  True  False\n1  True   True\n2  True  False\n3  True   True"
          },
          "metadata": {}
        }
      ]
    },
    {
      "metadata": {
        "trusted": true
      },
      "cell_type": "code",
      "source": "ufo.notnull().tail()",
      "execution_count": 8,
      "outputs": [
        {
          "output_type": "execute_result",
          "execution_count": 8,
          "data": {
            "text/html": "<div>\n<style scoped>\n    .dataframe tbody tr th:only-of-type {\n        vertical-align: middle;\n    }\n\n    .dataframe tbody tr th {\n        vertical-align: top;\n    }\n\n    .dataframe thead th {\n        text-align: right;\n    }\n</style>\n<table border=\"1\" class=\"dataframe\">\n  <thead>\n    <tr style=\"text-align: right;\">\n      <th></th>\n      <th>City</th>\n      <th>Colors Reported</th>\n      <th>Shape Reported</th>\n      <th>State</th>\n      <th>Time</th>\n    </tr>\n  </thead>\n  <tbody>\n    <tr>\n      <th>18236</th>\n      <td>True</td>\n      <td>False</td>\n      <td>True</td>\n      <td>True</td>\n      <td>True</td>\n    </tr>\n    <tr>\n      <th>18237</th>\n      <td>True</td>\n      <td>False</td>\n      <td>True</td>\n      <td>True</td>\n      <td>True</td>\n    </tr>\n    <tr>\n      <th>18238</th>\n      <td>True</td>\n      <td>False</td>\n      <td>False</td>\n      <td>True</td>\n      <td>True</td>\n    </tr>\n    <tr>\n      <th>18239</th>\n      <td>True</td>\n      <td>True</td>\n      <td>True</td>\n      <td>True</td>\n      <td>True</td>\n    </tr>\n    <tr>\n      <th>18240</th>\n      <td>True</td>\n      <td>False</td>\n      <td>True</td>\n      <td>True</td>\n      <td>True</td>\n    </tr>\n  </tbody>\n</table>\n</div>",
            "text/plain": "       City  Colors Reported  Shape Reported  State  Time\n18236  True            False            True   True  True\n18237  True            False            True   True  True\n18238  True            False           False   True  True\n18239  True             True            True   True  True\n18240  True            False            True   True  True"
          },
          "metadata": {}
        }
      ]
    },
    {
      "metadata": {},
      "cell_type": "markdown",
      "source": "## E como saber a quantidade de valores nulos em uma coluna?"
    },
    {
      "metadata": {
        "trusted": true
      },
      "cell_type": "code",
      "source": "ufo.isnull().sum()",
      "execution_count": 10,
      "outputs": [
        {
          "output_type": "execute_result",
          "execution_count": 10,
          "data": {
            "text/plain": "City                  25\nColors Reported    15359\nShape Reported      2644\nState                  0\nTime                   0\ndtype: int64"
          },
          "metadata": {}
        }
      ]
    },
    {
      "metadata": {},
      "cell_type": "markdown",
      "source": "## Como o isnull().sum() funciona?\nO <b>isnull()</b> retorna verdadeiro ou falso. O retorno verdadeiro ou falso é convertido pelo Pandas em 0 para falso e 1 para verdadeiro. Então o método <b>sum()</b> agrega os valores das colunas, pois ele <b>opera por padrão no eixo 0.</b>"
    },
    {
      "metadata": {},
      "cell_type": "markdown",
      "source": "## Construindo um filtro de valores nulos"
    },
    {
      "metadata": {
        "trusted": true
      },
      "cell_type": "code",
      "source": "# Verificando as linhas em que a coluna City possui valor nulo\nufo[ufo.City.isnull()].head(20)",
      "execution_count": 11,
      "outputs": [
        {
          "output_type": "execute_result",
          "execution_count": 11,
          "data": {
            "text/html": "<div>\n<style scoped>\n    .dataframe tbody tr th:only-of-type {\n        vertical-align: middle;\n    }\n\n    .dataframe tbody tr th {\n        vertical-align: top;\n    }\n\n    .dataframe thead th {\n        text-align: right;\n    }\n</style>\n<table border=\"1\" class=\"dataframe\">\n  <thead>\n    <tr style=\"text-align: right;\">\n      <th></th>\n      <th>City</th>\n      <th>Colors Reported</th>\n      <th>Shape Reported</th>\n      <th>State</th>\n      <th>Time</th>\n    </tr>\n  </thead>\n  <tbody>\n    <tr>\n      <th>21</th>\n      <td>NaN</td>\n      <td>NaN</td>\n      <td>NaN</td>\n      <td>LA</td>\n      <td>8/15/1943 0:00</td>\n    </tr>\n    <tr>\n      <th>22</th>\n      <td>NaN</td>\n      <td>NaN</td>\n      <td>LIGHT</td>\n      <td>LA</td>\n      <td>8/15/1943 0:00</td>\n    </tr>\n    <tr>\n      <th>204</th>\n      <td>NaN</td>\n      <td>NaN</td>\n      <td>DISK</td>\n      <td>CA</td>\n      <td>7/15/1952 12:30</td>\n    </tr>\n    <tr>\n      <th>241</th>\n      <td>NaN</td>\n      <td>BLUE</td>\n      <td>DISK</td>\n      <td>MT</td>\n      <td>7/4/1953 14:00</td>\n    </tr>\n    <tr>\n      <th>613</th>\n      <td>NaN</td>\n      <td>NaN</td>\n      <td>DISK</td>\n      <td>NV</td>\n      <td>7/1/1960 12:00</td>\n    </tr>\n    <tr>\n      <th>1877</th>\n      <td>NaN</td>\n      <td>YELLOW</td>\n      <td>CIRCLE</td>\n      <td>AZ</td>\n      <td>8/15/1969 1:00</td>\n    </tr>\n    <tr>\n      <th>2013</th>\n      <td>NaN</td>\n      <td>NaN</td>\n      <td>NaN</td>\n      <td>NH</td>\n      <td>8/1/1970 9:30</td>\n    </tr>\n    <tr>\n      <th>2546</th>\n      <td>NaN</td>\n      <td>NaN</td>\n      <td>FIREBALL</td>\n      <td>OH</td>\n      <td>10/25/1973 23:30</td>\n    </tr>\n    <tr>\n      <th>3123</th>\n      <td>NaN</td>\n      <td>RED</td>\n      <td>TRIANGLE</td>\n      <td>WV</td>\n      <td>11/25/1975 23:00</td>\n    </tr>\n    <tr>\n      <th>4736</th>\n      <td>NaN</td>\n      <td>NaN</td>\n      <td>SPHERE</td>\n      <td>CA</td>\n      <td>6/23/1982 23:00</td>\n    </tr>\n    <tr>\n      <th>5269</th>\n      <td>NaN</td>\n      <td>NaN</td>\n      <td>NaN</td>\n      <td>AZ</td>\n      <td>6/30/1985 21:30</td>\n    </tr>\n    <tr>\n      <th>6735</th>\n      <td>NaN</td>\n      <td>NaN</td>\n      <td>FORMATION</td>\n      <td>TX</td>\n      <td>4/1/1992 2:00</td>\n    </tr>\n    <tr>\n      <th>7208</th>\n      <td>NaN</td>\n      <td>NaN</td>\n      <td>CIRCLE</td>\n      <td>MI</td>\n      <td>10/4/1993 17:30</td>\n    </tr>\n    <tr>\n      <th>8828</th>\n      <td>NaN</td>\n      <td>NaN</td>\n      <td>TRIANGLE</td>\n      <td>WA</td>\n      <td>10/30/1995 21:30</td>\n    </tr>\n    <tr>\n      <th>8967</th>\n      <td>NaN</td>\n      <td>NaN</td>\n      <td>VARIOUS</td>\n      <td>CA</td>\n      <td>12/8/1995 18:00</td>\n    </tr>\n    <tr>\n      <th>9273</th>\n      <td>NaN</td>\n      <td>NaN</td>\n      <td>TRIANGLE</td>\n      <td>OH</td>\n      <td>5/1/1996 3:00</td>\n    </tr>\n    <tr>\n      <th>9388</th>\n      <td>NaN</td>\n      <td>NaN</td>\n      <td>OVAL</td>\n      <td>CA</td>\n      <td>6/12/1996 12:00</td>\n    </tr>\n    <tr>\n      <th>9587</th>\n      <td>NaN</td>\n      <td>NaN</td>\n      <td>EGG</td>\n      <td>FL</td>\n      <td>8/24/1996 15:00</td>\n    </tr>\n    <tr>\n      <th>10399</th>\n      <td>NaN</td>\n      <td>NaN</td>\n      <td>TRIANGLE</td>\n      <td>IL</td>\n      <td>6/15/1997 23:00</td>\n    </tr>\n    <tr>\n      <th>11625</th>\n      <td>NaN</td>\n      <td>NaN</td>\n      <td>CIRCLE</td>\n      <td>TX</td>\n      <td>6/7/1998 7:00</td>\n    </tr>\n  </tbody>\n</table>\n</div>",
            "text/plain": "      City Colors Reported Shape Reported State              Time\n21     NaN             NaN            NaN    LA    8/15/1943 0:00\n22     NaN             NaN          LIGHT    LA    8/15/1943 0:00\n204    NaN             NaN           DISK    CA   7/15/1952 12:30\n241    NaN            BLUE           DISK    MT    7/4/1953 14:00\n613    NaN             NaN           DISK    NV    7/1/1960 12:00\n1877   NaN          YELLOW         CIRCLE    AZ    8/15/1969 1:00\n2013   NaN             NaN            NaN    NH     8/1/1970 9:30\n2546   NaN             NaN       FIREBALL    OH  10/25/1973 23:30\n3123   NaN             RED       TRIANGLE    WV  11/25/1975 23:00\n4736   NaN             NaN         SPHERE    CA   6/23/1982 23:00\n5269   NaN             NaN            NaN    AZ   6/30/1985 21:30\n6735   NaN             NaN      FORMATION    TX     4/1/1992 2:00\n7208   NaN             NaN         CIRCLE    MI   10/4/1993 17:30\n8828   NaN             NaN       TRIANGLE    WA  10/30/1995 21:30\n8967   NaN             NaN        VARIOUS    CA   12/8/1995 18:00\n9273   NaN             NaN       TRIANGLE    OH     5/1/1996 3:00\n9388   NaN             NaN           OVAL    CA   6/12/1996 12:00\n9587   NaN             NaN            EGG    FL   8/24/1996 15:00\n10399  NaN             NaN       TRIANGLE    IL   6/15/1997 23:00\n11625  NaN             NaN         CIRCLE    TX     6/7/1998 7:00"
          },
          "metadata": {}
        }
      ]
    },
    {
      "metadata": {
        "trusted": true
      },
      "cell_type": "code",
      "source": "# Número de linhas e colunas\nA = ufo.shape\nA",
      "execution_count": 12,
      "outputs": [
        {
          "output_type": "execute_result",
          "execution_count": 12,
          "data": {
            "text/plain": "(18241, 5)"
          },
          "metadata": {}
        }
      ]
    },
    {
      "metadata": {},
      "cell_type": "markdown",
      "source": "## dropna()"
    },
    {
      "metadata": {
        "trusted": true
      },
      "cell_type": "code",
      "source": "B = ufo.dropna(how='any').shape\nB",
      "execution_count": 13,
      "outputs": [
        {
          "output_type": "execute_result",
          "execution_count": 13,
          "data": {
            "text/plain": "(2486, 5)"
          },
          "metadata": {}
        }
      ]
    },
    {
      "metadata": {
        "trusted": true
      },
      "cell_type": "code",
      "source": "# O retorno do shape é uma tupla\nprint('Deletadas ' + str((A[0] - B[0])) + ' Linhas com valores nulos')",
      "execution_count": 14,
      "outputs": [
        {
          "output_type": "stream",
          "text": "Deletadas 15755 Linhas com valores nulos\n",
          "name": "stdout"
        }
      ]
    },
    {
      "metadata": {
        "trusted": true
      },
      "cell_type": "code",
      "source": "# O implace também é um parâmetro do dropna e é falso por padrão. Não altera o dataset original\nufo.dropna(how='any').shape",
      "execution_count": 15,
      "outputs": [
        {
          "output_type": "execute_result",
          "execution_count": 15,
          "data": {
            "text/plain": "(2486, 5)"
          },
          "metadata": {}
        }
      ]
    },
    {
      "metadata": {
        "trusted": true
      },
      "cell_type": "code",
      "source": "ufo.shape",
      "execution_count": 16,
      "outputs": [
        {
          "output_type": "execute_result",
          "execution_count": 16,
          "data": {
            "text/plain": "(18241, 5)"
          },
          "metadata": {}
        }
      ]
    },
    {
      "metadata": {},
      "cell_type": "markdown",
      "source": "## all - Caso todos os valores de uma linha sejam nulos, ela será deletada"
    },
    {
      "metadata": {
        "trusted": true
      },
      "cell_type": "code",
      "source": "ufo.dropna(how='all').shape",
      "execution_count": null,
      "outputs": []
    },
    {
      "metadata": {
        "trusted": true
      },
      "cell_type": "code",
      "source": "",
      "execution_count": null,
      "outputs": []
    }
  ],
  "metadata": {
    "kernelspec": {
      "name": "python36",
      "display_name": "Python 3.6",
      "language": "python"
    },
    "language_info": {
      "mimetype": "text/x-python",
      "nbconvert_exporter": "python",
      "name": "python",
      "pygments_lexer": "ipython3",
      "version": "3.6.6",
      "file_extension": ".py",
      "codemirror_mode": {
        "version": 3,
        "name": "ipython"
      }
    }
  },
  "nbformat": 4,
  "nbformat_minor": 2
}