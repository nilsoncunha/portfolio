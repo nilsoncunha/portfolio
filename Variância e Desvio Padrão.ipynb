{
 "cells": [
  {
   "cell_type": "markdown",
   "metadata": {},
   "source": [
    "### Desvio Padrão e Variância\n",
    "#### Quanto mais próximo de zero for a `Variância` e o `Desvio Padrão` melhor é a distribuição para se trabalhar.\n",
    "- Variância - ***Média da Distância***:\n",
    "    * Indica o quanto os dados estão distantes da média."
   ]
  },
  {
   "cell_type": "code",
   "execution_count": 37,
   "metadata": {},
   "outputs": [],
   "source": [
    "import pandas as pd\n",
    "import numpy as np"
   ]
  },
  {
   "cell_type": "markdown",
   "metadata": {},
   "source": [
    "4.0, 4.0, 5.0, 7.0, 9.0"
   ]
  },
  {
   "cell_type": "code",
   "execution_count": 14,
   "metadata": {},
   "outputs": [
    {
     "data": {
      "text/plain": [
       "0    4.0\n",
       "1    4.0\n",
       "2    5.0\n",
       "3    7.0\n",
       "4    9.0\n",
       "dtype: float64"
      ]
     },
     "execution_count": 14,
     "metadata": {},
     "output_type": "execute_result"
    }
   ],
   "source": [
    "df = pd.Series([4.0,4.0,5.0,7.0,9.0])\n",
    "df"
   ]
  },
  {
   "cell_type": "markdown",
   "metadata": {},
   "source": [
    "Média = (4.0, 4.0, 5.0, 7.0, 9.0) / 5 = 5.8"
   ]
  },
  {
   "cell_type": "code",
   "execution_count": 15,
   "metadata": {},
   "outputs": [
    {
     "data": {
      "text/plain": [
       "5.8"
      ]
     },
     "execution_count": 15,
     "metadata": {},
     "output_type": "execute_result"
    }
   ],
   "source": [
    "df.mean()"
   ]
  },
  {
   "cell_type": "markdown",
   "metadata": {},
   "source": [
    "**Para sabermos a variância pegamos os números dos dados e subtraímos pela média** <br>\n",
    "Variância = ((4.0 - **5.8**) + (4.0 - **5.8**) + (5.0 - **5.8**) + (7.0 - **5.8**) + (9.0 - **5.8**)) / 5 <br>\n",
    "Resultado = -1.8 | -1.8 | -0.8 | 1.2 | 3.2 <br><br>\n",
    "*Como não podemos ter distâncias negativas, elevamos os resultados ao quadrado* <br>\n",
    "*Após, pegamos os valores e dividimos pela quantidade, novamente* <br><br>\n",
    "\n",
    "Resultado = 3.24 | 3.24 | 0.64 | 1.44 | 10.24 <br><br>\n",
    "Variância = (3.24 + 3.24 + 0.64 + 1.44 + 10.24) / 5 <br><br>\n",
    "***Variância = 18.8 / 5 = 3.76*** <br><br>\n",
    "*Dizemos que os dados tem uma variância em média de 3.76 em relação a média*\n",
    "<hr>"
   ]
  },
  {
   "cell_type": "markdown",
   "metadata": {},
   "source": [
    "- Desvio Padrão:\n",
    "    - É a **raiz quadrada** da variância"
   ]
  },
  {
   "cell_type": "markdown",
   "metadata": {},
   "source": [
    "resultado = 1.94 <br><br>\n",
    "**Concluimos que:**<br>\n",
    "*Em média, cada ponto está distante 1.94 da média aritimética que é 5.8*<br>\n",
    "<hr>"
   ]
  },
  {
   "cell_type": "markdown",
   "metadata": {},
   "source": [
    "### Quando utilizar Variância ou Desvio Padrão?"
   ]
  },
  {
   "cell_type": "markdown",
   "metadata": {},
   "source": [
    "* Quando comparamos dois datasets, utilizamos a `variâcia` para saber o mais constante\n",
    "* A *variância* é elevada ao quadrado, então quando queremos comparar uma ***escala financeira***, por exemplo, faz mais sentido utilizar o desvio padrão.\n",
    "* Tratando-se de mercado financeiro, quanto `maior a variância`, mais arriscada é a ação."
   ]
  },
  {
   "cell_type": "markdown",
   "metadata": {},
   "source": [
    "### Fazendo os cálculos com os gols do brasileirão"
   ]
  },
  {
   "cell_type": "code",
   "execution_count": 21,
   "metadata": {},
   "outputs": [],
   "source": [
    "gols = pd.Series([780,600,730,730,700,645,725,675,715,696], index=[2009,2010,2011,2012,2013,2014,2015,2016,2017,2018])"
   ]
  },
  {
   "cell_type": "code",
   "execution_count": 22,
   "metadata": {},
   "outputs": [
    {
     "data": {
      "text/plain": [
       "2009    780\n",
       "2010    600\n",
       "2011    730\n",
       "2012    730\n",
       "2013    700\n",
       "2014    645\n",
       "2015    725\n",
       "2016    675\n",
       "2017    715\n",
       "2018    696\n",
       "dtype: int64"
      ]
     },
     "execution_count": 22,
     "metadata": {},
     "output_type": "execute_result"
    }
   ],
   "source": [
    "gols"
   ]
  },
  {
   "cell_type": "markdown",
   "metadata": {},
   "source": [
    "**Vamos calcular**"
   ]
  },
  {
   "cell_type": "code",
   "execution_count": 59,
   "metadata": {},
   "outputs": [
    {
     "data": {
      "text/plain": [
       "699.6"
      ]
     },
     "execution_count": 59,
     "metadata": {},
     "output_type": "execute_result"
    }
   ],
   "source": [
    "# Média\n",
    "media = np.mean(gols)\n",
    "media"
   ]
  },
  {
   "cell_type": "code",
   "execution_count": 40,
   "metadata": {},
   "outputs": [
    {
     "data": {
      "text/plain": [
       "707.5"
      ]
     },
     "execution_count": 40,
     "metadata": {},
     "output_type": "execute_result"
    }
   ],
   "source": [
    "# Mediana\n",
    "np.median(gols)"
   ]
  },
  {
   "cell_type": "code",
   "execution_count": 51,
   "metadata": {},
   "outputs": [
    {
     "data": {
      "text/plain": [
       "730"
      ]
     },
     "execution_count": 51,
     "metadata": {},
     "output_type": "execute_result"
    }
   ],
   "source": [
    "# Moda\n",
    "gols.mode()[0]"
   ]
  },
  {
   "cell_type": "code",
   "execution_count": 46,
   "metadata": {},
   "outputs": [
    {
     "name": "stdout",
     "output_type": "stream",
     "text": [
      "180\n"
     ]
    }
   ],
   "source": [
    "# Amplitude\n",
    "print(np.max(gols) - np.min(gols))"
   ]
  },
  {
   "cell_type": "markdown",
   "metadata": {},
   "source": [
    "Calculando a variância: ***Como funciona na teoria***<br>\n",
    "1. Precisamos subtrair os valores pela média\n",
    "1. Devemos elevar ao quadrado para remover os números negativos.\n",
    "1. Somar todos os quadrados e dividir pela quantidade de itens"
   ]
  },
  {
   "cell_type": "code",
   "execution_count": 49,
   "metadata": {},
   "outputs": [
    {
     "data": {
      "text/plain": [
       "2271.44"
      ]
     },
     "execution_count": 49,
     "metadata": {},
     "output_type": "execute_result"
    }
   ],
   "source": [
    "# Variância\n",
    "np.var(gols)"
   ]
  },
  {
   "cell_type": "code",
   "execution_count": 57,
   "metadata": {},
   "outputs": [
    {
     "data": {
      "text/plain": [
       "47.65962651972841"
      ]
     },
     "execution_count": 57,
     "metadata": {},
     "output_type": "execute_result"
    }
   ],
   "source": [
    "# Desvio padrão\n",
    "desvioPadrao = np.std(gols)\n",
    "desvioPadrao"
   ]
  },
  {
   "cell_type": "markdown",
   "metadata": {},
   "source": [
    "**Para calcular o `coeficiente de variação` devemos realizar:**<br>\n",
    "1. Dividir o *Desvio Padrão* pela *Média* e *Multiplicar por 100*"
   ]
  },
  {
   "cell_type": "code",
   "execution_count": 60,
   "metadata": {},
   "outputs": [
    {
     "data": {
      "text/plain": [
       "6.812410880464324"
      ]
     },
     "execution_count": 60,
     "metadata": {},
     "output_type": "execute_result"
    }
   ],
   "source": [
    "coevar = (desvioPadrao / media) * 100\n",
    "coevar"
   ]
  },
  {
   "cell_type": "code",
   "execution_count": null,
   "metadata": {},
   "outputs": [],
   "source": []
  }
 ],
 "metadata": {
  "kernelspec": {
   "display_name": "Python 3",
   "language": "python",
   "name": "python3"
  },
  "language_info": {
   "codemirror_mode": {
    "name": "ipython",
    "version": 3
   },
   "file_extension": ".py",
   "mimetype": "text/x-python",
   "name": "python",
   "nbconvert_exporter": "python",
   "pygments_lexer": "ipython3",
   "version": "3.7.3"
  }
 },
 "nbformat": 4,
 "nbformat_minor": 2
}
