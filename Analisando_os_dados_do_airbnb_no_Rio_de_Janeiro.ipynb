{
  "nbformat": 4,
  "nbformat_minor": 0,
  "metadata": {
    "colab": {
      "name": "Analisando_os_dados_do_airbnb_no_Rio_de_Janeiro.ipynb",
      "provenance": [],
      "collapsed_sections": [],
      "include_colab_link": true
    },
    "kernelspec": {
      "name": "python3",
      "display_name": "Python 3"
    }
  },
  "cells": [
    {
      "cell_type": "markdown",
      "metadata": {
        "id": "view-in-github",
        "colab_type": "text"
      },
      "source": [
        "<a href=\"https://colab.research.google.com/github/nilsoncunha/portfolio/blob/master/Analisando_os_dados_do_airbnb_no_Rio_de_Janeiro.ipynb\" target=\"_parent\"><img src=\"https://colab.research.google.com/assets/colab-badge.svg\" alt=\"Open In Colab\"/></a>"
      ]
    },
    {
      "cell_type": "markdown",
      "metadata": {
        "id": "UuFMS792kQDW",
        "colab_type": "text"
      },
      "source": [
        "## Com o carnaval chegando, nada melhor do que saber qual lugar se hospedar. Com isso vamos fazer uma análise dos locais disponíveis no Rio de Janeiro pelo AirBnB. Será que conseguimos aquele lugar bom, bonito e barato? Vamos ver..."
      ]
    },
    {
      "cell_type": "markdown",
      "metadata": {
        "id": "aCgO9OTBfX_Y",
        "colab_type": "text"
      },
      "source": [
        "Importando os dados"
      ]
    },
    {
      "cell_type": "code",
      "metadata": {
        "id": "1bkj9yVEH_J7",
        "colab_type": "code",
        "colab": {}
      },
      "source": [
        "import pandas as pd\n",
        "import numpy as np\n",
        "import matplotlib.pyplot as plt\n",
        "import seaborn as sns"
      ],
      "execution_count": 0,
      "outputs": []
    },
    {
      "cell_type": "code",
      "metadata": {
        "id": "afozTJ7bKs4l",
        "colab_type": "code",
        "colab": {}
      },
      "source": [
        "import warnings\n",
        "warnings.filterwarnings(\"ignore\")\n",
        "\n",
        "%matplotlib inline\n",
        "\n",
        "from IPython.core.pylabtools import figsize\n",
        "figsize(12,8)\n",
        "sns.set(style='darkgrid')"
      ],
      "execution_count": 0,
      "outputs": []
    },
    {
      "cell_type": "code",
      "metadata": {
        "id": "0crIR03Mef8_",
        "colab_type": "code",
        "colab": {}
      },
      "source": [
        "df = pd.read_csv(\"https://dl.dropbox.com/s/7l9nzemeoqxj9pb/listings.csv?dl=0\")"
      ],
      "execution_count": 0,
      "outputs": []
    },
    {
      "cell_type": "markdown",
      "metadata": {
        "id": "Rjhoke5pjgRl",
        "colab_type": "text"
      },
      "source": [
        "Verificando os dados do dataset"
      ]
    },
    {
      "cell_type": "code",
      "metadata": {
        "id": "MeJFIrgvIQ44",
        "colab_type": "code",
        "colab": {}
      },
      "source": [
        "df[10:15]"
      ],
      "execution_count": 0,
      "outputs": []
    },
    {
      "cell_type": "code",
      "metadata": {
        "id": "KM_AXpsq_Qt_",
        "colab_type": "code",
        "colab": {
          "base_uri": "https://localhost:8080/",
          "height": 34
        },
        "outputId": "262dcf3d-d040-43b4-d1c3-c7d002239738"
      },
      "source": [
        "df.price.dtype"
      ],
      "execution_count": 174,
      "outputs": [
        {
          "output_type": "execute_result",
          "data": {
            "text/plain": [
              "dtype('O')"
            ]
          },
          "metadata": {
            "tags": []
          },
          "execution_count": 174
        }
      ]
    },
    {
      "cell_type": "markdown",
      "metadata": {
        "id": "NytIKcQO-_65",
        "colab_type": "text"
      },
      "source": [
        "Como nossa coluna de `price` está como *object*, vamos converte-la e com isso conseguiremos realizar alguns cálculos.\n",
        "\n",
        "\n",
        "\n"
      ]
    },
    {
      "cell_type": "code",
      "metadata": {
        "id": "vRZpo2lqK3XI",
        "colab_type": "code",
        "colab": {}
      },
      "source": [
        "df['price'] = df.price.str.replace('$', '')\n",
        "df['price'] = df.price.str.replace(',', '')\n",
        "df['price'] = df.price.astype(float)"
      ],
      "execution_count": 0,
      "outputs": []
    },
    {
      "cell_type": "code",
      "metadata": {
        "id": "HEFzmQKVLuEO",
        "colab_type": "code",
        "colab": {}
      },
      "source": [
        "df['neighbourhood'].value_counts()"
      ],
      "execution_count": 0,
      "outputs": []
    },
    {
      "cell_type": "markdown",
      "metadata": {
        "id": "0DNTTkt_H5Tf",
        "colab_type": "text"
      },
      "source": [
        "Qual seria a média de preço dos bairros?"
      ]
    },
    {
      "cell_type": "code",
      "metadata": {
        "id": "LukEYUXpKEgE",
        "colab_type": "code",
        "colab": {
          "base_uri": "https://localhost:8080/",
          "height": 238
        },
        "outputId": "c826bc07-fa07-462e-f226-382e21fd5fb5"
      },
      "source": [
        "bairro = df['neighbourhood'].groupby(df['price'])\n",
        "bairro.value_counts()"
      ],
      "execution_count": 218,
      "outputs": [
        {
          "output_type": "execute_result",
          "data": {
            "text/plain": [
              "price    neighbourhood           \n",
              "0.0      Copacabana                  6\n",
              "         Barra da Tijuca             1\n",
              "17.0     Glória                      1\n",
              "29.0     Copacabana                  1\n",
              "         Recreio dos Bandeirantes    1\n",
              "                                    ..\n",
              "40001.0  Barra da Tijuca             1\n",
              "41982.0  Barra da Tijuca             3\n",
              "         Copacabana                  1\n",
              "         Laranjeiras                 1\n",
              "         Santa Teresa                1\n",
              "Name: neighbourhood, Length: 5441, dtype: int64"
            ]
          },
          "metadata": {
            "tags": []
          },
          "execution_count": 218
        }
      ]
    },
    {
      "cell_type": "code",
      "metadata": {
        "id": "wlcuw4uQH4Xk",
        "colab_type": "code",
        "colab": {
          "base_uri": "https://localhost:8080/",
          "height": 221
        },
        "outputId": "27782f29-baec-4df1-94c5-d4522a89d829"
      },
      "source": [
        "price_20max = df.price.sort_values(ascending=False)\n",
        "price_20max.value_counts()\n",
        "#sns.barplot(data=df, y='neighbourhood', x='price')"
      ],
      "execution_count": 236,
      "outputs": [
        {
          "output_type": "execute_result",
          "data": {
            "text/plain": [
              "202.0      1323\n",
              "151.0      1262\n",
              "298.0      1252\n",
              "252.0      1206\n",
              "101.0       971\n",
              "           ... \n",
              "7561.0        1\n",
              "40001.0       1\n",
              "2909.0        1\n",
              "3489.0        1\n",
              "2225.0        1\n",
              "Name: price, Length: 856, dtype: int64"
            ]
          },
          "metadata": {
            "tags": []
          },
          "execution_count": 236
        }
      ]
    },
    {
      "cell_type": "code",
      "metadata": {
        "id": "6XX7mRwvJgfm",
        "colab_type": "code",
        "colab": {
          "base_uri": "https://localhost:8080/",
          "height": 519
        },
        "outputId": "fac6315d-c1c2-49f9-9615-b1e23d07ce6b"
      },
      "source": [
        "sns.boxplot(df.price)"
      ],
      "execution_count": 206,
      "outputs": [
        {
          "output_type": "execute_result",
          "data": {
            "text/plain": [
              "<matplotlib.axes._subplots.AxesSubplot at 0x7fe99fbe1198>"
            ]
          },
          "metadata": {
            "tags": []
          },
          "execution_count": 206
        },
        {
          "output_type": "display_data",
          "data": {
            "image/png": "[encoded data removed]",
            "text/plain": [
              "<Figure size 864x576 with 1 Axes>"
            ]
          },
          "metadata": {
            "tags": []
          }
        }
      ]
    },
    {
      "cell_type": "code",
      "metadata": {
        "id": "QWO69KUxZ7GR",
        "colab_type": "code",
        "outputId": "4f972683-a9f3-4938-fc7e-d2048081e74d",
        "colab": {
          "base_uri": "https://localhost:8080/",
          "height": 519
        }
      },
      "source": [
        "sns.barplot(data=df, x='bedrooms', y='price')"
      ],
      "execution_count": 184,
      "outputs": [
        {
          "output_type": "execute_result",
          "data": {
            "text/plain": [
              "<matplotlib.axes._subplots.AxesSubplot at 0x7fe995da70f0>"
            ]
          },
          "metadata": {
            "tags": []
          },
          "execution_count": 184
        },
        {
          "output_type": "display_data",
          "data": {
            "image/png": "[encoded data removed]",
            "text/plain": [
              "<Figure size 864x576 with 1 Axes>"
            ]
          },
          "metadata": {
            "tags": []
          }
        }
      ]
    },
    {
      "cell_type": "code",
      "metadata": {
        "id": "Pk8kWUJVr-hF",
        "colab_type": "code",
        "colab": {
          "base_uri": "https://localhost:8080/",
          "height": 572
        },
        "outputId": "3e8aeaea-d55d-48ab-a7d6-50f3e993e6e5"
      },
      "source": [
        "sns.barplot(data=df, x='bathrooms', y='price')\n",
        "plt.xticks(rotation=45)"
      ],
      "execution_count": 188,
      "outputs": [
        {
          "output_type": "execute_result",
          "data": {
            "text/plain": [
              "(array([ 0,  1,  2,  3,  4,  5,  6,  7,  8,  9, 10, 11, 12, 13, 14, 15, 16,\n",
              "        17, 18, 19, 20, 21, 22, 23, 24, 25, 26, 27, 28, 29, 30, 31, 32]),\n",
              " <a list of 33 Text xticklabel objects>)"
            ]
          },
          "metadata": {
            "tags": []
          },
          "execution_count": 188
        },
        {
          "output_type": "display_data",
          "data": {
            "image/png": "[encoded data removed]",
            "text/plain": [
              "<Figure size 864x576 with 1 Axes>"
            ]
          },
          "metadata": {
            "tags": []
          }
        }
      ]
    },
    {
      "cell_type": "code",
      "metadata": {
        "id": "O8wQXT2aCQOR",
        "colab_type": "code",
        "colab": {
          "base_uri": "https://localhost:8080/",
          "height": 80
        },
        "outputId": "ba633893-ebfe-4e6d-d98e-5eed8ff68cc8"
      },
      "source": [
        "df[df.bathrooms > 100][['id', 'bathrooms']]"
      ],
      "execution_count": 193,
      "outputs": [
        {
          "output_type": "execute_result",
          "data": {
            "text/html": [
              "<div>\n",
              "<style scoped>\n",
              "    .dataframe tbody tr th:only-of-type {\n",
              "        vertical-align: middle;\n",
              "    }\n",
              "\n",
              "    .dataframe tbody tr th {\n",
              "        vertical-align: top;\n",
              "    }\n",
              "\n",
              "    .dataframe thead th {\n",
              "        text-align: right;\n",
              "    }\n",
              "</style>\n",
              "<table border=\"1\" class=\"dataframe\">\n",
              "  <thead>\n",
              "    <tr style=\"text-align: right;\">\n",
              "      <th></th>\n",
              "      <th>id</th>\n",
              "      <th>bathrooms</th>\n",
              "    </tr>\n",
              "  </thead>\n",
              "  <tbody>\n",
              "    <tr>\n",
              "      <th>30615</th>\n",
              "      <td>37559908</td>\n",
              "      <td>200.0</td>\n",
              "    </tr>\n",
              "  </tbody>\n",
              "</table>\n",
              "</div>"
            ],
            "text/plain": [
              "             id  bathrooms\n",
              "30615  37559908      200.0"
            ]
          },
          "metadata": {
            "tags": []
          },
          "execution_count": 193
        }
      ]
    },
    {
      "cell_type": "markdown",
      "metadata": {
        "id": "EIGZpyEBlSab",
        "colab_type": "text"
      },
      "source": [
        "|english\t|\tportuguese|\n",
        "|---\t|\t---|\n",
        "id',\t|\tEu iria',\n",
        " 'listing url',\t|\t 'URL da lista',\n",
        " 'scrape id',\t|\t 'ID do raspar',\n",
        " 'last scraped',\t|\t 'último raspado',\n",
        " 'name',\t|\t 'nome',\n",
        " 'summary',\t|\t 'resumo',\n",
        " 'space',\t|\t 'espaço',\n",
        " 'description',\t|\t 'descrição',\n",
        " 'experiences offered',\t|\t 'experiências oferecidas',\n",
        " 'neighborhood overview',\t|\t 'visão geral do bairro',\n",
        " 'notes',\t|\t 'notas',\n",
        " 'transit',\t|\t 'transito',\n",
        " 'access',\t|\t 'Acesso',\n",
        " 'interaction',\t|\t 'interação',\n",
        " 'house rules',\t|\t 'regras da casa',\n",
        " 'thumbnail url',\t|\t 'URL da miniatura',\n",
        " 'medium url',\t|\t 'URL médio',\n",
        " 'picture url',\t|\t 'URL da imagem',\n",
        " 'xl picture url',\t|\t 'URL da imagem xl',\n",
        " 'host id',\t|\t 'ID do host',\n",
        " 'host url',\t|\t 'URL do host',\n",
        " 'host name',\t|\t 'nome de anfitrião',\n",
        " 'host since',\t|\t 'host desde',\n",
        " 'host location',\t|\t 'local do host',\n",
        " 'host about',\t|\t 'host about',\n",
        " 'host response time',\t|\t 'tempo de resposta do host',\n",
        " 'host response rate',\t|\t 'taxa de resposta do host',\n",
        " 'host acceptance rate',\t|\t 'taxa de aceitação do host',\n",
        " 'host is superhost',\t|\t 'host é superhost',\n",
        " 'host thumbnail url',\t|\t 'URL da miniatura do host',\n",
        " 'host picture url',\t|\t 'URL da imagem do host',\n",
        " 'host neighbourhood',\t|\t 'bairro anfitrião',\n",
        " 'host listings count',\t|\t 'contagem de listagens de hosts',\n",
        " 'host total listings count',\t|\t 'contagem total de listagens de hosts',\n",
        " 'host verifications',\t|\t 'verificações de host',\n",
        " 'host has profile pic',\t|\t 'host tem foto do perfil',\n",
        " 'host identity verified',\t|\t 'identidade do host verificada',\n",
        " 'street',\t|\t 'rua',\n",
        " 'neighbourhood',\t|\t 'Vizinhança',\n",
        " 'neighbourhood cleansed',\t|\t 'bairro limpo',\n",
        " 'neighbourhood group cleansed',\t|\t 'grupo de bairro limpo',\n",
        " 'city',\t|\t 'cidade',\n",
        " 'state',\t|\t 'Estado',\n",
        " 'zipcode',\t|\t 'Código postal',\n",
        " 'market',\t|\t 'mercado',\n",
        " 'smart location',\t|\t 'localização inteligente',\n",
        " 'country code',\t|\t 'Código do país',\n",
        " 'country',\t|\t 'país',\n",
        " 'latitude',\t|\t 'latitude',\n",
        " 'longitude',\t|\t 'longitude',\n",
        " 'is location exact',\t|\t 'é a localização exata',\n",
        " 'property type',\t|\t 'Tipo de Propriedade',\n",
        " 'room type',\t|\t 'tipo de sala',\n",
        " 'accommodates',\t|\t 'acomoda',\n",
        " 'bathrooms',\t|\t 'casas de banho',\n",
        " 'bedrooms',\t|\t 'quartos de dormir',\n",
        " 'beds',\t|\t 'camas',\n",
        " 'bed type',\t|\t 'tipo de cama',\n",
        " 'amenities',\t|\t 'Facilidades',\n",
        " 'square feet',\t|\t 'pés quadrados',\n",
        " 'price',\t|\t 'preço',\n",
        " 'weekly price',\t|\t 'preço semanal',\n",
        " 'monthly price',\t|\t 'preço mensal',\n",
        " 'security deposit',\t|\t 'depósito de segurança',\n",
        " 'cleaning fee',\t|\t 'taxa de limpeza',\n",
        " 'guests included',\t|\t 'convidados incluídos',\n",
        " 'extra people',\t|\t 'pessoas extras',\n",
        " 'minimum nights',\t|\t 'noites mínimas',\n",
        " 'maximum nights',\t|\t 'noites máximas',\n",
        " 'minimum minimum nights',\t|\t 'noites mínimas mínimas',\n",
        " 'maximum minimum nights',\t|\t 'noites mínimas máximas',\n",
        " 'minimum maximum nights',\t|\t 'noites mínimas máximas',\n",
        " 'maximum maximum nights',\t|\t 'noites máximas máximas',\n",
        " 'minimum nights avg ntm',\t|\t 'noites mínimas médias ntm',\n",
        " 'maximum nights avg ntm',\t|\t 'noites máximas médias ntm',\n",
        " 'calendar updated',\t|\t 'calendário atualizado',\n",
        " 'has availability',\t|\t 'tem disponibilidade',\n",
        " 'availability 30',\t|\t 'disponibilidade 30',\n",
        " 'availability 60',\t|\t 'disponibilidade 60',\n",
        " 'availability 90',\t|\t 'disponibilidade 90',\n",
        " 'availability 365',\t|\t 'disponibilidade 365',\n",
        " 'calendar last scraped',\t|\t 'último calendário raspado',\n",
        " 'number of reviews',\t|\t 'número de comentários',\n",
        " 'number of reviews ltm',\t|\t 'número de avaliações ltm',\n",
        " 'first review',\t|\t 'primeira revisão',\n",
        " 'last review',\t|\t 'última revisão',\n",
        " 'review scores rating',\t|\t 'classificação das pontuações de revisão',\n",
        " 'review scores accuracy',\t|\t 'precisão das pontuações de revisão',\n",
        " 'review scores cleanliness',\t|\t 'avaliação pontua limpeza',\n",
        " 'review scores checkin',\t|\t 'pontuações de revisão checkin',\n",
        " 'review scores communication',\t|\t 'comunicação das pontuações de revisão',\n",
        " 'review scores location',\t|\t 'local das pontuações da revisão',\n",
        " 'review scores value',\t|\t 'valor das pontuações de revisão',\n",
        " 'requires license',\t|\t 'requer licença',\n",
        " 'license',\t|\t 'licença',\n",
        " 'jurisdiction names',\t|\t 'nomes de jurisdição',\n",
        " 'instant bookable',\t|\t 'reserva instantânea',\n",
        " 'is business travel ready',\t|\t \"as viagens de negócios estão prontas\",\n",
        " 'cancellation policy',\t|\t 'política de cancelamento',\n",
        " 'require guest profile picture',\t|\t 'exigir foto do perfil do hóspede',\n",
        " 'require guest phone verification',\t|\t 'exigir verificação por telefone de convidado',\n",
        " 'calculated host listings count',\t|\t 'contagem calculada de listagens de hosts',\n",
        " 'calculated host listings count entire homes',\t|\t 'listagens de hosts calculadas contam casas inteiras',\n",
        " 'calculated host listings count private rooms',  \t|\t 'listagens de hosts calculadas contam salas privadas',\n",
        " 'calculated host listings count shared rooms',  \t|\t 'listagens de hosts calculadas contam quartos compartilhados',\n",
        " 'reviews per month'                             \t|\t 'análises por mês'\n",
        "\t\t"
      ]
    },
    {
      "cell_type": "code",
      "metadata": {
        "id": "gA0xM47Rqa42",
        "colab_type": "code",
        "colab": {}
      },
      "source": [
        ""
      ],
      "execution_count": 0,
      "outputs": []
    }
  ]
}