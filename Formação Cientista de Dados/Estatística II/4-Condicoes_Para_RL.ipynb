{
 "cells": [
  {
   "cell_type": "markdown",
   "metadata": {},
   "source": [
    "# Condições para Regressão Linear"
   ]
  },
  {
   "cell_type": "markdown",
   "metadata": {},
   "source": [
    "### Correlação\n",
    "- Observar se ela é **MODERADA** ou **FORTE**; <br>\n",
    "- Não importa se é *positiva* ou *negativa*; <br>\n",
    "- ***Quanto mais forte melhor.***"
   ]
  },
  {
   "cell_type": "markdown",
   "metadata": {},
   "source": [
    "### Coeficiente de Determinação (R²)\n",
    "- 0.7+ : **Ótimo**. \n",
    "    - *Ideal para fazer as análises*\n",
    "- **Entre eles**: *Deve ser analisado e verificar se vai ser usado o modelo.*\n",
    "- 0 até 0.3 : **Ruim.**\n",
    "    - *Não é um bom indicativo para usar a correlação*"
   ]
  },
  {
   "cell_type": "markdown",
   "metadata": {},
   "source": [
    "### Residuais Padronizados\n",
    "- Os resíduos padronizados para uma *distribuição normal padrão* **devem** estar próximos de uma distribuição normal. <br><br>\n",
    "![residuais padrão](../img/estatisticaII_2_condicoes.png)"
   ]
  },
  {
   "cell_type": "code",
   "execution_count": null,
   "metadata": {},
   "outputs": [],
   "source": []
  }
 ],
 "metadata": {
  "kernelspec": {
   "display_name": "Python 3",
   "language": "python",
   "name": "python3"
  },
  "language_info": {
   "codemirror_mode": {
    "name": "ipython",
    "version": 3
   },
   "file_extension": ".py",
   "mimetype": "text/x-python",
   "name": "python",
   "nbconvert_exporter": "python",
   "pygments_lexer": "ipython3",
   "version": "3.7.3"
  }
 },
 "nbformat": 4,
 "nbformat_minor": 2
}
