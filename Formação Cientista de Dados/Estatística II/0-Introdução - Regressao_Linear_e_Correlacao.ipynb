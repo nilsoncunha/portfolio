{
 "cells": [
  {
   "cell_type": "markdown",
   "metadata": {},
   "source": [
    "# Introdução - Regressão Linear e Correlação\n",
    "### Como o nome já diz, ocorre uma linearidade na relação entre os dados\n",
    "Tabela relativa ao valor do plano de saúde por idade, para exemplo <br>"
   ]
  },
  {
   "cell_type": "markdown",
   "metadata": {},
   "source": [
    "Idade | Custo\n",
    "------|------\n",
    "18|871\n",
    "23|1132\n",
    "28|1242\n",
    "33|1356\n",
    "38|1488\n",
    "43|1638\n",
    "48|2130\n",
    "53|2454\n",
    "58|3066\n",
    "63|4090"
   ]
  },
  {
   "cell_type": "markdown",
   "metadata": {},
   "source": [
    "Com base na tabela acima, poderiamos fazer algumas perguntas, que são:\n",
    "- Existe uma relação matemática entre estas duas variáveis?\n",
    "- Se existe, como posso medir sua força?\n",
    "- Poderia usar essa relação para fazer previsões?"
   ]
  },
  {
   "cell_type": "markdown",
   "metadata": {},
   "source": [
    "Utilizamos o gráfico de dispersão para comparar variáveis numéricas e trabalhar com regressão linear"
   ]
  },
  {
   "cell_type": "code",
   "execution_count": 5,
   "metadata": {},
   "outputs": [],
   "source": [
    "import matplotlib.pyplot as plt\n",
    "import seaborn as sns\n",
    "%matplotlib inline"
   ]
  },
  {
   "cell_type": "code",
   "execution_count": 4,
   "metadata": {},
   "outputs": [
    {
     "data": {
      "image/png": "[encoded data removed]",
      "text/plain": [
       "<Figure size 432x288 with 1 Axes>"
      ]
     },
     "metadata": {
      "needs_background": "light"
     },
     "output_type": "display_data"
    }
   ],
   "source": [
    "x = [18,23,28,33,38,43,48,53,58,63]\n",
    "y = [871,1132,1242,1356,1488,1638,2130,2454,3066,4090]\n",
    "plt.scatter(x,y)\n",
    "plt.xlabel('Idade')\n",
    "plt.ylabel('Custo')\n",
    "plt.show()"
   ]
  },
  {
   "cell_type": "markdown",
   "metadata": {},
   "source": [
    "**Na Regressão:**\n",
    "- **X é o que explica, ou usamos para prever**\n",
    "- **Y é p que queremos prever**"
   ]
  },
  {
   "cell_type": "code",
   "execution_count": null,
   "metadata": {},
   "outputs": [],
   "source": []
  }
 ],
 "metadata": {
  "kernelspec": {
   "display_name": "Python 3",
   "language": "python",
   "name": "python3"
  },
  "language_info": {
   "codemirror_mode": {
    "name": "ipython",
    "version": 3
   },
   "file_extension": ".py",
   "mimetype": "text/x-python",
   "name": "python",
   "nbconvert_exporter": "python",
   "pygments_lexer": "ipython3",
   "version": "3.7.3"
  }
 },
 "nbformat": 4,
 "nbformat_minor": 2
}
