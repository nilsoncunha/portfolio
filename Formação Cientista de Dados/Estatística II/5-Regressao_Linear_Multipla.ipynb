{
 "cells": [
  {
   "cell_type": "markdown",
   "metadata": {},
   "source": [
    "# Regressão Linear Múltipla"
   ]
  },
  {
   "cell_type": "markdown",
   "metadata": {},
   "source": [
    "### Simples:\n",
    "> - ***Uma*** variável Explanatória (idade) para prever uma variável Dependente (custo)\n",
    "- Y ~ X"
   ]
  },
  {
   "cell_type": "markdown",
   "metadata": {},
   "source": [
    "### Múltipla\n",
    "> - ***Duas ou máis*** variáveis Explanatórias *(ex.: idade, média temperatura moradia)* para prever uma variável Dependente *(ex.: custo)*\n",
    "- Y ~ $X_1$ + $X_2$ + $X_n$"
   ]
  },
  {
   "cell_type": "markdown",
   "metadata": {},
   "source": [
    "### O que devemos fazer antes de realizar a Regressão Linear Múltipla?\n",
    "> #### Analisar cada variável independente com Y ***individualmente***\n",
    "- Gerar gráficos de dispersão ***individuais*** relacionado as variáveis, exemplo:\n",
    "    - Idade - Custo\n",
    "    - Temperatura - Custo\n",
    "- Buscar redundâncias (mesmo efeitos de X sobre Y):\n",
    "    - Se tiver variáveis que explicam a variável dependente da mesma forma, tem que remover essa redundância.\n",
    "    - Pode prejudicar o modelo."
   ]
  },
  {
   "cell_type": "markdown",
   "metadata": {},
   "source": [
    "> #### Coeficiente de Determinação (R²)\n",
    "- Lembrando que R² é o percentual de variação da variável de resposta que é explicada pelo modelo.\n",
    "- Quando se colocam mais variáveis no modelo, a tendência é que R² aumente, mesmo que a adição da variável não aumente a precisão do modelo;\n",
    "- Para isso, utiliza-se R² ajustado, que ajusa a variação do modelo de acordo com o número de variáveis independentes que são incluída no modelo.\n",
    "- R² ajustado ***sempre*** será menor que R²"
   ]
  },
  {
   "cell_type": "markdown",
   "metadata": {},
   "source": [
    "> #### Colinearidade e Parcimônia\n",
    "- **Colinearidade**: Duas variáveis **independentes** que são ***correlacionadas***\n",
    "    - Incluir variáveis independentes colineares pode *prejudicar* o modelo, criando previsões não confiáveis\n",
    "    - Devemos buscar variáveis independentes que **não sejam correlacionadas**\n",
    "- **Parcimônia**: Não colocar variáveis que não melhorem o modelo\n",
    "    - Dizemos que isso é criar modelos parcimonios\n",
    "    - Devemos buscar criar um melhor modelo, que tem uma melhor previsão, com um número menor de variáveis"
   ]
  },
  {
   "cell_type": "markdown",
   "metadata": {},
   "source": [
    "## Requisitos básicos para Regressão Linear Múltipla\n",
    "> 1. **Linearidade** entre a variável depentende e as variáveis independentes\n",
    "1. Que as variáveis sejam normalmente distribuídas\n",
    "1. Pouca ou nenhuma **Colinearidade** *(quanto menos melhor)*"
   ]
  },
  {
   "cell_type": "markdown",
   "metadata": {},
   "source": [
    "### Quanto aos residuais?\n",
    "> - Devem estar próximos da distribuição normal\n",
    "- Variância constante em relação a linha de melhor ajuste\n",
    "- As variáveis **devem** ser *independentes*, ou seja, não deve existir um padrão, uma relação entre as variáveis que vão buscar prever a variável dependente"
   ]
  },
  {
   "cell_type": "code",
   "execution_count": null,
   "metadata": {},
   "outputs": [],
   "source": []
  }
 ],
 "metadata": {
  "kernelspec": {
   "display_name": "Python 3",
   "language": "python",
   "name": "python3"
  },
  "language_info": {
   "codemirror_mode": {
    "name": "ipython",
    "version": 3
   },
   "file_extension": ".py",
   "mimetype": "text/x-python",
   "name": "python",
   "nbconvert_exporter": "python",
   "pygments_lexer": "ipython3",
   "version": "3.7.3"
  }
 },
 "nbformat": 4,
 "nbformat_minor": 2
}
