{
 "cells": [
  {
   "cell_type": "markdown",
   "metadata": {},
   "source": [
    "# Correlação (R)"
   ]
  },
  {
   "cell_type": "markdown",
   "metadata": {},
   "source": [
    "**A forma de medir a existencia e a força da relação é chamada de** `Correlação (R)`<br>\n",
    "- Mostra a ***força*** e a ***direção*** da relação entre variáveis\n",
    "- Pode ser um valor entre -1 e 1\n",
    "    - Quanto mais próximo de 0 mais fraca é a relação\n",
    "- A corelação de A ~ B é a mesma que B ~ A"
   ]
  },
  {
   "cell_type": "markdown",
   "metadata": {},
   "source": [
    "\"+\" -> Para acima <br>\n",
    "\"-\" -> Para baixo\n",
    "> 1 : Perfeita <br>\n",
    "0.7+ : Forte <br>\n",
    "0.5+ : Moderada <br>\n",
    "0.25+- : Fraca <br>\n",
    "0 - Inexistente <br>\n",
    "-0.25-+ : Fraca <br>\n",
    "-0.5- : Moderada <br>\n",
    "-0.7- : Forte <br>\n",
    "-1 : Perfeita <br>"
   ]
  },
  {
   "cell_type": "markdown",
   "metadata": {},
   "source": [
    "**Exemplo** <br>\n",
    "- 1 : Positiva ***perfeita***\n",
    "- -0.8 : Negativa ***forte***\n",
    "- 0.23 : Positiva ***fraca***\n",
    "- 0.09 : Positiva ***fraca***\n",
    "- -0,334 : Negativa ***fraca***\n",
    "- 0 : Inexistente\n",
    "- 0.6 : Positiva ***moderada***\n",
    "- 1.2 : ***ERRO***"
   ]
  },
  {
   "cell_type": "markdown",
   "metadata": {},
   "source": [
    "**Correlação Forte**: Os elementos estarão `centralizados` <br>\n",
    "**Correlação Fraca**: Os elementos estão `dispersos`"
   ]
  },
  {
   "cell_type": "markdown",
   "metadata": {},
   "source": [
    "**Correlação Positiva**: Os dois elementos `crescem` ***ou*** `diminuem` no mesmo sentido. *Depende do contexto*. <br>\n",
    "> Em um gráfico de dispersão, estará com inclinação ***CRESCENTE*** à direita\n",
    "\n",
    "**Correlação Negativa**: Enquanto um elemento `cresce` o outro `diminui`\n",
    "> Em um gráfico de dispersão, estará com a inclinação ***DECRESCENTE*** à direita.\n",
    "\n",
    "**Correlação Inexistente (zero)**: Será uma linha reta na horizontal"
   ]
  },
  {
   "cell_type": "markdown",
   "metadata": {},
   "source": [
    "## Coeficiente de Determinação (R²)"
   ]
  },
  {
   "cell_type": "markdown",
   "metadata": {},
   "source": [
    "- Mostra o quanto o modelo consegue explicar os valores\n",
    "- Quanto maior o meu R², mais explicativo ele é em relação aos valores\n",
    "- O restante da variabilidade que não foi explicada, provavelmente não estão incluídas no modelo.\n",
    "- ***Varia entre 0 e 1 (sempre será positivo)***\n",
    "- Por que sempre positivo? Porque ele é o **quadrado** do coeficiente de correlação (R)"
   ]
  },
  {
   "cell_type": "markdown",
   "metadata": {},
   "source": [
    "**Exemplo** <br>\n",
    "- ***Idade***: Variável dependente\n",
    "- ***Custo***: Variável explanatória"
   ]
  },
  {
   "cell_type": "markdown",
   "metadata": {},
   "source": [
    "Idade | Custo\n",
    "------|------\n",
    "18|871\n",
    "23|1132\n",
    "28|1242\n",
    "33|1356\n",
    "38|1488\n",
    "43|1638\n",
    "48|2130\n",
    "53|2454\n",
    "58|3066\n",
    "63|4090"
   ]
  },
  {
   "cell_type": "markdown",
   "metadata": {},
   "source": [
    "- **Correlação**: 0,93\n",
    "- **R²**: 0,86\n",
    "> Podemos dizer que a variável **Idade** (dependente) consegue ser explicada por 86% da variável **Custo** (explanatória)\n",
    "- O restante (14%) são por variáveis que não foram/não estão incluídas no modelo"
   ]
  },
  {
   "cell_type": "code",
   "execution_count": null,
   "metadata": {},
   "outputs": [],
   "source": []
  }
 ],
 "metadata": {
  "kernelspec": {
   "display_name": "Python 3",
   "language": "python",
   "name": "python3"
  },
  "language_info": {
   "codemirror_mode": {
    "name": "ipython",
    "version": 3
   },
   "file_extension": ".py",
   "mimetype": "text/x-python",
   "name": "python",
   "nbconvert_exporter": "python",
   "pygments_lexer": "ipython3",
   "version": "3.7.3"
  }
 },
 "nbformat": 4,
 "nbformat_minor": 2
}
