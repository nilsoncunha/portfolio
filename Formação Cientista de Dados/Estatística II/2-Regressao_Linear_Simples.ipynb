{
 "cells": [
  {
   "cell_type": "markdown",
   "metadata": {},
   "source": [
    "# Regressão Linear - Previsão\n",
    "**A regressão deve ser linear**"
   ]
  },
  {
   "cell_type": "markdown",
   "metadata": {},
   "source": [
    "**Exemplo**: Utilizando a Regrassão Linear para fazer previsão<br>\n",
    "- Qual vai ser o custo de um cliente com 45 anos de idade?"
   ]
  },
  {
   "cell_type": "markdown",
   "metadata": {},
   "source": [
    "Idade | Custo\n",
    "------|------\n",
    "18|871\n",
    "23|1132\n",
    "28|1242\n",
    "33|1356\n",
    "38|1488\n",
    "43|1638\n",
    "48|2130\n",
    "53|2454\n",
    "58|3066\n",
    "63|4090"
   ]
  },
  {
   "cell_type": "markdown",
   "metadata": {},
   "source": [
    "1. Utilizamos os clientes com as outras idades;\n",
    "1. Colocamos em um gráfico de dispersão;\n",
    "1. Construimos a linha de regressão (linha de melhor ajuste);\n",
    "1. No eixo X, buscar a localização da idade que procuramos;\n",
    "    - Fazer a interseção da idade com a linha;\n",
    "1. Buscar o ponto equivalente do custo no eixo Y."
   ]
  },
  {
   "cell_type": "markdown",
   "metadata": {},
   "source": [
    "## Como a linha é construída?"
   ]
  },
  {
   "cell_type": "markdown",
   "metadata": {},
   "source": [
    "1. Ponto de encontro da linha no eixo Y (interseção): **X = 0**\n",
    "1. Inclinação: A cada unidade que aumenta a variável Independente (x), a variável de resposta (y) sobe o valor da inclinação"
   ]
  },
  {
   "cell_type": "markdown",
   "metadata": {},
   "source": [
    "**Utilizando os dados acima...**"
   ]
  },
  {
   "cell_type": "markdown",
   "metadata": {},
   "source": [
    "- **Interseção**: -558,94\n",
    "- **Inclinação**: 61,86\n",
    "\n",
    "Previsão:<br>\n",
    "33 anos: 1356<br>\n",
    "34 anos: 1356 + 61,86 = 1417,86"
   ]
  },
  {
   "cell_type": "markdown",
   "metadata": {},
   "source": [
    "## Como prever?"
   ]
  },
  {
   "cell_type": "markdown",
   "metadata": {},
   "source": [
    "Previsão = Interseção + (Inclinação * Valor a prever)<br>\n",
    "Quanto vai custar um cliente com 56 anos de idade?\n",
    "- X = -558,94 + (61,86 * 56)\n",
    "- X = 2905,22"
   ]
  },
  {
   "cell_type": "markdown",
   "metadata": {},
   "source": [
    "# Regressão Linear - Residuais"
   ]
  },
  {
   "cell_type": "markdown",
   "metadata": {},
   "source": [
    "***Pode ser que em um gráfico, nenhum valor usado para criar o modelo coincida com a linha de regressão.*** <br>\n",
    "Nesse caso a linha vai ser um ajuste criado a partir dos dados fornecidos na criação do modelo."
   ]
  },
  {
   "cell_type": "markdown",
   "metadata": {},
   "source": [
    "A diferença entre os valores das variáveis usadas para criar o modelo e a linha de regressão é chamado de `Resíduos` ou `Residuais`<br>\n",
    "Podem ser calculados medindo a posição da variável no eixo Y até a linha de regressão.<br><br>\n",
    "![regressao](../img/estatisticaII_2_residuais.png)"
   ]
  },
  {
   "cell_type": "markdown",
   "metadata": {},
   "source": [
    "Se a variável estiver `acima` da linha de regressão, o valor será **positivo**<br>\n",
    "Se estiver `abaixo`, o valor será **negativo**<br>\n",
    "Se coincidir com a linha será `zero`"
   ]
  },
  {
   "cell_type": "markdown",
   "metadata": {},
   "source": [
    "*Obs.:* A diferença de todos os residuais eu posso usar para calcular/avaliar o erro do meu modelo, ou seja...<br>\n",
    "saber a diferença entre a linha de melhor ajuste e os valores que foram usados para criar o modelo."
   ]
  },
  {
   "cell_type": "markdown",
   "metadata": {},
   "source": [
    "# Regressão Linear - Outliers"
   ]
  },
  {
   "cell_type": "markdown",
   "metadata": {},
   "source": [
    "### Conceito estatístico que se refere a valores fora do padrão"
   ]
  },
  {
   "cell_type": "markdown",
   "metadata": {},
   "source": [
    "Idade | Custo\n",
    "------|------\n",
    "18|871\n",
    "23|1132\n",
    "28|1242\n",
    "33|1356\n",
    "38|1488\n",
    "43|1638\n",
    "48|2130\n",
    "53|2454\n",
    "58|3066\n",
    "63|4090"
   ]
  },
  {
   "cell_type": "markdown",
   "metadata": {},
   "source": [
    "**Correlação = 0,93**<br><br>\n",
    "Conforme a imagem os dados estão dispersos, porém em uma área regular próximo a linha de regressão."
   ]
  },
  {
   "cell_type": "markdown",
   "metadata": {},
   "source": [
    "![Outliers](../img/estatisticaII_2_outliers.png)"
   ]
  },
  {
   "cell_type": "markdown",
   "metadata": {},
   "source": [
    "Agora adicionando uma variável idade = 24 e custo = 5435"
   ]
  },
  {
   "cell_type": "markdown",
   "metadata": {},
   "source": [
    "Idade | Custo\n",
    "------|------\n",
    "18|871\n",
    "23|1132\n",
    "*24|5435*\n",
    "28|1242\n",
    "33|1356\n",
    "38|1488\n",
    "43|1638\n",
    "48|2130\n",
    "53|2454\n",
    "58|3066\n",
    "63|4090"
   ]
  },
  {
   "cell_type": "markdown",
   "metadata": {},
   "source": [
    "**Correlação: 0,34**<br><br>\n",
    "Quando temos um dado que foge do padrão (*) faz com que nossa correlação caia."
   ]
  },
  {
   "cell_type": "markdown",
   "metadata": {},
   "source": [
    "***Quando for aplicar a regressão linear, devemos avaliar se em nossos dados contém Outlier que poderão 'estragar' nossa análse.***"
   ]
  },
  {
   "cell_type": "markdown",
   "metadata": {},
   "source": [
    "# Regressão Linear - Extrapolação"
   ]
  },
  {
   "cell_type": "markdown",
   "metadata": {},
   "source": [
    "Idade | Custo\n",
    "------|------\n",
    "18|871\n",
    "23|1132\n",
    "28|1242\n",
    "33|1356\n",
    "38|1488\n",
    "43|1638\n",
    "48|2130\n",
    "53|2454\n",
    "58|3066\n",
    "63|4090"
   ]
  },
  {
   "cell_type": "markdown",
   "metadata": {},
   "source": [
    "Ex.: Podemos saber qual é o custo para alguém de 16 ou 80 anos? <br>\n",
    "Se tratando de cálculo matemático SIM, porém não temos dados suficiente para dizer se a linearidade continuará.<br>\n",
    "Em um certo momento, pode ser que a linha tenha uma tendência muito alta o que será gerado um Outlier"
   ]
  },
  {
   "cell_type": "markdown",
   "metadata": {},
   "source": [
    "### Correlação não é Causa\n",
    "Pessoas com mais treinamento tem melhor performance <br>\n",
    "Ou será que:<br>\n",
    "Elas receberam treinamento porque performaram melhor?"
   ]
  },
  {
   "cell_type": "code",
   "execution_count": null,
   "metadata": {},
   "outputs": [],
   "source": []
  }
 ],
 "metadata": {
  "kernelspec": {
   "display_name": "Python 3",
   "language": "python",
   "name": "python3"
  },
  "language_info": {
   "codemirror_mode": {
    "name": "ipython",
    "version": 3
   },
   "file_extension": ".py",
   "mimetype": "text/x-python",
   "name": "python",
   "nbconvert_exporter": "python",
   "pygments_lexer": "ipython3",
   "version": "3.7.3"
  }
 },
 "nbformat": 4,
 "nbformat_minor": 2
}
