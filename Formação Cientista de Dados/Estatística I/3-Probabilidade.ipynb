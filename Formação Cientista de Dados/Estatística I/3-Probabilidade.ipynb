{
 "cells": [
  {
   "cell_type": "markdown",
   "metadata": {},
   "source": [
    "# Probabilidade (P)"
   ]
  },
  {
   "cell_type": "markdown",
   "metadata": {},
   "source": [
    "- Probabilidade sempre terá valor entre 0 e 1\n",
    "- 0 <= P <= 1\n",
    "- P = 1: Evento certo de ocorrer\n",
    "- P = 0: Evento impossível de ocorrer\n",
    "- Probabilidade de 50%: 0,5 ou 1/2\n",
    "- Impossível: -0,5 / -20% / 2/1"
   ]
  },
  {
   "cell_type": "markdown",
   "metadata": {},
   "source": [
    "## Conceitos"
   ]
  },
  {
   "cell_type": "markdown",
   "metadata": {},
   "source": [
    "- Experimento: O que está sendo estudado. \n",
    "- Espaço Amostral: Todas as possibilidades de ocorrência do evento.\n",
    "- Evento: Resultados ocorridos. \n",
    "- Exemplo:\n",
    "    - Experimento: Jogar um dado;\n",
    "    - Espaço amostral: Números do dado;\n",
    "    - Evento: 5\n",
    "- ***Eventos Excludentes***: Quando não podem ocorrer ao mesmo tempo\n",
    "    - Ex.: Jogar um dado e ser 1 e par\n",
    "- ***Eventos Não Excludentes***: Quando podem ocorrer ao mesmo tempo\n",
    "    - Ex.: Jogar um dado e ser 2 e par"
   ]
  },
  {
   "cell_type": "markdown",
   "metadata": {},
   "source": [
    "- Eventos Dependentes: A ocorrência de um evento afeta o outro, ou seja, um tem que ocorrer para que depois ocorra o outro.\n",
    "- Eventos Independentes: A ocorrência de um evento não afeta o outro"
   ]
  },
  {
   "cell_type": "markdown",
   "metadata": {},
   "source": [
    "### Um único evento"
   ]
  },
  {
   "cell_type": "markdown",
   "metadata": {},
   "source": [
    "P = $\\frac{OCORRÊNCIA-ESPERADA}{Nº-DE-EVENTOS-POSSÍVEIS}$<br>\n",
    "Ex.: Jogar uma moeda e dar cara\n",
    "- P = $\\frac{1}{2}$ | P = 0,5 ou 50%"
   ]
  },
  {
   "cell_type": "markdown",
   "metadata": {},
   "source": [
    "Ex.: Jogar um dado e dar 6\n",
    "- P = $\\frac{1}{6}$ | P = 0,16 ou 16%"
   ]
  },
  {
   "cell_type": "markdown",
   "metadata": {},
   "source": [
    "Ex.: Jogar um dado e dar 1 ou 6 (Evento excludente `um ou outro` )\n",
    "- P = $\\frac{2}{6}$ | P = 0,33 ou 33%"
   ]
  },
  {
   "cell_type": "markdown",
   "metadata": {},
   "source": [
    "Ex.: Jogar um dado e dar 1,2,3,4,5 ou 6\n",
    "- P = $\\frac{6}{6}$ | 1 ou 100%"
   ]
  },
  {
   "cell_type": "markdown",
   "metadata": {},
   "source": [
    "Ex.: Jogar um dado e dar impar ou maior que 4 (1,3,5,6)\n",
    "- P = $\\frac{4}{6}$ | 0,66 ou 66%"
   ]
  },
  {
   "cell_type": "markdown",
   "metadata": {},
   "source": [
    "### Eventos *Excludentes*"
   ]
  },
  {
   "cell_type": "markdown",
   "metadata": {},
   "source": [
    "Quando temos eventos `exclutendes`, somamos as probabilidades<br>\n",
    "Ex.: Jogando um dado e ser 1 ou par:\n",
    "- $\\frac{1}{6}$ + $\\frac{3}{6}$ = $\\frac{4}{6}$ = 0,66 ou 66%"
   ]
  },
  {
   "cell_type": "markdown",
   "metadata": {},
   "source": [
    "### Eventos *Não Excludentes*"
   ]
  },
  {
   "cell_type": "markdown",
   "metadata": {},
   "source": [
    "Somamos as probabilidades e diminuimos as sobreposições<br>\n",
    "Ex.: Jogar um dado e ser 2 ou par:\n",
    "- $\\frac{1}{6}$ + $\\frac{3}{6}$ = $\\frac{4}{6}$ - $\\frac{1}{6}$ = $\\frac{3}{6}$  = 0,5 ou 55% <br>\n",
    "- ***Diminuímos o resultado pela sobreposição*** pois não aumentam as chances de ser dois e par, se for dois consequentemente será par, por isso realizamos a subtração"
   ]
  },
  {
   "cell_type": "markdown",
   "metadata": {},
   "source": [
    "### Eventos *Independentes*"
   ]
  },
  {
   "cell_type": "markdown",
   "metadata": {},
   "source": [
    "Quando temos mais de um evento realizamos a multiplicação"
   ]
  },
  {
   "cell_type": "markdown",
   "metadata": {},
   "source": [
    "Qual a probabilidade de jogar dois dados e dar 1 e 6 (dois eventos independentes):\n",
    "- 1/6 * 1/6 = 1/36 = 0,027 ou 2,7%"
   ]
  },
  {
   "cell_type": "markdown",
   "metadata": {},
   "source": [
    "### Eventos *Dependentes*"
   ]
  },
  {
   "cell_type": "markdown",
   "metadata": {},
   "source": [
    "Com 6 cartas na mão (A, 2, 3, 4, 5, 6), qual a probabilidade do 1º evento tirar A e no segundo tirar 4? <br>\n",
    "Nesse contexto é dependente porque a carta não volta para o baralho, então a probabilidade muda.\n",
    "- 1/6 * 1/5 = 1/30 = 0,033 ou 3,3%"
   ]
  },
  {
   "cell_type": "markdown",
   "metadata": {},
   "source": [
    "***Probabilidade é um fato que estudamos a longo prazo, se estudarmos a curto prazo poderemos ter valores alterados que não condizem com a realidade***"
   ]
  },
  {
   "cell_type": "code",
   "execution_count": null,
   "metadata": {},
   "outputs": [],
   "source": []
  }
 ],
 "metadata": {
  "kernelspec": {
   "display_name": "Python 3",
   "language": "python",
   "name": "python3"
  },
  "language_info": {
   "codemirror_mode": {
    "name": "ipython",
    "version": 3
   },
   "file_extension": ".py",
   "mimetype": "text/x-python",
   "name": "python",
   "nbconvert_exporter": "python",
   "pygments_lexer": "ipython3",
   "version": "3.7.3"
  }
 },
 "nbformat": 4,
 "nbformat_minor": 2
}
