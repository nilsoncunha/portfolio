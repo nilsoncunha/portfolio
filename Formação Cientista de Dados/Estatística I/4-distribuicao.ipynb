{
 "cells": [
  {
   "cell_type": "markdown",
   "metadata": {},
   "source": [
    "## Distribuição"
   ]
  },
  {
   "cell_type": "markdown",
   "metadata": {},
   "source": [
    "- Usado principalmente no estudo da probabilidade\n",
    "- Mostra o comportamento de dados aleatórios\n",
    "- Podemos demonstrar através de um gráfico de histograma/densidade"
   ]
  },
  {
   "cell_type": "markdown",
   "metadata": {},
   "source": [
    "## Distribuição Binomial - Parte I"
   ]
  },
  {
   "cell_type": "markdown",
   "metadata": {},
   "source": [
    "- É uma distribuição de probabilidade **discreta**, mas serve para o quê?\n",
    "    - Permite avaliar a probabilidade da ocorrência de eventos, desde que sejam **discretos**;\n",
    "    - *Que tenha determinados pré-requisitos*"
   ]
  },
  {
   "cell_type": "markdown",
   "metadata": {},
   "source": [
    "### Pré-requisitos\n",
    "1. Número fixo de experimentos. Saber quantos eventos quer calcular a probabilidade\n",
    "2. Cada experimento pode ter 2 resultados apenas: *Sucesso* ou *Fracasso*\n",
    "3. A probabilidade de sucesso *deve ser a mesma* em cada experimento\n",
    "4. Os experimentos são independentes\n",
    "\n",
    "**Exemplo:**\n",
    "- Jogar uma moeda *5 vezes*. Qual a probabilidade de dar cara 3 vezes?\n",
    "    1. Número fixo de experimentos -> 5 vezes;\n",
    "    1. Cada experimento tem 2 resultados -> Cara ou Coroa;\n",
    "    1. A probabilidade de sucesso é a mesma em cada experimento;\n",
    "    1. São independentes;<br>\n",
    "    ***Podemos utilizar a distribuição binomial!***\n",
    "- Um cesto tem 10 frutas que pesam entre 3 e 5kg. Qual a probabilidade de retirar duas frutas, uma com 4kg e outra com 3kg?\n",
    "    1. Número fixo de experimentos -> 2 vezes;\n",
    "    1. Os experimentos tem mais de 2 resultados;\n",
    "    1. A probabiliade de sucesso não é a mesma em cada experimento\n",
    "    1. Os experimentos não são independentes<br>\n",
    "    ***Não podemos utilizar a distribuição binomial***"
   ]
  },
  {
   "cell_type": "markdown",
   "metadata": {},
   "source": [
    "## Convenções\n",
    "- X = total de **sucesso** esperado do experimento\n",
    "- p = probabilidade de sucesso\n",
    "- n = número de experimentos\n",
    "- 1-p = probabilidade de fracassos"
   ]
  },
  {
   "cell_type": "markdown",
   "metadata": {},
   "source": [
    "## Distribuição Binomial - Parte I"
   ]
  },
  {
   "cell_type": "markdown",
   "metadata": {},
   "source": [
    "**Exemplo:**\n",
    "- Se passar 4 sinais de quatro tempos cada. Qual a probabilidade de pegar 0,1,2,3 e 4 sinais verdes?\n",
    "    - X = 0,1,2,3,4\n",
    "    - p = 0,25\n",
    "    - n = 4"
   ]
  },
  {
   "cell_type": "markdown",
   "metadata": {},
   "source": [
    "- Se fizer uma prova de concurso com 12 questões. \"Chutando\" todas as questões, qual a probabilidade de acertar 7 questões? (4 alternativas cada questão)\n",
    "    - X = 7 acertos\n",
    "    - p = 0,25\n",
    "    - n = 12\n",
    "    - Resultado = 0.01147127"
   ]
  },
  {
   "cell_type": "markdown",
   "metadata": {},
   "source": [
    "### Utilizando Python"
   ]
  },
  {
   "cell_type": "code",
   "execution_count": 1,
   "metadata": {},
   "outputs": [],
   "source": [
    "from scipy.stats import binom"
   ]
  },
  {
   "cell_type": "code",
   "execution_count": 2,
   "metadata": {},
   "outputs": [
    {
     "data": {
      "text/plain": [
       "0.3125"
      ]
     },
     "execution_count": 2,
     "metadata": {},
     "output_type": "execute_result"
    }
   ],
   "source": [
    "# Jogar uma moeda 5 vezes. Qual a probabilidade de dar cara 3 vezes?\n",
    "prob = binom.pmf(3, 5, 0.5) # Nº Sucesso / Nº Tentativa / Probabilidade (Cara ou Coroa)\n",
    "prob"
   ]
  },
  {
   "cell_type": "code",
   "execution_count": 3,
   "metadata": {},
   "outputs": [
    {
     "data": {
      "text/plain": [
       "0.31640625000000006"
      ]
     },
     "execution_count": 3,
     "metadata": {},
     "output_type": "execute_result"
    }
   ],
   "source": [
    "# Se passar 4 sinais de quatro tempos cada. Qual a probabilidade de pegar 0,1,2,3 e 4 sinais verdes?\n",
    "binom.pmf(0, 4, 0.25)"
   ]
  },
  {
   "cell_type": "code",
   "execution_count": 4,
   "metadata": {},
   "outputs": [
    {
     "data": {
      "text/plain": [
       "0.4218750000000001"
      ]
     },
     "execution_count": 4,
     "metadata": {},
     "output_type": "execute_result"
    }
   ],
   "source": [
    "binom.pmf(1, 4, 0.25)"
   ]
  },
  {
   "cell_type": "code",
   "execution_count": 5,
   "metadata": {},
   "outputs": [
    {
     "data": {
      "text/plain": [
       "0.21093750000000006"
      ]
     },
     "execution_count": 5,
     "metadata": {},
     "output_type": "execute_result"
    }
   ],
   "source": [
    "binom.pmf(2, 4, 0.25)"
   ]
  },
  {
   "cell_type": "code",
   "execution_count": 6,
   "metadata": {},
   "outputs": [
    {
     "data": {
      "text/plain": [
       "0.046875000000000035"
      ]
     },
     "execution_count": 6,
     "metadata": {},
     "output_type": "execute_result"
    }
   ],
   "source": [
    "binom.pmf(3, 4, 0.25)"
   ]
  },
  {
   "cell_type": "code",
   "execution_count": 7,
   "metadata": {},
   "outputs": [
    {
     "data": {
      "text/plain": [
       "0.003906250000000001"
      ]
     },
     "execution_count": 7,
     "metadata": {},
     "output_type": "execute_result"
    }
   ],
   "source": [
    "binom.pmf(4, 4, 0.25)"
   ]
  },
  {
   "cell_type": "code",
   "execution_count": 9,
   "metadata": {},
   "outputs": [
    {
     "data": {
      "text/plain": [
       "0.0625"
      ]
     },
     "execution_count": 9,
     "metadata": {},
     "output_type": "execute_result"
    }
   ],
   "source": [
    "# E se forem sinais de dois tempos\n",
    "binom.pmf(4, 4, 0.5)"
   ]
  },
  {
   "cell_type": "markdown",
   "metadata": {},
   "source": [
    "**Probabilidade cumulativa**"
   ]
  },
  {
   "cell_type": "code",
   "execution_count": 10,
   "metadata": {},
   "outputs": [
    {
     "data": {
      "text/plain": [
       "1.0"
      ]
     },
     "execution_count": 10,
     "metadata": {},
     "output_type": "execute_result"
    }
   ],
   "source": [
    "binom.cdf(4, 4, 0.25) # Soma os valores - Acumulada"
   ]
  },
  {
   "cell_type": "code",
   "execution_count": 13,
   "metadata": {},
   "outputs": [
    {
     "name": "stdout",
     "output_type": "stream",
     "text": [
      "0.011471271514892573\n",
      "Por porcentagem 1.1471271514892574\n"
     ]
    }
   ],
   "source": [
    "# Se fizer uma prova de concurso com 12 questões. \"Chutando\" todas as questões, qual a probabilidade de acertar 7 questões? (4 alternativas cada questão)\n",
    "print(binom.pmf(7, 12, 0.25))\n",
    "print(\"Por porcentagem {}\".format(binom.pmf(7, 12, 0.25) * 100))"
   ]
  },
  {
   "cell_type": "markdown",
   "metadata": {},
   "source": [
    "## Distribuição Normal"
   ]
  },
  {
   "cell_type": "markdown",
   "metadata": {},
   "source": [
    "*A média dos dados encontram-se ao centro, ocorre uma simetria nos dados*<br>\n",
    "Independente de como os dados estão distribuídos, suas médias estarão normalmente distribuídas.<br>\n",
    "**A probabiliade é calculada cumulativamente da esqueda para a direita**,<br> por isso quando fazemos o cálculo com os números à direita utilizanos (1 - Probabilidade)\n",
    "- Probabilidade de encontrar dados a esquerda e a direita é de 50%"
   ]
  },
  {
   "cell_type": "markdown",
   "metadata": {},
   "source": [
    "**Exemplo**\n",
    "- Em um conjunto de objetos de uma cesta, cujos pesos são normalmente distribuido com média = 8 e desvio padrão = 2.\n",
    "    1. Qual a Chance de se tirar um objeto pesando menos de 6 kg?\n",
    "        - O valor vai estar no início da 'calda'\n",
    "        - Cálculo: $\\frac{6-8}{2}$ -> $\\frac{VALOR.QUE.QUERO.ENCONTRAR - MÉDIA}{DESVIO PADRÃO}$\n",
    "    1. Qual a chance de se tirar um objeto pesando mais de 8 kg?\n",
    "        - 50% de chances, pois a média (8) está ao centro.\n",
    "    1. Qual a chance de se tirar um objeto que tenha mais de 10 kg?\n",
    "        - O valor vai estar no final da 'calda'\n",
    "        - Cálculo: \n",
    "            - $\\frac{10 - 8}{2}$ = 0.8413\n",
    "            - 1 - 0.8413 | ***Fazemos essa conta pois os valores a direita são cumulativos.***\n",
    "            - P = 0.1587 ou 15,8%\n",
    "    1. Qual a chande de se tirar um objeto que tenha menos de 10 kg **e** mais de 8 kg?\n",
    "        1. Encontramos o valor menor que 10 kg;\n",
    "            - $\\frac{10 - 8}{2}$ = 0.8413\n",
    "        1. Encontramos o valor menor que 8 kg;\n",
    "            - $\\frac{8 - 8}{2}$ = 0.5\n",
    "        1. Por ser uma ***E*** outra *subtraímos* as probabilidades, pois são cumulativas. Com isso chegaremos ao resultado de menos que 10 **E** mais que 8 kg\n",
    "            - 0.8413 - 0.5\n",
    "            - P = 0.34\n",
    "    1. Qual a chande de se tirar um objeto que tenha menos de 6 **ou** mais de 10 kg?\n",
    "        1. Encontramos o valor menor que 6 kg;\n",
    "            - $\\frac{6 - 8}{2}$ = 0.1587\n",
    "        1. Encontramos o valor maior que 10 kg;\n",
    "            - $\\frac{10 - 8}{2}$ = 0.84135\n",
    "            - 1 - 0.84135 = 0.1587\n",
    "        1. Por ser uma ***OU*** outra *somamos* as probabilidades. Com isso chegaremos ao resultado de menos que 6 **OU** mais que 10 kg.\n",
    "            - 0.1587 + 0.1587\n",
    "            - P = 0.3173\n",
    "    1. Qual a chance de se tirar um objeto que tenha menos de 4,3 kg?\n",
    "        1. Pegamos o valor e subtraímos pela média\n",
    "            - $\\frac{4.3 - 8}{2}$\n",
    "            - P = 0.0322"
   ]
  },
  {
   "cell_type": "code",
   "execution_count": 14,
   "metadata": {},
   "outputs": [],
   "source": [
    "import seaborn as sns"
   ]
  },
  {
   "cell_type": "code",
   "execution_count": 55,
   "metadata": {},
   "outputs": [
    {
     "data": {
      "text/plain": [
       "<matplotlib.axes._subplots.AxesSubplot at 0x24d5a829240>"
      ]
     },
     "execution_count": 55,
     "metadata": {},
     "output_type": "execute_result"
    },
    {
     "data": {
      "image/png": "[encoded data removed]",
      "text/plain": [
       "<Figure size 432x288 with 1 Axes>"
      ]
     },
     "metadata": {
      "needs_background": "light"
     },
     "output_type": "display_data"
    }
   ],
   "source": [
    "# 1. Gráfico igual a este, onde a distribuição é uniforme.\n",
    "sns.distplot([6,8,10], bins=3)"
   ]
  },
  {
   "cell_type": "markdown",
   "metadata": {},
   "source": [
    "### Utilizando Python"
   ]
  },
  {
   "cell_type": "code",
   "execution_count": 56,
   "metadata": {},
   "outputs": [],
   "source": [
    "from scipy.stats import norm"
   ]
  },
  {
   "cell_type": "markdown",
   "metadata": {},
   "source": [
    "Quando o valor é `menor` que X, utilizamos a função norm.cdf() que vai pegar a parte da ***esquerda***"
   ]
  },
  {
   "cell_type": "code",
   "execution_count": 57,
   "metadata": {},
   "outputs": [
    {
     "data": {
      "text/plain": [
       "0.15865525393145707"
      ]
     },
     "execution_count": 57,
     "metadata": {},
     "output_type": "execute_result"
    }
   ],
   "source": [
    "# Em um conjunto de objetos de uma cesta, cujos pesos são normalmente distribuido com média = 8 e desvio padrão = 2.\n",
    "# Qual a Chance de se tirar um objeto pesando menos de 6 kg?\n",
    "norm.cdf(6, 8, 2) # Valor que queremos retirar / média / desvio padrão"
   ]
  },
  {
   "cell_type": "markdown",
   "metadata": {},
   "source": [
    "Quando o valor é `maior` que X, utilizamos a função norm.sf() que vai pegar a parte da ***direita***"
   ]
  },
  {
   "cell_type": "code",
   "execution_count": 61,
   "metadata": {},
   "outputs": [
    {
     "name": "stdout",
     "output_type": "stream",
     "text": [
      "0.8413447460685429\n",
      "0.8413447460685429\n"
     ]
    }
   ],
   "source": [
    "# Qual a Chance de se tirar um objeto pesando maior de 6 kg?\n",
    "print(norm.sf(6, 8, 2)) \n",
    "print(1- norm.cdf(6, 8, 2)) # Ou podemos fazer dessa forma"
   ]
  },
  {
   "cell_type": "code",
   "execution_count": 63,
   "metadata": {},
   "outputs": [
    {
     "data": {
      "text/plain": [
       "0.31731050786291415"
      ]
     },
     "execution_count": 63,
     "metadata": {},
     "output_type": "execute_result"
    }
   ],
   "source": [
    "# Qual a chande de se tirar um objeto que tenha menos de 6 ou mais de 10 kg?\n",
    "norm.cdf(6, 8, 2) + norm.sf(10, 8, 2)"
   ]
  },
  {
   "cell_type": "code",
   "execution_count": 65,
   "metadata": {},
   "outputs": [
    {
     "data": {
      "text/plain": [
       "0.3413447460685429"
      ]
     },
     "execution_count": 65,
     "metadata": {},
     "output_type": "execute_result"
    }
   ],
   "source": [
    "# Qual a chande de se tirar um objeto que tenha menos de 10 e mais de 8 kg?\n",
    "norm.cdf(10, 8, 2) - norm.sf(8, 8, 2)"
   ]
  },
  {
   "cell_type": "code",
   "execution_count": 66,
   "metadata": {},
   "outputs": [],
   "source": [
    "from scipy import stats\n",
    "from scipy.stats import norm\n",
    "import matplotlib.pyplot as plt"
   ]
  },
  {
   "cell_type": "code",
   "execution_count": 68,
   "metadata": {},
   "outputs": [
    {
     "data": {
      "text/plain": [
       "array([-1.25589246,  0.83014233,  0.85417881,  0.84440986,  0.12932157,\n",
       "       -0.70040108, -1.58393129,  1.01160839, -0.37126339,  0.49163008,\n",
       "        0.0139355 , -0.05115721, -0.54617563, -1.33196869,  0.12807531,\n",
       "        0.57342925,  0.79075303, -0.02367098, -0.44928653,  1.12246091,\n",
       "        0.84054903,  0.40490382, -1.41511557, -1.15800698, -0.61429167,\n",
       "       -0.75427809,  0.46711935, -0.40816706, -0.61232317, -0.10401811,\n",
       "        1.65031568, -0.48215593, -0.14993163, -1.26363975, -0.364214  ,\n",
       "       -0.38052055, -0.1248412 ,  0.45183693, -0.15112938, -0.04525097,\n",
       "        0.99159539, -1.55130661,  0.58807715, -0.28717857,  0.53747084,\n",
       "        0.64899512,  0.06207667, -0.94033001,  0.0084002 , -1.68580573,\n",
       "       -0.66132223, -1.48962819, -1.03211715, -0.89981978, -0.97600273,\n",
       "        1.65875526,  1.34888471, -0.89101718, -0.2159257 , -0.19641721,\n",
       "       -0.19919856, -0.58557756,  0.61508296,  0.16160712,  0.3030844 ,\n",
       "       -1.0320362 ,  0.84335815, -0.00600284, -0.22077409, -0.8005216 ,\n",
       "        0.80349567,  1.55793855,  0.24701655,  1.12172703, -0.86636064,\n",
       "        0.89180094,  0.32832896,  0.29716428,  0.53364855,  1.09065254,\n",
       "       -1.72333276,  0.24058221,  0.07656925, -0.54842366,  0.64752405,\n",
       "        0.58281248,  0.90512508,  0.1178391 , -0.43350867, -0.23034032,\n",
       "        0.6475552 , -0.24432787,  0.58891162, -0.78858889, -1.01977728,\n",
       "       -0.41087101, -0.92096711, -0.73175626,  1.01608787, -0.37489665])"
      ]
     },
     "execution_count": 68,
     "metadata": {},
     "output_type": "execute_result"
    }
   ],
   "source": [
    "dados = norm.rvs(size=100) # Utilizado para gerar dados na distribuição normal\n",
    "dados"
   ]
  },
  {
   "cell_type": "code",
   "execution_count": 69,
   "metadata": {},
   "outputs": [
    {
     "data": {
      "text/plain": [
       "((array([-2.46203784, -2.12570747, -1.93122778, -1.79044653, -1.67819304,\n",
       "         -1.58381122, -1.50174123, -1.42869743, -1.36256869, -1.30191411,\n",
       "         -1.24570419, -1.19317644, -1.14374949, -1.09696931, -1.05247413,\n",
       "         -1.00997067, -0.96921765, -0.93001393, -0.89218993, -0.85560121,\n",
       "         -0.82012357, -0.78564937, -0.75208458, -0.71934648, -0.68736185,\n",
       "         -0.65606548, -0.62539893, -0.59530962, -0.56574992, -0.53667655,\n",
       "         -0.50804994, -0.47983378, -0.45199463, -0.42450149, -0.39732558,\n",
       "         -0.37044003, -0.34381966, -0.31744076, -0.29128096, -0.26531902,\n",
       "         -0.23953472, -0.21390872, -0.18842244, -0.16305799, -0.13779803,\n",
       "         -0.1126257 , -0.08752455, -0.06247843, -0.03747145, -0.01248789,\n",
       "          0.01248789,  0.03747145,  0.06247843,  0.08752455,  0.1126257 ,\n",
       "          0.13779803,  0.16305799,  0.18842244,  0.21390872,  0.23953472,\n",
       "          0.26531902,  0.29128096,  0.31744076,  0.34381966,  0.37044003,\n",
       "          0.39732558,  0.42450149,  0.45199463,  0.47983378,  0.50804994,\n",
       "          0.53667655,  0.56574992,  0.59530962,  0.62539893,  0.65606548,\n",
       "          0.68736185,  0.71934648,  0.75208458,  0.78564937,  0.82012357,\n",
       "          0.85560121,  0.89218993,  0.93001393,  0.96921765,  1.00997067,\n",
       "          1.05247413,  1.09696931,  1.14374949,  1.19317644,  1.24570419,\n",
       "          1.30191411,  1.36256869,  1.42869743,  1.50174123,  1.58381122,\n",
       "          1.67819304,  1.79044653,  1.93122778,  2.12570747,  2.46203784]),\n",
       "  array([-1.72333276, -1.68580573, -1.58393129, -1.55130661, -1.48962819,\n",
       "         -1.41511557, -1.33196869, -1.26363975, -1.25589246, -1.15800698,\n",
       "         -1.03211715, -1.0320362 , -1.01977728, -0.97600273, -0.94033001,\n",
       "         -0.92096711, -0.89981978, -0.89101718, -0.86636064, -0.8005216 ,\n",
       "         -0.78858889, -0.75427809, -0.73175626, -0.70040108, -0.66132223,\n",
       "         -0.61429167, -0.61232317, -0.58557756, -0.54842366, -0.54617563,\n",
       "         -0.48215593, -0.44928653, -0.43350867, -0.41087101, -0.40816706,\n",
       "         -0.38052055, -0.37489665, -0.37126339, -0.364214  , -0.28717857,\n",
       "         -0.24432787, -0.23034032, -0.22077409, -0.2159257 , -0.19919856,\n",
       "         -0.19641721, -0.15112938, -0.14993163, -0.1248412 , -0.10401811,\n",
       "         -0.05115721, -0.04525097, -0.02367098, -0.00600284,  0.0084002 ,\n",
       "          0.0139355 ,  0.06207667,  0.07656925,  0.1178391 ,  0.12807531,\n",
       "          0.12932157,  0.16160712,  0.24058221,  0.24701655,  0.29716428,\n",
       "          0.3030844 ,  0.32832896,  0.40490382,  0.45183693,  0.46711935,\n",
       "          0.49163008,  0.53364855,  0.53747084,  0.57342925,  0.58281248,\n",
       "          0.58807715,  0.58891162,  0.61508296,  0.64752405,  0.6475552 ,\n",
       "          0.64899512,  0.79075303,  0.80349567,  0.83014233,  0.84054903,\n",
       "          0.84335815,  0.84440986,  0.85417881,  0.89180094,  0.90512508,\n",
       "          0.99159539,  1.01160839,  1.01608787,  1.09065254,  1.12172703,\n",
       "          1.12246091,  1.34888471,  1.55793855,  1.65031568,  1.65875526])),\n",
       " (0.8115631520169119, -0.062389266401419605, 0.9956824827473548))"
      ]
     },
     "execution_count": 69,
     "metadata": {},
     "output_type": "execute_result"
    },
    {
     "data": {
      "image/png": "[encoded data removed]",
      "text/plain": [
       "<Figure size 432x288 with 1 Axes>"
      ]
     },
     "metadata": {
      "needs_background": "light"
     },
     "output_type": "display_data"
    }
   ],
   "source": [
    "stats.probplot(dados, plot=plt)"
   ]
  },
  {
   "cell_type": "code",
   "execution_count": 70,
   "metadata": {},
   "outputs": [
    {
     "data": {
      "text/plain": [
       "(0.9862455725669861, 0.38892287015914917)"
      ]
     },
     "execution_count": 70,
     "metadata": {},
     "output_type": "execute_result"
    }
   ],
   "source": [
    "stats.shapiro(dados)"
   ]
  },
  {
   "cell_type": "code",
   "execution_count": null,
   "metadata": {},
   "outputs": [],
   "source": []
  }
 ],
 "metadata": {
  "kernelspec": {
   "display_name": "Python 3",
   "language": "python",
   "name": "python3"
  },
  "language_info": {
   "codemirror_mode": {
    "name": "ipython",
    "version": 3
   },
   "file_extension": ".py",
   "mimetype": "text/x-python",
   "name": "python",
   "nbconvert_exporter": "python",
   "pygments_lexer": "ipython3",
   "version": "3.7.3"
  }
 },
 "nbformat": 4,
 "nbformat_minor": 2
}
