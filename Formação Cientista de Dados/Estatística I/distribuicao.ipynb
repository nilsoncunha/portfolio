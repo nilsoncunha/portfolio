{
 "cells": [
  {
   "cell_type": "markdown",
   "metadata": {},
   "source": [
    "## Distribuição"
   ]
  },
  {
   "cell_type": "markdown",
   "metadata": {},
   "source": [
    "- Usado principalmente no estudo da probabilidade\n",
    "- Mostra o comportamento de dados aleatórios\n",
    "- Podemos demonstrar através de um gráfico de histograma/densidade"
   ]
  },
  {
   "cell_type": "markdown",
   "metadata": {},
   "source": [
    "## Distribuição Binomial - Parte I"
   ]
  },
  {
   "cell_type": "markdown",
   "metadata": {},
   "source": [
    "- É uma distribuição de probabilidade discreta, mas serve para o quê?\n",
    "    - Permite avaliar a probabilidade da ocorrência de eventos, desde que sejam discretos;\n",
    "    - Que tenha determinados pré-requisitos"
   ]
  },
  {
   "cell_type": "markdown",
   "metadata": {},
   "source": [
    "### Pré-requisitos\n",
    "1. Número fixo de experimentos. Saber quantos eventos quer calcular a probabilidade\n",
    "2. Cada experimento pode ter 2 resultados apenas: *Sucesso* ou *Fracasso*\n",
    "3. A probabilidade de sucesso deve ser a mesma em cada experimento\n",
    "4. Os experimentos são independentes\n",
    "\n",
    "**Exemplo:**\n",
    "- Jogar uma moeda *5 vezes*. Qual a probabilidade de dar cara 3 vezes?\n",
    "    1. Número fixo de experimentos -> 5 vezes;\n",
    "    1. Cada experimento tem 2 resultados -> Cara ou Coroa;\n",
    "    1. A probabilidade de sucesso é a mesma em cada experimento;\n",
    "    1. São independentes;<br>\n",
    "    ***Podemos utilizar a distribuição binomial!***\n",
    "- Um cesto tem 10 frutas que pesam entre 3 e 5kg. Qual a probabilidade de retirar duas frutas, uma com 4kg e outra com 3kg?\n",
    "    1. Número fixo de experimentos -> 2 vezes;\n",
    "    1. Os experimentos tem mais de 2 resultados;\n",
    "    1. A probabiliade de sucesso não é a mesma em cada experimento\n",
    "    1. Os experimentos não são independentes<br>\n",
    "    ***Não podemos utilizar a distribuição binomial***"
   ]
  },
  {
   "cell_type": "markdown",
   "metadata": {},
   "source": [
    "## Convenções\n",
    "- X = total de sucesso esperado do experimento\n",
    "- p = probabilidade de sucesso\n",
    "- n = número de experimentos\n",
    "- 1-p = probabilidade de fracassos"
   ]
  },
  {
   "cell_type": "code",
   "execution_count": null,
   "metadata": {},
   "outputs": [],
   "source": []
  }
 ],
 "metadata": {
  "kernelspec": {
   "display_name": "Python 3",
   "language": "python",
   "name": "python3"
  },
  "language_info": {
   "codemirror_mode": {
    "name": "ipython",
    "version": 3
   },
   "file_extension": ".py",
   "mimetype": "text/x-python",
   "name": "python",
   "nbconvert_exporter": "python",
   "pygments_lexer": "ipython3",
   "version": "3.7.3"
  }
 },
 "nbformat": 4,
 "nbformat_minor": 2
}
