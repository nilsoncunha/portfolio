{
 "cells": [
  {
   "cell_type": "markdown",
   "metadata": {},
   "source": [
    "# Intervalos de Confiança"
   ]
  },
  {
   "cell_type": "markdown",
   "metadata": {},
   "source": [
    "- É possível inferir características de uma população a partir de uma amostra\n",
    "- Por quê?\n",
    "    - Custo;\n",
    "    - Viabilidade;\n",
    "    - etc.\n",
    "- Preço: Erro padrão / Nível de confiança\n",
    "- Riscos: dados ruins, enviesamento."
   ]
  },
  {
   "cell_type": "markdown",
   "metadata": {},
   "source": [
    "### Porém\n",
    "- Como estamos utilizando amostra, devemos esperar uma variação;\n",
    "- A primeira maostra pode variar com relação da segunda, a segunda da terceira...\n",
    "- Mas podemos 'medir' o quanto pode ser essa variação."
   ]
  },
  {
   "cell_type": "markdown",
   "metadata": {},
   "source": [
    "- Intervalo de confiança: O parâmetro (média) mais ou menos a margem de erro estimada\n",
    "- Parâmetro: valor a ser estimado (Média / proporção)\n",
    "- Margem de erro: variabilidade, para mais ou para menos\n",
    "- Nível de confiança: de 80 a 99% (Podemos fazer a escolha de qual nível usar)\n",
    "- Tamanho da amostra (n)"
   ]
  },
  {
   "cell_type": "markdown",
   "metadata": {},
   "source": [
    "### Exemplo em números...\n",
    "- Entre 63 e 67% dos entrevistados pretendem votar em Maria, com nível de confiança de 95%."
   ]
  },
  {
   "cell_type": "markdown",
   "metadata": {},
   "source": [
    "- Parâmetro: Intenção de voto (proporção)\n",
    "- Nível de confiança: 95%\n",
    "- Intervalo de confiança: Entre 63 e 67%\n",
    "- Erro padrão: 1,96\n",
    "- Entrevistados (n): 1000\n",
    "- Margem de erro: +- 2%"
   ]
  },
  {
   "cell_type": "markdown",
   "metadata": {},
   "source": [
    "### Nível de Confiança: z*\n",
    "Percentual de Confiança | Valor de Z*\n",
    ":--: | :--:\n",
    "80 | 1,28\n",
    "90 | 1,64\n",
    "95 | 1,96\n",
    "98 | 2,33\n",
    "99 | 2,58"
   ]
  },
  {
   "cell_type": "markdown",
   "metadata": {},
   "source": [
    "### Compensação\n",
    "`Maior` nível de confiança, `Maior` erro padrão <br>\n",
    "`Maior` tamanho da amostra, `Menor` erro padrão"
   ]
  },
  {
   "cell_type": "markdown",
   "metadata": {},
   "source": [
    "### Troca entre Margem de Erro, Intervalo de Confiança e Amostra\n",
    "- Aumentando a margem de erro, é natural as chances da minha amostra estarem dentro do intereval, por isso temos um intervalo de confiança maior\n",
    "- Da mesma forma, aumantando o número de amostra reduzimos a chance do efeito acaso, por isso a margem de eror reduz\n",
    "- Caso não consiga trabalhar com uma amostra maior, por n motivos, podemos aceitar uma variação maior."
   ]
  },
  {
   "cell_type": "markdown",
   "metadata": {},
   "source": [
    "## Tipos de intervalos de confiança\n",
    "#### 1. Intervalo de confiança para a média\n",
    "$\\overline{X} \\pm Z* \\frac{DESVIO PADRÃO}{\\sqrt N}$\n",
    "- Queremos estimar o salário médio de um cientista de dados\n",
    "- *100* pesquisados (n)\n",
    "- **Intervalo de confiança: 95%**\n",
    "- O desvio padrão é 1100,00\n",
    "- A média é de R$ 5800,00\n",
    "- Valor de z* = ***1,96***\n",
    "- ***Margem de erro: +- 215,60*** <br>\n",
    "O salário médio de um cientista de dados é entre 5584,40 e 6015,60 com nível de confiança de 95%<br>\n",
    "***Para chegar no valor pegamos a média e subtrímos depois somamos***"
   ]
  },
  {
   "cell_type": "markdown",
   "metadata": {},
   "source": [
    "Cálculo:<br>\n",
    "$\\overline{X} \\pm 1,96* \\frac{1100}{\\sqrt 100}$<br>\n",
    "$\\overline{X} \\pm 1,96* 1$<br>\n",
    "$\\overline{X} \\pm 215,60$"
   ]
  },
  {
   "cell_type": "markdown",
   "metadata": {},
   "source": [
    "- Queremos estimar o salário médio de um cientista de dados\n",
    "- *100* pesquisados (n)\n",
    "- **Intervalo de confiança: 99%**\n",
    "- O desvio padrão é 1100,00\n",
    "- A média é de R$ 5800,00\n",
    "- Valor de z* = ***2,58***\n",
    "- ***Margem de erro: +- 283,80***<br>\n",
    "O salário médio de um cientista de dados é entre 5516,20 e 6083,80 com nível de confiança de 99%<br>\n",
    "***Para chegar no valor pegamos a média e subtrímos depois somamos***"
   ]
  },
  {
   "cell_type": "markdown",
   "metadata": {},
   "source": [
    "Cálculo:<br>\n",
    "$\\overline{X} \\pm 2,58* \\frac{1100}{\\sqrt 100}$<br>\n",
    "$\\overline{X} \\pm 2,58* 110$<br>\n",
    "$\\overline{X} \\pm 283,80$"
   ]
  },
  {
   "cell_type": "markdown",
   "metadata": {},
   "source": [
    "- Queremos estimar o salário médio de um cientista de dados\n",
    "- *1000* pesquisados (n)\n",
    "- **Intervalo de confiança: 95%**\n",
    "- O desvio padrão é 1100,00\n",
    "- A média é de R$ 5800,00\n",
    "- Valor de z* = ***1,96***\n",
    "- ***Margem de erro: +- 68,18***<br>\n",
    "O salário médio de um cientista de dados é entre 5731,82 e 8868,18 com nível de confiança de 95%<br>\n",
    "***Para chegar no valor pegamos a média e subtrímos depois somamos***"
   ]
  },
  {
   "cell_type": "markdown",
   "metadata": {},
   "source": [
    "Cálculo:<br>\n",
    "$\\overline{X} \\pm 1,96* \\frac{1100}{\\sqrt 1000}$<br>\n",
    "$\\overline{X} \\pm 1,96* 31,62$<br>\n",
    "$\\overline{X} \\pm 68,18$"
   ]
  },
  {
   "cell_type": "markdown",
   "metadata": {},
   "source": [
    "#### 2. Intervalo de confiança para a proporção\n",
    "$\\hat{P} \\pm Z * \\sqrt{\\frac{\\hat{P} (1-\\hat{P})}{N}}$\n",
    "- Queremos estimar a proporção de eleitores que pretendem votar em Maria para prefeito\n",
    "- *1000* pesquisados (n)\n",
    "- **Intervalo de confiança: 95%**\n",
    "- 650 Responde Maria\n",
    "    - P = 650 / 1000 = 0,65 (P = Proporção)\n",
    "- 330 Responde João\n",
    "    - P = 330 / 1000 = 0,33\n",
    "- 20 Não sabe / nenhum\n",
    "    - P = 20 / 1000 = 0,02\n",
    "- Valor de z* = 1,95 <br>\n",
    "Entre 62 e 68% dos entrevistados pretendem votar em Maria, com nível de confiança de 95% <br>\n",
    "***Para chegar nesse valor, pegamos a proporção e subtraímos depois somamos pela porcentagem encontrada***"
   ]
  },
  {
   "cell_type": "markdown",
   "metadata": {},
   "source": [
    "Cálculo:<br>\n",
    "$\\hat{P} \\pm 1,96 * \\sqrt{\\frac{0,65 (1 - 0,65)}{1000}}$<br>\n",
    "$\\hat{P} \\pm 0,029$<br>\n",
    "$\\hat{P} \\pm 0,03$ = 3% (Arredondado)"
   ]
  },
  {
   "cell_type": "code",
   "execution_count": null,
   "metadata": {},
   "outputs": [],
   "source": []
  }
 ],
 "metadata": {
  "kernelspec": {
   "display_name": "Python 3",
   "language": "python",
   "name": "python3"
  },
  "language_info": {
   "codemirror_mode": {
    "name": "ipython",
    "version": 3
   },
   "file_extension": ".py",
   "mimetype": "text/x-python",
   "name": "python",
   "nbconvert_exporter": "python",
   "pygments_lexer": "ipython3",
   "version": "3.7.3"
  }
 },
 "nbformat": 4,
 "nbformat_minor": 2
}
