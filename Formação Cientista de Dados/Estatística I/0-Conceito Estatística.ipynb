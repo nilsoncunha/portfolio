{
 "cells": [
  {
   "cell_type": "markdown",
   "metadata": {},
   "source": [
    "# Estatística\n",
    "- ***Descritiva:*** Organizar, demonstrar e resumir dados\n",
    "- ***Probabilidade:*** Analisar situações sujeitas ao acaso\n",
    "- ***Inferência:*** Obter respostas sobre um dado representativo"
   ]
  },
  {
   "cell_type": "markdown",
   "metadata": {},
   "source": [
    "## Observação e Experimento\n",
    "- ***Observação:*** O estudo dos elementos analisados não são afetados. Ex.: Pesquisa.\n",
    "- ***Experimento:*** Condições ou Tratamento são impostas para avaliar o resultado."
   ]
  },
  {
   "cell_type": "markdown",
   "metadata": {},
   "source": [
    "## Variáveis\n",
    "- **Quantitativas** - Numéricas\n",
    "    - ***Contínuas:*** Valores reais\n",
    "    - ***Discretas:*** Números inteiros\n",
    "- **Qualitativas** - Categóricas\n",
    "    - ***Nominais:*** Categorias `sem` hierarquia\n",
    "    - ***Ordinais:*** Categorias `com` hierarquia"
   ]
  },
  {
   "cell_type": "markdown",
   "metadata": {},
   "source": [
    "# Estatística Paramétrica\n",
    "- Requer que os dados estejam em conformidade com alguma distribuição\n",
    "    - Ex.: Distribuição Normal"
   ]
  },
  {
   "cell_type": "markdown",
   "metadata": {},
   "source": [
    "# Estatística Não-Paramétrica\n",
    "- Quando os dados não estão em conformidade com alguma distribuição\n",
    "- Quando não se reconhece a distribuição dos dados"
   ]
  },
  {
   "cell_type": "markdown",
   "metadata": {},
   "source": [
    "### Mas porque usar a *Paramétrica* e em vez da *Não-Paramétrica*\n",
    "- A estatística paramétrica oferece menos riscos\n",
    "    - Ex.: Se os dados estão normalmente distribuídos, um teste de hipótese paramétrico tende a ser mais preciso"
   ]
  }
 ],
 "metadata": {
  "kernelspec": {
   "display_name": "Python 3",
   "language": "python",
   "name": "python3"
  },
  "language_info": {
   "codemirror_mode": {
    "name": "ipython",
    "version": 3
   },
   "file_extension": ".py",
   "mimetype": "text/x-python",
   "name": "python",
   "nbconvert_exporter": "python",
   "pygments_lexer": "ipython3",
   "version": "3.7.3"
  }
 },
 "nbformat": 4,
 "nbformat_minor": 2
}
