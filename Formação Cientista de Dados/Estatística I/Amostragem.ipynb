{
 "cells": [
  {
   "cell_type": "markdown",
   "metadata": {},
   "source": [
    "## Amostra \n",
    "- E a parte de uma população. Têm chances iguais para todos os elementos da população serem selecionados"
   ]
  },
  {
   "cell_type": "markdown",
   "metadata": {},
   "source": [
    "## Conceitos\n",
    "- ***População:*** Alvo de estudo. Ex.: População Brasileira\n",
    "- ***Amostra:*** Subconjunto da população\n",
    "- ***Censo:*** Pesquisa com toda a população"
   ]
  },
  {
   "cell_type": "markdown",
   "metadata": {},
   "source": [
    "Amostra <> População"
   ]
  },
  {
   "cell_type": "markdown",
   "metadata": {},
   "source": [
    "### Podemos inferir sobre uma amostra\n",
    "Uma amostra, feita corretamente, deve representar as mesmas características da população.<br>\n",
    "Se não representa a população dizemos que ela é `enviesada`"
   ]
  },
  {
   "cell_type": "markdown",
   "metadata": {},
   "source": [
    "### Enviesamento\n",
    "- Sub-estima ou Superestima o parâmetro da população\n",
    "- Uma causa para isso é não utilizar os meios corretos de selecionar as pessoas de forma aleatória."
   ]
  },
  {
   "cell_type": "markdown",
   "metadata": {},
   "source": [
    "### \"Custo\" da `Amostra`\n",
    "- Margem de Erro e Nível de Confiança\n",
    "- Variação: Amostras diferentes podem apresentar resultados diferentes."
   ]
  },
  {
   "cell_type": "code",
   "execution_count": null,
   "metadata": {},
   "outputs": [],
   "source": []
  }
 ],
 "metadata": {
  "kernelspec": {
   "display_name": "Python 3",
   "language": "python",
   "name": "python3"
  },
  "language_info": {
   "codemirror_mode": {
    "name": "ipython",
    "version": 3
   },
   "file_extension": ".py",
   "mimetype": "text/x-python",
   "name": "python",
   "nbconvert_exporter": "python",
   "pygments_lexer": "ipython3",
   "version": "3.7.3"
  }
 },
 "nbformat": 4,
 "nbformat_minor": 2
}
