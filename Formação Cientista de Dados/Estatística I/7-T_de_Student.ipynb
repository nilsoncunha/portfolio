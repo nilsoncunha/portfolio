{
 "cells": [
  {
   "cell_type": "markdown",
   "metadata": {},
   "source": [
    "# T de Student"
   ]
  },
  {
   "cell_type": "markdown",
   "metadata": {},
   "source": [
    "Utilizada quando a amostra é pequena ***(menor que 30)*** <br>\n",
    "Se for ***maior que 30*** então usaremos a ***distribuição normal***<br>\n",
    "E também não se conhece o desvio padrão da população <br>\n",
    "- **Custo**: Maior variabilidade (por exemplo, em um teste de hipótese)"
   ]
  },
  {
   "cell_type": "markdown",
   "metadata": {},
   "source": [
    "- Tendência maior de encontrar valores nas caudas (caudas maiores)\n",
    "- Se n >= 30, se assemelha a uma ***distribuição normal***"
   ]
  },
  {
   "cell_type": "markdown",
   "metadata": {},
   "source": [
    "Grau de liberdade: Corresponde ao tamanho da amostra menos 1 (n - 1) <br>\n",
    "Se n=15, t=14"
   ]
  },
  {
   "cell_type": "markdown",
   "metadata": {},
   "source": [
    "Podemos usar `T de Student` para:\n",
    "- Calcular probabilidades\n",
    "- Calcular Intervalos de Confiança\n",
    "- Executar testes de Hipótese"
   ]
  },
  {
   "cell_type": "markdown",
   "metadata": {},
   "source": [
    "Como usar a tabela T de Student:\n",
    "1. Calculamos o valor T\n",
    "1. Consultamos a tabela de distribuição t ou\n",
    "1. Usamos o Python para calcular a probabilidade"
   ]
  },
  {
   "cell_type": "markdown",
   "metadata": {},
   "source": [
    "Exemplo: Uma pesquisa mostra que cientista de dados ganham 75.00 por hora, Uma amostra de 9 cientistas é selecionado e perguntado o salário.<br>\n",
    "O desvio padrão da amostra é 10. Qual a probabilidade do salário ser menor que 80.00 a hora?<br>\n",
    "*Obs.: Não se conhece o desvio padrão e n < 30* <br><br>\n",
    "$\\mathbf{U}_0$ = 75 (média da população)<br>\n",
    "S = 10 (desvio padrão da amostra)<br>\n",
    "n = 9 (tamanho da amostra)<br>\n",
    "$\\mathbf{t}_0$ = 8 (graus de liberdade)<br>"
   ]
  },
  {
   "cell_type": "markdown",
   "metadata": {},
   "source": [
    "t = $\\frac{\\overline{X} - \\mathbf{U}_0}{\\frac{S}{\\sqrt{N}}}$ <br><br>\n",
    "t = $\\frac{80-75}{\\frac{10}{\\sqrt{9}}}$ <br><br>\n",
    "t = $\\frac{5}{\\frac{10}{3}}$ <br><br>\n",
    "t = 1,5"
   ]
  },
  {
   "cell_type": "markdown",
   "metadata": {},
   "source": [
    "### Alterando o ExemplO"
   ]
  },
  {
   "cell_type": "markdown",
   "metadata": {},
   "source": [
    "Exemplo: Uma pesquisa mostra que cientista de dados ganham 75.00 por hora, Uma amostra de 9 cientistas é selecionado e perguntado o salário.<br>\n",
    "O desvio padrão da amostra é 10. Qual a probabilidade do salário ser menor que 80.00 a hora?<br>\n",
    "*Obs.: Não se conhece o desvio padrão e n < 30* <br><br>\n",
    "$\\mathbf{U}_0$ = 75 (média da população)<br>\n",
    "S = 10 (desvio padrão da amostra)<br>\n",
    "n = 9 (tamanho da amostra)<br>\n",
    "$\\mathbf{t}_0$ = 8 (graus de liberdade)<br>"
   ]
  },
  {
   "cell_type": "markdown",
   "metadata": {},
   "source": [
    "t = $\\frac{\\overline{X} - \\mathbf{U}_0}{\\frac{S}{\\sqrt{N}}}$ <br><br>\n",
    "t = 1,5<br>\n",
    "P = 1 - 0,91<br>\n",
    "P = 0,086\n",
    "P = 8,6%"
   ]
  },
  {
   "cell_type": "markdown",
   "metadata": {},
   "source": [
    "## Utilizando Python"
   ]
  },
  {
   "cell_type": "code",
   "execution_count": 2,
   "metadata": {},
   "outputs": [],
   "source": [
    "from scipy.stats import t # de T de Students"
   ]
  },
  {
   "cell_type": "code",
   "execution_count": 11,
   "metadata": {},
   "outputs": [],
   "source": [
    "# Média de salário dos cientistas de dados = R$ 75,00 por hora\n",
    "# Amostra com 9 funcionários e desvio padrão = 10\n",
    "\n",
    "# Qual a probabilidade de selecionar um cientista de dados e o salário \n",
    "# ser menor que R$ 80 por hora"
   ]
  },
  {
   "cell_type": "markdown",
   "metadata": {},
   "source": [
    "cdf() -> `Menor que`<br>\n",
    "sf() -> `Maior que`"
   ]
  },
  {
   "cell_type": "code",
   "execution_count": 4,
   "metadata": {},
   "outputs": [
    {
     "data": {
      "text/plain": [
       "0.9139983540240443"
      ]
     },
     "execution_count": 4,
     "metadata": {},
     "output_type": "execute_result"
    }
   ],
   "source": [
    "t.cdf(1.5, 8) # valor "
   ]
  },
  {
   "cell_type": "code",
   "execution_count": 5,
   "metadata": {},
   "outputs": [],
   "source": [
    "# Qual a probabilidade do salário ser maior que R$ 80?"
   ]
  },
  {
   "cell_type": "code",
   "execution_count": 8,
   "metadata": {},
   "outputs": [
    {
     "data": {
      "text/plain": [
       "8.600164597595565"
      ]
     },
     "execution_count": 8,
     "metadata": {},
     "output_type": "execute_result"
    }
   ],
   "source": [
    "t.sf(1.5, 8) * 100"
   ]
  },
  {
   "cell_type": "code",
   "execution_count": 9,
   "metadata": {},
   "outputs": [
    {
     "data": {
      "text/plain": [
       "0.9999999999999999"
      ]
     },
     "execution_count": 9,
     "metadata": {},
     "output_type": "execute_result"
    }
   ],
   "source": [
    "t.cdf(1.5, 8) + t.sf(1.5, 8)"
   ]
  },
  {
   "cell_type": "code",
   "execution_count": 10,
   "metadata": {},
   "outputs": [
    {
     "data": {
      "text/plain": [
       "0.08600164597595572"
      ]
     },
     "execution_count": 10,
     "metadata": {},
     "output_type": "execute_result"
    }
   ],
   "source": [
    "1 - t.cdf(1.5, 8)"
   ]
  },
  {
   "cell_type": "markdown",
   "metadata": {},
   "source": [
    "Exercícios"
   ]
  },
  {
   "cell_type": "code",
   "execution_count": 15,
   "metadata": {},
   "outputs": [],
   "source": [
    "import numpy as np"
   ]
  },
  {
   "cell_type": "code",
   "execution_count": 16,
   "metadata": {},
   "outputs": [
    {
     "data": {
      "text/plain": [
       "[22, 10, 12, 14, 13, 15]"
      ]
     },
     "execution_count": 16,
     "metadata": {},
     "output_type": "execute_result"
    }
   ],
   "source": [
    "a = [22,10,12,14,13,15]\n",
    "a"
   ]
  },
  {
   "cell_type": "code",
   "execution_count": 17,
   "metadata": {},
   "outputs": [
    {
     "data": {
      "text/plain": [
       "13.5"
      ]
     },
     "execution_count": 17,
     "metadata": {},
     "output_type": "execute_result"
    }
   ],
   "source": [
    "np.median(a)"
   ]
  },
  {
   "cell_type": "code",
   "execution_count": 18,
   "metadata": {},
   "outputs": [],
   "source": [
    "from scipy.stats import binom"
   ]
  },
  {
   "cell_type": "code",
   "execution_count": 20,
   "metadata": {},
   "outputs": [
    {
     "data": {
      "text/plain": [
       "0.04394531249999999"
      ]
     },
     "execution_count": 20,
     "metadata": {},
     "output_type": "execute_result"
    }
   ],
   "source": [
    "binom.pmf(8, 10, 0.5)"
   ]
  },
  {
   "cell_type": "code",
   "execution_count": 21,
   "metadata": {},
   "outputs": [],
   "source": [
    "from scipy.stats import norm"
   ]
  },
  {
   "cell_type": "code",
   "execution_count": 23,
   "metadata": {},
   "outputs": [
    {
     "data": {
      "text/plain": [
       "69.87585599335601"
      ]
     },
     "execution_count": 23,
     "metadata": {},
     "output_type": "execute_result"
    }
   ],
   "source": [
    "norm.cdf(1500, 1250, 480) * 100"
   ]
  },
  {
   "cell_type": "code",
   "execution_count": null,
   "metadata": {},
   "outputs": [],
   "source": []
  }
 ],
 "metadata": {
  "kernelspec": {
   "display_name": "Python 3",
   "language": "python",
   "name": "python3"
  },
  "language_info": {
   "codemirror_mode": {
    "name": "ipython",
    "version": 3
   },
   "file_extension": ".py",
   "mimetype": "text/x-python",
   "name": "python",
   "nbconvert_exporter": "python",
   "pygments_lexer": "ipython3",
   "version": "3.7.3"
  }
 },
 "nbformat": 4,
 "nbformat_minor": 2
}
