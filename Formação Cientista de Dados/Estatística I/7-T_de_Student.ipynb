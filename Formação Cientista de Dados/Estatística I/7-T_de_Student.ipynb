{
 "cells": [
  {
   "cell_type": "markdown",
   "metadata": {},
   "source": [
    "# T de Student"
   ]
  },
  {
   "cell_type": "markdown",
   "metadata": {},
   "source": [
    "Utilizada quando a amostra é pequena ***(menor que 30)*** <br>\n",
    "Se for ***maior que 30*** então usaremos a ***distribuição normal***<br>\n",
    "E também não se conhece o desvio padrão da população <br>\n",
    "- **Custo**: Maior variabilidade (por exemplo, em um teste de hipótese)"
   ]
  },
  {
   "cell_type": "markdown",
   "metadata": {},
   "source": [
    "- Tendência maior de encontrar valores nas caudas (caudas maiores)\n",
    "- Se n >= 30, se assemelha a uma ***distribuição normal***"
   ]
  },
  {
   "cell_type": "markdown",
   "metadata": {},
   "source": [
    "Grau de liberdade: Corresponde ao tamanho da amostra menos 1 (n - 1) <br>\n",
    "Se n=15, t=14"
   ]
  },
  {
   "cell_type": "markdown",
   "metadata": {},
   "source": [
    "Podemos usar `T de Student` para:\n",
    "- Calcular probabilidades\n",
    "- Calcular Intervalos de Confiança\n",
    "- Executar testes de Hipótese"
   ]
  },
  {
   "cell_type": "markdown",
   "metadata": {},
   "source": [
    "Como usar a tabela T de Student:\n",
    "1. Calculamos o valor T\n",
    "1. Consultamos a tabela de distribuição t ou\n",
    "1. Usamos o Python para calcular a probabilidade"
   ]
  },
  {
   "cell_type": "markdown",
   "metadata": {},
   "source": [
    "Exemplo: Uma pesquisa mostra que cientista de dados ganham 75.00 por hora, Uma amostra de 9 cientistas é selecionado e perguntado o salário.<br>\n",
    "O desvio padrão da amostra é 10. Qual a probabilidade do salário ser menor que 80.00 a hora?<br>\n",
    "*Obs.: Não se conhece o desvio padrão e n < 30* <br><br>\n",
    "$\\mathbf{U}_0$ = 75 (média da população)<br>\n",
    "S = 10 (desvio padrão da amostra)<br>\n",
    "n = 0 (tamanho da amostra)<br>\n",
    "$\\mathbf{t}_0$ = 8 (graus de liberdade)<br>"
   ]
  },
  {
   "cell_type": "markdown",
   "metadata": {},
   "source": [
    "t = $\\frac{\\overline{X} - \\mathbf{U}_0}{\\frac{S}{\\sqrt{N}}}$ <br><br>\n",
    "t = $\\frac{80-75}{\\frac{10}{\\sqrt{9}}}$ <br><br>\n",
    "t = $\\frac{5}{\\frac{10}{3}}$ <br><br>\n",
    "t = 1,5"
   ]
  },
  {
   "cell_type": "code",
   "execution_count": null,
   "metadata": {},
   "outputs": [],
   "source": []
  }
 ],
 "metadata": {
  "kernelspec": {
   "display_name": "Python 3",
   "language": "python",
   "name": "python3"
  },
  "language_info": {
   "codemirror_mode": {
    "name": "ipython",
    "version": 3
   },
   "file_extension": ".py",
   "mimetype": "text/x-python",
   "name": "python",
   "nbconvert_exporter": "python",
   "pygments_lexer": "ipython3",
   "version": "3.7.3"
  }
 },
 "nbformat": 4,
 "nbformat_minor": 2
}
