{
  "cells": [
    {
      "metadata": {
        "trusted": false
      },
      "cell_type": "code",
      "source": "import pandas as pd\nimport numpy as np",
      "execution_count": 1,
      "outputs": []
    },
    {
      "metadata": {
        "trusted": false
      },
      "cell_type": "code",
      "source": "file = 'Diarias.csv'\ndiarias = pd.read_csv(file, sep='\\t')\ndiarias.head()",
      "execution_count": 2,
      "outputs": [
        {
          "ename": "UnicodeDecodeError",
          "evalue": "'utf-8' codec can't decode byte 0xf3 in position 1: invalid continuation byte",
          "output_type": "error",
          "traceback": [
            "\u001b[1;31m---------------------------------------------------------------------------\u001b[0m",
            "\u001b[1;31mUnicodeDecodeError\u001b[0m                        Traceback (most recent call last)",
            "\u001b[1;32m<ipython-input-2-82b62b52b1f7>\u001b[0m in \u001b[0;36m<module>\u001b[1;34m\u001b[0m\n\u001b[0;32m      1\u001b[0m \u001b[0mfile\u001b[0m \u001b[1;33m=\u001b[0m \u001b[1;34m'Diarias.csv'\u001b[0m\u001b[1;33m\u001b[0m\u001b[1;33m\u001b[0m\u001b[0m\n\u001b[1;32m----> 2\u001b[1;33m \u001b[0mdiarias\u001b[0m \u001b[1;33m=\u001b[0m \u001b[0mpd\u001b[0m\u001b[1;33m.\u001b[0m\u001b[0mread_csv\u001b[0m\u001b[1;33m(\u001b[0m\u001b[0mfile\u001b[0m\u001b[1;33m,\u001b[0m \u001b[0msep\u001b[0m\u001b[1;33m=\u001b[0m\u001b[1;34m'\\t'\u001b[0m\u001b[1;33m)\u001b[0m\u001b[1;33m\u001b[0m\u001b[1;33m\u001b[0m\u001b[0m\n\u001b[0m\u001b[0;32m      3\u001b[0m \u001b[0mdiarias\u001b[0m\u001b[1;33m.\u001b[0m\u001b[0mhead\u001b[0m\u001b[1;33m(\u001b[0m\u001b[1;33m)\u001b[0m\u001b[1;33m\u001b[0m\u001b[1;33m\u001b[0m\u001b[0m\n",
            "\u001b[1;32mE:\\Anaconda3\\lib\\site-packages\\pandas\\io\\parsers.py\u001b[0m in \u001b[0;36mparser_f\u001b[1;34m(filepath_or_buffer, sep, delimiter, header, names, index_col, usecols, squeeze, prefix, mangle_dupe_cols, dtype, engine, converters, true_values, false_values, skipinitialspace, skiprows, skipfooter, nrows, na_values, keep_default_na, na_filter, verbose, skip_blank_lines, parse_dates, infer_datetime_format, keep_date_col, date_parser, dayfirst, iterator, chunksize, compression, thousands, decimal, lineterminator, quotechar, quoting, doublequote, escapechar, comment, encoding, dialect, tupleize_cols, error_bad_lines, warn_bad_lines, delim_whitespace, low_memory, memory_map, float_precision)\u001b[0m\n\u001b[0;32m    700\u001b[0m                     skip_blank_lines=skip_blank_lines)\n\u001b[0;32m    701\u001b[0m \u001b[1;33m\u001b[0m\u001b[0m\n\u001b[1;32m--> 702\u001b[1;33m         \u001b[1;32mreturn\u001b[0m \u001b[0m_read\u001b[0m\u001b[1;33m(\u001b[0m\u001b[0mfilepath_or_buffer\u001b[0m\u001b[1;33m,\u001b[0m \u001b[0mkwds\u001b[0m\u001b[1;33m)\u001b[0m\u001b[1;33m\u001b[0m\u001b[1;33m\u001b[0m\u001b[0m\n\u001b[0m\u001b[0;32m    703\u001b[0m \u001b[1;33m\u001b[0m\u001b[0m\n\u001b[0;32m    704\u001b[0m     \u001b[0mparser_f\u001b[0m\u001b[1;33m.\u001b[0m\u001b[0m__name__\u001b[0m \u001b[1;33m=\u001b[0m \u001b[0mname\u001b[0m\u001b[1;33m\u001b[0m\u001b[1;33m\u001b[0m\u001b[0m\n",
            "\u001b[1;32mE:\\Anaconda3\\lib\\site-packages\\pandas\\io\\parsers.py\u001b[0m in \u001b[0;36m_read\u001b[1;34m(filepath_or_buffer, kwds)\u001b[0m\n\u001b[0;32m    427\u001b[0m \u001b[1;33m\u001b[0m\u001b[0m\n\u001b[0;32m    428\u001b[0m     \u001b[1;31m# Create the parser.\u001b[0m\u001b[1;33m\u001b[0m\u001b[1;33m\u001b[0m\u001b[1;33m\u001b[0m\u001b[0m\n\u001b[1;32m--> 429\u001b[1;33m     \u001b[0mparser\u001b[0m \u001b[1;33m=\u001b[0m \u001b[0mTextFileReader\u001b[0m\u001b[1;33m(\u001b[0m\u001b[0mfilepath_or_buffer\u001b[0m\u001b[1;33m,\u001b[0m \u001b[1;33m**\u001b[0m\u001b[0mkwds\u001b[0m\u001b[1;33m)\u001b[0m\u001b[1;33m\u001b[0m\u001b[1;33m\u001b[0m\u001b[0m\n\u001b[0m\u001b[0;32m    430\u001b[0m \u001b[1;33m\u001b[0m\u001b[0m\n\u001b[0;32m    431\u001b[0m     \u001b[1;32mif\u001b[0m \u001b[0mchunksize\u001b[0m \u001b[1;32mor\u001b[0m \u001b[0miterator\u001b[0m\u001b[1;33m:\u001b[0m\u001b[1;33m\u001b[0m\u001b[1;33m\u001b[0m\u001b[0m\n",
            "\u001b[1;32mE:\\Anaconda3\\lib\\site-packages\\pandas\\io\\parsers.py\u001b[0m in \u001b[0;36m__init__\u001b[1;34m(self, f, engine, **kwds)\u001b[0m\n\u001b[0;32m    893\u001b[0m             \u001b[0mself\u001b[0m\u001b[1;33m.\u001b[0m\u001b[0moptions\u001b[0m\u001b[1;33m[\u001b[0m\u001b[1;34m'has_index_names'\u001b[0m\u001b[1;33m]\u001b[0m \u001b[1;33m=\u001b[0m \u001b[0mkwds\u001b[0m\u001b[1;33m[\u001b[0m\u001b[1;34m'has_index_names'\u001b[0m\u001b[1;33m]\u001b[0m\u001b[1;33m\u001b[0m\u001b[1;33m\u001b[0m\u001b[0m\n\u001b[0;32m    894\u001b[0m \u001b[1;33m\u001b[0m\u001b[0m\n\u001b[1;32m--> 895\u001b[1;33m         \u001b[0mself\u001b[0m\u001b[1;33m.\u001b[0m\u001b[0m_make_engine\u001b[0m\u001b[1;33m(\u001b[0m\u001b[0mself\u001b[0m\u001b[1;33m.\u001b[0m\u001b[0mengine\u001b[0m\u001b[1;33m)\u001b[0m\u001b[1;33m\u001b[0m\u001b[1;33m\u001b[0m\u001b[0m\n\u001b[0m\u001b[0;32m    896\u001b[0m \u001b[1;33m\u001b[0m\u001b[0m\n\u001b[0;32m    897\u001b[0m     \u001b[1;32mdef\u001b[0m \u001b[0mclose\u001b[0m\u001b[1;33m(\u001b[0m\u001b[0mself\u001b[0m\u001b[1;33m)\u001b[0m\u001b[1;33m:\u001b[0m\u001b[1;33m\u001b[0m\u001b[1;33m\u001b[0m\u001b[0m\n",
            "\u001b[1;32mE:\\Anaconda3\\lib\\site-packages\\pandas\\io\\parsers.py\u001b[0m in \u001b[0;36m_make_engine\u001b[1;34m(self, engine)\u001b[0m\n\u001b[0;32m   1120\u001b[0m     \u001b[1;32mdef\u001b[0m \u001b[0m_make_engine\u001b[0m\u001b[1;33m(\u001b[0m\u001b[0mself\u001b[0m\u001b[1;33m,\u001b[0m \u001b[0mengine\u001b[0m\u001b[1;33m=\u001b[0m\u001b[1;34m'c'\u001b[0m\u001b[1;33m)\u001b[0m\u001b[1;33m:\u001b[0m\u001b[1;33m\u001b[0m\u001b[1;33m\u001b[0m\u001b[0m\n\u001b[0;32m   1121\u001b[0m         \u001b[1;32mif\u001b[0m \u001b[0mengine\u001b[0m \u001b[1;33m==\u001b[0m \u001b[1;34m'c'\u001b[0m\u001b[1;33m:\u001b[0m\u001b[1;33m\u001b[0m\u001b[1;33m\u001b[0m\u001b[0m\n\u001b[1;32m-> 1122\u001b[1;33m             \u001b[0mself\u001b[0m\u001b[1;33m.\u001b[0m\u001b[0m_engine\u001b[0m \u001b[1;33m=\u001b[0m \u001b[0mCParserWrapper\u001b[0m\u001b[1;33m(\u001b[0m\u001b[0mself\u001b[0m\u001b[1;33m.\u001b[0m\u001b[0mf\u001b[0m\u001b[1;33m,\u001b[0m \u001b[1;33m**\u001b[0m\u001b[0mself\u001b[0m\u001b[1;33m.\u001b[0m\u001b[0moptions\u001b[0m\u001b[1;33m)\u001b[0m\u001b[1;33m\u001b[0m\u001b[1;33m\u001b[0m\u001b[0m\n\u001b[0m\u001b[0;32m   1123\u001b[0m         \u001b[1;32melse\u001b[0m\u001b[1;33m:\u001b[0m\u001b[1;33m\u001b[0m\u001b[1;33m\u001b[0m\u001b[0m\n\u001b[0;32m   1124\u001b[0m             \u001b[1;32mif\u001b[0m \u001b[0mengine\u001b[0m \u001b[1;33m==\u001b[0m \u001b[1;34m'python'\u001b[0m\u001b[1;33m:\u001b[0m\u001b[1;33m\u001b[0m\u001b[1;33m\u001b[0m\u001b[0m\n",
            "\u001b[1;32mE:\\Anaconda3\\lib\\site-packages\\pandas\\io\\parsers.py\u001b[0m in \u001b[0;36m__init__\u001b[1;34m(self, src, **kwds)\u001b[0m\n\u001b[0;32m   1851\u001b[0m         \u001b[0mkwds\u001b[0m\u001b[1;33m[\u001b[0m\u001b[1;34m'usecols'\u001b[0m\u001b[1;33m]\u001b[0m \u001b[1;33m=\u001b[0m \u001b[0mself\u001b[0m\u001b[1;33m.\u001b[0m\u001b[0musecols\u001b[0m\u001b[1;33m\u001b[0m\u001b[1;33m\u001b[0m\u001b[0m\n\u001b[0;32m   1852\u001b[0m \u001b[1;33m\u001b[0m\u001b[0m\n\u001b[1;32m-> 1853\u001b[1;33m         \u001b[0mself\u001b[0m\u001b[1;33m.\u001b[0m\u001b[0m_reader\u001b[0m \u001b[1;33m=\u001b[0m \u001b[0mparsers\u001b[0m\u001b[1;33m.\u001b[0m\u001b[0mTextReader\u001b[0m\u001b[1;33m(\u001b[0m\u001b[0msrc\u001b[0m\u001b[1;33m,\u001b[0m \u001b[1;33m**\u001b[0m\u001b[0mkwds\u001b[0m\u001b[1;33m)\u001b[0m\u001b[1;33m\u001b[0m\u001b[1;33m\u001b[0m\u001b[0m\n\u001b[0m\u001b[0;32m   1854\u001b[0m         \u001b[0mself\u001b[0m\u001b[1;33m.\u001b[0m\u001b[0munnamed_cols\u001b[0m \u001b[1;33m=\u001b[0m \u001b[0mself\u001b[0m\u001b[1;33m.\u001b[0m\u001b[0m_reader\u001b[0m\u001b[1;33m.\u001b[0m\u001b[0munnamed_cols\u001b[0m\u001b[1;33m\u001b[0m\u001b[1;33m\u001b[0m\u001b[0m\n\u001b[0;32m   1855\u001b[0m \u001b[1;33m\u001b[0m\u001b[0m\n",
            "\u001b[1;32mpandas/_libs/parsers.pyx\u001b[0m in \u001b[0;36mpandas._libs.parsers.TextReader.__cinit__\u001b[1;34m()\u001b[0m\n",
            "\u001b[1;32mpandas/_libs/parsers.pyx\u001b[0m in \u001b[0;36mpandas._libs.parsers.TextReader._get_header\u001b[1;34m()\u001b[0m\n",
            "\u001b[1;31mUnicodeDecodeError\u001b[0m: 'utf-8' codec can't decode byte 0xf3 in position 1: invalid continuation byte"
          ]
        }
      ]
    },
    {
      "metadata": {
        "trusted": false
      },
      "cell_type": "code",
      "source": "# latin-1 corresponde ao erro utf-8 no csv quando tentamos ler um arquivo que tenha acentuação.\ndiarias = pd.read_csv('Diarias.csv', encoding='latin-1', sep='\\t')\ndiarias.head()",
      "execution_count": 3,
      "outputs": [
        {
          "data": {
            "text/html": "<div>\n<style scoped>\n    .dataframe tbody tr th:only-of-type {\n        vertical-align: middle;\n    }\n\n    .dataframe tbody tr th {\n        vertical-align: top;\n    }\n\n    .dataframe thead th {\n        text-align: right;\n    }\n</style>\n<table border=\"1\" class=\"dataframe\">\n  <thead>\n    <tr style=\"text-align: right;\">\n      <th></th>\n      <th>Código Órgão Superior</th>\n      <th>Nome Órgão Superior</th>\n      <th>Código Órgão Subordinado</th>\n      <th>Nome Órgão Subordinado</th>\n      <th>Código Unidade Gestora</th>\n      <th>Nome Unidade Gestora</th>\n      <th>Código Função</th>\n      <th>Nome Função</th>\n      <th>Código Subfunção</th>\n      <th>Nome Subunção</th>\n      <th>...</th>\n      <th>Nome Programa</th>\n      <th>Código Ação</th>\n      <th>Nome Ação</th>\n      <th>Linguagem Cidadã</th>\n      <th>CPF Favorecido</th>\n      <th>Nome Favorecido</th>\n      <th>Documento Pagamento</th>\n      <th>Gestão Pagamento</th>\n      <th>Data Pagamento</th>\n      <th>Valor Pagamento</th>\n    </tr>\n  </thead>\n  <tbody>\n    <tr>\n      <th>0</th>\n      <td>20000</td>\n      <td>PRESIDENCIA DA REPUBLICA</td>\n      <td>20101</td>\n      <td>PRESIDENCIA DA REPUBLICA</td>\n      <td>110001</td>\n      <td>SECRETARIA DE ADMINISTRACAO/PR</td>\n      <td>4</td>\n      <td>Administração</td>\n      <td>122</td>\n      <td>Administração Geral</td>\n      <td>...</td>\n      <td>Programa de Gestão e Manutenção da Presidência...</td>\n      <td>2000</td>\n      <td>Administração da Unidade</td>\n      <td>Administração de unidade</td>\n      <td>***.008.30*-**</td>\n      <td>HUMBERTO GUEDES CAMPELO</td>\n      <td>2017OB800780</td>\n      <td>1</td>\n      <td>06/02/2017</td>\n      <td>1263,20</td>\n    </tr>\n    <tr>\n      <th>1</th>\n      <td>20000</td>\n      <td>PRESIDENCIA DA REPUBLICA</td>\n      <td>20101</td>\n      <td>PRESIDENCIA DA REPUBLICA</td>\n      <td>110001</td>\n      <td>SECRETARIA DE ADMINISTRACAO/PR</td>\n      <td>4</td>\n      <td>Administração</td>\n      <td>122</td>\n      <td>Administração Geral</td>\n      <td>...</td>\n      <td>Programa de Gestão e Manutenção da Presidência...</td>\n      <td>2000</td>\n      <td>Administração da Unidade</td>\n      <td>Administração de unidade</td>\n      <td>***.008.30*-**</td>\n      <td>HUMBERTO GUEDES CAMPELO</td>\n      <td>2017OB800993</td>\n      <td>1</td>\n      <td>20/02/2017</td>\n      <td>2325,20</td>\n    </tr>\n    <tr>\n      <th>2</th>\n      <td>20000</td>\n      <td>PRESIDENCIA DA REPUBLICA</td>\n      <td>20101</td>\n      <td>PRESIDENCIA DA REPUBLICA</td>\n      <td>110001</td>\n      <td>SECRETARIA DE ADMINISTRACAO/PR</td>\n      <td>4</td>\n      <td>Administração</td>\n      <td>122</td>\n      <td>Administração Geral</td>\n      <td>...</td>\n      <td>Programa de Gestão e Manutenção da Presidência...</td>\n      <td>2000</td>\n      <td>Administração da Unidade</td>\n      <td>Administração de unidade</td>\n      <td>***.016.72*-**</td>\n      <td>ANTONIO JOSE DE SENA BOMFIM</td>\n      <td>2017OB800926</td>\n      <td>1</td>\n      <td>14/02/2017</td>\n      <td>300,20</td>\n    </tr>\n    <tr>\n      <th>3</th>\n      <td>20000</td>\n      <td>PRESIDENCIA DA REPUBLICA</td>\n      <td>20101</td>\n      <td>PRESIDENCIA DA REPUBLICA</td>\n      <td>110001</td>\n      <td>SECRETARIA DE ADMINISTRACAO/PR</td>\n      <td>4</td>\n      <td>Administração</td>\n      <td>122</td>\n      <td>Administração Geral</td>\n      <td>...</td>\n      <td>Programa de Gestão e Manutenção da Presidência...</td>\n      <td>2000</td>\n      <td>Administração da Unidade</td>\n      <td>Administração de unidade</td>\n      <td>***.029.67*-**</td>\n      <td>CINTIA MACEDO DE OLIVEIRA REBELO</td>\n      <td>2017OB800864</td>\n      <td>1</td>\n      <td>08/02/2017</td>\n      <td>344,72</td>\n    </tr>\n    <tr>\n      <th>4</th>\n      <td>20000</td>\n      <td>PRESIDENCIA DA REPUBLICA</td>\n      <td>20101</td>\n      <td>PRESIDENCIA DA REPUBLICA</td>\n      <td>110001</td>\n      <td>SECRETARIA DE ADMINISTRACAO/PR</td>\n      <td>4</td>\n      <td>Administração</td>\n      <td>122</td>\n      <td>Administração Geral</td>\n      <td>...</td>\n      <td>Programa de Gestão e Manutenção da Presidência...</td>\n      <td>2000</td>\n      <td>Administração da Unidade</td>\n      <td>Administração de unidade</td>\n      <td>***.037.81*-**</td>\n      <td>LEONARDO ALVES RANGEL</td>\n      <td>2017OB801015</td>\n      <td>1</td>\n      <td>21/02/2017</td>\n      <td>476,03</td>\n    </tr>\n  </tbody>\n</table>\n<p>5 rows × 21 columns</p>\n</div>",
            "text/plain": "   Código Órgão Superior       Nome Órgão Superior  Código Órgão Subordinado  \\\n0                  20000  PRESIDENCIA DA REPUBLICA                     20101   \n1                  20000  PRESIDENCIA DA REPUBLICA                     20101   \n2                  20000  PRESIDENCIA DA REPUBLICA                     20101   \n3                  20000  PRESIDENCIA DA REPUBLICA                     20101   \n4                  20000  PRESIDENCIA DA REPUBLICA                     20101   \n\n     Nome Órgão Subordinado  Código Unidade Gestora  \\\n0  PRESIDENCIA DA REPUBLICA                  110001   \n1  PRESIDENCIA DA REPUBLICA                  110001   \n2  PRESIDENCIA DA REPUBLICA                  110001   \n3  PRESIDENCIA DA REPUBLICA                  110001   \n4  PRESIDENCIA DA REPUBLICA                  110001   \n\n             Nome Unidade Gestora  Código Função    Nome Função  \\\n0  SECRETARIA DE ADMINISTRACAO/PR              4  Administração   \n1  SECRETARIA DE ADMINISTRACAO/PR              4  Administração   \n2  SECRETARIA DE ADMINISTRACAO/PR              4  Administração   \n3  SECRETARIA DE ADMINISTRACAO/PR              4  Administração   \n4  SECRETARIA DE ADMINISTRACAO/PR              4  Administração   \n\n   Código Subfunção        Nome Subunção  ...  \\\n0               122  Administração Geral  ...   \n1               122  Administração Geral  ...   \n2               122  Administração Geral  ...   \n3               122  Administração Geral  ...   \n4               122  Administração Geral  ...   \n\n                                       Nome Programa Código Ação  \\\n0  Programa de Gestão e Manutenção da Presidência...        2000   \n1  Programa de Gestão e Manutenção da Presidência...        2000   \n2  Programa de Gestão e Manutenção da Presidência...        2000   \n3  Programa de Gestão e Manutenção da Presidência...        2000   \n4  Programa de Gestão e Manutenção da Presidência...        2000   \n\n                  Nome Ação          Linguagem Cidadã  CPF Favorecido  \\\n0  Administração da Unidade  Administração de unidade  ***.008.30*-**   \n1  Administração da Unidade  Administração de unidade  ***.008.30*-**   \n2  Administração da Unidade  Administração de unidade  ***.016.72*-**   \n3  Administração da Unidade  Administração de unidade  ***.029.67*-**   \n4  Administração da Unidade  Administração de unidade  ***.037.81*-**   \n\n                    Nome Favorecido Documento Pagamento Gestão Pagamento  \\\n0           HUMBERTO GUEDES CAMPELO        2017OB800780                1   \n1           HUMBERTO GUEDES CAMPELO        2017OB800993                1   \n2       ANTONIO JOSE DE SENA BOMFIM        2017OB800926                1   \n3  CINTIA MACEDO DE OLIVEIRA REBELO        2017OB800864                1   \n4             LEONARDO ALVES RANGEL        2017OB801015                1   \n\n   Data Pagamento Valor Pagamento  \n0      06/02/2017         1263,20  \n1      20/02/2017         2325,20  \n2      14/02/2017          300,20  \n3      08/02/2017          344,72  \n4      21/02/2017          476,03  \n\n[5 rows x 21 columns]"
          },
          "execution_count": 3,
          "metadata": {},
          "output_type": "execute_result"
        }
      ]
    },
    {
      "metadata": {
        "trusted": false
      },
      "cell_type": "code",
      "source": "type(diarias)",
      "execution_count": 4,
      "outputs": [
        {
          "data": {
            "text/plain": "pandas.core.frame.DataFrame"
          },
          "execution_count": 4,
          "metadata": {},
          "output_type": "execute_result"
        }
      ]
    },
    {
      "metadata": {
        "trusted": false
      },
      "cell_type": "code",
      "source": "diarias.shape",
      "execution_count": 5,
      "outputs": [
        {
          "data": {
            "text/plain": "(38745, 21)"
          },
          "execution_count": 5,
          "metadata": {},
          "output_type": "execute_result"
        }
      ]
    },
    {
      "metadata": {
        "trusted": false
      },
      "cell_type": "code",
      "source": "diarias.dtypes",
      "execution_count": 9,
      "outputs": [
        {
          "data": {
            "text/plain": "Código Órgão Superior        int64\nNome Órgão Superior         object\nCódigo Órgão Subordinado     int64\nNome Órgão Subordinado      object\nCódigo Unidade Gestora       int64\nNome Unidade Gestora        object\nCódigo Função                int64\nNome Função                 object\nCódigo Subfunção             int64\nNome Subunção               object\nCódigo Programa              int64\nNome Programa               object\nCódigo Ação                 object\nNome Ação                   object\nLinguagem Cidadã            object\nCPF Favorecido              object\nNome Favorecido             object\nDocumento Pagamento         object\nGestão Pagamento             int64\nData Pagamento              object\nValor Pagamento             object\ndtype: object"
          },
          "execution_count": 9,
          "metadata": {},
          "output_type": "execute_result"
        }
      ]
    },
    {
      "metadata": {},
      "cell_type": "markdown",
      "source": "### Métodos (utilização de parênteses) são ações, enquanto propriedades (sem parênteses) são o que o DataFrame é"
    },
    {
      "metadata": {
        "scrolled": true,
        "trusted": false
      },
      "cell_type": "code",
      "source": "filmes = pd.read_csv('movies.csv')\nfilmes.head()",
      "execution_count": 11,
      "outputs": [
        {
          "data": {
            "text/html": "<div>\n<style scoped>\n    .dataframe tbody tr th:only-of-type {\n        vertical-align: middle;\n    }\n\n    .dataframe tbody tr th {\n        vertical-align: top;\n    }\n\n    .dataframe thead th {\n        text-align: right;\n    }\n</style>\n<table border=\"1\" class=\"dataframe\">\n  <thead>\n    <tr style=\"text-align: right;\">\n      <th></th>\n      <th>star rating</th>\n      <th>title</th>\n      <th>content rating</th>\n      <th>genre</th>\n      <th>duration</th>\n      <th>actors list</th>\n    </tr>\n  </thead>\n  <tbody>\n    <tr>\n      <th>0</th>\n      <td>9.3</td>\n      <td>The Shawshank Redemption</td>\n      <td>R</td>\n      <td>Crime</td>\n      <td>142</td>\n      <td>[u'Tim Robbins', u'Morgan Freeman', u'Bob Gunt...</td>\n    </tr>\n    <tr>\n      <th>1</th>\n      <td>9.2</td>\n      <td>The Godfather</td>\n      <td>R</td>\n      <td>Crime</td>\n      <td>175</td>\n      <td>[u'Marlon Brando', u'Al Pacino', u'James Caan']</td>\n    </tr>\n    <tr>\n      <th>2</th>\n      <td>9.1</td>\n      <td>The Godfather: Part II</td>\n      <td>R</td>\n      <td>Crime</td>\n      <td>200</td>\n      <td>[u'Al Pacino', u'Robert De Niro', u'Robert Duv...</td>\n    </tr>\n    <tr>\n      <th>3</th>\n      <td>9.0</td>\n      <td>The Dark Knight</td>\n      <td>PG-13</td>\n      <td>Action</td>\n      <td>152</td>\n      <td>[u'Christian Bale', u'Heath Ledger', u'Aaron E...</td>\n    </tr>\n    <tr>\n      <th>4</th>\n      <td>8.9</td>\n      <td>Pulp Fiction</td>\n      <td>R</td>\n      <td>Crime</td>\n      <td>154</td>\n      <td>[u'John Travolta', u'Uma Thurman', u'Samuel L....</td>\n    </tr>\n  </tbody>\n</table>\n</div>",
            "text/plain": "   star rating                     title content rating   genre  duration  \\\n0          9.3  The Shawshank Redemption              R   Crime       142   \n1          9.2             The Godfather              R   Crime       175   \n2          9.1    The Godfather: Part II              R   Crime       200   \n3          9.0           The Dark Knight          PG-13  Action       152   \n4          8.9              Pulp Fiction              R   Crime       154   \n\n                                         actors list  \n0  [u'Tim Robbins', u'Morgan Freeman', u'Bob Gunt...  \n1    [u'Marlon Brando', u'Al Pacino', u'James Caan']  \n2  [u'Al Pacino', u'Robert De Niro', u'Robert Duv...  \n3  [u'Christian Bale', u'Heath Ledger', u'Aaron E...  \n4  [u'John Travolta', u'Uma Thurman', u'Samuel L....  "
          },
          "execution_count": 11,
          "metadata": {},
          "output_type": "execute_result"
        }
      ]
    },
    {
      "metadata": {
        "trusted": false
      },
      "cell_type": "code",
      "source": "filmes.shape",
      "execution_count": 13,
      "outputs": [
        {
          "data": {
            "text/plain": "(979, 6)"
          },
          "execution_count": 13,
          "metadata": {},
          "output_type": "execute_result"
        }
      ]
    },
    {
      "metadata": {
        "trusted": false
      },
      "cell_type": "code",
      "source": "filmes.describe()",
      "execution_count": 12,
      "outputs": [
        {
          "data": {
            "text/html": "<div>\n<style scoped>\n    .dataframe tbody tr th:only-of-type {\n        vertical-align: middle;\n    }\n\n    .dataframe tbody tr th {\n        vertical-align: top;\n    }\n\n    .dataframe thead th {\n        text-align: right;\n    }\n</style>\n<table border=\"1\" class=\"dataframe\">\n  <thead>\n    <tr style=\"text-align: right;\">\n      <th></th>\n      <th>star rating</th>\n      <th>duration</th>\n    </tr>\n  </thead>\n  <tbody>\n    <tr>\n      <th>count</th>\n      <td>979.000000</td>\n      <td>979.000000</td>\n    </tr>\n    <tr>\n      <th>mean</th>\n      <td>7.889785</td>\n      <td>120.979571</td>\n    </tr>\n    <tr>\n      <th>std</th>\n      <td>0.336069</td>\n      <td>26.218010</td>\n    </tr>\n    <tr>\n      <th>min</th>\n      <td>7.400000</td>\n      <td>64.000000</td>\n    </tr>\n    <tr>\n      <th>25%</th>\n      <td>7.600000</td>\n      <td>102.000000</td>\n    </tr>\n    <tr>\n      <th>50%</th>\n      <td>7.800000</td>\n      <td>117.000000</td>\n    </tr>\n    <tr>\n      <th>75%</th>\n      <td>8.100000</td>\n      <td>134.000000</td>\n    </tr>\n    <tr>\n      <th>max</th>\n      <td>9.300000</td>\n      <td>242.000000</td>\n    </tr>\n  </tbody>\n</table>\n</div>",
            "text/plain": "       star rating    duration\ncount   979.000000  979.000000\nmean      7.889785  120.979571\nstd       0.336069   26.218010\nmin       7.400000   64.000000\n25%       7.600000  102.000000\n50%       7.800000  117.000000\n75%       8.100000  134.000000\nmax       9.300000  242.000000"
          },
          "execution_count": 12,
          "metadata": {},
          "output_type": "execute_result"
        }
      ]
    },
    {
      "metadata": {
        "trusted": false
      },
      "cell_type": "code",
      "source": "filmes.dtypes",
      "execution_count": 14,
      "outputs": [
        {
          "data": {
            "text/plain": "star rating       float64\ntitle              object\ncontent rating     object\ngenre              object\nduration            int64\nactors list        object\ndtype: object"
          },
          "execution_count": 14,
          "metadata": {},
          "output_type": "execute_result"
        }
      ]
    },
    {
      "metadata": {
        "trusted": false
      },
      "cell_type": "code",
      "source": "# Como verificar atributos e métodos\n# Métodos recebem argumentos\n# Atributos não tem argumentos",
      "execution_count": 15,
      "outputs": []
    },
    {
      "metadata": {
        "trusted": false
      },
      "cell_type": "code",
      "source": "# Faz a listagen das colunas do tipo object\nfilmes.describe(include=['object'])",
      "execution_count": 16,
      "outputs": [
        {
          "data": {
            "text/html": "<div>\n<style scoped>\n    .dataframe tbody tr th:only-of-type {\n        vertical-align: middle;\n    }\n\n    .dataframe tbody tr th {\n        vertical-align: top;\n    }\n\n    .dataframe thead th {\n        text-align: right;\n    }\n</style>\n<table border=\"1\" class=\"dataframe\">\n  <thead>\n    <tr style=\"text-align: right;\">\n      <th></th>\n      <th>title</th>\n      <th>content rating</th>\n      <th>genre</th>\n      <th>actors list</th>\n    </tr>\n  </thead>\n  <tbody>\n    <tr>\n      <th>count</th>\n      <td>979</td>\n      <td>976</td>\n      <td>979</td>\n      <td>979</td>\n    </tr>\n    <tr>\n      <th>unique</th>\n      <td>975</td>\n      <td>12</td>\n      <td>16</td>\n      <td>969</td>\n    </tr>\n    <tr>\n      <th>top</th>\n      <td>True Grit</td>\n      <td>R</td>\n      <td>Drama</td>\n      <td>[u'Daniel Radcliffe', u'Emma Watson', u'Rupert...</td>\n    </tr>\n    <tr>\n      <th>freq</th>\n      <td>2</td>\n      <td>460</td>\n      <td>278</td>\n      <td>6</td>\n    </tr>\n  </tbody>\n</table>\n</div>",
            "text/plain": "            title content rating  genre  \\\ncount         979            976    979   \nunique        975             12     16   \ntop     True Grit              R  Drama   \nfreq            2            460    278   \n\n                                              actors list  \ncount                                                 979  \nunique                                                969  \ntop     [u'Daniel Radcliffe', u'Emma Watson', u'Rupert...  \nfreq                                                    6  "
          },
          "execution_count": 16,
          "metadata": {},
          "output_type": "execute_result"
        }
      ]
    },
    {
      "metadata": {},
      "cell_type": "markdown",
      "source": "## Renomeando colunas no Pandas"
    },
    {
      "metadata": {
        "trusted": false
      },
      "cell_type": "code",
      "source": "filmes.columns",
      "execution_count": 18,
      "outputs": [
        {
          "data": {
            "text/plain": "Index(['star rating', 'title', 'content rating', 'genre', 'duration',\n       'actors list'],\n      dtype='object')"
          },
          "execution_count": 18,
          "metadata": {},
          "output_type": "execute_result"
        }
      ]
    },
    {
      "metadata": {
        "trusted": false
      },
      "cell_type": "code",
      "source": "filmes.rename(columns={'star rating': 'star_rating','content rating':'content_rating'})",
      "execution_count": 19,
      "outputs": [
        {
          "data": {
            "text/html": "<div>\n<style scoped>\n    .dataframe tbody tr th:only-of-type {\n        vertical-align: middle;\n    }\n\n    .dataframe tbody tr th {\n        vertical-align: top;\n    }\n\n    .dataframe thead th {\n        text-align: right;\n    }\n</style>\n<table border=\"1\" class=\"dataframe\">\n  <thead>\n    <tr style=\"text-align: right;\">\n      <th></th>\n      <th>star_rating</th>\n      <th>title</th>\n      <th>content_rating</th>\n      <th>genre</th>\n      <th>duration</th>\n      <th>actors list</th>\n    </tr>\n  </thead>\n  <tbody>\n    <tr>\n      <th>0</th>\n      <td>9.3</td>\n      <td>The Shawshank Redemption</td>\n      <td>R</td>\n      <td>Crime</td>\n      <td>142</td>\n      <td>[u'Tim Robbins', u'Morgan Freeman', u'Bob Gunt...</td>\n    </tr>\n    <tr>\n      <th>1</th>\n      <td>9.2</td>\n      <td>The Godfather</td>\n      <td>R</td>\n      <td>Crime</td>\n      <td>175</td>\n      <td>[u'Marlon Brando', u'Al Pacino', u'James Caan']</td>\n    </tr>\n    <tr>\n      <th>2</th>\n      <td>9.1</td>\n      <td>The Godfather: Part II</td>\n      <td>R</td>\n      <td>Crime</td>\n      <td>200</td>\n      <td>[u'Al Pacino', u'Robert De Niro', u'Robert Duv...</td>\n    </tr>\n    <tr>\n      <th>3</th>\n      <td>9.0</td>\n      <td>The Dark Knight</td>\n      <td>PG-13</td>\n      <td>Action</td>\n      <td>152</td>\n      <td>[u'Christian Bale', u'Heath Ledger', u'Aaron E...</td>\n    </tr>\n    <tr>\n      <th>4</th>\n      <td>8.9</td>\n      <td>Pulp Fiction</td>\n      <td>R</td>\n      <td>Crime</td>\n      <td>154</td>\n      <td>[u'John Travolta', u'Uma Thurman', u'Samuel L....</td>\n    </tr>\n    <tr>\n      <th>5</th>\n      <td>8.9</td>\n      <td>12 Angry Men</td>\n      <td>NOT RATED</td>\n      <td>Drama</td>\n      <td>96</td>\n      <td>[u'Henry Fonda', u'Lee J. Cobb', u'Martin Bals...</td>\n    </tr>\n    <tr>\n      <th>6</th>\n      <td>8.9</td>\n      <td>The Good, the Bad and the Ugly</td>\n      <td>NOT RATED</td>\n      <td>Western</td>\n      <td>161</td>\n      <td>[u'Clint Eastwood', u'Eli Wallach', u'Lee Van ...</td>\n    </tr>\n    <tr>\n      <th>7</th>\n      <td>8.9</td>\n      <td>The Lord of the Rings: The Return of the King</td>\n      <td>PG-13</td>\n      <td>Adventure</td>\n      <td>201</td>\n      <td>[u'Elijah Wood', u'Viggo Mortensen', u'Ian McK...</td>\n    </tr>\n    <tr>\n      <th>8</th>\n      <td>8.9</td>\n      <td>Schindler's List</td>\n      <td>R</td>\n      <td>Biography</td>\n      <td>195</td>\n      <td>[u'Liam Neeson', u'Ralph Fiennes', u'Ben Kings...</td>\n    </tr>\n    <tr>\n      <th>9</th>\n      <td>8.9</td>\n      <td>Fight Club</td>\n      <td>R</td>\n      <td>Drama</td>\n      <td>139</td>\n      <td>[u'Brad Pitt', u'Edward Norton', u'Helena Bonh...</td>\n    </tr>\n    <tr>\n      <th>10</th>\n      <td>8.8</td>\n      <td>The Lord of the Rings: The Fellowship of the Ring</td>\n      <td>PG-13</td>\n      <td>Adventure</td>\n      <td>178</td>\n      <td>[u'Elijah Wood', u'Ian McKellen', u'Orlando Bl...</td>\n    </tr>\n    <tr>\n      <th>11</th>\n      <td>8.8</td>\n      <td>Inception</td>\n      <td>PG-13</td>\n      <td>Action</td>\n      <td>148</td>\n      <td>[u'Leonardo DiCaprio', u'Joseph Gordon-Levitt'...</td>\n    </tr>\n    <tr>\n      <th>12</th>\n      <td>8.8</td>\n      <td>Star Wars: Episode V - The Empire Strikes Back</td>\n      <td>PG</td>\n      <td>Action</td>\n      <td>124</td>\n      <td>[u'Mark Hamill', u'Harrison Ford', u'Carrie Fi...</td>\n    </tr>\n    <tr>\n      <th>13</th>\n      <td>8.8</td>\n      <td>Forrest Gump</td>\n      <td>PG-13</td>\n      <td>Drama</td>\n      <td>142</td>\n      <td>[u'Tom Hanks', u'Robin Wright', u'Gary Sinise']</td>\n    </tr>\n    <tr>\n      <th>14</th>\n      <td>8.8</td>\n      <td>The Lord of the Rings: The Two Towers</td>\n      <td>PG-13</td>\n      <td>Adventure</td>\n      <td>179</td>\n      <td>[u'Elijah Wood', u'Ian McKellen', u'Viggo Mort...</td>\n    </tr>\n    <tr>\n      <th>15</th>\n      <td>8.7</td>\n      <td>Interstellar</td>\n      <td>PG-13</td>\n      <td>Adventure</td>\n      <td>169</td>\n      <td>[u'Matthew McConaughey', u'Anne Hathaway', u'J...</td>\n    </tr>\n    <tr>\n      <th>16</th>\n      <td>8.7</td>\n      <td>One Flew Over the Cuckoo's Nest</td>\n      <td>R</td>\n      <td>Drama</td>\n      <td>133</td>\n      <td>[u'Jack Nicholson', u'Louise Fletcher', u'Mich...</td>\n    </tr>\n    <tr>\n      <th>17</th>\n      <td>8.7</td>\n      <td>Seven Samurai</td>\n      <td>UNRATED</td>\n      <td>Drama</td>\n      <td>207</td>\n      <td>[u'Toshir\\xf4 Mifune', u'Takashi Shimura', u'K...</td>\n    </tr>\n    <tr>\n      <th>18</th>\n      <td>8.7</td>\n      <td>Goodfellas</td>\n      <td>R</td>\n      <td>Biography</td>\n      <td>146</td>\n      <td>[u'Robert De Niro', u'Ray Liotta', u'Joe Pesci']</td>\n    </tr>\n    <tr>\n      <th>19</th>\n      <td>8.7</td>\n      <td>Star Wars</td>\n      <td>PG</td>\n      <td>Action</td>\n      <td>121</td>\n      <td>[u'Mark Hamill', u'Harrison Ford', u'Carrie Fi...</td>\n    </tr>\n    <tr>\n      <th>20</th>\n      <td>8.7</td>\n      <td>The Matrix</td>\n      <td>R</td>\n      <td>Action</td>\n      <td>136</td>\n      <td>[u'Keanu Reeves', u'Laurence Fishburne', u'Car...</td>\n    </tr>\n    <tr>\n      <th>21</th>\n      <td>8.7</td>\n      <td>City of God</td>\n      <td>R</td>\n      <td>Crime</td>\n      <td>130</td>\n      <td>[u'Alexandre Rodrigues', u'Matheus Nachtergael...</td>\n    </tr>\n    <tr>\n      <th>22</th>\n      <td>8.7</td>\n      <td>It's a Wonderful Life</td>\n      <td>APPROVED</td>\n      <td>Drama</td>\n      <td>130</td>\n      <td>[u'James Stewart', u'Donna Reed', u'Lionel Bar...</td>\n    </tr>\n    <tr>\n      <th>23</th>\n      <td>8.7</td>\n      <td>The Usual Suspects</td>\n      <td>R</td>\n      <td>Crime</td>\n      <td>106</td>\n      <td>[u'Kevin Spacey', u'Gabriel Byrne', u'Chazz Pa...</td>\n    </tr>\n    <tr>\n      <th>24</th>\n      <td>8.7</td>\n      <td>Se7en</td>\n      <td>R</td>\n      <td>Drama</td>\n      <td>127</td>\n      <td>[u'Morgan Freeman', u'Brad Pitt', u'Kevin Spac...</td>\n    </tr>\n    <tr>\n      <th>25</th>\n      <td>8.6</td>\n      <td>Life Is Beautiful</td>\n      <td>PG-13</td>\n      <td>Comedy</td>\n      <td>116</td>\n      <td>[u'Roberto Benigni', u'Nicoletta Braschi', u'G...</td>\n    </tr>\n    <tr>\n      <th>26</th>\n      <td>8.6</td>\n      <td>Once Upon a Time in the West</td>\n      <td>PG-13</td>\n      <td>Western</td>\n      <td>175</td>\n      <td>[u'Henry Fonda', u'Charles Bronson', u'Claudia...</td>\n    </tr>\n    <tr>\n      <th>27</th>\n      <td>8.6</td>\n      <td>The Silence of the Lambs</td>\n      <td>R</td>\n      <td>Drama</td>\n      <td>118</td>\n      <td>[u'Jodie Foster', u'Anthony Hopkins', u'Lawren...</td>\n    </tr>\n    <tr>\n      <th>28</th>\n      <td>8.6</td>\n      <td>Leon: The Professional</td>\n      <td>R</td>\n      <td>Crime</td>\n      <td>110</td>\n      <td>[u'Jean Reno', u'Gary Oldman', u'Natalie Portm...</td>\n    </tr>\n    <tr>\n      <th>29</th>\n      <td>8.6</td>\n      <td>City Lights</td>\n      <td>PASSED</td>\n      <td>Comedy</td>\n      <td>87</td>\n      <td>[u'Charles Chaplin', u'Virginia Cherrill', u'F...</td>\n    </tr>\n    <tr>\n      <th>...</th>\n      <td>...</td>\n      <td>...</td>\n      <td>...</td>\n      <td>...</td>\n      <td>...</td>\n      <td>...</td>\n    </tr>\n    <tr>\n      <th>949</th>\n      <td>7.4</td>\n      <td>Home Alone</td>\n      <td>PG</td>\n      <td>Comedy</td>\n      <td>103</td>\n      <td>[u'Macaulay Culkin', u'Joe Pesci', u'Daniel St...</td>\n    </tr>\n    <tr>\n      <th>950</th>\n      <td>7.4</td>\n      <td>Bound</td>\n      <td>R</td>\n      <td>Crime</td>\n      <td>108</td>\n      <td>[u'Jennifer Tilly', u'Gina Gershon', u'Joe Pan...</td>\n    </tr>\n    <tr>\n      <th>951</th>\n      <td>7.4</td>\n      <td>Sleepy Hollow</td>\n      <td>R</td>\n      <td>Drama</td>\n      <td>105</td>\n      <td>[u'Johnny Depp', u'Christina Ricci', u'Miranda...</td>\n    </tr>\n    <tr>\n      <th>952</th>\n      <td>7.4</td>\n      <td>Pirate Radio</td>\n      <td>R</td>\n      <td>Comedy</td>\n      <td>117</td>\n      <td>[u'Philip Seymour Hoffman', u'Bill Nighy', u'N...</td>\n    </tr>\n    <tr>\n      <th>953</th>\n      <td>7.4</td>\n      <td>The NeverEnding Story</td>\n      <td>PG</td>\n      <td>Adventure</td>\n      <td>102</td>\n      <td>[u'Noah Hathaway', u'Barret Oliver', u'Tami St...</td>\n    </tr>\n    <tr>\n      <th>954</th>\n      <td>7.4</td>\n      <td>X-Men</td>\n      <td>PG-13</td>\n      <td>Action</td>\n      <td>104</td>\n      <td>[u'Patrick Stewart', u'Hugh Jackman', u'Ian Mc...</td>\n    </tr>\n    <tr>\n      <th>955</th>\n      <td>7.4</td>\n      <td>Zero Dark Thirty</td>\n      <td>R</td>\n      <td>Drama</td>\n      <td>157</td>\n      <td>[u'Jessica Chastain', u'Joel Edgerton', u'Chri...</td>\n    </tr>\n    <tr>\n      <th>956</th>\n      <td>7.4</td>\n      <td>Manhattan Murder Mystery</td>\n      <td>PG</td>\n      <td>Comedy</td>\n      <td>104</td>\n      <td>[u'Woody Allen', u'Diane Keaton', u'Jerry Adler']</td>\n    </tr>\n    <tr>\n      <th>957</th>\n      <td>7.4</td>\n      <td>National Lampoon's Vacation</td>\n      <td>R</td>\n      <td>Comedy</td>\n      <td>98</td>\n      <td>[u'Chevy Chase', u\"Beverly D'Angelo\", u'Imogen...</td>\n    </tr>\n    <tr>\n      <th>958</th>\n      <td>7.4</td>\n      <td>My Sister's Keeper</td>\n      <td>PG-13</td>\n      <td>Drama</td>\n      <td>109</td>\n      <td>[u'Cameron Diaz', u'Abigail Breslin', u'Alec B...</td>\n    </tr>\n    <tr>\n      <th>959</th>\n      <td>7.4</td>\n      <td>Deconstructing Harry</td>\n      <td>R</td>\n      <td>Comedy</td>\n      <td>96</td>\n      <td>[u'Woody Allen', u'Judy Davis', u'Julia Louis-...</td>\n    </tr>\n    <tr>\n      <th>960</th>\n      <td>7.4</td>\n      <td>The Way Way Back</td>\n      <td>PG-13</td>\n      <td>Comedy</td>\n      <td>103</td>\n      <td>[u'Steve Carell', u'Toni Collette', u'Allison ...</td>\n    </tr>\n    <tr>\n      <th>961</th>\n      <td>7.4</td>\n      <td>Capote</td>\n      <td>R</td>\n      <td>Biography</td>\n      <td>114</td>\n      <td>[u'Philip Seymour Hoffman', u'Clifton Collins ...</td>\n    </tr>\n    <tr>\n      <th>962</th>\n      <td>7.4</td>\n      <td>Driving Miss Daisy</td>\n      <td>PG</td>\n      <td>Comedy</td>\n      <td>99</td>\n      <td>[u'Morgan Freeman', u'Jessica Tandy', u'Dan Ay...</td>\n    </tr>\n    <tr>\n      <th>963</th>\n      <td>7.4</td>\n      <td>La Femme Nikita</td>\n      <td>R</td>\n      <td>Action</td>\n      <td>118</td>\n      <td>[u'Anne Parillaud', u'Marc Duret', u'Patrick F...</td>\n    </tr>\n    <tr>\n      <th>964</th>\n      <td>7.4</td>\n      <td>Lincoln</td>\n      <td>PG-13</td>\n      <td>Biography</td>\n      <td>150</td>\n      <td>[u'Daniel Day-Lewis', u'Sally Field', u'David ...</td>\n    </tr>\n    <tr>\n      <th>965</th>\n      <td>7.4</td>\n      <td>Limitless</td>\n      <td>PG-13</td>\n      <td>Mystery</td>\n      <td>105</td>\n      <td>[u'Bradley Cooper', u'Anna Friel', u'Abbie Cor...</td>\n    </tr>\n    <tr>\n      <th>966</th>\n      <td>7.4</td>\n      <td>The Simpsons Movie</td>\n      <td>PG-13</td>\n      <td>Animation</td>\n      <td>87</td>\n      <td>[u'Dan Castellaneta', u'Julie Kavner', u'Nancy...</td>\n    </tr>\n    <tr>\n      <th>967</th>\n      <td>7.4</td>\n      <td>The Rock</td>\n      <td>R</td>\n      <td>Action</td>\n      <td>136</td>\n      <td>[u'Sean Connery', u'Nicolas Cage', u'Ed Harris']</td>\n    </tr>\n    <tr>\n      <th>968</th>\n      <td>7.4</td>\n      <td>The English Patient</td>\n      <td>R</td>\n      <td>Drama</td>\n      <td>162</td>\n      <td>[u'Ralph Fiennes', u'Juliette Binoche', u'Will...</td>\n    </tr>\n    <tr>\n      <th>969</th>\n      <td>7.4</td>\n      <td>Law Abiding Citizen</td>\n      <td>R</td>\n      <td>Crime</td>\n      <td>109</td>\n      <td>[u'Gerard Butler', u'Jamie Foxx', u'Leslie Bibb']</td>\n    </tr>\n    <tr>\n      <th>970</th>\n      <td>7.4</td>\n      <td>Wonder Boys</td>\n      <td>R</td>\n      <td>Drama</td>\n      <td>107</td>\n      <td>[u'Michael Douglas', u'Tobey Maguire', u'Franc...</td>\n    </tr>\n    <tr>\n      <th>971</th>\n      <td>7.4</td>\n      <td>Death at a Funeral</td>\n      <td>R</td>\n      <td>Comedy</td>\n      <td>90</td>\n      <td>[u'Matthew Macfadyen', u'Peter Dinklage', u'Ew...</td>\n    </tr>\n    <tr>\n      <th>972</th>\n      <td>7.4</td>\n      <td>Blue Valentine</td>\n      <td>NC-17</td>\n      <td>Drama</td>\n      <td>112</td>\n      <td>[u'Ryan Gosling', u'Michelle Williams', u'John...</td>\n    </tr>\n    <tr>\n      <th>973</th>\n      <td>7.4</td>\n      <td>The Cider House Rules</td>\n      <td>PG-13</td>\n      <td>Drama</td>\n      <td>126</td>\n      <td>[u'Tobey Maguire', u'Charlize Theron', u'Micha...</td>\n    </tr>\n    <tr>\n      <th>974</th>\n      <td>7.4</td>\n      <td>Tootsie</td>\n      <td>PG</td>\n      <td>Comedy</td>\n      <td>116</td>\n      <td>[u'Dustin Hoffman', u'Jessica Lange', u'Teri G...</td>\n    </tr>\n    <tr>\n      <th>975</th>\n      <td>7.4</td>\n      <td>Back to the Future Part III</td>\n      <td>PG</td>\n      <td>Adventure</td>\n      <td>118</td>\n      <td>[u'Michael J. Fox', u'Christopher Lloyd', u'Ma...</td>\n    </tr>\n    <tr>\n      <th>976</th>\n      <td>7.4</td>\n      <td>Master and Commander: The Far Side of the World</td>\n      <td>PG-13</td>\n      <td>Action</td>\n      <td>138</td>\n      <td>[u'Russell Crowe', u'Paul Bettany', u'Billy Bo...</td>\n    </tr>\n    <tr>\n      <th>977</th>\n      <td>7.4</td>\n      <td>Poltergeist</td>\n      <td>PG</td>\n      <td>Horror</td>\n      <td>114</td>\n      <td>[u'JoBeth Williams', u\"Heather O'Rourke\", u'Cr...</td>\n    </tr>\n    <tr>\n      <th>978</th>\n      <td>7.4</td>\n      <td>Wall Street</td>\n      <td>R</td>\n      <td>Crime</td>\n      <td>126</td>\n      <td>[u'Charlie Sheen', u'Michael Douglas', u'Tamar...</td>\n    </tr>\n  </tbody>\n</table>\n<p>979 rows × 6 columns</p>\n</div>",
            "text/plain": "     star_rating                                              title  \\\n0            9.3                           The Shawshank Redemption   \n1            9.2                                      The Godfather   \n2            9.1                             The Godfather: Part II   \n3            9.0                                    The Dark Knight   \n4            8.9                                       Pulp Fiction   \n5            8.9                                       12 Angry Men   \n6            8.9                     The Good, the Bad and the Ugly   \n7            8.9      The Lord of the Rings: The Return of the King   \n8            8.9                                   Schindler's List   \n9            8.9                                         Fight Club   \n10           8.8  The Lord of the Rings: The Fellowship of the Ring   \n11           8.8                                          Inception   \n12           8.8     Star Wars: Episode V - The Empire Strikes Back   \n13           8.8                                       Forrest Gump   \n14           8.8              The Lord of the Rings: The Two Towers   \n15           8.7                                       Interstellar   \n16           8.7                    One Flew Over the Cuckoo's Nest   \n17           8.7                                      Seven Samurai   \n18           8.7                                         Goodfellas   \n19           8.7                                          Star Wars   \n20           8.7                                         The Matrix   \n21           8.7                                        City of God   \n22           8.7                              It's a Wonderful Life   \n23           8.7                                 The Usual Suspects   \n24           8.7                                              Se7en   \n25           8.6                                  Life Is Beautiful   \n26           8.6                       Once Upon a Time in the West   \n27           8.6                           The Silence of the Lambs   \n28           8.6                             Leon: The Professional   \n29           8.6                                        City Lights   \n..           ...                                                ...   \n949          7.4                                         Home Alone   \n950          7.4                                              Bound   \n951          7.4                                      Sleepy Hollow   \n952          7.4                                       Pirate Radio   \n953          7.4                              The NeverEnding Story   \n954          7.4                                              X-Men   \n955          7.4                                   Zero Dark Thirty   \n956          7.4                           Manhattan Murder Mystery   \n957          7.4                        National Lampoon's Vacation   \n958          7.4                                 My Sister's Keeper   \n959          7.4                               Deconstructing Harry   \n960          7.4                                   The Way Way Back   \n961          7.4                                             Capote   \n962          7.4                                 Driving Miss Daisy   \n963          7.4                                    La Femme Nikita   \n964          7.4                                            Lincoln   \n965          7.4                                          Limitless   \n966          7.4                                 The Simpsons Movie   \n967          7.4                                           The Rock   \n968          7.4                                The English Patient   \n969          7.4                                Law Abiding Citizen   \n970          7.4                                        Wonder Boys   \n971          7.4                                 Death at a Funeral   \n972          7.4                                     Blue Valentine   \n973          7.4                              The Cider House Rules   \n974          7.4                                            Tootsie   \n975          7.4                        Back to the Future Part III   \n976          7.4    Master and Commander: The Far Side of the World   \n977          7.4                                        Poltergeist   \n978          7.4                                        Wall Street   \n\n    content_rating      genre  duration  \\\n0                R      Crime       142   \n1                R      Crime       175   \n2                R      Crime       200   \n3            PG-13     Action       152   \n4                R      Crime       154   \n5        NOT RATED      Drama        96   \n6        NOT RATED    Western       161   \n7            PG-13  Adventure       201   \n8                R  Biography       195   \n9                R      Drama       139   \n10           PG-13  Adventure       178   \n11           PG-13     Action       148   \n12              PG     Action       124   \n13           PG-13      Drama       142   \n14           PG-13  Adventure       179   \n15           PG-13  Adventure       169   \n16               R      Drama       133   \n17         UNRATED      Drama       207   \n18               R  Biography       146   \n19              PG     Action       121   \n20               R     Action       136   \n21               R      Crime       130   \n22        APPROVED      Drama       130   \n23               R      Crime       106   \n24               R      Drama       127   \n25           PG-13     Comedy       116   \n26           PG-13    Western       175   \n27               R      Drama       118   \n28               R      Crime       110   \n29          PASSED     Comedy        87   \n..             ...        ...       ...   \n949             PG     Comedy       103   \n950              R      Crime       108   \n951              R      Drama       105   \n952              R     Comedy       117   \n953             PG  Adventure       102   \n954          PG-13     Action       104   \n955              R      Drama       157   \n956             PG     Comedy       104   \n957              R     Comedy        98   \n958          PG-13      Drama       109   \n959              R     Comedy        96   \n960          PG-13     Comedy       103   \n961              R  Biography       114   \n962             PG     Comedy        99   \n963              R     Action       118   \n964          PG-13  Biography       150   \n965          PG-13    Mystery       105   \n966          PG-13  Animation        87   \n967              R     Action       136   \n968              R      Drama       162   \n969              R      Crime       109   \n970              R      Drama       107   \n971              R     Comedy        90   \n972          NC-17      Drama       112   \n973          PG-13      Drama       126   \n974             PG     Comedy       116   \n975             PG  Adventure       118   \n976          PG-13     Action       138   \n977             PG     Horror       114   \n978              R      Crime       126   \n\n                                           actors list  \n0    [u'Tim Robbins', u'Morgan Freeman', u'Bob Gunt...  \n1      [u'Marlon Brando', u'Al Pacino', u'James Caan']  \n2    [u'Al Pacino', u'Robert De Niro', u'Robert Duv...  \n3    [u'Christian Bale', u'Heath Ledger', u'Aaron E...  \n4    [u'John Travolta', u'Uma Thurman', u'Samuel L....  \n5    [u'Henry Fonda', u'Lee J. Cobb', u'Martin Bals...  \n6    [u'Clint Eastwood', u'Eli Wallach', u'Lee Van ...  \n7    [u'Elijah Wood', u'Viggo Mortensen', u'Ian McK...  \n8    [u'Liam Neeson', u'Ralph Fiennes', u'Ben Kings...  \n9    [u'Brad Pitt', u'Edward Norton', u'Helena Bonh...  \n10   [u'Elijah Wood', u'Ian McKellen', u'Orlando Bl...  \n11   [u'Leonardo DiCaprio', u'Joseph Gordon-Levitt'...  \n12   [u'Mark Hamill', u'Harrison Ford', u'Carrie Fi...  \n13     [u'Tom Hanks', u'Robin Wright', u'Gary Sinise']  \n14   [u'Elijah Wood', u'Ian McKellen', u'Viggo Mort...  \n15   [u'Matthew McConaughey', u'Anne Hathaway', u'J...  \n16   [u'Jack Nicholson', u'Louise Fletcher', u'Mich...  \n17   [u'Toshir\\xf4 Mifune', u'Takashi Shimura', u'K...  \n18    [u'Robert De Niro', u'Ray Liotta', u'Joe Pesci']  \n19   [u'Mark Hamill', u'Harrison Ford', u'Carrie Fi...  \n20   [u'Keanu Reeves', u'Laurence Fishburne', u'Car...  \n21   [u'Alexandre Rodrigues', u'Matheus Nachtergael...  \n22   [u'James Stewart', u'Donna Reed', u'Lionel Bar...  \n23   [u'Kevin Spacey', u'Gabriel Byrne', u'Chazz Pa...  \n24   [u'Morgan Freeman', u'Brad Pitt', u'Kevin Spac...  \n25   [u'Roberto Benigni', u'Nicoletta Braschi', u'G...  \n26   [u'Henry Fonda', u'Charles Bronson', u'Claudia...  \n27   [u'Jodie Foster', u'Anthony Hopkins', u'Lawren...  \n28   [u'Jean Reno', u'Gary Oldman', u'Natalie Portm...  \n29   [u'Charles Chaplin', u'Virginia Cherrill', u'F...  \n..                                                 ...  \n949  [u'Macaulay Culkin', u'Joe Pesci', u'Daniel St...  \n950  [u'Jennifer Tilly', u'Gina Gershon', u'Joe Pan...  \n951  [u'Johnny Depp', u'Christina Ricci', u'Miranda...  \n952  [u'Philip Seymour Hoffman', u'Bill Nighy', u'N...  \n953  [u'Noah Hathaway', u'Barret Oliver', u'Tami St...  \n954  [u'Patrick Stewart', u'Hugh Jackman', u'Ian Mc...  \n955  [u'Jessica Chastain', u'Joel Edgerton', u'Chri...  \n956  [u'Woody Allen', u'Diane Keaton', u'Jerry Adler']  \n957  [u'Chevy Chase', u\"Beverly D'Angelo\", u'Imogen...  \n958  [u'Cameron Diaz', u'Abigail Breslin', u'Alec B...  \n959  [u'Woody Allen', u'Judy Davis', u'Julia Louis-...  \n960  [u'Steve Carell', u'Toni Collette', u'Allison ...  \n961  [u'Philip Seymour Hoffman', u'Clifton Collins ...  \n962  [u'Morgan Freeman', u'Jessica Tandy', u'Dan Ay...  \n963  [u'Anne Parillaud', u'Marc Duret', u'Patrick F...  \n964  [u'Daniel Day-Lewis', u'Sally Field', u'David ...  \n965  [u'Bradley Cooper', u'Anna Friel', u'Abbie Cor...  \n966  [u'Dan Castellaneta', u'Julie Kavner', u'Nancy...  \n967   [u'Sean Connery', u'Nicolas Cage', u'Ed Harris']  \n968  [u'Ralph Fiennes', u'Juliette Binoche', u'Will...  \n969  [u'Gerard Butler', u'Jamie Foxx', u'Leslie Bibb']  \n970  [u'Michael Douglas', u'Tobey Maguire', u'Franc...  \n971  [u'Matthew Macfadyen', u'Peter Dinklage', u'Ew...  \n972  [u'Ryan Gosling', u'Michelle Williams', u'John...  \n973  [u'Tobey Maguire', u'Charlize Theron', u'Micha...  \n974  [u'Dustin Hoffman', u'Jessica Lange', u'Teri G...  \n975  [u'Michael J. Fox', u'Christopher Lloyd', u'Ma...  \n976  [u'Russell Crowe', u'Paul Bettany', u'Billy Bo...  \n977  [u'JoBeth Williams', u\"Heather O'Rourke\", u'Cr...  \n978  [u'Charlie Sheen', u'Michael Douglas', u'Tamar...  \n\n[979 rows x 6 columns]"
          },
          "execution_count": 19,
          "metadata": {},
          "output_type": "execute_result"
        }
      ]
    },
    {
      "metadata": {
        "trusted": false
      },
      "cell_type": "code",
      "source": "filmes.columns",
      "execution_count": 20,
      "outputs": [
        {
          "data": {
            "text/plain": "Index(['star rating', 'title', 'content rating', 'genre', 'duration',\n       'actors list'],\n      dtype='object')"
          },
          "execution_count": 20,
          "metadata": {},
          "output_type": "execute_result"
        }
      ]
    },
    {
      "metadata": {},
      "cell_type": "markdown",
      "source": "Podemos ver que não foi realizado a alteração no Dataset, para isso temos que utilizar o parâmetro implace=True para persistir os valores"
    },
    {
      "metadata": {
        "trusted": false
      },
      "cell_type": "code",
      "source": "filmes.rename(columns={'star rating': 'star_rating','content rating':'content_rating'}, inplace=True)",
      "execution_count": 22,
      "outputs": []
    },
    {
      "metadata": {
        "trusted": false
      },
      "cell_type": "code",
      "source": "filmes.columns",
      "execution_count": 23,
      "outputs": [
        {
          "data": {
            "text/plain": "Index(['star_rating', 'title', 'content_rating', 'genre', 'duration',\n       'actors list'],\n      dtype='object')"
          },
          "execution_count": 23,
          "metadata": {},
          "output_type": "execute_result"
        }
      ]
    },
    {
      "metadata": {},
      "cell_type": "markdown",
      "source": "Podemos passar a lista de colunas EXPLICITAMENTE"
    },
    {
      "metadata": {
        "trusted": false
      },
      "cell_type": "code",
      "source": "colunas_filmes = ['star rating','title','content rating','genre','duration','actors list']\nfilmes.columns = colunas_filmes\nfilmes.columns",
      "execution_count": 24,
      "outputs": [
        {
          "data": {
            "text/plain": "Index(['star rating', 'title', 'content rating', 'genre', 'duration',\n       'actors list'],\n      dtype='object')"
          },
          "execution_count": 24,
          "metadata": {},
          "output_type": "execute_result"
        }
      ]
    },
    {
      "metadata": {},
      "cell_type": "markdown",
      "source": "Podemos renomear as colunas no momento da LEITURA do arquivo"
    },
    {
      "metadata": {
        "trusted": false
      },
      "cell_type": "code",
      "source": "colunas_filmes = ['star_rating','title','content_rating','genre','duration','actors_list']\n\nfile = 'movies.csv'\nfilmes = pd.read_csv(file, header=0, names=colunas_filmes)  # Header 0 está informando que é a linha do cabeçalho\nfilmes.columns",
      "execution_count": 28,
      "outputs": [
        {
          "data": {
            "text/plain": "Index(['star_rating', 'title', 'content_rating', 'genre', 'duration',\n       'actors_list'],\n      dtype='object')"
          },
          "execution_count": 28,
          "metadata": {},
          "output_type": "execute_result"
        }
      ]
    },
    {
      "metadata": {},
      "cell_type": "markdown",
      "source": "### Real World"
    },
    {
      "metadata": {},
      "cell_type": "markdown",
      "source": "Podemos utilizar funções do Python para trabalharmos com as colunas"
    },
    {
      "metadata": {
        "trusted": false
      },
      "cell_type": "code",
      "source": "file = 'movies.csv'\nfilmes = pd.read_csv(file)\nfilmes.head()\n\nfilmes.columns = filmes.columns.str.replace(' ','_')\nfilmes.columns",
      "execution_count": 32,
      "outputs": [
        {
          "data": {
            "text/plain": "Index(['star_rating', 'title', 'content_rating', 'genre', 'duration',\n       'actors_list'],\n      dtype='object')"
          },
          "execution_count": 32,
          "metadata": {},
          "output_type": "execute_result"
        }
      ]
    },
    {
      "metadata": {},
      "cell_type": "markdown",
      "source": "### Removendo colunas do Dataframe"
    },
    {
      "metadata": {
        "trusted": false
      },
      "cell_type": "code",
      "source": "# Por boa prática, ao realizar albuma alteração no DataFrame devemos atribuir a outra variável.\n# Assim é possível rastrear mudanças.\n\n# Axis = 1 -> Colunas / Axis = 0 -> Linhas\n\nfilmes01 = filmes.drop('content_rating', axis=1)\nfilmes01.head()",
      "execution_count": 33,
      "outputs": [
        {
          "data": {
            "text/html": "<div>\n<style scoped>\n    .dataframe tbody tr th:only-of-type {\n        vertical-align: middle;\n    }\n\n    .dataframe tbody tr th {\n        vertical-align: top;\n    }\n\n    .dataframe thead th {\n        text-align: right;\n    }\n</style>\n<table border=\"1\" class=\"dataframe\">\n  <thead>\n    <tr style=\"text-align: right;\">\n      <th></th>\n      <th>star_rating</th>\n      <th>title</th>\n      <th>genre</th>\n      <th>duration</th>\n      <th>actors_list</th>\n    </tr>\n  </thead>\n  <tbody>\n    <tr>\n      <th>0</th>\n      <td>9.3</td>\n      <td>The Shawshank Redemption</td>\n      <td>Crime</td>\n      <td>142</td>\n      <td>[u'Tim Robbins', u'Morgan Freeman', u'Bob Gunt...</td>\n    </tr>\n    <tr>\n      <th>1</th>\n      <td>9.2</td>\n      <td>The Godfather</td>\n      <td>Crime</td>\n      <td>175</td>\n      <td>[u'Marlon Brando', u'Al Pacino', u'James Caan']</td>\n    </tr>\n    <tr>\n      <th>2</th>\n      <td>9.1</td>\n      <td>The Godfather: Part II</td>\n      <td>Crime</td>\n      <td>200</td>\n      <td>[u'Al Pacino', u'Robert De Niro', u'Robert Duv...</td>\n    </tr>\n    <tr>\n      <th>3</th>\n      <td>9.0</td>\n      <td>The Dark Knight</td>\n      <td>Action</td>\n      <td>152</td>\n      <td>[u'Christian Bale', u'Heath Ledger', u'Aaron E...</td>\n    </tr>\n    <tr>\n      <th>4</th>\n      <td>8.9</td>\n      <td>Pulp Fiction</td>\n      <td>Crime</td>\n      <td>154</td>\n      <td>[u'John Travolta', u'Uma Thurman', u'Samuel L....</td>\n    </tr>\n  </tbody>\n</table>\n</div>",
            "text/plain": "   star_rating                     title   genre  duration  \\\n0          9.3  The Shawshank Redemption   Crime       142   \n1          9.2             The Godfather   Crime       175   \n2          9.1    The Godfather: Part II   Crime       200   \n3          9.0           The Dark Knight  Action       152   \n4          8.9              Pulp Fiction   Crime       154   \n\n                                         actors_list  \n0  [u'Tim Robbins', u'Morgan Freeman', u'Bob Gunt...  \n1    [u'Marlon Brando', u'Al Pacino', u'James Caan']  \n2  [u'Al Pacino', u'Robert De Niro', u'Robert Duv...  \n3  [u'Christian Bale', u'Heath Ledger', u'Aaron E...  \n4  [u'John Travolta', u'Uma Thurman', u'Samuel L....  "
          },
          "execution_count": 33,
          "metadata": {},
          "output_type": "execute_result"
        }
      ]
    },
    {
      "metadata": {
        "scrolled": true,
        "trusted": false
      },
      "cell_type": "code",
      "source": "filmes02 = filmes01.drop(['duration', 'actors_list'], axis = 1)\nfilmes02.head()",
      "execution_count": 34,
      "outputs": [
        {
          "data": {
            "text/html": "<div>\n<style scoped>\n    .dataframe tbody tr th:only-of-type {\n        vertical-align: middle;\n    }\n\n    .dataframe tbody tr th {\n        vertical-align: top;\n    }\n\n    .dataframe thead th {\n        text-align: right;\n    }\n</style>\n<table border=\"1\" class=\"dataframe\">\n  <thead>\n    <tr style=\"text-align: right;\">\n      <th></th>\n      <th>star_rating</th>\n      <th>title</th>\n      <th>genre</th>\n    </tr>\n  </thead>\n  <tbody>\n    <tr>\n      <th>0</th>\n      <td>9.3</td>\n      <td>The Shawshank Redemption</td>\n      <td>Crime</td>\n    </tr>\n    <tr>\n      <th>1</th>\n      <td>9.2</td>\n      <td>The Godfather</td>\n      <td>Crime</td>\n    </tr>\n    <tr>\n      <th>2</th>\n      <td>9.1</td>\n      <td>The Godfather: Part II</td>\n      <td>Crime</td>\n    </tr>\n    <tr>\n      <th>3</th>\n      <td>9.0</td>\n      <td>The Dark Knight</td>\n      <td>Action</td>\n    </tr>\n    <tr>\n      <th>4</th>\n      <td>8.9</td>\n      <td>Pulp Fiction</td>\n      <td>Crime</td>\n    </tr>\n  </tbody>\n</table>\n</div>",
            "text/plain": "   star_rating                     title   genre\n0          9.3  The Shawshank Redemption   Crime\n1          9.2             The Godfather   Crime\n2          9.1    The Godfather: Part II   Crime\n3          9.0           The Dark Knight  Action\n4          8.9              Pulp Fiction   Crime"
          },
          "execution_count": 34,
          "metadata": {},
          "output_type": "execute_result"
        }
      ]
    },
    {
      "metadata": {
        "trusted": false
      },
      "cell_type": "code",
      "source": "filmes01.head()",
      "execution_count": 35,
      "outputs": [
        {
          "data": {
            "text/html": "<div>\n<style scoped>\n    .dataframe tbody tr th:only-of-type {\n        vertical-align: middle;\n    }\n\n    .dataframe tbody tr th {\n        vertical-align: top;\n    }\n\n    .dataframe thead th {\n        text-align: right;\n    }\n</style>\n<table border=\"1\" class=\"dataframe\">\n  <thead>\n    <tr style=\"text-align: right;\">\n      <th></th>\n      <th>star_rating</th>\n      <th>title</th>\n      <th>genre</th>\n      <th>duration</th>\n      <th>actors_list</th>\n    </tr>\n  </thead>\n  <tbody>\n    <tr>\n      <th>0</th>\n      <td>9.3</td>\n      <td>The Shawshank Redemption</td>\n      <td>Crime</td>\n      <td>142</td>\n      <td>[u'Tim Robbins', u'Morgan Freeman', u'Bob Gunt...</td>\n    </tr>\n    <tr>\n      <th>1</th>\n      <td>9.2</td>\n      <td>The Godfather</td>\n      <td>Crime</td>\n      <td>175</td>\n      <td>[u'Marlon Brando', u'Al Pacino', u'James Caan']</td>\n    </tr>\n    <tr>\n      <th>2</th>\n      <td>9.1</td>\n      <td>The Godfather: Part II</td>\n      <td>Crime</td>\n      <td>200</td>\n      <td>[u'Al Pacino', u'Robert De Niro', u'Robert Duv...</td>\n    </tr>\n    <tr>\n      <th>3</th>\n      <td>9.0</td>\n      <td>The Dark Knight</td>\n      <td>Action</td>\n      <td>152</td>\n      <td>[u'Christian Bale', u'Heath Ledger', u'Aaron E...</td>\n    </tr>\n    <tr>\n      <th>4</th>\n      <td>8.9</td>\n      <td>Pulp Fiction</td>\n      <td>Crime</td>\n      <td>154</td>\n      <td>[u'John Travolta', u'Uma Thurman', u'Samuel L....</td>\n    </tr>\n  </tbody>\n</table>\n</div>",
            "text/plain": "   star_rating                     title   genre  duration  \\\n0          9.3  The Shawshank Redemption   Crime       142   \n1          9.2             The Godfather   Crime       175   \n2          9.1    The Godfather: Part II   Crime       200   \n3          9.0           The Dark Knight  Action       152   \n4          8.9              Pulp Fiction   Crime       154   \n\n                                         actors_list  \n0  [u'Tim Robbins', u'Morgan Freeman', u'Bob Gunt...  \n1    [u'Marlon Brando', u'Al Pacino', u'James Caan']  \n2  [u'Al Pacino', u'Robert De Niro', u'Robert Duv...  \n3  [u'Christian Bale', u'Heath Ledger', u'Aaron E...  \n4  [u'John Travolta', u'Uma Thurman', u'Samuel L....  "
          },
          "execution_count": 35,
          "metadata": {},
          "output_type": "execute_result"
        }
      ]
    },
    {
      "metadata": {},
      "cell_type": "markdown",
      "source": "### Removendo linhas do DataFrame"
    },
    {
      "metadata": {
        "trusted": false
      },
      "cell_type": "code",
      "source": "filmes02.head()",
      "execution_count": 36,
      "outputs": [
        {
          "data": {
            "text/html": "<div>\n<style scoped>\n    .dataframe tbody tr th:only-of-type {\n        vertical-align: middle;\n    }\n\n    .dataframe tbody tr th {\n        vertical-align: top;\n    }\n\n    .dataframe thead th {\n        text-align: right;\n    }\n</style>\n<table border=\"1\" class=\"dataframe\">\n  <thead>\n    <tr style=\"text-align: right;\">\n      <th></th>\n      <th>star_rating</th>\n      <th>title</th>\n      <th>genre</th>\n    </tr>\n  </thead>\n  <tbody>\n    <tr>\n      <th>0</th>\n      <td>9.3</td>\n      <td>The Shawshank Redemption</td>\n      <td>Crime</td>\n    </tr>\n    <tr>\n      <th>1</th>\n      <td>9.2</td>\n      <td>The Godfather</td>\n      <td>Crime</td>\n    </tr>\n    <tr>\n      <th>2</th>\n      <td>9.1</td>\n      <td>The Godfather: Part II</td>\n      <td>Crime</td>\n    </tr>\n    <tr>\n      <th>3</th>\n      <td>9.0</td>\n      <td>The Dark Knight</td>\n      <td>Action</td>\n    </tr>\n    <tr>\n      <th>4</th>\n      <td>8.9</td>\n      <td>Pulp Fiction</td>\n      <td>Crime</td>\n    </tr>\n  </tbody>\n</table>\n</div>",
            "text/plain": "   star_rating                     title   genre\n0          9.3  The Shawshank Redemption   Crime\n1          9.2             The Godfather   Crime\n2          9.1    The Godfather: Part II   Crime\n3          9.0           The Dark Knight  Action\n4          8.9              Pulp Fiction   Crime"
          },
          "execution_count": 36,
          "metadata": {},
          "output_type": "execute_result"
        }
      ]
    },
    {
      "metadata": {
        "trusted": false
      },
      "cell_type": "code",
      "source": "filmes03 = filmes02.drop([0,1], axis=0)\nfilmes03.head()",
      "execution_count": 40,
      "outputs": [
        {
          "data": {
            "text/html": "<div>\n<style scoped>\n    .dataframe tbody tr th:only-of-type {\n        vertical-align: middle;\n    }\n\n    .dataframe tbody tr th {\n        vertical-align: top;\n    }\n\n    .dataframe thead th {\n        text-align: right;\n    }\n</style>\n<table border=\"1\" class=\"dataframe\">\n  <thead>\n    <tr style=\"text-align: right;\">\n      <th></th>\n      <th>star_rating</th>\n      <th>title</th>\n      <th>genre</th>\n    </tr>\n  </thead>\n  <tbody>\n    <tr>\n      <th>2</th>\n      <td>9.1</td>\n      <td>The Godfather: Part II</td>\n      <td>Crime</td>\n    </tr>\n    <tr>\n      <th>3</th>\n      <td>9.0</td>\n      <td>The Dark Knight</td>\n      <td>Action</td>\n    </tr>\n    <tr>\n      <th>4</th>\n      <td>8.9</td>\n      <td>Pulp Fiction</td>\n      <td>Crime</td>\n    </tr>\n    <tr>\n      <th>5</th>\n      <td>8.9</td>\n      <td>12 Angry Men</td>\n      <td>Drama</td>\n    </tr>\n    <tr>\n      <th>6</th>\n      <td>8.9</td>\n      <td>The Good, the Bad and the Ugly</td>\n      <td>Western</td>\n    </tr>\n  </tbody>\n</table>\n</div>",
            "text/plain": "   star_rating                           title    genre\n2          9.1          The Godfather: Part II    Crime\n3          9.0                 The Dark Knight   Action\n4          8.9                    Pulp Fiction    Crime\n5          8.9                    12 Angry Men    Drama\n6          8.9  The Good, the Bad and the Ugly  Western"
          },
          "execution_count": 40,
          "metadata": {},
          "output_type": "execute_result"
        }
      ]
    },
    {
      "metadata": {
        "trusted": false
      },
      "cell_type": "code",
      "source": "filmes03.loc[2]",
      "execution_count": 41,
      "outputs": [
        {
          "data": {
            "text/plain": "star_rating                       9.1\ntitle          The Godfather: Part II\ngenre                           Crime\nName: 2, dtype: object"
          },
          "execution_count": 41,
          "metadata": {},
          "output_type": "execute_result"
        }
      ]
    },
    {
      "metadata": {
        "trusted": false
      },
      "cell_type": "code",
      "source": "",
      "execution_count": null,
      "outputs": []
    }
  ],
  "metadata": {
    "kernelspec": {
      "name": "python3",
      "display_name": "Python 3",
      "language": "python"
    },
    "language_info": {
      "mimetype": "text/x-python",
      "nbconvert_exporter": "python",
      "name": "python",
      "pygments_lexer": "ipython3",
      "version": "3.5.4",
      "file_extension": ".py",
      "codemirror_mode": {
        "version": 3,
        "name": "ipython"
      }
    }
  },
  "nbformat": 4,
  "nbformat_minor": 2
}