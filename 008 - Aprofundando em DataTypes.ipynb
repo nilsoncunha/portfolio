{
  "cells": [
    {
      "metadata": {
        "collapsed": true
      },
      "cell_type": "markdown",
      "source": "## Modificando tipos de series no Pandas"
    },
    {
      "metadata": {
        "trusted": true
      },
      "cell_type": "code",
      "source": "import pandas as pd\nimport numpy as np",
      "execution_count": 1,
      "outputs": []
    },
    {
      "metadata": {
        "trusted": true
      },
      "cell_type": "code",
      "source": "arq = 'drinks.csv'\ndrinks = pd.read_csv(arq)\ndrinks.columns",
      "execution_count": 2,
      "outputs": [
        {
          "output_type": "execute_result",
          "execution_count": 2,
          "data": {
            "text/plain": "Index(['country', 'beer_servings', 'spirit_servings', 'wine_servings',\n       'total_litres_of_pure_alcohol', 'population', 'continent'],\n      dtype='object')"
          },
          "metadata": {}
        }
      ]
    },
    {
      "metadata": {},
      "cell_type": "markdown",
      "source": "## Verificando os tipos do Dataset"
    },
    {
      "metadata": {
        "trusted": true
      },
      "cell_type": "code",
      "source": "# utilizando o dtypes\ndrinks.dtypes",
      "execution_count": 3,
      "outputs": [
        {
          "output_type": "execute_result",
          "execution_count": 3,
          "data": {
            "text/plain": "country                          object\nbeer_servings                     int64\nspirit_servings                   int64\nwine_servings                     int64\ntotal_litres_of_pure_alcohol    float64\npopulation                       object\ncontinent                        object\ndtype: object"
          },
          "metadata": {}
        }
      ]
    },
    {
      "metadata": {
        "trusted": true
      },
      "cell_type": "code",
      "source": "drinks.head(10)",
      "execution_count": 4,
      "outputs": [
        {
          "output_type": "execute_result",
          "execution_count": 4,
          "data": {
            "text/html": "<div>\n<style scoped>\n    .dataframe tbody tr th:only-of-type {\n        vertical-align: middle;\n    }\n\n    .dataframe tbody tr th {\n        vertical-align: top;\n    }\n\n    .dataframe thead th {\n        text-align: right;\n    }\n</style>\n<table border=\"1\" class=\"dataframe\">\n  <thead>\n    <tr style=\"text-align: right;\">\n      <th></th>\n      <th>country</th>\n      <th>beer_servings</th>\n      <th>spirit_servings</th>\n      <th>wine_servings</th>\n      <th>total_litres_of_pure_alcohol</th>\n      <th>population</th>\n      <th>continent</th>\n    </tr>\n  </thead>\n  <tbody>\n    <tr>\n      <th>0</th>\n      <td>Afghanistan</td>\n      <td>0</td>\n      <td>0</td>\n      <td>0</td>\n      <td>0.0</td>\n      <td>34.660.000</td>\n      <td>Asia</td>\n    </tr>\n    <tr>\n      <th>1</th>\n      <td>Albania</td>\n      <td>89</td>\n      <td>132</td>\n      <td>54</td>\n      <td>4.9</td>\n      <td>2.876.000</td>\n      <td>Europe</td>\n    </tr>\n    <tr>\n      <th>2</th>\n      <td>Algeria</td>\n      <td>25</td>\n      <td>0</td>\n      <td>14</td>\n      <td>0.7</td>\n      <td>40.061.000</td>\n      <td>Africa</td>\n    </tr>\n    <tr>\n      <th>3</th>\n      <td>Andorra</td>\n      <td>245</td>\n      <td>138</td>\n      <td>312</td>\n      <td>12.4</td>\n      <td>77.281.000</td>\n      <td>Europe</td>\n    </tr>\n    <tr>\n      <th>4</th>\n      <td>Angola</td>\n      <td>217</td>\n      <td>57</td>\n      <td>45</td>\n      <td>5.9</td>\n      <td>28.081.000</td>\n      <td>Africa</td>\n    </tr>\n    <tr>\n      <th>5</th>\n      <td>Antigua &amp; Barbuda</td>\n      <td>102</td>\n      <td>128</td>\n      <td>45</td>\n      <td>4.9</td>\n      <td>86.295</td>\n      <td>North America</td>\n    </tr>\n    <tr>\n      <th>6</th>\n      <td>Argentina</td>\n      <td>193</td>\n      <td>25</td>\n      <td>221</td>\n      <td>8.3</td>\n      <td>43.085.000</td>\n      <td>South America</td>\n    </tr>\n    <tr>\n      <th>7</th>\n      <td>Armenia</td>\n      <td>21</td>\n      <td>179</td>\n      <td>11</td>\n      <td>3.8</td>\n      <td>2.925.000</td>\n      <td>Europe</td>\n    </tr>\n    <tr>\n      <th>8</th>\n      <td>Australia</td>\n      <td>261</td>\n      <td>72</td>\n      <td>212</td>\n      <td>10.4</td>\n      <td>24.013.000</td>\n      <td>Oceania</td>\n    </tr>\n    <tr>\n      <th>9</th>\n      <td>Austria</td>\n      <td>279</td>\n      <td>75</td>\n      <td>191</td>\n      <td>9.7</td>\n      <td>8.725.111</td>\n      <td>Europe</td>\n    </tr>\n  </tbody>\n</table>\n</div>",
            "text/plain": "             country  beer_servings  spirit_servings  wine_servings  \\\n0        Afghanistan              0                0              0   \n1            Albania             89              132             54   \n2            Algeria             25                0             14   \n3            Andorra            245              138            312   \n4             Angola            217               57             45   \n5  Antigua & Barbuda            102              128             45   \n6          Argentina            193               25            221   \n7            Armenia             21              179             11   \n8          Australia            261               72            212   \n9            Austria            279               75            191   \n\n   total_litres_of_pure_alcohol  population      continent  \n0                           0.0  34.660.000           Asia  \n1                           4.9   2.876.000         Europe  \n2                           0.7  40.061.000         Africa  \n3                          12.4  77.281.000         Europe  \n4                           5.9  28.081.000         Africa  \n5                           4.9      86.295  North America  \n6                           8.3  43.085.000  South America  \n7                           3.8   2.925.000         Europe  \n8                          10.4  24.013.000        Oceania  \n9                           9.7   8.725.111         Europe  "
          },
          "metadata": {}
        }
      ]
    },
    {
      "metadata": {
        "trusted": true
      },
      "cell_type": "code",
      "source": "# modificando o tipo em uma série existente com ASTYPE()\ndrinks['beer_servings'] = drinks.beer_servings.astype(float)",
      "execution_count": 5,
      "outputs": []
    },
    {
      "metadata": {
        "trusted": true
      },
      "cell_type": "code",
      "source": "drinks.head(10)",
      "execution_count": 6,
      "outputs": [
        {
          "output_type": "execute_result",
          "execution_count": 6,
          "data": {
            "text/html": "<div>\n<style scoped>\n    .dataframe tbody tr th:only-of-type {\n        vertical-align: middle;\n    }\n\n    .dataframe tbody tr th {\n        vertical-align: top;\n    }\n\n    .dataframe thead th {\n        text-align: right;\n    }\n</style>\n<table border=\"1\" class=\"dataframe\">\n  <thead>\n    <tr style=\"text-align: right;\">\n      <th></th>\n      <th>country</th>\n      <th>beer_servings</th>\n      <th>spirit_servings</th>\n      <th>wine_servings</th>\n      <th>total_litres_of_pure_alcohol</th>\n      <th>population</th>\n      <th>continent</th>\n    </tr>\n  </thead>\n  <tbody>\n    <tr>\n      <th>0</th>\n      <td>Afghanistan</td>\n      <td>0.0</td>\n      <td>0</td>\n      <td>0</td>\n      <td>0.0</td>\n      <td>34.660.000</td>\n      <td>Asia</td>\n    </tr>\n    <tr>\n      <th>1</th>\n      <td>Albania</td>\n      <td>89.0</td>\n      <td>132</td>\n      <td>54</td>\n      <td>4.9</td>\n      <td>2.876.000</td>\n      <td>Europe</td>\n    </tr>\n    <tr>\n      <th>2</th>\n      <td>Algeria</td>\n      <td>25.0</td>\n      <td>0</td>\n      <td>14</td>\n      <td>0.7</td>\n      <td>40.061.000</td>\n      <td>Africa</td>\n    </tr>\n    <tr>\n      <th>3</th>\n      <td>Andorra</td>\n      <td>245.0</td>\n      <td>138</td>\n      <td>312</td>\n      <td>12.4</td>\n      <td>77.281.000</td>\n      <td>Europe</td>\n    </tr>\n    <tr>\n      <th>4</th>\n      <td>Angola</td>\n      <td>217.0</td>\n      <td>57</td>\n      <td>45</td>\n      <td>5.9</td>\n      <td>28.081.000</td>\n      <td>Africa</td>\n    </tr>\n    <tr>\n      <th>5</th>\n      <td>Antigua &amp; Barbuda</td>\n      <td>102.0</td>\n      <td>128</td>\n      <td>45</td>\n      <td>4.9</td>\n      <td>86.295</td>\n      <td>North America</td>\n    </tr>\n    <tr>\n      <th>6</th>\n      <td>Argentina</td>\n      <td>193.0</td>\n      <td>25</td>\n      <td>221</td>\n      <td>8.3</td>\n      <td>43.085.000</td>\n      <td>South America</td>\n    </tr>\n    <tr>\n      <th>7</th>\n      <td>Armenia</td>\n      <td>21.0</td>\n      <td>179</td>\n      <td>11</td>\n      <td>3.8</td>\n      <td>2.925.000</td>\n      <td>Europe</td>\n    </tr>\n    <tr>\n      <th>8</th>\n      <td>Australia</td>\n      <td>261.0</td>\n      <td>72</td>\n      <td>212</td>\n      <td>10.4</td>\n      <td>24.013.000</td>\n      <td>Oceania</td>\n    </tr>\n    <tr>\n      <th>9</th>\n      <td>Austria</td>\n      <td>279.0</td>\n      <td>75</td>\n      <td>191</td>\n      <td>9.7</td>\n      <td>8.725.111</td>\n      <td>Europe</td>\n    </tr>\n  </tbody>\n</table>\n</div>",
            "text/plain": "             country  beer_servings  spirit_servings  wine_servings  \\\n0        Afghanistan            0.0                0              0   \n1            Albania           89.0              132             54   \n2            Algeria           25.0                0             14   \n3            Andorra          245.0              138            312   \n4             Angola          217.0               57             45   \n5  Antigua & Barbuda          102.0              128             45   \n6          Argentina          193.0               25            221   \n7            Armenia           21.0              179             11   \n8          Australia          261.0               72            212   \n9            Austria          279.0               75            191   \n\n   total_litres_of_pure_alcohol  population      continent  \n0                           0.0  34.660.000           Asia  \n1                           4.9   2.876.000         Europe  \n2                           0.7  40.061.000         Africa  \n3                          12.4  77.281.000         Europe  \n4                           5.9  28.081.000         Africa  \n5                           4.9      86.295  North America  \n6                           8.3  43.085.000  South America  \n7                           3.8   2.925.000         Europe  \n8                          10.4  24.013.000        Oceania  \n9                           9.7   8.725.111         Europe  "
          },
          "metadata": {}
        }
      ]
    },
    {
      "metadata": {
        "trusted": true
      },
      "cell_type": "code",
      "source": "drinks.dtypes",
      "execution_count": 7,
      "outputs": [
        {
          "output_type": "execute_result",
          "execution_count": 7,
          "data": {
            "text/plain": "country                          object\nbeer_servings                   float64\nspirit_servings                   int64\nwine_servings                     int64\ntotal_litres_of_pure_alcohol    float64\npopulation                       object\ncontinent                        object\ndtype: object"
          },
          "metadata": {}
        }
      ]
    },
    {
      "metadata": {
        "trusted": true
      },
      "cell_type": "code",
      "source": "drinks['wine_servings'] = drinks.wine_servings.astype(float)",
      "execution_count": 8,
      "outputs": []
    },
    {
      "metadata": {
        "trusted": true
      },
      "cell_type": "code",
      "source": "drinks.head(10)",
      "execution_count": 9,
      "outputs": [
        {
          "output_type": "execute_result",
          "execution_count": 9,
          "data": {
            "text/html": "<div>\n<style scoped>\n    .dataframe tbody tr th:only-of-type {\n        vertical-align: middle;\n    }\n\n    .dataframe tbody tr th {\n        vertical-align: top;\n    }\n\n    .dataframe thead th {\n        text-align: right;\n    }\n</style>\n<table border=\"1\" class=\"dataframe\">\n  <thead>\n    <tr style=\"text-align: right;\">\n      <th></th>\n      <th>country</th>\n      <th>beer_servings</th>\n      <th>spirit_servings</th>\n      <th>wine_servings</th>\n      <th>total_litres_of_pure_alcohol</th>\n      <th>population</th>\n      <th>continent</th>\n    </tr>\n  </thead>\n  <tbody>\n    <tr>\n      <th>0</th>\n      <td>Afghanistan</td>\n      <td>0.0</td>\n      <td>0</td>\n      <td>0.0</td>\n      <td>0.0</td>\n      <td>34.660.000</td>\n      <td>Asia</td>\n    </tr>\n    <tr>\n      <th>1</th>\n      <td>Albania</td>\n      <td>89.0</td>\n      <td>132</td>\n      <td>54.0</td>\n      <td>4.9</td>\n      <td>2.876.000</td>\n      <td>Europe</td>\n    </tr>\n    <tr>\n      <th>2</th>\n      <td>Algeria</td>\n      <td>25.0</td>\n      <td>0</td>\n      <td>14.0</td>\n      <td>0.7</td>\n      <td>40.061.000</td>\n      <td>Africa</td>\n    </tr>\n    <tr>\n      <th>3</th>\n      <td>Andorra</td>\n      <td>245.0</td>\n      <td>138</td>\n      <td>312.0</td>\n      <td>12.4</td>\n      <td>77.281.000</td>\n      <td>Europe</td>\n    </tr>\n    <tr>\n      <th>4</th>\n      <td>Angola</td>\n      <td>217.0</td>\n      <td>57</td>\n      <td>45.0</td>\n      <td>5.9</td>\n      <td>28.081.000</td>\n      <td>Africa</td>\n    </tr>\n    <tr>\n      <th>5</th>\n      <td>Antigua &amp; Barbuda</td>\n      <td>102.0</td>\n      <td>128</td>\n      <td>45.0</td>\n      <td>4.9</td>\n      <td>86.295</td>\n      <td>North America</td>\n    </tr>\n    <tr>\n      <th>6</th>\n      <td>Argentina</td>\n      <td>193.0</td>\n      <td>25</td>\n      <td>221.0</td>\n      <td>8.3</td>\n      <td>43.085.000</td>\n      <td>South America</td>\n    </tr>\n    <tr>\n      <th>7</th>\n      <td>Armenia</td>\n      <td>21.0</td>\n      <td>179</td>\n      <td>11.0</td>\n      <td>3.8</td>\n      <td>2.925.000</td>\n      <td>Europe</td>\n    </tr>\n    <tr>\n      <th>8</th>\n      <td>Australia</td>\n      <td>261.0</td>\n      <td>72</td>\n      <td>212.0</td>\n      <td>10.4</td>\n      <td>24.013.000</td>\n      <td>Oceania</td>\n    </tr>\n    <tr>\n      <th>9</th>\n      <td>Austria</td>\n      <td>279.0</td>\n      <td>75</td>\n      <td>191.0</td>\n      <td>9.7</td>\n      <td>8.725.111</td>\n      <td>Europe</td>\n    </tr>\n  </tbody>\n</table>\n</div>",
            "text/plain": "             country  beer_servings  spirit_servings  wine_servings  \\\n0        Afghanistan            0.0                0            0.0   \n1            Albania           89.0              132           54.0   \n2            Algeria           25.0                0           14.0   \n3            Andorra          245.0              138          312.0   \n4             Angola          217.0               57           45.0   \n5  Antigua & Barbuda          102.0              128           45.0   \n6          Argentina          193.0               25          221.0   \n7            Armenia           21.0              179           11.0   \n8          Australia          261.0               72          212.0   \n9            Austria          279.0               75          191.0   \n\n   total_litres_of_pure_alcohol  population      continent  \n0                           0.0  34.660.000           Asia  \n1                           4.9   2.876.000         Europe  \n2                           0.7  40.061.000         Africa  \n3                          12.4  77.281.000         Europe  \n4                           5.9  28.081.000         Africa  \n5                           4.9      86.295  North America  \n6                           8.3  43.085.000  South America  \n7                           3.8   2.925.000         Europe  \n8                          10.4  24.013.000        Oceania  \n9                           9.7   8.725.111         Europe  "
          },
          "metadata": {}
        }
      ]
    },
    {
      "metadata": {
        "trusted": true
      },
      "cell_type": "code",
      "source": "drinks.dtypes",
      "execution_count": 10,
      "outputs": [
        {
          "output_type": "execute_result",
          "execution_count": 10,
          "data": {
            "text/plain": "country                          object\nbeer_servings                   float64\nspirit_servings                   int64\nwine_servings                   float64\ntotal_litres_of_pure_alcohol    float64\npopulation                       object\ncontinent                        object\ndtype: object"
          },
          "metadata": {}
        }
      ]
    },
    {
      "metadata": {
        "trusted": true
      },
      "cell_type": "code",
      "source": "# Alternativamente, podemos modificar o tipo enquanto lemos uma série.\ndrinks = pd.read_csv(arq, dtype={'spirit_servings': float})\ndrinks.dtypes",
      "execution_count": 11,
      "outputs": [
        {
          "output_type": "execute_result",
          "execution_count": 11,
          "data": {
            "text/plain": "country                          object\nbeer_servings                     int64\nspirit_servings                 float64\nwine_servings                     int64\ntotal_litres_of_pure_alcohol    float64\npopulation                       object\ncontinent                        object\ndtype: object"
          },
          "metadata": {}
        }
      ]
    },
    {
      "metadata": {},
      "cell_type": "markdown",
      "source": "## Lendo outro Dataset"
    },
    {
      "metadata": {
        "trusted": true
      },
      "cell_type": "code",
      "source": "arquivo = 'Sanduiches.txt'\nvendas = pd.read_table(arquivo)\nvendas.head(10)",
      "execution_count": 12,
      "outputs": [
        {
          "output_type": "execute_result",
          "execution_count": 12,
          "data": {
            "text/html": "<div>\n<style scoped>\n    .dataframe tbody tr th:only-of-type {\n        vertical-align: middle;\n    }\n\n    .dataframe tbody tr th {\n        vertical-align: top;\n    }\n\n    .dataframe thead th {\n        text-align: right;\n    }\n</style>\n<table border=\"1\" class=\"dataframe\">\n  <thead>\n    <tr style=\"text-align: right;\">\n      <th></th>\n      <th>order_id</th>\n      <th>quantity</th>\n      <th>item_name</th>\n      <th>choice_description</th>\n      <th>item_price</th>\n    </tr>\n  </thead>\n  <tbody>\n    <tr>\n      <th>0</th>\n      <td>1</td>\n      <td>1</td>\n      <td>Chips and Fresh Tomato Salsa</td>\n      <td>NaN</td>\n      <td>$2.39</td>\n    </tr>\n    <tr>\n      <th>1</th>\n      <td>1</td>\n      <td>1</td>\n      <td>Izze</td>\n      <td>[Clementine]</td>\n      <td>$3.39</td>\n    </tr>\n    <tr>\n      <th>2</th>\n      <td>1</td>\n      <td>1</td>\n      <td>Nantucket Nectar</td>\n      <td>[Apple]</td>\n      <td>$3.39</td>\n    </tr>\n    <tr>\n      <th>3</th>\n      <td>1</td>\n      <td>1</td>\n      <td>Chips and Tomatillo-Green Chili Salsa</td>\n      <td>NaN</td>\n      <td>$2.39</td>\n    </tr>\n    <tr>\n      <th>4</th>\n      <td>2</td>\n      <td>2</td>\n      <td>Chicken Bowl</td>\n      <td>[Tomatillo-Red Chili Salsa (Hot), [Black Beans...</td>\n      <td>$16.98</td>\n    </tr>\n    <tr>\n      <th>5</th>\n      <td>3</td>\n      <td>1</td>\n      <td>Chicken Bowl</td>\n      <td>[Fresh Tomato Salsa (Mild), [Rice, Cheese, Sou...</td>\n      <td>$10.98</td>\n    </tr>\n    <tr>\n      <th>6</th>\n      <td>3</td>\n      <td>1</td>\n      <td>Side of Chips</td>\n      <td>NaN</td>\n      <td>$1.69</td>\n    </tr>\n    <tr>\n      <th>7</th>\n      <td>4</td>\n      <td>1</td>\n      <td>Steak Burrito</td>\n      <td>[Tomatillo Red Chili Salsa, [Fajita Vegetables...</td>\n      <td>$11.75</td>\n    </tr>\n    <tr>\n      <th>8</th>\n      <td>4</td>\n      <td>1</td>\n      <td>Steak Soft Tacos</td>\n      <td>[Tomatillo Green Chili Salsa, [Pinto Beans, Ch...</td>\n      <td>$9.25</td>\n    </tr>\n    <tr>\n      <th>9</th>\n      <td>5</td>\n      <td>1</td>\n      <td>Steak Burrito</td>\n      <td>[Fresh Tomato Salsa, [Rice, Black Beans, Pinto...</td>\n      <td>$9.25</td>\n    </tr>\n  </tbody>\n</table>\n</div>",
            "text/plain": "   order_id  quantity                              item_name  \\\n0         1         1           Chips and Fresh Tomato Salsa   \n1         1         1                                   Izze   \n2         1         1                       Nantucket Nectar   \n3         1         1  Chips and Tomatillo-Green Chili Salsa   \n4         2         2                           Chicken Bowl   \n5         3         1                           Chicken Bowl   \n6         3         1                          Side of Chips   \n7         4         1                          Steak Burrito   \n8         4         1                       Steak Soft Tacos   \n9         5         1                          Steak Burrito   \n\n                                  choice_description item_price  \n0                                                NaN     $2.39   \n1                                       [Clementine]     $3.39   \n2                                            [Apple]     $3.39   \n3                                                NaN     $2.39   \n4  [Tomatillo-Red Chili Salsa (Hot), [Black Beans...    $16.98   \n5  [Fresh Tomato Salsa (Mild), [Rice, Cheese, Sou...    $10.98   \n6                                                NaN     $1.69   \n7  [Tomatillo Red Chili Salsa, [Fajita Vegetables...    $11.75   \n8  [Tomatillo Green Chili Salsa, [Pinto Beans, Ch...     $9.25   \n9  [Fresh Tomato Salsa, [Rice, Black Beans, Pinto...     $9.25   "
          },
          "metadata": {}
        }
      ]
    },
    {
      "metadata": {
        "trusted": true
      },
      "cell_type": "code",
      "source": "# Observe a coluna item_price\nvendas.dtypes",
      "execution_count": 13,
      "outputs": [
        {
          "output_type": "execute_result",
          "execution_count": 13,
          "data": {
            "text/plain": "order_id               int64\nquantity               int64\nitem_name             object\nchoice_description    object\nitem_price            object\ndtype: object"
          },
          "metadata": {}
        }
      ]
    },
    {
      "metadata": {
        "trusted": true,
        "scrolled": true
      },
      "cell_type": "code",
      "source": "# convertendo uma string em um float e trazendo a média\nvendas.item_price.str.replace('$','').astype(float).mean()",
      "execution_count": 14,
      "outputs": [
        {
          "output_type": "execute_result",
          "execution_count": 14,
          "data": {
            "text/plain": "7.464335785374397"
          },
          "metadata": {}
        }
      ]
    },
    {
      "metadata": {
        "trusted": true
      },
      "cell_type": "markdown",
      "source": "## Mais um pouco sobre booleanos"
    },
    {
      "metadata": {
        "trusted": true
      },
      "cell_type": "code",
      "source": "# Já aprendemos a utilizar o contains, certo?\nvendas.item_name.str.contains('Chicken').head(10)",
      "execution_count": 15,
      "outputs": [
        {
          "output_type": "execute_result",
          "execution_count": 15,
          "data": {
            "text/plain": "0    False\n1    False\n2    False\n3    False\n4     True\n5     True\n6    False\n7    False\n8    False\n9    False\nName: item_name, dtype: bool"
          },
          "metadata": {}
        }
      ]
    },
    {
      "metadata": {
        "trusted": true
      },
      "cell_type": "code",
      "source": "# Vamos converter uma serie booleana em integer (False = 0, True = 1)\nvendas.item_name.str.contains('Chicken').astype(int).head(20)",
      "execution_count": 16,
      "outputs": [
        {
          "output_type": "execute_result",
          "execution_count": 16,
          "data": {
            "text/plain": "0     0\n1     0\n2     0\n3     0\n4     1\n5     1\n6     0\n7     0\n8     0\n9     0\n10    0\n11    1\n12    1\n13    1\n14    0\n15    0\n16    1\n17    1\n18    0\n19    1\nName: item_name, dtype: int64"
          },
          "metadata": {}
        }
      ]
    },
    {
      "metadata": {
        "trusted": true
      },
      "cell_type": "code",
      "source": "# Podemos fazer o procedimento com uma variável? \nvendas_int = vendas.item_name.str.contains('Chicken').astype(int)\nvendas_int.head(20)",
      "execution_count": 19,
      "outputs": [
        {
          "output_type": "execute_result",
          "execution_count": 19,
          "data": {
            "text/plain": "0     0\n1     0\n2     0\n3     0\n4     1\n5     1\n6     0\n7     0\n8     0\n9     0\n10    0\n11    1\n12    1\n13    1\n14    0\n15    0\n16    1\n17    1\n18    0\n19    1\nName: item_name, dtype: int64"
          },
          "metadata": {}
        }
      ]
    },
    {
      "metadata": {},
      "cell_type": "markdown",
      "source": "## Quantos sanduíches contém Tomato?"
    },
    {
      "metadata": {
        "trusted": true
      },
      "cell_type": "code",
      "source": "vendas.item_name.str.contains('Tomato').astype(int).sum()",
      "execution_count": 23,
      "outputs": [
        {
          "output_type": "execute_result",
          "execution_count": 23,
          "data": {
            "text/plain": "111"
          },
          "metadata": {}
        }
      ]
    },
    {
      "metadata": {
        "trusted": true
      },
      "cell_type": "code",
      "source": "# Como é trabalhada a programação acima?\n# Passo01 - vendas.item_name.str.contains('Tomato').astype(int)\n# Passo02 - Somente aplicamos o sum() na série inteira, que somará as ocorrências verdadeiras, ou seja, 1.\n\npasso01 = vendas.item_name.str.contains('Tomato').astype(int)\npasso02 = passo01.sum()\npasso02",
      "execution_count": 24,
      "outputs": [
        {
          "output_type": "execute_result",
          "execution_count": 24,
          "data": {
            "text/plain": "111"
          },
          "metadata": {}
        }
      ]
    },
    {
      "metadata": {},
      "cell_type": "markdown",
      "source": "## Será que vendem Coca-Cola?"
    },
    {
      "metadata": {
        "trusted": true
      },
      "cell_type": "code",
      "source": "vendas.item_name.str.contains('Coke').astype(int).sum()",
      "execution_count": 25,
      "outputs": [
        {
          "output_type": "execute_result",
          "execution_count": 25,
          "data": {
            "text/plain": "0"
          },
          "metadata": {}
        }
      ]
    },
    {
      "metadata": {
        "trusted": true
      },
      "cell_type": "code",
      "source": "vendas",
      "execution_count": 26,
      "outputs": [
        {
          "output_type": "execute_result",
          "execution_count": 26,
          "data": {
            "text/html": "<div>\n<style scoped>\n    .dataframe tbody tr th:only-of-type {\n        vertical-align: middle;\n    }\n\n    .dataframe tbody tr th {\n        vertical-align: top;\n    }\n\n    .dataframe thead th {\n        text-align: right;\n    }\n</style>\n<table border=\"1\" class=\"dataframe\">\n  <thead>\n    <tr style=\"text-align: right;\">\n      <th></th>\n      <th>order_id</th>\n      <th>quantity</th>\n      <th>item_name</th>\n      <th>choice_description</th>\n      <th>item_price</th>\n    </tr>\n  </thead>\n  <tbody>\n    <tr>\n      <th>0</th>\n      <td>1</td>\n      <td>1</td>\n      <td>Chips and Fresh Tomato Salsa</td>\n      <td>NaN</td>\n      <td>$2.39</td>\n    </tr>\n    <tr>\n      <th>1</th>\n      <td>1</td>\n      <td>1</td>\n      <td>Izze</td>\n      <td>[Clementine]</td>\n      <td>$3.39</td>\n    </tr>\n    <tr>\n      <th>2</th>\n      <td>1</td>\n      <td>1</td>\n      <td>Nantucket Nectar</td>\n      <td>[Apple]</td>\n      <td>$3.39</td>\n    </tr>\n    <tr>\n      <th>3</th>\n      <td>1</td>\n      <td>1</td>\n      <td>Chips and Tomatillo-Green Chili Salsa</td>\n      <td>NaN</td>\n      <td>$2.39</td>\n    </tr>\n    <tr>\n      <th>4</th>\n      <td>2</td>\n      <td>2</td>\n      <td>Chicken Bowl</td>\n      <td>[Tomatillo-Red Chili Salsa (Hot), [Black Beans...</td>\n      <td>$16.98</td>\n    </tr>\n    <tr>\n      <th>5</th>\n      <td>3</td>\n      <td>1</td>\n      <td>Chicken Bowl</td>\n      <td>[Fresh Tomato Salsa (Mild), [Rice, Cheese, Sou...</td>\n      <td>$10.98</td>\n    </tr>\n    <tr>\n      <th>6</th>\n      <td>3</td>\n      <td>1</td>\n      <td>Side of Chips</td>\n      <td>NaN</td>\n      <td>$1.69</td>\n    </tr>\n    <tr>\n      <th>7</th>\n      <td>4</td>\n      <td>1</td>\n      <td>Steak Burrito</td>\n      <td>[Tomatillo Red Chili Salsa, [Fajita Vegetables...</td>\n      <td>$11.75</td>\n    </tr>\n    <tr>\n      <th>8</th>\n      <td>4</td>\n      <td>1</td>\n      <td>Steak Soft Tacos</td>\n      <td>[Tomatillo Green Chili Salsa, [Pinto Beans, Ch...</td>\n      <td>$9.25</td>\n    </tr>\n    <tr>\n      <th>9</th>\n      <td>5</td>\n      <td>1</td>\n      <td>Steak Burrito</td>\n      <td>[Fresh Tomato Salsa, [Rice, Black Beans, Pinto...</td>\n      <td>$9.25</td>\n    </tr>\n    <tr>\n      <th>10</th>\n      <td>5</td>\n      <td>1</td>\n      <td>Chips and Guacamole</td>\n      <td>NaN</td>\n      <td>$4.45</td>\n    </tr>\n    <tr>\n      <th>11</th>\n      <td>6</td>\n      <td>1</td>\n      <td>Chicken Crispy Tacos</td>\n      <td>[Roasted Chili Corn Salsa, [Fajita Vegetables,...</td>\n      <td>$8.75</td>\n    </tr>\n    <tr>\n      <th>12</th>\n      <td>6</td>\n      <td>1</td>\n      <td>Chicken Soft Tacos</td>\n      <td>[Roasted Chili Corn Salsa, [Rice, Black Beans,...</td>\n      <td>$8.75</td>\n    </tr>\n    <tr>\n      <th>13</th>\n      <td>7</td>\n      <td>1</td>\n      <td>Chicken Bowl</td>\n      <td>[Fresh Tomato Salsa, [Fajita Vegetables, Rice,...</td>\n      <td>$11.25</td>\n    </tr>\n    <tr>\n      <th>14</th>\n      <td>7</td>\n      <td>1</td>\n      <td>Chips and Guacamole</td>\n      <td>NaN</td>\n      <td>$4.45</td>\n    </tr>\n    <tr>\n      <th>15</th>\n      <td>8</td>\n      <td>1</td>\n      <td>Chips and Tomatillo-Green Chili Salsa</td>\n      <td>NaN</td>\n      <td>$2.39</td>\n    </tr>\n    <tr>\n      <th>16</th>\n      <td>8</td>\n      <td>1</td>\n      <td>Chicken Burrito</td>\n      <td>[Tomatillo-Green Chili Salsa (Medium), [Pinto ...</td>\n      <td>$8.49</td>\n    </tr>\n    <tr>\n      <th>17</th>\n      <td>9</td>\n      <td>1</td>\n      <td>Chicken Burrito</td>\n      <td>[Fresh Tomato Salsa (Mild), [Black Beans, Rice...</td>\n      <td>$8.49</td>\n    </tr>\n    <tr>\n      <th>18</th>\n      <td>9</td>\n      <td>2</td>\n      <td>Canned Soda</td>\n      <td>[Sprite]</td>\n      <td>$2.18</td>\n    </tr>\n    <tr>\n      <th>19</th>\n      <td>10</td>\n      <td>1</td>\n      <td>Chicken Bowl</td>\n      <td>[Tomatillo Red Chili Salsa, [Fajita Vegetables...</td>\n      <td>$8.75</td>\n    </tr>\n    <tr>\n      <th>20</th>\n      <td>10</td>\n      <td>1</td>\n      <td>Chips and Guacamole</td>\n      <td>NaN</td>\n      <td>$4.45</td>\n    </tr>\n    <tr>\n      <th>21</th>\n      <td>11</td>\n      <td>1</td>\n      <td>Barbacoa Burrito</td>\n      <td>[[Fresh Tomato Salsa (Mild), Tomatillo-Green C...</td>\n      <td>$8.99</td>\n    </tr>\n    <tr>\n      <th>22</th>\n      <td>11</td>\n      <td>1</td>\n      <td>Nantucket Nectar</td>\n      <td>[Pomegranate Cherry]</td>\n      <td>$3.39</td>\n    </tr>\n    <tr>\n      <th>23</th>\n      <td>12</td>\n      <td>1</td>\n      <td>Chicken Burrito</td>\n      <td>[[Tomatillo-Green Chili Salsa (Medium), Tomati...</td>\n      <td>$10.98</td>\n    </tr>\n    <tr>\n      <th>24</th>\n      <td>12</td>\n      <td>1</td>\n      <td>Izze</td>\n      <td>[Grapefruit]</td>\n      <td>$3.39</td>\n    </tr>\n    <tr>\n      <th>25</th>\n      <td>13</td>\n      <td>1</td>\n      <td>Chips and Fresh Tomato Salsa</td>\n      <td>NaN</td>\n      <td>$2.39</td>\n    </tr>\n    <tr>\n      <th>26</th>\n      <td>13</td>\n      <td>1</td>\n      <td>Chicken Bowl</td>\n      <td>[Roasted Chili Corn Salsa (Medium), [Pinto Bea...</td>\n      <td>$8.49</td>\n    </tr>\n    <tr>\n      <th>27</th>\n      <td>14</td>\n      <td>1</td>\n      <td>Carnitas Burrito</td>\n      <td>[[Tomatillo-Green Chili Salsa (Medium), Roaste...</td>\n      <td>$8.99</td>\n    </tr>\n    <tr>\n      <th>28</th>\n      <td>14</td>\n      <td>1</td>\n      <td>Canned Soda</td>\n      <td>[Dr. Pepper]</td>\n      <td>$1.09</td>\n    </tr>\n    <tr>\n      <th>29</th>\n      <td>15</td>\n      <td>1</td>\n      <td>Chicken Burrito</td>\n      <td>[Tomatillo-Green Chili Salsa (Medium), [Pinto ...</td>\n      <td>$8.49</td>\n    </tr>\n    <tr>\n      <th>...</th>\n      <td>...</td>\n      <td>...</td>\n      <td>...</td>\n      <td>...</td>\n      <td>...</td>\n    </tr>\n    <tr>\n      <th>4592</th>\n      <td>1825</td>\n      <td>1</td>\n      <td>Barbacoa Burrito</td>\n      <td>[Tomatillo Red Chili Salsa, [Rice, Fajita Vege...</td>\n      <td>$11.75</td>\n    </tr>\n    <tr>\n      <th>4593</th>\n      <td>1825</td>\n      <td>1</td>\n      <td>Carnitas Bowl</td>\n      <td>[Roasted Chili Corn Salsa, [Rice, Sour Cream, ...</td>\n      <td>$11.75</td>\n    </tr>\n    <tr>\n      <th>4594</th>\n      <td>1825</td>\n      <td>1</td>\n      <td>Barbacoa Bowl</td>\n      <td>[Roasted Chili Corn Salsa, [Pinto Beans, Sour ...</td>\n      <td>$11.75</td>\n    </tr>\n    <tr>\n      <th>4595</th>\n      <td>1826</td>\n      <td>1</td>\n      <td>Chicken Bowl</td>\n      <td>[Tomatillo Green Chili Salsa, [Rice, Black Bea...</td>\n      <td>$8.75</td>\n    </tr>\n    <tr>\n      <th>4596</th>\n      <td>1826</td>\n      <td>1</td>\n      <td>Chips and Guacamole</td>\n      <td>NaN</td>\n      <td>$4.45</td>\n    </tr>\n    <tr>\n      <th>4597</th>\n      <td>1826</td>\n      <td>1</td>\n      <td>Canned Soft Drink</td>\n      <td>[Nestea]</td>\n      <td>$1.25</td>\n    </tr>\n    <tr>\n      <th>4598</th>\n      <td>1826</td>\n      <td>1</td>\n      <td>Bottled Water</td>\n      <td>NaN</td>\n      <td>$1.50</td>\n    </tr>\n    <tr>\n      <th>4599</th>\n      <td>1827</td>\n      <td>1</td>\n      <td>Chicken Bowl</td>\n      <td>[Roasted Chili Corn Salsa, [Cheese, Lettuce]]</td>\n      <td>$8.75</td>\n    </tr>\n    <tr>\n      <th>4600</th>\n      <td>1827</td>\n      <td>1</td>\n      <td>Chips and Guacamole</td>\n      <td>NaN</td>\n      <td>$4.45</td>\n    </tr>\n    <tr>\n      <th>4601</th>\n      <td>1827</td>\n      <td>1</td>\n      <td>Canned Soft Drink</td>\n      <td>[Diet Coke]</td>\n      <td>$1.25</td>\n    </tr>\n    <tr>\n      <th>4602</th>\n      <td>1827</td>\n      <td>1</td>\n      <td>Barbacoa Burrito</td>\n      <td>[Tomatillo Green Chili Salsa]</td>\n      <td>$9.25</td>\n    </tr>\n    <tr>\n      <th>4603</th>\n      <td>1827</td>\n      <td>1</td>\n      <td>Barbacoa Burrito</td>\n      <td>[Tomatillo Green Chili Salsa]</td>\n      <td>$9.25</td>\n    </tr>\n    <tr>\n      <th>4604</th>\n      <td>1828</td>\n      <td>1</td>\n      <td>Chicken Bowl</td>\n      <td>[Fresh Tomato Salsa, [Rice, Black Beans, Chees...</td>\n      <td>$8.75</td>\n    </tr>\n    <tr>\n      <th>4605</th>\n      <td>1828</td>\n      <td>1</td>\n      <td>Chips and Guacamole</td>\n      <td>NaN</td>\n      <td>$4.45</td>\n    </tr>\n    <tr>\n      <th>4606</th>\n      <td>1828</td>\n      <td>1</td>\n      <td>Canned Soft Drink</td>\n      <td>[Coke]</td>\n      <td>$1.25</td>\n    </tr>\n    <tr>\n      <th>4607</th>\n      <td>1829</td>\n      <td>1</td>\n      <td>Steak Burrito</td>\n      <td>[Tomatillo Green Chili Salsa, [Rice, Cheese, S...</td>\n      <td>$11.75</td>\n    </tr>\n    <tr>\n      <th>4608</th>\n      <td>1829</td>\n      <td>1</td>\n      <td>Veggie Burrito</td>\n      <td>[Tomatillo Red Chili Salsa, [Fajita Vegetables...</td>\n      <td>$11.25</td>\n    </tr>\n    <tr>\n      <th>4609</th>\n      <td>1829</td>\n      <td>1</td>\n      <td>Canned Soft Drink</td>\n      <td>[Sprite]</td>\n      <td>$1.25</td>\n    </tr>\n    <tr>\n      <th>4610</th>\n      <td>1830</td>\n      <td>1</td>\n      <td>Steak Burrito</td>\n      <td>[Fresh Tomato Salsa, [Rice, Sour Cream, Cheese...</td>\n      <td>$11.75</td>\n    </tr>\n    <tr>\n      <th>4611</th>\n      <td>1830</td>\n      <td>1</td>\n      <td>Veggie Burrito</td>\n      <td>[Tomatillo Green Chili Salsa, [Rice, Fajita Ve...</td>\n      <td>$11.25</td>\n    </tr>\n    <tr>\n      <th>4612</th>\n      <td>1831</td>\n      <td>1</td>\n      <td>Carnitas Bowl</td>\n      <td>[Fresh Tomato Salsa, [Fajita Vegetables, Rice,...</td>\n      <td>$9.25</td>\n    </tr>\n    <tr>\n      <th>4613</th>\n      <td>1831</td>\n      <td>1</td>\n      <td>Chips</td>\n      <td>NaN</td>\n      <td>$2.15</td>\n    </tr>\n    <tr>\n      <th>4614</th>\n      <td>1831</td>\n      <td>1</td>\n      <td>Bottled Water</td>\n      <td>NaN</td>\n      <td>$1.50</td>\n    </tr>\n    <tr>\n      <th>4615</th>\n      <td>1832</td>\n      <td>1</td>\n      <td>Chicken Soft Tacos</td>\n      <td>[Fresh Tomato Salsa, [Rice, Cheese, Sour Cream]]</td>\n      <td>$8.75</td>\n    </tr>\n    <tr>\n      <th>4616</th>\n      <td>1832</td>\n      <td>1</td>\n      <td>Chips and Guacamole</td>\n      <td>NaN</td>\n      <td>$4.45</td>\n    </tr>\n    <tr>\n      <th>4617</th>\n      <td>1833</td>\n      <td>1</td>\n      <td>Steak Burrito</td>\n      <td>[Fresh Tomato Salsa, [Rice, Black Beans, Sour ...</td>\n      <td>$11.75</td>\n    </tr>\n    <tr>\n      <th>4618</th>\n      <td>1833</td>\n      <td>1</td>\n      <td>Steak Burrito</td>\n      <td>[Fresh Tomato Salsa, [Rice, Sour Cream, Cheese...</td>\n      <td>$11.75</td>\n    </tr>\n    <tr>\n      <th>4619</th>\n      <td>1834</td>\n      <td>1</td>\n      <td>Chicken Salad Bowl</td>\n      <td>[Fresh Tomato Salsa, [Fajita Vegetables, Pinto...</td>\n      <td>$11.25</td>\n    </tr>\n    <tr>\n      <th>4620</th>\n      <td>1834</td>\n      <td>1</td>\n      <td>Chicken Salad Bowl</td>\n      <td>[Fresh Tomato Salsa, [Fajita Vegetables, Lettu...</td>\n      <td>$8.75</td>\n    </tr>\n    <tr>\n      <th>4621</th>\n      <td>1834</td>\n      <td>1</td>\n      <td>Chicken Salad Bowl</td>\n      <td>[Fresh Tomato Salsa, [Fajita Vegetables, Pinto...</td>\n      <td>$8.75</td>\n    </tr>\n  </tbody>\n</table>\n<p>4622 rows × 5 columns</p>\n</div>",
            "text/plain": "      order_id  quantity                              item_name  \\\n0            1         1           Chips and Fresh Tomato Salsa   \n1            1         1                                   Izze   \n2            1         1                       Nantucket Nectar   \n3            1         1  Chips and Tomatillo-Green Chili Salsa   \n4            2         2                           Chicken Bowl   \n5            3         1                           Chicken Bowl   \n6            3         1                          Side of Chips   \n7            4         1                          Steak Burrito   \n8            4         1                       Steak Soft Tacos   \n9            5         1                          Steak Burrito   \n10           5         1                    Chips and Guacamole   \n11           6         1                   Chicken Crispy Tacos   \n12           6         1                     Chicken Soft Tacos   \n13           7         1                           Chicken Bowl   \n14           7         1                    Chips and Guacamole   \n15           8         1  Chips and Tomatillo-Green Chili Salsa   \n16           8         1                        Chicken Burrito   \n17           9         1                        Chicken Burrito   \n18           9         2                            Canned Soda   \n19          10         1                           Chicken Bowl   \n20          10         1                    Chips and Guacamole   \n21          11         1                       Barbacoa Burrito   \n22          11         1                       Nantucket Nectar   \n23          12         1                        Chicken Burrito   \n24          12         1                                   Izze   \n25          13         1           Chips and Fresh Tomato Salsa   \n26          13         1                           Chicken Bowl   \n27          14         1                       Carnitas Burrito   \n28          14         1                            Canned Soda   \n29          15         1                        Chicken Burrito   \n...        ...       ...                                    ...   \n4592      1825         1                       Barbacoa Burrito   \n4593      1825         1                          Carnitas Bowl   \n4594      1825         1                          Barbacoa Bowl   \n4595      1826         1                           Chicken Bowl   \n4596      1826         1                    Chips and Guacamole   \n4597      1826         1                      Canned Soft Drink   \n4598      1826         1                          Bottled Water   \n4599      1827         1                           Chicken Bowl   \n4600      1827         1                    Chips and Guacamole   \n4601      1827         1                      Canned Soft Drink   \n4602      1827         1                       Barbacoa Burrito   \n4603      1827         1                       Barbacoa Burrito   \n4604      1828         1                           Chicken Bowl   \n4605      1828         1                    Chips and Guacamole   \n4606      1828         1                      Canned Soft Drink   \n4607      1829         1                          Steak Burrito   \n4608      1829         1                         Veggie Burrito   \n4609      1829         1                      Canned Soft Drink   \n4610      1830         1                          Steak Burrito   \n4611      1830         1                         Veggie Burrito   \n4612      1831         1                          Carnitas Bowl   \n4613      1831         1                                  Chips   \n4614      1831         1                          Bottled Water   \n4615      1832         1                     Chicken Soft Tacos   \n4616      1832         1                    Chips and Guacamole   \n4617      1833         1                          Steak Burrito   \n4618      1833         1                          Steak Burrito   \n4619      1834         1                     Chicken Salad Bowl   \n4620      1834         1                     Chicken Salad Bowl   \n4621      1834         1                     Chicken Salad Bowl   \n\n                                     choice_description item_price  \n0                                                   NaN     $2.39   \n1                                          [Clementine]     $3.39   \n2                                               [Apple]     $3.39   \n3                                                   NaN     $2.39   \n4     [Tomatillo-Red Chili Salsa (Hot), [Black Beans...    $16.98   \n5     [Fresh Tomato Salsa (Mild), [Rice, Cheese, Sou...    $10.98   \n6                                                   NaN     $1.69   \n7     [Tomatillo Red Chili Salsa, [Fajita Vegetables...    $11.75   \n8     [Tomatillo Green Chili Salsa, [Pinto Beans, Ch...     $9.25   \n9     [Fresh Tomato Salsa, [Rice, Black Beans, Pinto...     $9.25   \n10                                                  NaN     $4.45   \n11    [Roasted Chili Corn Salsa, [Fajita Vegetables,...     $8.75   \n12    [Roasted Chili Corn Salsa, [Rice, Black Beans,...     $8.75   \n13    [Fresh Tomato Salsa, [Fajita Vegetables, Rice,...    $11.25   \n14                                                  NaN     $4.45   \n15                                                  NaN     $2.39   \n16    [Tomatillo-Green Chili Salsa (Medium), [Pinto ...     $8.49   \n17    [Fresh Tomato Salsa (Mild), [Black Beans, Rice...     $8.49   \n18                                             [Sprite]     $2.18   \n19    [Tomatillo Red Chili Salsa, [Fajita Vegetables...     $8.75   \n20                                                  NaN     $4.45   \n21    [[Fresh Tomato Salsa (Mild), Tomatillo-Green C...     $8.99   \n22                                 [Pomegranate Cherry]     $3.39   \n23    [[Tomatillo-Green Chili Salsa (Medium), Tomati...    $10.98   \n24                                         [Grapefruit]     $3.39   \n25                                                  NaN     $2.39   \n26    [Roasted Chili Corn Salsa (Medium), [Pinto Bea...     $8.49   \n27    [[Tomatillo-Green Chili Salsa (Medium), Roaste...     $8.99   \n28                                         [Dr. Pepper]     $1.09   \n29    [Tomatillo-Green Chili Salsa (Medium), [Pinto ...     $8.49   \n...                                                 ...        ...  \n4592  [Tomatillo Red Chili Salsa, [Rice, Fajita Vege...    $11.75   \n4593  [Roasted Chili Corn Salsa, [Rice, Sour Cream, ...    $11.75   \n4594  [Roasted Chili Corn Salsa, [Pinto Beans, Sour ...    $11.75   \n4595  [Tomatillo Green Chili Salsa, [Rice, Black Bea...     $8.75   \n4596                                                NaN     $4.45   \n4597                                           [Nestea]     $1.25   \n4598                                                NaN     $1.50   \n4599      [Roasted Chili Corn Salsa, [Cheese, Lettuce]]     $8.75   \n4600                                                NaN     $4.45   \n4601                                        [Diet Coke]     $1.25   \n4602                      [Tomatillo Green Chili Salsa]     $9.25   \n4603                      [Tomatillo Green Chili Salsa]     $9.25   \n4604  [Fresh Tomato Salsa, [Rice, Black Beans, Chees...     $8.75   \n4605                                                NaN     $4.45   \n4606                                             [Coke]     $1.25   \n4607  [Tomatillo Green Chili Salsa, [Rice, Cheese, S...    $11.75   \n4608  [Tomatillo Red Chili Salsa, [Fajita Vegetables...    $11.25   \n4609                                           [Sprite]     $1.25   \n4610  [Fresh Tomato Salsa, [Rice, Sour Cream, Cheese...    $11.75   \n4611  [Tomatillo Green Chili Salsa, [Rice, Fajita Ve...    $11.25   \n4612  [Fresh Tomato Salsa, [Fajita Vegetables, Rice,...     $9.25   \n4613                                                NaN     $2.15   \n4614                                                NaN     $1.50   \n4615   [Fresh Tomato Salsa, [Rice, Cheese, Sour Cream]]     $8.75   \n4616                                                NaN     $4.45   \n4617  [Fresh Tomato Salsa, [Rice, Black Beans, Sour ...    $11.75   \n4618  [Fresh Tomato Salsa, [Rice, Sour Cream, Cheese...    $11.75   \n4619  [Fresh Tomato Salsa, [Fajita Vegetables, Pinto...    $11.25   \n4620  [Fresh Tomato Salsa, [Fajita Vegetables, Lettu...     $8.75   \n4621  [Fresh Tomato Salsa, [Fajita Vegetables, Pinto...     $8.75   \n\n[4622 rows x 5 columns]"
          },
          "metadata": {}
        }
      ]
    },
    {
      "metadata": {
        "trusted": true
      },
      "cell_type": "code",
      "source": "# Coke não está na coluna item_name, mas sim na choise_description\nvendas.choice_description.str.contains('Coke').astype(int).sum()",
      "execution_count": 28,
      "outputs": [
        {
          "output_type": "error",
          "ename": "ValueError",
          "evalue": "cannot convert float NaN to integer",
          "traceback": [
            "\u001b[0;31m---------------------------------------------------------------------------\u001b[0m",
            "\u001b[0;31mValueError\u001b[0m                                Traceback (most recent call last)",
            "\u001b[0;32m<ipython-input-28-251d2d03d32f>\u001b[0m in \u001b[0;36m<module>\u001b[0;34m\u001b[0m\n\u001b[1;32m      1\u001b[0m \u001b[0;31m# Coke não está na coluna item_name, mas sim na choise_description\u001b[0m\u001b[0;34m\u001b[0m\u001b[0;34m\u001b[0m\u001b[0m\n\u001b[0;32m----> 2\u001b[0;31m \u001b[0mvendas\u001b[0m\u001b[0;34m.\u001b[0m\u001b[0mchoice_description\u001b[0m\u001b[0;34m.\u001b[0m\u001b[0mstr\u001b[0m\u001b[0;34m.\u001b[0m\u001b[0mcontains\u001b[0m\u001b[0;34m(\u001b[0m\u001b[0;34m'Coke'\u001b[0m\u001b[0;34m)\u001b[0m\u001b[0;34m.\u001b[0m\u001b[0mastype\u001b[0m\u001b[0;34m(\u001b[0m\u001b[0mint\u001b[0m\u001b[0;34m)\u001b[0m\u001b[0;34m.\u001b[0m\u001b[0msum\u001b[0m\u001b[0;34m(\u001b[0m\u001b[0;34m)\u001b[0m\u001b[0;34m\u001b[0m\u001b[0m\n\u001b[0m",
            "\u001b[0;32m~/anaconda3_501/lib/python3.6/site-packages/pandas/util/_decorators.py\u001b[0m in \u001b[0;36mwrapper\u001b[0;34m(*args, **kwargs)\u001b[0m\n\u001b[1;32m    176\u001b[0m                 \u001b[0;32melse\u001b[0m\u001b[0;34m:\u001b[0m\u001b[0;34m\u001b[0m\u001b[0m\n\u001b[1;32m    177\u001b[0m                     \u001b[0mkwargs\u001b[0m\u001b[0;34m[\u001b[0m\u001b[0mnew_arg_name\u001b[0m\u001b[0;34m]\u001b[0m \u001b[0;34m=\u001b[0m \u001b[0mnew_arg_value\u001b[0m\u001b[0;34m\u001b[0m\u001b[0m\n\u001b[0;32m--> 178\u001b[0;31m             \u001b[0;32mreturn\u001b[0m \u001b[0mfunc\u001b[0m\u001b[0;34m(\u001b[0m\u001b[0;34m*\u001b[0m\u001b[0margs\u001b[0m\u001b[0;34m,\u001b[0m \u001b[0;34m**\u001b[0m\u001b[0mkwargs\u001b[0m\u001b[0;34m)\u001b[0m\u001b[0;34m\u001b[0m\u001b[0m\n\u001b[0m\u001b[1;32m    179\u001b[0m         \u001b[0;32mreturn\u001b[0m \u001b[0mwrapper\u001b[0m\u001b[0;34m\u001b[0m\u001b[0m\n\u001b[1;32m    180\u001b[0m     \u001b[0;32mreturn\u001b[0m \u001b[0m_deprecate_kwarg\u001b[0m\u001b[0;34m\u001b[0m\u001b[0m\n",
            "\u001b[0;32m~/anaconda3_501/lib/python3.6/site-packages/pandas/core/generic.py\u001b[0m in \u001b[0;36mastype\u001b[0;34m(self, dtype, copy, errors, **kwargs)\u001b[0m\n\u001b[1;32m   4999\u001b[0m             \u001b[0;31m# else, only a single dtype is given\u001b[0m\u001b[0;34m\u001b[0m\u001b[0;34m\u001b[0m\u001b[0m\n\u001b[1;32m   5000\u001b[0m             new_data = self._data.astype(dtype=dtype, copy=copy, errors=errors,\n\u001b[0;32m-> 5001\u001b[0;31m                                          **kwargs)\n\u001b[0m\u001b[1;32m   5002\u001b[0m             \u001b[0;32mreturn\u001b[0m \u001b[0mself\u001b[0m\u001b[0;34m.\u001b[0m\u001b[0m_constructor\u001b[0m\u001b[0;34m(\u001b[0m\u001b[0mnew_data\u001b[0m\u001b[0;34m)\u001b[0m\u001b[0;34m.\u001b[0m\u001b[0m__finalize__\u001b[0m\u001b[0;34m(\u001b[0m\u001b[0mself\u001b[0m\u001b[0;34m)\u001b[0m\u001b[0;34m\u001b[0m\u001b[0m\n\u001b[1;32m   5003\u001b[0m \u001b[0;34m\u001b[0m\u001b[0m\n",
            "\u001b[0;32m~/anaconda3_501/lib/python3.6/site-packages/pandas/core/internals.py\u001b[0m in \u001b[0;36mastype\u001b[0;34m(self, dtype, **kwargs)\u001b[0m\n\u001b[1;32m   3712\u001b[0m \u001b[0;34m\u001b[0m\u001b[0m\n\u001b[1;32m   3713\u001b[0m     \u001b[0;32mdef\u001b[0m \u001b[0mastype\u001b[0m\u001b[0;34m(\u001b[0m\u001b[0mself\u001b[0m\u001b[0;34m,\u001b[0m \u001b[0mdtype\u001b[0m\u001b[0;34m,\u001b[0m \u001b[0;34m**\u001b[0m\u001b[0mkwargs\u001b[0m\u001b[0;34m)\u001b[0m\u001b[0;34m:\u001b[0m\u001b[0;34m\u001b[0m\u001b[0m\n\u001b[0;32m-> 3714\u001b[0;31m         \u001b[0;32mreturn\u001b[0m \u001b[0mself\u001b[0m\u001b[0;34m.\u001b[0m\u001b[0mapply\u001b[0m\u001b[0;34m(\u001b[0m\u001b[0;34m'astype'\u001b[0m\u001b[0;34m,\u001b[0m \u001b[0mdtype\u001b[0m\u001b[0;34m=\u001b[0m\u001b[0mdtype\u001b[0m\u001b[0;34m,\u001b[0m \u001b[0;34m**\u001b[0m\u001b[0mkwargs\u001b[0m\u001b[0;34m)\u001b[0m\u001b[0;34m\u001b[0m\u001b[0m\n\u001b[0m\u001b[1;32m   3715\u001b[0m \u001b[0;34m\u001b[0m\u001b[0m\n\u001b[1;32m   3716\u001b[0m     \u001b[0;32mdef\u001b[0m \u001b[0mconvert\u001b[0m\u001b[0;34m(\u001b[0m\u001b[0mself\u001b[0m\u001b[0;34m,\u001b[0m \u001b[0;34m**\u001b[0m\u001b[0mkwargs\u001b[0m\u001b[0;34m)\u001b[0m\u001b[0;34m:\u001b[0m\u001b[0;34m\u001b[0m\u001b[0m\n",
            "\u001b[0;32m~/anaconda3_501/lib/python3.6/site-packages/pandas/core/internals.py\u001b[0m in \u001b[0;36mapply\u001b[0;34m(self, f, axes, filter, do_integrity_check, consolidate, **kwargs)\u001b[0m\n\u001b[1;32m   3579\u001b[0m \u001b[0;34m\u001b[0m\u001b[0m\n\u001b[1;32m   3580\u001b[0m             \u001b[0mkwargs\u001b[0m\u001b[0;34m[\u001b[0m\u001b[0;34m'mgr'\u001b[0m\u001b[0;34m]\u001b[0m \u001b[0;34m=\u001b[0m \u001b[0mself\u001b[0m\u001b[0;34m\u001b[0m\u001b[0m\n\u001b[0;32m-> 3581\u001b[0;31m             \u001b[0mapplied\u001b[0m \u001b[0;34m=\u001b[0m \u001b[0mgetattr\u001b[0m\u001b[0;34m(\u001b[0m\u001b[0mb\u001b[0m\u001b[0;34m,\u001b[0m \u001b[0mf\u001b[0m\u001b[0;34m)\u001b[0m\u001b[0;34m(\u001b[0m\u001b[0;34m**\u001b[0m\u001b[0mkwargs\u001b[0m\u001b[0;34m)\u001b[0m\u001b[0;34m\u001b[0m\u001b[0m\n\u001b[0m\u001b[1;32m   3582\u001b[0m             \u001b[0mresult_blocks\u001b[0m \u001b[0;34m=\u001b[0m \u001b[0m_extend_blocks\u001b[0m\u001b[0;34m(\u001b[0m\u001b[0mapplied\u001b[0m\u001b[0;34m,\u001b[0m \u001b[0mresult_blocks\u001b[0m\u001b[0;34m)\u001b[0m\u001b[0;34m\u001b[0m\u001b[0m\n\u001b[1;32m   3583\u001b[0m \u001b[0;34m\u001b[0m\u001b[0m\n",
            "\u001b[0;32m~/anaconda3_501/lib/python3.6/site-packages/pandas/core/internals.py\u001b[0m in \u001b[0;36mastype\u001b[0;34m(self, dtype, copy, errors, values, **kwargs)\u001b[0m\n\u001b[1;32m    573\u001b[0m     \u001b[0;32mdef\u001b[0m \u001b[0mastype\u001b[0m\u001b[0;34m(\u001b[0m\u001b[0mself\u001b[0m\u001b[0;34m,\u001b[0m \u001b[0mdtype\u001b[0m\u001b[0;34m,\u001b[0m \u001b[0mcopy\u001b[0m\u001b[0;34m=\u001b[0m\u001b[0;32mFalse\u001b[0m\u001b[0;34m,\u001b[0m \u001b[0merrors\u001b[0m\u001b[0;34m=\u001b[0m\u001b[0;34m'raise'\u001b[0m\u001b[0;34m,\u001b[0m \u001b[0mvalues\u001b[0m\u001b[0;34m=\u001b[0m\u001b[0;32mNone\u001b[0m\u001b[0;34m,\u001b[0m \u001b[0;34m**\u001b[0m\u001b[0mkwargs\u001b[0m\u001b[0;34m)\u001b[0m\u001b[0;34m:\u001b[0m\u001b[0;34m\u001b[0m\u001b[0m\n\u001b[1;32m    574\u001b[0m         return self._astype(dtype, copy=copy, errors=errors, values=values,\n\u001b[0;32m--> 575\u001b[0;31m                             **kwargs)\n\u001b[0m\u001b[1;32m    576\u001b[0m \u001b[0;34m\u001b[0m\u001b[0m\n\u001b[1;32m    577\u001b[0m     def _astype(self, dtype, copy=False, errors='raise', values=None,\n",
            "\u001b[0;32m~/anaconda3_501/lib/python3.6/site-packages/pandas/core/internals.py\u001b[0m in \u001b[0;36m_astype\u001b[0;34m(self, dtype, copy, errors, values, klass, mgr, **kwargs)\u001b[0m\n\u001b[1;32m    662\u001b[0m \u001b[0;34m\u001b[0m\u001b[0m\n\u001b[1;32m    663\u001b[0m                 \u001b[0;31m# _astype_nansafe works fine with 1-d only\u001b[0m\u001b[0;34m\u001b[0m\u001b[0;34m\u001b[0m\u001b[0m\n\u001b[0;32m--> 664\u001b[0;31m                 \u001b[0mvalues\u001b[0m \u001b[0;34m=\u001b[0m \u001b[0mastype_nansafe\u001b[0m\u001b[0;34m(\u001b[0m\u001b[0mvalues\u001b[0m\u001b[0;34m.\u001b[0m\u001b[0mravel\u001b[0m\u001b[0;34m(\u001b[0m\u001b[0;34m)\u001b[0m\u001b[0;34m,\u001b[0m \u001b[0mdtype\u001b[0m\u001b[0;34m,\u001b[0m \u001b[0mcopy\u001b[0m\u001b[0;34m=\u001b[0m\u001b[0;32mTrue\u001b[0m\u001b[0;34m)\u001b[0m\u001b[0;34m\u001b[0m\u001b[0m\n\u001b[0m\u001b[1;32m    665\u001b[0m                 \u001b[0mvalues\u001b[0m \u001b[0;34m=\u001b[0m \u001b[0mvalues\u001b[0m\u001b[0;34m.\u001b[0m\u001b[0mreshape\u001b[0m\u001b[0;34m(\u001b[0m\u001b[0mself\u001b[0m\u001b[0;34m.\u001b[0m\u001b[0mshape\u001b[0m\u001b[0;34m)\u001b[0m\u001b[0;34m\u001b[0m\u001b[0m\n\u001b[1;32m    666\u001b[0m \u001b[0;34m\u001b[0m\u001b[0m\n",
            "\u001b[0;32m~/anaconda3_501/lib/python3.6/site-packages/pandas/core/dtypes/cast.py\u001b[0m in \u001b[0;36mastype_nansafe\u001b[0;34m(arr, dtype, copy)\u001b[0m\n\u001b[1;32m    707\u001b[0m         \u001b[0;31m# work around NumPy brokenness, #1987\u001b[0m\u001b[0;34m\u001b[0m\u001b[0;34m\u001b[0m\u001b[0m\n\u001b[1;32m    708\u001b[0m         \u001b[0;32mif\u001b[0m \u001b[0mnp\u001b[0m\u001b[0;34m.\u001b[0m\u001b[0missubdtype\u001b[0m\u001b[0;34m(\u001b[0m\u001b[0mdtype\u001b[0m\u001b[0;34m.\u001b[0m\u001b[0mtype\u001b[0m\u001b[0;34m,\u001b[0m \u001b[0mnp\u001b[0m\u001b[0;34m.\u001b[0m\u001b[0minteger\u001b[0m\u001b[0;34m)\u001b[0m\u001b[0;34m:\u001b[0m\u001b[0;34m\u001b[0m\u001b[0m\n\u001b[0;32m--> 709\u001b[0;31m             \u001b[0;32mreturn\u001b[0m \u001b[0mlib\u001b[0m\u001b[0;34m.\u001b[0m\u001b[0mastype_intsafe\u001b[0m\u001b[0;34m(\u001b[0m\u001b[0marr\u001b[0m\u001b[0;34m.\u001b[0m\u001b[0mravel\u001b[0m\u001b[0;34m(\u001b[0m\u001b[0;34m)\u001b[0m\u001b[0;34m,\u001b[0m \u001b[0mdtype\u001b[0m\u001b[0;34m)\u001b[0m\u001b[0;34m.\u001b[0m\u001b[0mreshape\u001b[0m\u001b[0;34m(\u001b[0m\u001b[0marr\u001b[0m\u001b[0;34m.\u001b[0m\u001b[0mshape\u001b[0m\u001b[0;34m)\u001b[0m\u001b[0;34m\u001b[0m\u001b[0m\n\u001b[0m\u001b[1;32m    710\u001b[0m \u001b[0;34m\u001b[0m\u001b[0m\n\u001b[1;32m    711\u001b[0m         \u001b[0;31m# if we have a datetime/timedelta array of objects\u001b[0m\u001b[0;34m\u001b[0m\u001b[0;34m\u001b[0m\u001b[0m\n",
            "\u001b[0;32mpandas/_libs/lib.pyx\u001b[0m in \u001b[0;36mpandas._libs.lib.astype_intsafe\u001b[0;34m()\u001b[0m\n",
            "\u001b[0;32mpandas/_libs/src/util.pxd\u001b[0m in \u001b[0;36mutil.set_value_at_unsafe\u001b[0;34m()\u001b[0m\n",
            "\u001b[0;31mValueError\u001b[0m: cannot convert float NaN to integer"
          ]
        }
      ]
    },
    {
      "metadata": {
        "trusted": true
      },
      "cell_type": "code",
      "source": "",
      "execution_count": null,
      "outputs": []
    }
  ],
  "metadata": {
    "kernelspec": {
      "name": "python36",
      "display_name": "Python 3.6",
      "language": "python"
    },
    "language_info": {
      "mimetype": "text/x-python",
      "nbconvert_exporter": "python",
      "name": "python",
      "pygments_lexer": "ipython3",
      "version": "3.6.6",
      "file_extension": ".py",
      "codemirror_mode": {
        "version": 3,
        "name": "ipython"
      }
    }
  },
  "nbformat": 4,
  "nbformat_minor": 2
}