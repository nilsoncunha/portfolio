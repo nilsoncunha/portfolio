{
 "cells": [
  {
   "cell_type": "markdown",
   "metadata": {},
   "source": [
    "## Semana de Data Science"
   ]
  },
  {
   "cell_type": "code",
   "execution_count": 1,
   "metadata": {},
   "outputs": [],
   "source": [
    "import pandas as pd"
   ]
  },
  {
   "cell_type": "code",
   "execution_count": 2,
   "metadata": {},
   "outputs": [],
   "source": [
    "df = pd.read_excel('carros_usados.xls')"
   ]
  },
  {
   "cell_type": "code",
   "execution_count": 3,
   "metadata": {},
   "outputs": [
    {
     "data": {
      "text/html": [
       "<div>\n",
       "<style scoped>\n",
       "    .dataframe tbody tr th:only-of-type {\n",
       "        vertical-align: middle;\n",
       "    }\n",
       "\n",
       "    .dataframe tbody tr th {\n",
       "        vertical-align: top;\n",
       "    }\n",
       "\n",
       "    .dataframe thead th {\n",
       "        text-align: right;\n",
       "    }\n",
       "</style>\n",
       "<table border=\"1\" class=\"dataframe\">\n",
       "  <thead>\n",
       "    <tr style=\"text-align: right;\">\n",
       "      <th></th>\n",
       "      <th>data.set</th>\n",
       "      <th>total.cost</th>\n",
       "      <th>lot.sale.days</th>\n",
       "      <th>overage</th>\n",
       "      <th>mileage</th>\n",
       "      <th>vehicle.type</th>\n",
       "      <th>domestic.import</th>\n",
       "      <th>vehicle.age</th>\n",
       "      <th>vehicle.age.group</th>\n",
       "      <th>color.set</th>\n",
       "      <th>makex</th>\n",
       "      <th>state</th>\n",
       "      <th>make.model</th>\n",
       "    </tr>\n",
       "  </thead>\n",
       "  <tbody>\n",
       "    <tr>\n",
       "      <th>0</th>\n",
       "      <td>TRAIN</td>\n",
       "      <td>4037</td>\n",
       "      <td>135</td>\n",
       "      <td>YES</td>\n",
       "      <td>67341</td>\n",
       "      <td>FAMILY.LARGE</td>\n",
       "      <td>Domestic</td>\n",
       "      <td>8</td>\n",
       "      <td>SEVEN+</td>\n",
       "      <td>SILVER</td>\n",
       "      <td>BUICK</td>\n",
       "      <td>CA</td>\n",
       "      <td>BUICK.CENTURY</td>\n",
       "    </tr>\n",
       "    <tr>\n",
       "      <th>1</th>\n",
       "      <td>TRAIN</td>\n",
       "      <td>6886</td>\n",
       "      <td>114</td>\n",
       "      <td>YES</td>\n",
       "      <td>72823</td>\n",
       "      <td>FAMILY.MEDIUM</td>\n",
       "      <td>Domestic</td>\n",
       "      <td>6</td>\n",
       "      <td>SIX</td>\n",
       "      <td>WHITE</td>\n",
       "      <td>DODGE</td>\n",
       "      <td>AZ</td>\n",
       "      <td>DODGE.NEON</td>\n",
       "    </tr>\n",
       "    <tr>\n",
       "      <th>2</th>\n",
       "      <td>TRAIN</td>\n",
       "      <td>3924</td>\n",
       "      <td>205</td>\n",
       "      <td>YES</td>\n",
       "      <td>96330</td>\n",
       "      <td>FAMILY.MEDIUM</td>\n",
       "      <td>Domestic</td>\n",
       "      <td>9</td>\n",
       "      <td>SEVEN+</td>\n",
       "      <td>WHITE</td>\n",
       "      <td>OLDSMOBILE</td>\n",
       "      <td>FL</td>\n",
       "      <td>OLDSMOBILE.CUTLASS SUPREME</td>\n",
       "    </tr>\n",
       "    <tr>\n",
       "      <th>3</th>\n",
       "      <td>TRAIN</td>\n",
       "      <td>4636</td>\n",
       "      <td>100</td>\n",
       "      <td>YES</td>\n",
       "      <td>58519</td>\n",
       "      <td>ECONOMY</td>\n",
       "      <td>Import</td>\n",
       "      <td>4</td>\n",
       "      <td>FOUR</td>\n",
       "      <td>GOLD</td>\n",
       "      <td>KIA</td>\n",
       "      <td>NV</td>\n",
       "      <td>KIA.SEPHIA</td>\n",
       "    </tr>\n",
       "    <tr>\n",
       "      <th>4</th>\n",
       "      <td>TRAIN</td>\n",
       "      <td>5080</td>\n",
       "      <td>129</td>\n",
       "      <td>YES</td>\n",
       "      <td>99057</td>\n",
       "      <td>FAMILY.MEDIUM</td>\n",
       "      <td>Domestic</td>\n",
       "      <td>4</td>\n",
       "      <td>FOUR</td>\n",
       "      <td>GREEN</td>\n",
       "      <td>OLDSMOBILE</td>\n",
       "      <td>NV</td>\n",
       "      <td>OLDSMOBILE.CUTLASS SUPREME</td>\n",
       "    </tr>\n",
       "  </tbody>\n",
       "</table>\n",
       "</div>"
      ],
      "text/plain": [
       "  data.set  total.cost  lot.sale.days overage  mileage   vehicle.type  \\\n",
       "0    TRAIN        4037            135     YES    67341   FAMILY.LARGE   \n",
       "1    TRAIN        6886            114     YES    72823  FAMILY.MEDIUM   \n",
       "2    TRAIN        3924            205     YES    96330  FAMILY.MEDIUM   \n",
       "3    TRAIN        4636            100     YES    58519        ECONOMY   \n",
       "4    TRAIN        5080            129     YES    99057  FAMILY.MEDIUM   \n",
       "\n",
       "  domestic.import  vehicle.age vehicle.age.group color.set       makex state  \\\n",
       "0        Domestic            8            SEVEN+    SILVER       BUICK    CA   \n",
       "1        Domestic            6               SIX     WHITE       DODGE    AZ   \n",
       "2        Domestic            9            SEVEN+     WHITE  OLDSMOBILE    FL   \n",
       "3          Import            4              FOUR      GOLD         KIA    NV   \n",
       "4        Domestic            4              FOUR     GREEN  OLDSMOBILE    NV   \n",
       "\n",
       "                   make.model  \n",
       "0               BUICK.CENTURY  \n",
       "1                  DODGE.NEON  \n",
       "2  OLDSMOBILE.CUTLASS SUPREME  \n",
       "3                  KIA.SEPHIA  \n",
       "4  OLDSMOBILE.CUTLASS SUPREME  "
      ]
     },
     "execution_count": 3,
     "metadata": {},
     "output_type": "execute_result"
    }
   ],
   "source": [
    "df.head()"
   ]
  },
  {
   "cell_type": "code",
   "execution_count": 4,
   "metadata": {},
   "outputs": [
    {
     "name": "stdout",
     "output_type": "stream",
     "text": [
      "<class 'pandas.core.frame.DataFrame'>\n",
      "RangeIndex: 7495 entries, 0 to 7494\n",
      "Data columns (total 13 columns):\n",
      "data.set             7495 non-null object\n",
      "total.cost           7495 non-null int64\n",
      "lot.sale.days        7495 non-null int64\n",
      "overage              7495 non-null object\n",
      "mileage              7495 non-null int64\n",
      "vehicle.type         7495 non-null object\n",
      "domestic.import      7495 non-null object\n",
      "vehicle.age          7495 non-null int64\n",
      "vehicle.age.group    7495 non-null object\n",
      "color.set            7495 non-null object\n",
      "makex                7495 non-null object\n",
      "state                7495 non-null object\n",
      "make.model           7495 non-null object\n",
      "dtypes: int64(4), object(9)\n",
      "memory usage: 761.3+ KB\n"
     ]
    }
   ],
   "source": [
    "df.info()"
   ]
  },
  {
   "cell_type": "code",
   "execution_count": 5,
   "metadata": {},
   "outputs": [
    {
     "data": {
      "text/html": [
       "<div>\n",
       "<style scoped>\n",
       "    .dataframe tbody tr th:only-of-type {\n",
       "        vertical-align: middle;\n",
       "    }\n",
       "\n",
       "    .dataframe tbody tr th {\n",
       "        vertical-align: top;\n",
       "    }\n",
       "\n",
       "    .dataframe thead th {\n",
       "        text-align: right;\n",
       "    }\n",
       "</style>\n",
       "<table border=\"1\" class=\"dataframe\">\n",
       "  <thead>\n",
       "    <tr style=\"text-align: right;\">\n",
       "      <th></th>\n",
       "      <th>total.cost</th>\n",
       "      <th>lot.sale.days</th>\n",
       "      <th>mileage</th>\n",
       "      <th>vehicle.age</th>\n",
       "    </tr>\n",
       "  </thead>\n",
       "  <tbody>\n",
       "    <tr>\n",
       "      <th>count</th>\n",
       "      <td>7495.000000</td>\n",
       "      <td>7495.000000</td>\n",
       "      <td>7495.000000</td>\n",
       "      <td>7495.000000</td>\n",
       "    </tr>\n",
       "    <tr>\n",
       "      <th>mean</th>\n",
       "      <td>4980.035490</td>\n",
       "      <td>76.454303</td>\n",
       "      <td>77234.533422</td>\n",
       "      <td>5.567312</td>\n",
       "    </tr>\n",
       "    <tr>\n",
       "      <th>std</th>\n",
       "      <td>937.602064</td>\n",
       "      <td>64.644337</td>\n",
       "      <td>17142.552588</td>\n",
       "      <td>1.756219</td>\n",
       "    </tr>\n",
       "    <tr>\n",
       "      <th>min</th>\n",
       "      <td>1375.000000</td>\n",
       "      <td>0.000000</td>\n",
       "      <td>1036.000000</td>\n",
       "      <td>1.000000</td>\n",
       "    </tr>\n",
       "    <tr>\n",
       "      <th>25%</th>\n",
       "      <td>4354.000000</td>\n",
       "      <td>14.000000</td>\n",
       "      <td>67946.000000</td>\n",
       "      <td>4.000000</td>\n",
       "    </tr>\n",
       "    <tr>\n",
       "      <th>50%</th>\n",
       "      <td>4919.000000</td>\n",
       "      <td>73.000000</td>\n",
       "      <td>78534.000000</td>\n",
       "      <td>5.000000</td>\n",
       "    </tr>\n",
       "    <tr>\n",
       "      <th>75%</th>\n",
       "      <td>5540.000000</td>\n",
       "      <td>120.000000</td>\n",
       "      <td>89340.000000</td>\n",
       "      <td>7.000000</td>\n",
       "    </tr>\n",
       "    <tr>\n",
       "      <th>max</th>\n",
       "      <td>9813.000000</td>\n",
       "      <td>300.000000</td>\n",
       "      <td>119250.000000</td>\n",
       "      <td>12.000000</td>\n",
       "    </tr>\n",
       "  </tbody>\n",
       "</table>\n",
       "</div>"
      ],
      "text/plain": [
       "        total.cost  lot.sale.days        mileage  vehicle.age\n",
       "count  7495.000000    7495.000000    7495.000000  7495.000000\n",
       "mean   4980.035490      76.454303   77234.533422     5.567312\n",
       "std     937.602064      64.644337   17142.552588     1.756219\n",
       "min    1375.000000       0.000000    1036.000000     1.000000\n",
       "25%    4354.000000      14.000000   67946.000000     4.000000\n",
       "50%    4919.000000      73.000000   78534.000000     5.000000\n",
       "75%    5540.000000     120.000000   89340.000000     7.000000\n",
       "max    9813.000000     300.000000  119250.000000    12.000000"
      ]
     },
     "execution_count": 5,
     "metadata": {},
     "output_type": "execute_result"
    }
   ],
   "source": [
    "df.describe()"
   ]
  },
  {
   "cell_type": "code",
   "execution_count": 6,
   "metadata": {},
   "outputs": [
    {
     "data": {
      "text/plain": [
       "data.set             0\n",
       "total.cost           0\n",
       "lot.sale.days        0\n",
       "overage              0\n",
       "mileage              0\n",
       "vehicle.type         0\n",
       "domestic.import      0\n",
       "vehicle.age          0\n",
       "vehicle.age.group    0\n",
       "color.set            0\n",
       "makex                0\n",
       "state                0\n",
       "make.model           0\n",
       "dtype: int64"
      ]
     },
     "execution_count": 6,
     "metadata": {},
     "output_type": "execute_result"
    }
   ],
   "source": [
    "df.isnull().sum()"
   ]
  },
  {
   "cell_type": "markdown",
   "metadata": {},
   "source": [
    "**Análise exploratória**"
   ]
  },
  {
   "cell_type": "code",
   "execution_count": 7,
   "metadata": {},
   "outputs": [],
   "source": [
    "import seaborn as sns\n",
    "import matplotlib.pyplot as plt\n",
    "%matplotlib notebook"
   ]
  },
  {
   "cell_type": "code",
   "execution_count": 29,
   "metadata": {},
   "outputs": [],
   "source": [
    "plt.rcParams['figure.figsize'] = (10,5)"
   ]
  },
  {
   "cell_type": "markdown",
   "metadata": {},
   "source": [
    "**Definindo estilo**"
   ]
  },
  {
   "cell_type": "code",
   "execution_count": 8,
   "metadata": {},
   "outputs": [],
   "source": [
    "plt.style.use('ggplot')"
   ]
  },
  {
   "cell_type": "code",
   "execution_count": 30,
   "metadata": {},
   "outputs": [
    {
     "data": {
      "text/plain": [
       "Text(0.5, 1.0, 'Distribuição da coluna total.cost')"
      ]
     },
     "execution_count": 30,
     "metadata": {},
     "output_type": "execute_result"
    },
    {
     "data": {
      "image/png": "[encoded data removed]",
      "text/plain": [
       "<Figure size 720x360 with 1 Axes>"
      ]
     },
     "metadata": {},
     "output_type": "display_data"
    }
   ],
   "source": [
    "sns.distplot(df['total.cost'], color='green', kde=False)\n",
    "plt.title('Distribuição da coluna total.cost')"
   ]
  },
  {
   "cell_type": "markdown",
   "metadata": {},
   "source": [
    "**Qual a quantidade média de dias que os carros ficam na concessionária?**"
   ]
  },
  {
   "cell_type": "code",
   "execution_count": 11,
   "metadata": {},
   "outputs": [
    {
     "data": {
      "text/plain": [
       "Text(0.5, 1.0, 'Distribuição da coluna lot.sale.day')"
      ]
     },
     "execution_count": 11,
     "metadata": {},
     "output_type": "execute_result"
    },
    {
     "data": {
      "image/png": "[encoded data removed]",
      "text/plain": [
       "<Figure size 432x288 with 1 Axes>"
      ]
     },
     "metadata": {},
     "output_type": "display_data"
    }
   ],
   "source": [
    "sns.distplot(df['lot.sale.days'], color='red', kde=False)\n",
    "plt.title('Distribuição da coluna lot.sale.day')"
   ]
  },
  {
   "cell_type": "markdown",
   "metadata": {},
   "source": [
    "**Qual a kilometragem média dos veículos da concessionária?**"
   ]
  },
  {
   "cell_type": "code",
   "execution_count": 12,
   "metadata": {},
   "outputs": [
    {
     "data": {
      "text/plain": [
       "Text(0.5, 1.0, 'Distribuição da coluna mileage')"
      ]
     },
     "execution_count": 12,
     "metadata": {},
     "output_type": "execute_result"
    },
    {
     "data": {
      "image/png": "[encoded data removed]",
      "text/plain": [
       "<Figure size 432x288 with 1 Axes>"
      ]
     },
     "metadata": {},
     "output_type": "display_data"
    }
   ],
   "source": [
    "sns.distplot(df['mileage'], color='blue', kde=False)\n",
    "plt.title('Distribuição da coluna mileage')"
   ]
  },
  {
   "cell_type": "markdown",
   "metadata": {},
   "source": [
    "**Qual a idade média dos veículos da concessionária?**"
   ]
  },
  {
   "cell_type": "code",
   "execution_count": 13,
   "metadata": {},
   "outputs": [
    {
     "data": {
      "text/plain": [
       "Text(0.5, 1.0, 'Distribuição da coluna vehicle.age')"
      ]
     },
     "execution_count": 13,
     "metadata": {},
     "output_type": "execute_result"
    },
    {
     "data": {
      "image/png": "[encoded data removed]",
      "text/plain": [
       "<Figure size 432x288 with 1 Axes>"
      ]
     },
     "metadata": {},
     "output_type": "display_data"
    }
   ],
   "source": [
    "sns.distplot(df['vehicle.age'], color='red', kde=False)\n",
    "plt.title('Distribuição da coluna vehicle.age')"
   ]
  },
  {
   "cell_type": "markdown",
   "metadata": {},
   "source": [
    "**Visualizando a correlação entre algumas variáveis**"
   ]
  },
  {
   "cell_type": "code",
   "execution_count": 14,
   "metadata": {},
   "outputs": [
    {
     "data": {
      "text/html": [
       "<div>\n",
       "<style scoped>\n",
       "    .dataframe tbody tr th:only-of-type {\n",
       "        vertical-align: middle;\n",
       "    }\n",
       "\n",
       "    .dataframe tbody tr th {\n",
       "        vertical-align: top;\n",
       "    }\n",
       "\n",
       "    .dataframe thead th {\n",
       "        text-align: right;\n",
       "    }\n",
       "</style>\n",
       "<table border=\"1\" class=\"dataframe\">\n",
       "  <thead>\n",
       "    <tr style=\"text-align: right;\">\n",
       "      <th></th>\n",
       "      <th>mileage</th>\n",
       "      <th>vehicle.age</th>\n",
       "      <th>lot.sale.days</th>\n",
       "      <th>total.cost</th>\n",
       "    </tr>\n",
       "  </thead>\n",
       "  <tbody>\n",
       "    <tr>\n",
       "      <th>0</th>\n",
       "      <td>67341</td>\n",
       "      <td>8</td>\n",
       "      <td>135</td>\n",
       "      <td>4037</td>\n",
       "    </tr>\n",
       "    <tr>\n",
       "      <th>1</th>\n",
       "      <td>72823</td>\n",
       "      <td>6</td>\n",
       "      <td>114</td>\n",
       "      <td>6886</td>\n",
       "    </tr>\n",
       "    <tr>\n",
       "      <th>2</th>\n",
       "      <td>96330</td>\n",
       "      <td>9</td>\n",
       "      <td>205</td>\n",
       "      <td>3924</td>\n",
       "    </tr>\n",
       "    <tr>\n",
       "      <th>3</th>\n",
       "      <td>58519</td>\n",
       "      <td>4</td>\n",
       "      <td>100</td>\n",
       "      <td>4636</td>\n",
       "    </tr>\n",
       "    <tr>\n",
       "      <th>4</th>\n",
       "      <td>99057</td>\n",
       "      <td>4</td>\n",
       "      <td>129</td>\n",
       "      <td>5080</td>\n",
       "    </tr>\n",
       "  </tbody>\n",
       "</table>\n",
       "</div>"
      ],
      "text/plain": [
       "   mileage  vehicle.age  lot.sale.days  total.cost\n",
       "0    67341            8            135        4037\n",
       "1    72823            6            114        6886\n",
       "2    96330            9            205        3924\n",
       "3    58519            4            100        4636\n",
       "4    99057            4            129        5080"
      ]
     },
     "execution_count": 14,
     "metadata": {},
     "output_type": "execute_result"
    }
   ],
   "source": [
    "df[['mileage','vehicle.age','lot.sale.days','total.cost']].head()"
   ]
  },
  {
   "cell_type": "markdown",
   "metadata": {},
   "source": [
    "- **Calculando a correlação com o método corr()**"
   ]
  },
  {
   "cell_type": "code",
   "execution_count": 15,
   "metadata": {},
   "outputs": [
    {
     "data": {
      "text/html": [
       "<div>\n",
       "<style scoped>\n",
       "    .dataframe tbody tr th:only-of-type {\n",
       "        vertical-align: middle;\n",
       "    }\n",
       "\n",
       "    .dataframe tbody tr th {\n",
       "        vertical-align: top;\n",
       "    }\n",
       "\n",
       "    .dataframe thead th {\n",
       "        text-align: right;\n",
       "    }\n",
       "</style>\n",
       "<table border=\"1\" class=\"dataframe\">\n",
       "  <thead>\n",
       "    <tr style=\"text-align: right;\">\n",
       "      <th></th>\n",
       "      <th>mileage</th>\n",
       "      <th>vehicle.age</th>\n",
       "      <th>lot.sale.days</th>\n",
       "      <th>total.cost</th>\n",
       "    </tr>\n",
       "  </thead>\n",
       "  <tbody>\n",
       "    <tr>\n",
       "      <th>mileage</th>\n",
       "      <td>1.000000</td>\n",
       "      <td>0.462838</td>\n",
       "      <td>0.060003</td>\n",
       "      <td>-0.127258</td>\n",
       "    </tr>\n",
       "    <tr>\n",
       "      <th>vehicle.age</th>\n",
       "      <td>0.462838</td>\n",
       "      <td>1.000000</td>\n",
       "      <td>0.186480</td>\n",
       "      <td>-0.309716</td>\n",
       "    </tr>\n",
       "    <tr>\n",
       "      <th>lot.sale.days</th>\n",
       "      <td>0.060003</td>\n",
       "      <td>0.186480</td>\n",
       "      <td>1.000000</td>\n",
       "      <td>0.167632</td>\n",
       "    </tr>\n",
       "    <tr>\n",
       "      <th>total.cost</th>\n",
       "      <td>-0.127258</td>\n",
       "      <td>-0.309716</td>\n",
       "      <td>0.167632</td>\n",
       "      <td>1.000000</td>\n",
       "    </tr>\n",
       "  </tbody>\n",
       "</table>\n",
       "</div>"
      ],
      "text/plain": [
       "                mileage  vehicle.age  lot.sale.days  total.cost\n",
       "mileage        1.000000     0.462838       0.060003   -0.127258\n",
       "vehicle.age    0.462838     1.000000       0.186480   -0.309716\n",
       "lot.sale.days  0.060003     0.186480       1.000000    0.167632\n",
       "total.cost    -0.127258    -0.309716       0.167632    1.000000"
      ]
     },
     "execution_count": 15,
     "metadata": {},
     "output_type": "execute_result"
    }
   ],
   "source": [
    "df[['mileage','vehicle.age','lot.sale.days','total.cost']].corr()"
   ]
  },
  {
   "cell_type": "code",
   "execution_count": 16,
   "metadata": {},
   "outputs": [],
   "source": [
    "correlacoes = df[['mileage','vehicle.age','lot.sale.days','total.cost']].corr()"
   ]
  },
  {
   "cell_type": "code",
   "execution_count": 31,
   "metadata": {},
   "outputs": [
    {
     "data": {
      "text/plain": [
       "<matplotlib.axes._subplots.AxesSubplot at 0x273ba72de80>"
      ]
     },
     "execution_count": 31,
     "metadata": {},
     "output_type": "execute_result"
    },
    {
     "data": {
      "image/png": "[encoded data removed]",
      "text/plain": [
       "<Figure size 720x360 with 2 Axes>"
      ]
     },
     "metadata": {},
     "output_type": "display_data"
    }
   ],
   "source": [
    "sns.heatmap(correlacoes, annot=True, square=True)\n",
    "#sns.heatmap(correlacoes, annot=True, cmap='YlGnBu', square=True)"
   ]
  },
  {
   "cell_type": "markdown",
   "metadata": {},
   "source": [
    "**Visualizando a disperssão entre os dias de vendas e algumas variáveis**"
   ]
  },
  {
   "cell_type": "code",
   "execution_count": 19,
   "metadata": {},
   "outputs": [
    {
     "data": {
      "text/plain": [
       "<matplotlib.axes._subplots.AxesSubplot at 0x273ba121400>"
      ]
     },
     "execution_count": 19,
     "metadata": {},
     "output_type": "execute_result"
    },
    {
     "data": {
      "image/png": "[encoded data removed]",
      "text/plain": [
       "<Figure size 432x288 with 1 Axes>"
      ]
     },
     "metadata": {},
     "output_type": "display_data"
    }
   ],
   "source": [
    "sns.scatterplot(x='lot.sale.days', y='total.cost', data=df)"
   ]
  },
  {
   "cell_type": "code",
   "execution_count": 20,
   "metadata": {},
   "outputs": [
    {
     "data": {
      "text/plain": [
       "<matplotlib.axes._subplots.AxesSubplot at 0x273ba16db38>"
      ]
     },
     "execution_count": 20,
     "metadata": {},
     "output_type": "execute_result"
    },
    {
     "data": {
      "image/png": "[encoded data removed]",
      "text/plain": [
       "<Figure size 432x288 with 1 Axes>"
      ]
     },
     "metadata": {},
     "output_type": "display_data"
    }
   ],
   "source": [
    "sns.scatterplot(x='lot.sale.days', y='mileage', data=df, color='green')"
   ]
  },
  {
   "cell_type": "markdown",
   "metadata": {},
   "source": [
    "**Tempo médio de vendas por tipos de Veículos**"
   ]
  },
  {
   "cell_type": "code",
   "execution_count": 32,
   "metadata": {},
   "outputs": [
    {
     "data": {
      "text/plain": [
       "<matplotlib.axes._subplots.AxesSubplot at 0x273baeea2e8>"
      ]
     },
     "execution_count": 32,
     "metadata": {},
     "output_type": "execute_result"
    },
    {
     "data": {
      "image/png": "[encoded data removed]",
      "text/plain": [
       "<Figure size 720x360 with 1 Axes>"
      ]
     },
     "metadata": {},
     "output_type": "display_data"
    }
   ],
   "source": [
    "sns.boxplot(x='domestic.import', y='lot.sale.days', data=df)"
   ]
  },
  {
   "cell_type": "code",
   "execution_count": 33,
   "metadata": {},
   "outputs": [
    {
     "data": {
      "text/plain": [
       "(array([0, 1, 2, 3, 4]), <a list of 5 Text xticklabel objects>)"
      ]
     },
     "execution_count": 33,
     "metadata": {},
     "output_type": "execute_result"
    },
    {
     "data": {
      "image/png": "[encoded data removed]",
      "text/plain": [
       "<Figure size 720x360 with 1 Axes>"
      ]
     },
     "metadata": {},
     "output_type": "display_data"
    }
   ],
   "source": [
    "sns.boxplot(x='vehicle.type', y='lot.sale.days', data=df)\n",
    "plt.xticks(rotation=30)"
   ]
  },
  {
   "cell_type": "markdown",
   "metadata": {},
   "source": [
    "**Tempo médio de vendas por cor de veículos**"
   ]
  },
  {
   "cell_type": "code",
   "execution_count": 34,
   "metadata": {},
   "outputs": [
    {
     "data": {
      "text/plain": [
       "<matplotlib.axes._subplots.AxesSubplot at 0x273baedec88>"
      ]
     },
     "execution_count": 34,
     "metadata": {},
     "output_type": "execute_result"
    },
    {
     "data": {
      "image/png": "[encoded data removed]",
      "text/plain": [
       "<Figure size 720x360 with 1 Axes>"
      ]
     },
     "metadata": {},
     "output_type": "display_data"
    }
   ],
   "source": [
    "sns.boxplot(x='color.set', y='lot.sale.days', data=df)"
   ]
  },
  {
   "cell_type": "markdown",
   "metadata": {},
   "source": [
    "**Tempo médio de vendas por marca dos veículos**"
   ]
  },
  {
   "cell_type": "code",
   "execution_count": 35,
   "metadata": {},
   "outputs": [
    {
     "data": {
      "text/plain": [
       "(array([ 0,  1,  2,  3,  4,  5,  6,  7,  8,  9, 10, 11, 12, 13, 14, 15, 16,\n",
       "        17, 18, 19]), <a list of 20 Text xticklabel objects>)"
      ]
     },
     "execution_count": 35,
     "metadata": {},
     "output_type": "execute_result"
    },
    {
     "data": {
      "image/png": "[encoded data removed]",
      "text/plain": [
       "<Figure size 720x360 with 1 Axes>"
      ]
     },
     "metadata": {},
     "output_type": "display_data"
    }
   ],
   "source": [
    "sns.boxplot(x='makex', y='lot.sale.days', data=df)\n",
    "plt.xticks(rotation=50)"
   ]
  },
  {
   "cell_type": "markdown",
   "metadata": {},
   "source": [
    "**Tempo médio de vendas por estado**"
   ]
  },
  {
   "cell_type": "code",
   "execution_count": 36,
   "metadata": {},
   "outputs": [
    {
     "data": {
      "text/plain": [
       "<matplotlib.axes._subplots.AxesSubplot at 0x273bc3108d0>"
      ]
     },
     "execution_count": 36,
     "metadata": {},
     "output_type": "execute_result"
    },
    {
     "data": {
      "image/png": "[encoded data removed]",
      "text/plain": [
       "<Figure size 720x360 with 1 Axes>"
      ]
     },
     "metadata": {},
     "output_type": "display_data"
    }
   ],
   "source": [
    "sns.boxplot(x='state', y='lot.sale.days', data=df)"
   ]
  },
  {
   "cell_type": "markdown",
   "metadata": {},
   "source": [
    "**Construindo um Modelo de Machine Learning**"
   ]
  },
  {
   "cell_type": "code",
   "execution_count": 37,
   "metadata": {},
   "outputs": [
    {
     "data": {
      "text/html": [
       "<div>\n",
       "<style scoped>\n",
       "    .dataframe tbody tr th:only-of-type {\n",
       "        vertical-align: middle;\n",
       "    }\n",
       "\n",
       "    .dataframe tbody tr th {\n",
       "        vertical-align: top;\n",
       "    }\n",
       "\n",
       "    .dataframe thead th {\n",
       "        text-align: right;\n",
       "    }\n",
       "</style>\n",
       "<table border=\"1\" class=\"dataframe\">\n",
       "  <thead>\n",
       "    <tr style=\"text-align: right;\">\n",
       "      <th></th>\n",
       "      <th>data.set</th>\n",
       "      <th>total.cost</th>\n",
       "      <th>lot.sale.days</th>\n",
       "      <th>overage</th>\n",
       "      <th>mileage</th>\n",
       "      <th>vehicle.type</th>\n",
       "      <th>domestic.import</th>\n",
       "      <th>vehicle.age</th>\n",
       "      <th>vehicle.age.group</th>\n",
       "      <th>color.set</th>\n",
       "      <th>makex</th>\n",
       "      <th>state</th>\n",
       "      <th>make.model</th>\n",
       "    </tr>\n",
       "  </thead>\n",
       "  <tbody>\n",
       "    <tr>\n",
       "      <th>0</th>\n",
       "      <td>TRAIN</td>\n",
       "      <td>4037</td>\n",
       "      <td>135</td>\n",
       "      <td>YES</td>\n",
       "      <td>67341</td>\n",
       "      <td>FAMILY.LARGE</td>\n",
       "      <td>Domestic</td>\n",
       "      <td>8</td>\n",
       "      <td>SEVEN+</td>\n",
       "      <td>SILVER</td>\n",
       "      <td>BUICK</td>\n",
       "      <td>CA</td>\n",
       "      <td>BUICK.CENTURY</td>\n",
       "    </tr>\n",
       "    <tr>\n",
       "      <th>1</th>\n",
       "      <td>TRAIN</td>\n",
       "      <td>6886</td>\n",
       "      <td>114</td>\n",
       "      <td>YES</td>\n",
       "      <td>72823</td>\n",
       "      <td>FAMILY.MEDIUM</td>\n",
       "      <td>Domestic</td>\n",
       "      <td>6</td>\n",
       "      <td>SIX</td>\n",
       "      <td>WHITE</td>\n",
       "      <td>DODGE</td>\n",
       "      <td>AZ</td>\n",
       "      <td>DODGE.NEON</td>\n",
       "    </tr>\n",
       "    <tr>\n",
       "      <th>2</th>\n",
       "      <td>TRAIN</td>\n",
       "      <td>3924</td>\n",
       "      <td>205</td>\n",
       "      <td>YES</td>\n",
       "      <td>96330</td>\n",
       "      <td>FAMILY.MEDIUM</td>\n",
       "      <td>Domestic</td>\n",
       "      <td>9</td>\n",
       "      <td>SEVEN+</td>\n",
       "      <td>WHITE</td>\n",
       "      <td>OLDSMOBILE</td>\n",
       "      <td>FL</td>\n",
       "      <td>OLDSMOBILE.CUTLASS SUPREME</td>\n",
       "    </tr>\n",
       "    <tr>\n",
       "      <th>3</th>\n",
       "      <td>TRAIN</td>\n",
       "      <td>4636</td>\n",
       "      <td>100</td>\n",
       "      <td>YES</td>\n",
       "      <td>58519</td>\n",
       "      <td>ECONOMY</td>\n",
       "      <td>Import</td>\n",
       "      <td>4</td>\n",
       "      <td>FOUR</td>\n",
       "      <td>GOLD</td>\n",
       "      <td>KIA</td>\n",
       "      <td>NV</td>\n",
       "      <td>KIA.SEPHIA</td>\n",
       "    </tr>\n",
       "    <tr>\n",
       "      <th>4</th>\n",
       "      <td>TRAIN</td>\n",
       "      <td>5080</td>\n",
       "      <td>129</td>\n",
       "      <td>YES</td>\n",
       "      <td>99057</td>\n",
       "      <td>FAMILY.MEDIUM</td>\n",
       "      <td>Domestic</td>\n",
       "      <td>4</td>\n",
       "      <td>FOUR</td>\n",
       "      <td>GREEN</td>\n",
       "      <td>OLDSMOBILE</td>\n",
       "      <td>NV</td>\n",
       "      <td>OLDSMOBILE.CUTLASS SUPREME</td>\n",
       "    </tr>\n",
       "    <tr>\n",
       "      <th>5</th>\n",
       "      <td>TRAIN</td>\n",
       "      <td>4370</td>\n",
       "      <td>218</td>\n",
       "      <td>YES</td>\n",
       "      <td>82771</td>\n",
       "      <td>ECONOMY</td>\n",
       "      <td>Domestic</td>\n",
       "      <td>7</td>\n",
       "      <td>SEVEN+</td>\n",
       "      <td>WHITE</td>\n",
       "      <td>CHEVROLET</td>\n",
       "      <td>NM</td>\n",
       "      <td>CHEVROLET.CAVALIER</td>\n",
       "    </tr>\n",
       "    <tr>\n",
       "      <th>6</th>\n",
       "      <td>TRAIN</td>\n",
       "      <td>7578</td>\n",
       "      <td>128</td>\n",
       "      <td>YES</td>\n",
       "      <td>74255</td>\n",
       "      <td>FAMILY.MEDIUM</td>\n",
       "      <td>Import</td>\n",
       "      <td>5</td>\n",
       "      <td>FIVE</td>\n",
       "      <td>WHITE</td>\n",
       "      <td>MITSUBISHI</td>\n",
       "      <td>NV</td>\n",
       "      <td>MITSUBISHI.GALANT</td>\n",
       "    </tr>\n",
       "    <tr>\n",
       "      <th>7</th>\n",
       "      <td>TRAIN</td>\n",
       "      <td>5301</td>\n",
       "      <td>116</td>\n",
       "      <td>YES</td>\n",
       "      <td>82594</td>\n",
       "      <td>FAMILY.MEDIUM</td>\n",
       "      <td>Domestic</td>\n",
       "      <td>5</td>\n",
       "      <td>FIVE</td>\n",
       "      <td>PURPLE</td>\n",
       "      <td>OLDSMOBILE</td>\n",
       "      <td>AZ</td>\n",
       "      <td>OLDSMOBILE.CIERA</td>\n",
       "    </tr>\n",
       "    <tr>\n",
       "      <th>8</th>\n",
       "      <td>TRAIN</td>\n",
       "      <td>5531</td>\n",
       "      <td>100</td>\n",
       "      <td>YES</td>\n",
       "      <td>81167</td>\n",
       "      <td>FAMILY.LARGE</td>\n",
       "      <td>Domestic</td>\n",
       "      <td>5</td>\n",
       "      <td>FIVE</td>\n",
       "      <td>WHITE</td>\n",
       "      <td>FORD</td>\n",
       "      <td>FL</td>\n",
       "      <td>FORD.CROWN VICTORIA</td>\n",
       "    </tr>\n",
       "    <tr>\n",
       "      <th>9</th>\n",
       "      <td>TRAIN</td>\n",
       "      <td>5728</td>\n",
       "      <td>166</td>\n",
       "      <td>YES</td>\n",
       "      <td>80519</td>\n",
       "      <td>FAMILY.MEDIUM</td>\n",
       "      <td>Domestic</td>\n",
       "      <td>7</td>\n",
       "      <td>SEVEN+</td>\n",
       "      <td>SILVER</td>\n",
       "      <td>MERCURY</td>\n",
       "      <td>TX</td>\n",
       "      <td>MERCURY.SABLE</td>\n",
       "    </tr>\n",
       "  </tbody>\n",
       "</table>\n",
       "</div>"
      ],
      "text/plain": [
       "  data.set  total.cost  lot.sale.days overage  mileage   vehicle.type  \\\n",
       "0    TRAIN        4037            135     YES    67341   FAMILY.LARGE   \n",
       "1    TRAIN        6886            114     YES    72823  FAMILY.MEDIUM   \n",
       "2    TRAIN        3924            205     YES    96330  FAMILY.MEDIUM   \n",
       "3    TRAIN        4636            100     YES    58519        ECONOMY   \n",
       "4    TRAIN        5080            129     YES    99057  FAMILY.MEDIUM   \n",
       "5    TRAIN        4370            218     YES    82771        ECONOMY   \n",
       "6    TRAIN        7578            128     YES    74255  FAMILY.MEDIUM   \n",
       "7    TRAIN        5301            116     YES    82594  FAMILY.MEDIUM   \n",
       "8    TRAIN        5531            100     YES    81167   FAMILY.LARGE   \n",
       "9    TRAIN        5728            166     YES    80519  FAMILY.MEDIUM   \n",
       "\n",
       "  domestic.import  vehicle.age vehicle.age.group color.set       makex state  \\\n",
       "0        Domestic            8            SEVEN+    SILVER       BUICK    CA   \n",
       "1        Domestic            6               SIX     WHITE       DODGE    AZ   \n",
       "2        Domestic            9            SEVEN+     WHITE  OLDSMOBILE    FL   \n",
       "3          Import            4              FOUR      GOLD         KIA    NV   \n",
       "4        Domestic            4              FOUR     GREEN  OLDSMOBILE    NV   \n",
       "5        Domestic            7            SEVEN+     WHITE   CHEVROLET    NM   \n",
       "6          Import            5              FIVE     WHITE  MITSUBISHI    NV   \n",
       "7        Domestic            5              FIVE    PURPLE  OLDSMOBILE    AZ   \n",
       "8        Domestic            5              FIVE     WHITE        FORD    FL   \n",
       "9        Domestic            7            SEVEN+    SILVER     MERCURY    TX   \n",
       "\n",
       "                   make.model  \n",
       "0               BUICK.CENTURY  \n",
       "1                  DODGE.NEON  \n",
       "2  OLDSMOBILE.CUTLASS SUPREME  \n",
       "3                  KIA.SEPHIA  \n",
       "4  OLDSMOBILE.CUTLASS SUPREME  \n",
       "5          CHEVROLET.CAVALIER  \n",
       "6           MITSUBISHI.GALANT  \n",
       "7            OLDSMOBILE.CIERA  \n",
       "8         FORD.CROWN VICTORIA  \n",
       "9               MERCURY.SABLE  "
      ]
     },
     "execution_count": 37,
     "metadata": {},
     "output_type": "execute_result"
    }
   ],
   "source": [
    "df.head(10)"
   ]
  },
  {
   "cell_type": "markdown",
   "metadata": {},
   "source": [
    "**Removendo a coluna vehicle.age.group e data.set**"
   ]
  },
  {
   "cell_type": "code",
   "execution_count": 38,
   "metadata": {},
   "outputs": [],
   "source": [
    "df.drop(['vehicle.age.group','data.set'], axis=1, inplace=True)"
   ]
  },
  {
   "cell_type": "markdown",
   "metadata": {},
   "source": [
    "**Aplicando LabelEncoder para codificação de variáveis categóricas**<br>\n",
    "- Transforma as variáveis em números para aplicar ao modelo"
   ]
  },
  {
   "cell_type": "code",
   "execution_count": 39,
   "metadata": {},
   "outputs": [],
   "source": [
    "from sklearn.preprocessing import LabelEncoder"
   ]
  },
  {
   "cell_type": "code",
   "execution_count": 40,
   "metadata": {},
   "outputs": [],
   "source": [
    "label_encoder1 = LabelEncoder()\n",
    "label_encoder2 = LabelEncoder()\n",
    "label_encoder3 = LabelEncoder()\n",
    "label_encoder4 = LabelEncoder()\n",
    "label_encoder5 = LabelEncoder()\n",
    "label_encoder6 = LabelEncoder()"
   ]
  },
  {
   "cell_type": "markdown",
   "metadata": {},
   "source": [
    "**Aplica o LabelEncoder nos dados categóricos**"
   ]
  },
  {
   "cell_type": "code",
   "execution_count": 41,
   "metadata": {},
   "outputs": [],
   "source": [
    "df['vehicle.type'] = label_encoder1.fit_transform(df['vehicle.type'])\n",
    "df['domestic.import'] = label_encoder2.fit_transform(df['domestic.import'])\n",
    "df['color.set'] = label_encoder3.fit_transform(df['color.set'])\n",
    "df['makex'] = label_encoder4.fit_transform(df['makex'])\n",
    "df['state'] = label_encoder5.fit_transform(df['state'])\n",
    "df['make.model'] = label_encoder6.fit_transform(df['make.model'])"
   ]
  },
  {
   "cell_type": "markdown",
   "metadata": {},
   "source": [
    "**Dados transformados**<br>\n",
    "Única tabela categórica que temos é a `overage`, ela será nossa classe para treinarmos o modelo"
   ]
  },
  {
   "cell_type": "code",
   "execution_count": 42,
   "metadata": {},
   "outputs": [
    {
     "data": {
      "text/html": [
       "<div>\n",
       "<style scoped>\n",
       "    .dataframe tbody tr th:only-of-type {\n",
       "        vertical-align: middle;\n",
       "    }\n",
       "\n",
       "    .dataframe tbody tr th {\n",
       "        vertical-align: top;\n",
       "    }\n",
       "\n",
       "    .dataframe thead th {\n",
       "        text-align: right;\n",
       "    }\n",
       "</style>\n",
       "<table border=\"1\" class=\"dataframe\">\n",
       "  <thead>\n",
       "    <tr style=\"text-align: right;\">\n",
       "      <th></th>\n",
       "      <th>total.cost</th>\n",
       "      <th>lot.sale.days</th>\n",
       "      <th>overage</th>\n",
       "      <th>mileage</th>\n",
       "      <th>vehicle.type</th>\n",
       "      <th>domestic.import</th>\n",
       "      <th>vehicle.age</th>\n",
       "      <th>color.set</th>\n",
       "      <th>makex</th>\n",
       "      <th>state</th>\n",
       "      <th>make.model</th>\n",
       "    </tr>\n",
       "  </thead>\n",
       "  <tbody>\n",
       "    <tr>\n",
       "      <th>0</th>\n",
       "      <td>4037</td>\n",
       "      <td>135</td>\n",
       "      <td>YES</td>\n",
       "      <td>67341</td>\n",
       "      <td>1</td>\n",
       "      <td>0</td>\n",
       "      <td>8</td>\n",
       "      <td>6</td>\n",
       "      <td>0</td>\n",
       "      <td>1</td>\n",
       "      <td>1</td>\n",
       "    </tr>\n",
       "    <tr>\n",
       "      <th>1</th>\n",
       "      <td>6886</td>\n",
       "      <td>114</td>\n",
       "      <td>YES</td>\n",
       "      <td>72823</td>\n",
       "      <td>2</td>\n",
       "      <td>0</td>\n",
       "      <td>6</td>\n",
       "      <td>7</td>\n",
       "      <td>5</td>\n",
       "      <td>0</td>\n",
       "      <td>33</td>\n",
       "    </tr>\n",
       "    <tr>\n",
       "      <th>2</th>\n",
       "      <td>3924</td>\n",
       "      <td>205</td>\n",
       "      <td>YES</td>\n",
       "      <td>96330</td>\n",
       "      <td>2</td>\n",
       "      <td>0</td>\n",
       "      <td>9</td>\n",
       "      <td>7</td>\n",
       "      <td>15</td>\n",
       "      <td>2</td>\n",
       "      <td>77</td>\n",
       "    </tr>\n",
       "    <tr>\n",
       "      <th>3</th>\n",
       "      <td>4636</td>\n",
       "      <td>100</td>\n",
       "      <td>YES</td>\n",
       "      <td>58519</td>\n",
       "      <td>0</td>\n",
       "      <td>1</td>\n",
       "      <td>4</td>\n",
       "      <td>2</td>\n",
       "      <td>10</td>\n",
       "      <td>5</td>\n",
       "      <td>54</td>\n",
       "    </tr>\n",
       "    <tr>\n",
       "      <th>4</th>\n",
       "      <td>5080</td>\n",
       "      <td>129</td>\n",
       "      <td>YES</td>\n",
       "      <td>99057</td>\n",
       "      <td>2</td>\n",
       "      <td>0</td>\n",
       "      <td>4</td>\n",
       "      <td>3</td>\n",
       "      <td>15</td>\n",
       "      <td>5</td>\n",
       "      <td>77</td>\n",
       "    </tr>\n",
       "    <tr>\n",
       "      <th>5</th>\n",
       "      <td>4370</td>\n",
       "      <td>218</td>\n",
       "      <td>YES</td>\n",
       "      <td>82771</td>\n",
       "      <td>0</td>\n",
       "      <td>0</td>\n",
       "      <td>7</td>\n",
       "      <td>7</td>\n",
       "      <td>2</td>\n",
       "      <td>4</td>\n",
       "      <td>14</td>\n",
       "    </tr>\n",
       "    <tr>\n",
       "      <th>6</th>\n",
       "      <td>7578</td>\n",
       "      <td>128</td>\n",
       "      <td>YES</td>\n",
       "      <td>74255</td>\n",
       "      <td>2</td>\n",
       "      <td>1</td>\n",
       "      <td>5</td>\n",
       "      <td>7</td>\n",
       "      <td>13</td>\n",
       "      <td>5</td>\n",
       "      <td>65</td>\n",
       "    </tr>\n",
       "    <tr>\n",
       "      <th>7</th>\n",
       "      <td>5301</td>\n",
       "      <td>116</td>\n",
       "      <td>YES</td>\n",
       "      <td>82594</td>\n",
       "      <td>2</td>\n",
       "      <td>0</td>\n",
       "      <td>5</td>\n",
       "      <td>4</td>\n",
       "      <td>15</td>\n",
       "      <td>0</td>\n",
       "      <td>75</td>\n",
       "    </tr>\n",
       "    <tr>\n",
       "      <th>8</th>\n",
       "      <td>5531</td>\n",
       "      <td>100</td>\n",
       "      <td>YES</td>\n",
       "      <td>81167</td>\n",
       "      <td>1</td>\n",
       "      <td>0</td>\n",
       "      <td>5</td>\n",
       "      <td>7</td>\n",
       "      <td>6</td>\n",
       "      <td>2</td>\n",
       "      <td>38</td>\n",
       "    </tr>\n",
       "    <tr>\n",
       "      <th>9</th>\n",
       "      <td>5728</td>\n",
       "      <td>166</td>\n",
       "      <td>YES</td>\n",
       "      <td>80519</td>\n",
       "      <td>2</td>\n",
       "      <td>0</td>\n",
       "      <td>7</td>\n",
       "      <td>6</td>\n",
       "      <td>12</td>\n",
       "      <td>6</td>\n",
       "      <td>61</td>\n",
       "    </tr>\n",
       "  </tbody>\n",
       "</table>\n",
       "</div>"
      ],
      "text/plain": [
       "   total.cost  lot.sale.days overage  mileage  vehicle.type  domestic.import  \\\n",
       "0        4037            135     YES    67341             1                0   \n",
       "1        6886            114     YES    72823             2                0   \n",
       "2        3924            205     YES    96330             2                0   \n",
       "3        4636            100     YES    58519             0                1   \n",
       "4        5080            129     YES    99057             2                0   \n",
       "5        4370            218     YES    82771             0                0   \n",
       "6        7578            128     YES    74255             2                1   \n",
       "7        5301            116     YES    82594             2                0   \n",
       "8        5531            100     YES    81167             1                0   \n",
       "9        5728            166     YES    80519             2                0   \n",
       "\n",
       "   vehicle.age  color.set  makex  state  make.model  \n",
       "0            8          6      0      1           1  \n",
       "1            6          7      5      0          33  \n",
       "2            9          7     15      2          77  \n",
       "3            4          2     10      5          54  \n",
       "4            4          3     15      5          77  \n",
       "5            7          7      2      4          14  \n",
       "6            5          7     13      5          65  \n",
       "7            5          4     15      0          75  \n",
       "8            5          7      6      2          38  \n",
       "9            7          6     12      6          61  "
      ]
     },
     "execution_count": 42,
     "metadata": {},
     "output_type": "execute_result"
    }
   ],
   "source": [
    "df.head(10)"
   ]
  },
  {
   "cell_type": "markdown",
   "metadata": {},
   "source": [
    "**Separando a `classe` dos dados**"
   ]
  },
  {
   "cell_type": "code",
   "execution_count": 43,
   "metadata": {},
   "outputs": [],
   "source": [
    "# É comumente utilizado o 'y' como variável no momento em que separamos a nossa classe\n",
    "y = df['overage']"
   ]
  },
  {
   "cell_type": "code",
   "execution_count": 44,
   "metadata": {},
   "outputs": [
    {
     "data": {
      "text/plain": [
       "0    YES\n",
       "1    YES\n",
       "2    YES\n",
       "3    YES\n",
       "4    YES\n",
       "Name: overage, dtype: object"
      ]
     },
     "execution_count": 44,
     "metadata": {},
     "output_type": "execute_result"
    }
   ],
   "source": [
    "y.head()"
   ]
  },
  {
   "cell_type": "markdown",
   "metadata": {},
   "source": [
    "**Apaga a coluna overage e a coluna lot.sale.days** <br>\n",
    "- Removemos a lot.days.sales pois ela já contém os dias, com isso não estariamos treinando corretamente nosso modelo"
   ]
  },
  {
   "cell_type": "code",
   "execution_count": 45,
   "metadata": {},
   "outputs": [],
   "source": [
    "X = df.drop(['lot.sale.days','overage'], axis=1)"
   ]
  },
  {
   "cell_type": "markdown",
   "metadata": {},
   "source": [
    "***Agora temos o*** `'y'` ***como nossa classe e o*** `'X'` ***com os nossos dados sem a classe***"
   ]
  },
  {
   "cell_type": "markdown",
   "metadata": {},
   "source": [
    "O 'X' `(características - features)` vamos passar para nosso algoritmo aprender e o 'y' são nossas respostas***"
   ]
  },
  {
   "cell_type": "code",
   "execution_count": 46,
   "metadata": {},
   "outputs": [
    {
     "data": {
      "text/html": [
       "<div>\n",
       "<style scoped>\n",
       "    .dataframe tbody tr th:only-of-type {\n",
       "        vertical-align: middle;\n",
       "    }\n",
       "\n",
       "    .dataframe tbody tr th {\n",
       "        vertical-align: top;\n",
       "    }\n",
       "\n",
       "    .dataframe thead th {\n",
       "        text-align: right;\n",
       "    }\n",
       "</style>\n",
       "<table border=\"1\" class=\"dataframe\">\n",
       "  <thead>\n",
       "    <tr style=\"text-align: right;\">\n",
       "      <th></th>\n",
       "      <th>total.cost</th>\n",
       "      <th>mileage</th>\n",
       "      <th>vehicle.type</th>\n",
       "      <th>domestic.import</th>\n",
       "      <th>vehicle.age</th>\n",
       "      <th>color.set</th>\n",
       "      <th>makex</th>\n",
       "      <th>state</th>\n",
       "      <th>make.model</th>\n",
       "    </tr>\n",
       "  </thead>\n",
       "  <tbody>\n",
       "    <tr>\n",
       "      <th>0</th>\n",
       "      <td>4037</td>\n",
       "      <td>67341</td>\n",
       "      <td>1</td>\n",
       "      <td>0</td>\n",
       "      <td>8</td>\n",
       "      <td>6</td>\n",
       "      <td>0</td>\n",
       "      <td>1</td>\n",
       "      <td>1</td>\n",
       "    </tr>\n",
       "    <tr>\n",
       "      <th>1</th>\n",
       "      <td>6886</td>\n",
       "      <td>72823</td>\n",
       "      <td>2</td>\n",
       "      <td>0</td>\n",
       "      <td>6</td>\n",
       "      <td>7</td>\n",
       "      <td>5</td>\n",
       "      <td>0</td>\n",
       "      <td>33</td>\n",
       "    </tr>\n",
       "    <tr>\n",
       "      <th>2</th>\n",
       "      <td>3924</td>\n",
       "      <td>96330</td>\n",
       "      <td>2</td>\n",
       "      <td>0</td>\n",
       "      <td>9</td>\n",
       "      <td>7</td>\n",
       "      <td>15</td>\n",
       "      <td>2</td>\n",
       "      <td>77</td>\n",
       "    </tr>\n",
       "    <tr>\n",
       "      <th>3</th>\n",
       "      <td>4636</td>\n",
       "      <td>58519</td>\n",
       "      <td>0</td>\n",
       "      <td>1</td>\n",
       "      <td>4</td>\n",
       "      <td>2</td>\n",
       "      <td>10</td>\n",
       "      <td>5</td>\n",
       "      <td>54</td>\n",
       "    </tr>\n",
       "    <tr>\n",
       "      <th>4</th>\n",
       "      <td>5080</td>\n",
       "      <td>99057</td>\n",
       "      <td>2</td>\n",
       "      <td>0</td>\n",
       "      <td>4</td>\n",
       "      <td>3</td>\n",
       "      <td>15</td>\n",
       "      <td>5</td>\n",
       "      <td>77</td>\n",
       "    </tr>\n",
       "  </tbody>\n",
       "</table>\n",
       "</div>"
      ],
      "text/plain": [
       "   total.cost  mileage  vehicle.type  domestic.import  vehicle.age  color.set  \\\n",
       "0        4037    67341             1                0            8          6   \n",
       "1        6886    72823             2                0            6          7   \n",
       "2        3924    96330             2                0            9          7   \n",
       "3        4636    58519             0                1            4          2   \n",
       "4        5080    99057             2                0            4          3   \n",
       "\n",
       "   makex  state  make.model  \n",
       "0      0      1           1  \n",
       "1      5      0          33  \n",
       "2     15      2          77  \n",
       "3     10      5          54  \n",
       "4     15      5          77  "
      ]
     },
     "execution_count": 46,
     "metadata": {},
     "output_type": "execute_result"
    }
   ],
   "source": [
    "X.head()"
   ]
  },
  {
   "cell_type": "markdown",
   "metadata": {},
   "source": [
    "**Separando os dados de treino e teste** <br>\n",
    "Vamos separar em 75% / 25%"
   ]
  },
  {
   "cell_type": "code",
   "execution_count": 47,
   "metadata": {},
   "outputs": [],
   "source": [
    "from sklearn.model_selection import train_test_split"
   ]
  },
  {
   "cell_type": "markdown",
   "metadata": {},
   "source": [
    "Utilizamos a forma abaixo para inserirmos os dados nas variáveis, que são:<br>\n",
    "- **X_treino** -> Pega os dados para treino `sem as classes`;\n",
    "- **X_teste** -> Pega os dados para teste, são aqueles dados que o algoritmo `não conhece` e vai usar para testar;\n",
    "- **y_treino** > Refere-se a classe dos meus dados de treino, ou seja, as respostas dos dados de treino\n",
    "- **y_teste** -> É a classe dos testes, quando enviar os dados para testar o algoritmo, precisamos das `respostas reais` para saber se o algoritmo acertou ou errou. <br><br>\n",
    "Tanto o treino quanto as respostas iremos informar ao algoritmo para que ele aprenda a classificar novos exemplos"
   ]
  },
  {
   "cell_type": "code",
   "execution_count": 48,
   "metadata": {},
   "outputs": [],
   "source": [
    "X_treino, X_teste, y_treino, y_teste = train_test_split(X, y)"
   ]
  },
  {
   "cell_type": "code",
   "execution_count": 49,
   "metadata": {},
   "outputs": [
    {
     "data": {
      "text/plain": [
       "total.cost         5621\n",
       "mileage            5621\n",
       "vehicle.type       5621\n",
       "domestic.import    5621\n",
       "vehicle.age        5621\n",
       "color.set          5621\n",
       "makex              5621\n",
       "state              5621\n",
       "make.model         5621\n",
       "dtype: int64"
      ]
     },
     "execution_count": 49,
     "metadata": {},
     "output_type": "execute_result"
    }
   ],
   "source": [
    "# Contando meus dados de treino\n",
    "X_treino.count()"
   ]
  },
  {
   "cell_type": "code",
   "execution_count": 51,
   "metadata": {},
   "outputs": [
    {
     "data": {
      "text/plain": [
       "5621"
      ]
     },
     "execution_count": 51,
     "metadata": {},
     "output_type": "execute_result"
    }
   ],
   "source": [
    "# Contando minha classe de teste\n",
    "y_treino.count()"
   ]
  },
  {
   "cell_type": "code",
   "execution_count": 52,
   "metadata": {},
   "outputs": [
    {
     "data": {
      "text/plain": [
       "total.cost         1874\n",
       "mileage            1874\n",
       "vehicle.type       1874\n",
       "domestic.import    1874\n",
       "vehicle.age        1874\n",
       "color.set          1874\n",
       "makex              1874\n",
       "state              1874\n",
       "make.model         1874\n",
       "dtype: int64"
      ]
     },
     "execution_count": 52,
     "metadata": {},
     "output_type": "execute_result"
    }
   ],
   "source": [
    "X_teste.count()"
   ]
  },
  {
   "cell_type": "code",
   "execution_count": 54,
   "metadata": {},
   "outputs": [
    {
     "data": {
      "text/plain": [
       "1874"
      ]
     },
     "execution_count": 54,
     "metadata": {},
     "output_type": "execute_result"
    }
   ],
   "source": [
    "y_teste.count()"
   ]
  },
  {
   "cell_type": "markdown",
   "metadata": {},
   "source": [
    "**Aplicando Machine Learning com Árvore de Decisão**"
   ]
  },
  {
   "cell_type": "code",
   "execution_count": 55,
   "metadata": {},
   "outputs": [],
   "source": [
    "from sklearn import tree"
   ]
  },
  {
   "cell_type": "code",
   "execution_count": 56,
   "metadata": {},
   "outputs": [],
   "source": [
    "arvore = tree.DecisionTreeClassifier()"
   ]
  },
  {
   "cell_type": "code",
   "execution_count": 57,
   "metadata": {},
   "outputs": [
    {
     "data": {
      "text/plain": [
       "DecisionTreeClassifier(class_weight=None, criterion='gini', max_depth=None,\n",
       "            max_features=None, max_leaf_nodes=None,\n",
       "            min_impurity_decrease=0.0, min_impurity_split=None,\n",
       "            min_samples_leaf=1, min_samples_split=2,\n",
       "            min_weight_fraction_leaf=0.0, presort=False, random_state=None,\n",
       "            splitter='best')"
      ]
     },
     "execution_count": 57,
     "metadata": {},
     "output_type": "execute_result"
    }
   ],
   "source": [
    "arvore.fit(X_treino, y_treino)"
   ]
  },
  {
   "cell_type": "markdown",
   "metadata": {},
   "source": [
    "**Validação do modelo** <br>\n",
    "Passamos nossos dados de teste para o modelo fazer a previsão"
   ]
  },
  {
   "cell_type": "code",
   "execution_count": 58,
   "metadata": {},
   "outputs": [
    {
     "data": {
      "text/html": [
       "<div>\n",
       "<style scoped>\n",
       "    .dataframe tbody tr th:only-of-type {\n",
       "        vertical-align: middle;\n",
       "    }\n",
       "\n",
       "    .dataframe tbody tr th {\n",
       "        vertical-align: top;\n",
       "    }\n",
       "\n",
       "    .dataframe thead th {\n",
       "        text-align: right;\n",
       "    }\n",
       "</style>\n",
       "<table border=\"1\" class=\"dataframe\">\n",
       "  <thead>\n",
       "    <tr style=\"text-align: right;\">\n",
       "      <th></th>\n",
       "      <th>total.cost</th>\n",
       "      <th>mileage</th>\n",
       "      <th>vehicle.type</th>\n",
       "      <th>domestic.import</th>\n",
       "      <th>vehicle.age</th>\n",
       "      <th>color.set</th>\n",
       "      <th>makex</th>\n",
       "      <th>state</th>\n",
       "      <th>make.model</th>\n",
       "    </tr>\n",
       "  </thead>\n",
       "  <tbody>\n",
       "    <tr>\n",
       "      <th>5420</th>\n",
       "      <td>6801</td>\n",
       "      <td>98322</td>\n",
       "      <td>4</td>\n",
       "      <td>1</td>\n",
       "      <td>6</td>\n",
       "      <td>5</td>\n",
       "      <td>19</td>\n",
       "      <td>1</td>\n",
       "      <td>92</td>\n",
       "    </tr>\n",
       "    <tr>\n",
       "      <th>69</th>\n",
       "      <td>5867</td>\n",
       "      <td>97043</td>\n",
       "      <td>1</td>\n",
       "      <td>0</td>\n",
       "      <td>5</td>\n",
       "      <td>3</td>\n",
       "      <td>3</td>\n",
       "      <td>0</td>\n",
       "      <td>25</td>\n",
       "    </tr>\n",
       "    <tr>\n",
       "      <th>179</th>\n",
       "      <td>5919</td>\n",
       "      <td>108248</td>\n",
       "      <td>3</td>\n",
       "      <td>1</td>\n",
       "      <td>7</td>\n",
       "      <td>6</td>\n",
       "      <td>19</td>\n",
       "      <td>0</td>\n",
       "      <td>93</td>\n",
       "    </tr>\n",
       "    <tr>\n",
       "      <th>1436</th>\n",
       "      <td>5429</td>\n",
       "      <td>88439</td>\n",
       "      <td>2</td>\n",
       "      <td>0</td>\n",
       "      <td>6</td>\n",
       "      <td>7</td>\n",
       "      <td>15</td>\n",
       "      <td>3</td>\n",
       "      <td>77</td>\n",
       "    </tr>\n",
       "    <tr>\n",
       "      <th>2215</th>\n",
       "      <td>7096</td>\n",
       "      <td>95076</td>\n",
       "      <td>2</td>\n",
       "      <td>0</td>\n",
       "      <td>6</td>\n",
       "      <td>3</td>\n",
       "      <td>0</td>\n",
       "      <td>6</td>\n",
       "      <td>4</td>\n",
       "    </tr>\n",
       "  </tbody>\n",
       "</table>\n",
       "</div>"
      ],
      "text/plain": [
       "      total.cost  mileage  vehicle.type  domestic.import  vehicle.age  \\\n",
       "5420        6801    98322             4                1            6   \n",
       "69          5867    97043             1                0            5   \n",
       "179         5919   108248             3                1            7   \n",
       "1436        5429    88439             2                0            6   \n",
       "2215        7096    95076             2                0            6   \n",
       "\n",
       "      color.set  makex  state  make.model  \n",
       "5420          5     19      1          92  \n",
       "69            3      3      0          25  \n",
       "179           6     19      0          93  \n",
       "1436          7     15      3          77  \n",
       "2215          3      0      6           4  "
      ]
     },
     "execution_count": 58,
     "metadata": {},
     "output_type": "execute_result"
    }
   ],
   "source": [
    "X_teste.head()"
   ]
  },
  {
   "cell_type": "code",
   "execution_count": 59,
   "metadata": {},
   "outputs": [
    {
     "data": {
      "text/plain": [
       "array(['NO', 'NO', 'YES', ..., 'YES', 'YES', 'NO'], dtype=object)"
      ]
     },
     "execution_count": 59,
     "metadata": {},
     "output_type": "execute_result"
    }
   ],
   "source": [
    "arvore.predict(X_teste)"
   ]
  },
  {
   "cell_type": "code",
   "execution_count": 60,
   "metadata": {},
   "outputs": [],
   "source": [
    "resultado = arvore.predict(X_teste)"
   ]
  },
  {
   "cell_type": "code",
   "execution_count": 61,
   "metadata": {},
   "outputs": [
    {
     "data": {
      "text/plain": [
       "array(['NO', 'NO', 'YES', ..., 'YES', 'YES', 'NO'], dtype=object)"
      ]
     },
     "execution_count": 61,
     "metadata": {},
     "output_type": "execute_result"
    }
   ],
   "source": [
    "resultado"
   ]
  },
  {
   "cell_type": "markdown",
   "metadata": {},
   "source": [
    "**Após passar os dados para o algoritmo, vamos fazer a métrica e identificar como está os acertos e erros**"
   ]
  },
  {
   "cell_type": "code",
   "execution_count": 62,
   "metadata": {},
   "outputs": [
    {
     "name": "stdout",
     "output_type": "stream",
     "text": [
      "              precision    recall  f1-score   support\n",
      "\n",
      "          NO       0.66      0.64      0.65      1022\n",
      "         YES       0.59      0.61      0.60       852\n",
      "\n",
      "   micro avg       0.63      0.63      0.63      1874\n",
      "   macro avg       0.63      0.63      0.63      1874\n",
      "weighted avg       0.63      0.63      0.63      1874\n",
      "\n"
     ]
    }
   ],
   "source": [
    "from sklearn import metrics\n",
    "print(metrics.classification_report(y_teste,resultado)) # Resultados reais, classificações realizadas"
   ]
  },
  {
   "cell_type": "markdown",
   "metadata": {},
   "source": [
    "`**Conclusões**`:\n",
    "- Tivemos uma precisão de 63% para classificar carros que superam os 90 dias.\n",
    "- O modelo pode melhorar se trabalhar mais nos dados, e com um trabalho de engenharia de features"
   ]
  },
  {
   "cell_type": "markdown",
   "metadata": {},
   "source": [
    "**Features mais importantes para o modelo**"
   ]
  },
  {
   "cell_type": "code",
   "execution_count": 63,
   "metadata": {},
   "outputs": [
    {
     "data": {
      "text/plain": [
       "array([0.27180676, 0.22061771, 0.06399968, 0.00974366, 0.08669935,\n",
       "       0.0933179 , 0.04458733, 0.07856502, 0.13066259])"
      ]
     },
     "execution_count": 63,
     "metadata": {},
     "output_type": "execute_result"
    }
   ],
   "source": [
    "arvore.feature_importances_"
   ]
  },
  {
   "cell_type": "code",
   "execution_count": 64,
   "metadata": {},
   "outputs": [],
   "source": [
    "feature_imp = pd.Series(arvore.feature_importances_,index=X_treino.columns)"
   ]
  },
  {
   "cell_type": "code",
   "execution_count": 65,
   "metadata": {},
   "outputs": [
    {
     "data": {
      "text/plain": [
       "total.cost         0.271807\n",
       "mileage            0.220618\n",
       "vehicle.type       0.064000\n",
       "domestic.import    0.009744\n",
       "vehicle.age        0.086699\n",
       "color.set          0.093318\n",
       "makex              0.044587\n",
       "state              0.078565\n",
       "make.model         0.130663\n",
       "dtype: float64"
      ]
     },
     "execution_count": 65,
     "metadata": {},
     "output_type": "execute_result"
    }
   ],
   "source": [
    "feature_imp"
   ]
  },
  {
   "cell_type": "markdown",
   "metadata": {},
   "source": [
    "**Visualizando as Features mais importantes do modelo**"
   ]
  },
  {
   "cell_type": "code",
   "execution_count": 66,
   "metadata": {},
   "outputs": [
    {
     "data": {
      "text/plain": [
       "Text(0.5, 1.0, 'Importânica de Features')"
      ]
     },
     "execution_count": 66,
     "metadata": {},
     "output_type": "execute_result"
    },
    {
     "data": {
      "image/png": "[encoded data removed]",
      "text/plain": [
       "<Figure size 720x360 with 1 Axes>"
      ]
     },
     "metadata": {},
     "output_type": "display_data"
    }
   ],
   "source": [
    "sns.barplot(x=feature_imp, y=feature_imp.index)\n",
    "\n",
    "plt.xlabel('Importância de Features')\n",
    "plt.ylabel('Features')\n",
    "plt.title('Importânica de Features')"
   ]
  },
  {
   "cell_type": "markdown",
   "metadata": {},
   "source": [
    "### Visualizando a árvode de Decisão"
   ]
  },
  {
   "cell_type": "markdown",
   "metadata": {},
   "source": [
    "- Instala as bibliotecas para visualização no Jupyter notebook"
   ]
  },
  {
   "cell_type": "code",
   "execution_count": 67,
   "metadata": {},
   "outputs": [
    {
     "name": "stdout",
     "output_type": "stream",
     "text": [
      "Collecting pydot\n",
      "  Downloading https://files.pythonhosted.org/packages/33/d1/b1479a770f66d962f545c2101630ce1d5592d90cb4f083d38862e93d16d2/pydot-1.4.1-py2.py3-none-any.whl\n",
      "Requirement already satisfied: pyparsing>=2.1.4 in e:\\anaconda3\\lib\\site-packages (from pydot) (2.3.1)\n",
      "Installing collected packages: pydot\n",
      "Successfully installed pydot-1.4.1\n",
      "Collecting graphviz\n",
      "  Downloading https://files.pythonhosted.org/packages/5c/b1/016e657586843f40b4daa66127ce1ee9e3285ff15baf5d80946644a98aeb/graphviz-0.11.1-py2.py3-none-any.whl\n",
      "Installing collected packages: graphviz\n",
      "Successfully installed graphviz-0.11.1\n"
     ]
    }
   ],
   "source": [
    "!pip install pydot\n",
    "!pip install graphviz"
   ]
  },
  {
   "cell_type": "code",
   "execution_count": 68,
   "metadata": {},
   "outputs": [],
   "source": [
    "import pydot\n",
    "import graphviz\n",
    "from ipywidgets import interactive"
   ]
  },
  {
   "cell_type": "code",
   "execution_count": 83,
   "metadata": {},
   "outputs": [],
   "source": [
    "import os\n",
    "os.environ[\"PATH\"] += os.pathsep + 'E:\\\\Anaconda3\\\\Library\\\\bin\\\\graphviz'"
   ]
  },
  {
   "cell_type": "code",
   "execution_count": 84,
   "metadata": {},
   "outputs": [
    {
     "data": {
      "image/svg+xml": [
       "<?xml version=\"1.0\" encoding=\"UTF-8\" standalone=\"no\"?>\r\n",
       "<!DOCTYPE svg PUBLIC \"-//W3C//DTD SVG 1.1//EN\"\r\n",
       " \"http://www.w3.org/Graphics/SVG/1.1/DTD/svg11.dtd\">\r\n",
       "<!-- Generated by graphviz version 2.38.0 (20140413.2041)\r\n",
       " -->\r\n",
       "<!-- Title: Tree Pages: 1 -->\r\n",
       "<svg width=\"1258pt\" height=\"580pt\"\r\n",
       " viewBox=\"0.00 0.00 1258.00 580.00\" xmlns=\"http://www.w3.org/2000/svg\" xmlns:xlink=\"http://www.w3.org/1999/xlink\">\r\n",
       "<g id=\"graph0\" class=\"graph\" transform=\"scale(1 1) rotate(0) translate(4 576)\">\r\n",
       "<title>Tree</title>\r\n",
       "<polygon fill=\"white\" stroke=\"none\" points=\"-4,4 -4,-576 1254,-576 1254,4 -4,4\"/>\r\n",
       "<!-- 0 -->\r\n",
       "<g id=\"node1\" class=\"node\"><title>0</title>\r\n",
       "<path fill=\"#e58139\" fill-opacity=\"0.113725\" stroke=\"black\" d=\"M643.5,-572C643.5,-572 521.5,-572 521.5,-572 515.5,-572 509.5,-566 509.5,-560 509.5,-560 509.5,-486 509.5,-486 509.5,-480 515.5,-474 521.5,-474 521.5,-474 643.5,-474 643.5,-474 649.5,-474 655.5,-480 655.5,-486 655.5,-486 655.5,-560 655.5,-560 655.5,-566 649.5,-572 643.5,-572\"/>\r\n",
       "<text text-anchor=\"middle\" x=\"582.5\" y=\"-556.8\" font-family=\"Helvetica,sans-Serif\" font-size=\"14.00\">node #0</text>\r\n",
       "<text text-anchor=\"middle\" x=\"582.5\" y=\"-541.8\" font-family=\"Helvetica,sans-Serif\" font-size=\"14.00\">vehicle.age &lt;= 4.5</text>\r\n",
       "<text text-anchor=\"middle\" x=\"582.5\" y=\"-526.8\" font-family=\"Helvetica,sans-Serif\" font-size=\"14.00\">gini = 0.498</text>\r\n",
       "<text text-anchor=\"middle\" x=\"582.5\" y=\"-511.8\" font-family=\"Helvetica,sans-Serif\" font-size=\"14.00\">samples = 5621</text>\r\n",
       "<text text-anchor=\"middle\" x=\"582.5\" y=\"-496.8\" font-family=\"Helvetica,sans-Serif\" font-size=\"14.00\">value = [2978, 2643]</text>\r\n",
       "<text text-anchor=\"middle\" x=\"582.5\" y=\"-481.8\" font-family=\"Helvetica,sans-Serif\" font-size=\"14.00\">class = YES</text>\r\n",
       "</g>\r\n",
       "<!-- 1 -->\r\n",
       "<g id=\"node2\" class=\"node\"><title>1</title>\r\n",
       "<path fill=\"#e58139\" fill-opacity=\"0.505882\" stroke=\"black\" d=\"M523,-438C523,-438 404,-438 404,-438 398,-438 392,-432 392,-426 392,-426 392,-352 392,-352 392,-346 398,-340 404,-340 404,-340 523,-340 523,-340 529,-340 535,-346 535,-352 535,-352 535,-426 535,-426 535,-432 529,-438 523,-438\"/>\r\n",
       "<text text-anchor=\"middle\" x=\"463.5\" y=\"-422.8\" font-family=\"Helvetica,sans-Serif\" font-size=\"14.00\">node #1</text>\r\n",
       "<text text-anchor=\"middle\" x=\"463.5\" y=\"-407.8\" font-family=\"Helvetica,sans-Serif\" font-size=\"14.00\">total.cost &lt;= 5941.5</text>\r\n",
       "<text text-anchor=\"middle\" x=\"463.5\" y=\"-392.8\" font-family=\"Helvetica,sans-Serif\" font-size=\"14.00\">gini = 0.443</text>\r\n",
       "<text text-anchor=\"middle\" x=\"463.5\" y=\"-377.8\" font-family=\"Helvetica,sans-Serif\" font-size=\"14.00\">samples = 1585</text>\r\n",
       "<text text-anchor=\"middle\" x=\"463.5\" y=\"-362.8\" font-family=\"Helvetica,sans-Serif\" font-size=\"14.00\">value = [1061, 524]</text>\r\n",
       "<text text-anchor=\"middle\" x=\"463.5\" y=\"-347.8\" font-family=\"Helvetica,sans-Serif\" font-size=\"14.00\">class = YES</text>\r\n",
       "</g>\r\n",
       "<!-- 0&#45;&gt;1 -->\r\n",
       "<g id=\"edge1\" class=\"edge\"><title>0&#45;&gt;1</title>\r\n",
       "<path fill=\"none\" stroke=\"black\" d=\"M539.202,-473.972C530.917,-464.781 522.178,-455.088 513.698,-445.681\"/>\r\n",
       "<polygon fill=\"black\" stroke=\"black\" points=\"516.261,-443.298 506.966,-438.214 511.062,-447.985 516.261,-443.298\"/>\r\n",
       "<text text-anchor=\"middle\" x=\"505.672\" y=\"-459.48\" font-family=\"Helvetica,sans-Serif\" font-size=\"14.00\">True</text>\r\n",
       "</g>\r\n",
       "<!-- 712 -->\r\n",
       "<g id=\"node17\" class=\"node\"><title>712</title>\r\n",
       "<path fill=\"#399de5\" fill-opacity=\"0.094118\" stroke=\"black\" d=\"M763.5,-438C763.5,-438 641.5,-438 641.5,-438 635.5,-438 629.5,-432 629.5,-426 629.5,-426 629.5,-352 629.5,-352 629.5,-346 635.5,-340 641.5,-340 641.5,-340 763.5,-340 763.5,-340 769.5,-340 775.5,-346 775.5,-352 775.5,-352 775.5,-426 775.5,-426 775.5,-432 769.5,-438 763.5,-438\"/>\r\n",
       "<text text-anchor=\"middle\" x=\"702.5\" y=\"-422.8\" font-family=\"Helvetica,sans-Serif\" font-size=\"14.00\">node #712</text>\r\n",
       "<text text-anchor=\"middle\" x=\"702.5\" y=\"-407.8\" font-family=\"Helvetica,sans-Serif\" font-size=\"14.00\">total.cost &lt;= 4701.5</text>\r\n",
       "<text text-anchor=\"middle\" x=\"702.5\" y=\"-392.8\" font-family=\"Helvetica,sans-Serif\" font-size=\"14.00\">gini = 0.499</text>\r\n",
       "<text text-anchor=\"middle\" x=\"702.5\" y=\"-377.8\" font-family=\"Helvetica,sans-Serif\" font-size=\"14.00\">samples = 4036</text>\r\n",
       "<text text-anchor=\"middle\" x=\"702.5\" y=\"-362.8\" font-family=\"Helvetica,sans-Serif\" font-size=\"14.00\">value = [1917, 2119]</text>\r\n",
       "<text text-anchor=\"middle\" x=\"702.5\" y=\"-347.8\" font-family=\"Helvetica,sans-Serif\" font-size=\"14.00\">class = YES</text>\r\n",
       "</g>\r\n",
       "<!-- 0&#45;&gt;712 -->\r\n",
       "<g id=\"edge16\" class=\"edge\"><title>0&#45;&gt;712</title>\r\n",
       "<path fill=\"none\" stroke=\"black\" d=\"M626.162,-473.972C634.517,-464.781 643.329,-455.088 651.881,-445.681\"/>\r\n",
       "<polygon fill=\"black\" stroke=\"black\" points=\"654.532,-447.968 658.669,-438.214 649.353,-443.259 654.532,-447.968\"/>\r\n",
       "<text text-anchor=\"middle\" x=\"659.858\" y=\"-459.486\" font-family=\"Helvetica,sans-Serif\" font-size=\"14.00\">False</text>\r\n",
       "</g>\r\n",
       "<!-- 2 -->\r\n",
       "<g id=\"node3\" class=\"node\"><title>2</title>\r\n",
       "<path fill=\"#e58139\" fill-opacity=\"0.643137\" stroke=\"black\" d=\"M282.5,-304C282.5,-304 176.5,-304 176.5,-304 170.5,-304 164.5,-298 164.5,-292 164.5,-292 164.5,-218 164.5,-218 164.5,-212 170.5,-206 176.5,-206 176.5,-206 282.5,-206 282.5,-206 288.5,-206 294.5,-212 294.5,-218 294.5,-218 294.5,-292 294.5,-292 294.5,-298 288.5,-304 282.5,-304\"/>\r\n",
       "<text text-anchor=\"middle\" x=\"229.5\" y=\"-288.8\" font-family=\"Helvetica,sans-Serif\" font-size=\"14.00\">node #2</text>\r\n",
       "<text text-anchor=\"middle\" x=\"229.5\" y=\"-273.8\" font-family=\"Helvetica,sans-Serif\" font-size=\"14.00\">state &lt;= 2.5</text>\r\n",
       "<text text-anchor=\"middle\" x=\"229.5\" y=\"-258.8\" font-family=\"Helvetica,sans-Serif\" font-size=\"14.00\">gini = 0.389</text>\r\n",
       "<text text-anchor=\"middle\" x=\"229.5\" y=\"-243.8\" font-family=\"Helvetica,sans-Serif\" font-size=\"14.00\">samples = 1227</text>\r\n",
       "<text text-anchor=\"middle\" x=\"229.5\" y=\"-228.8\" font-family=\"Helvetica,sans-Serif\" font-size=\"14.00\">value = [903, 324]</text>\r\n",
       "<text text-anchor=\"middle\" x=\"229.5\" y=\"-213.8\" font-family=\"Helvetica,sans-Serif\" font-size=\"14.00\">class = YES</text>\r\n",
       "</g>\r\n",
       "<!-- 1&#45;&gt;2 -->\r\n",
       "<g id=\"edge2\" class=\"edge\"><title>1&#45;&gt;2</title>\r\n",
       "<path fill=\"none\" stroke=\"black\" d=\"M391.702,-347.499C363.82,-331.77 331.891,-313.759 303.777,-297.9\"/>\r\n",
       "<polygon fill=\"black\" stroke=\"black\" points=\"305.222,-294.697 294.793,-292.832 301.783,-300.793 305.222,-294.697\"/>\r\n",
       "</g>\r\n",
       "<!-- 529 -->\r\n",
       "<g id=\"node10\" class=\"node\"><title>529</title>\r\n",
       "<path fill=\"#399de5\" fill-opacity=\"0.211765\" stroke=\"black\" d=\"M523.5,-304C523.5,-304 403.5,-304 403.5,-304 397.5,-304 391.5,-298 391.5,-292 391.5,-292 391.5,-218 391.5,-218 391.5,-212 397.5,-206 403.5,-206 403.5,-206 523.5,-206 523.5,-206 529.5,-206 535.5,-212 535.5,-218 535.5,-218 535.5,-292 535.5,-292 535.5,-298 529.5,-304 523.5,-304\"/>\r\n",
       "<text text-anchor=\"middle\" x=\"463.5\" y=\"-288.8\" font-family=\"Helvetica,sans-Serif\" font-size=\"14.00\">node #529</text>\r\n",
       "<text text-anchor=\"middle\" x=\"463.5\" y=\"-273.8\" font-family=\"Helvetica,sans-Serif\" font-size=\"14.00\">mileage &lt;= 27224.5</text>\r\n",
       "<text text-anchor=\"middle\" x=\"463.5\" y=\"-258.8\" font-family=\"Helvetica,sans-Serif\" font-size=\"14.00\">gini = 0.493</text>\r\n",
       "<text text-anchor=\"middle\" x=\"463.5\" y=\"-243.8\" font-family=\"Helvetica,sans-Serif\" font-size=\"14.00\">samples = 358</text>\r\n",
       "<text text-anchor=\"middle\" x=\"463.5\" y=\"-228.8\" font-family=\"Helvetica,sans-Serif\" font-size=\"14.00\">value = [158, 200]</text>\r\n",
       "<text text-anchor=\"middle\" x=\"463.5\" y=\"-213.8\" font-family=\"Helvetica,sans-Serif\" font-size=\"14.00\">class = YES</text>\r\n",
       "</g>\r\n",
       "<!-- 1&#45;&gt;529 -->\r\n",
       "<g id=\"edge9\" class=\"edge\"><title>1&#45;&gt;529</title>\r\n",
       "<path fill=\"none\" stroke=\"black\" d=\"M463.5,-339.972C463.5,-331.691 463.5,-323.003 463.5,-314.483\"/>\r\n",
       "<polygon fill=\"black\" stroke=\"black\" points=\"467,-314.214 463.5,-304.214 460,-314.214 467,-314.214\"/>\r\n",
       "</g>\r\n",
       "<!-- 3 -->\r\n",
       "<g id=\"node4\" class=\"node\"><title>3</title>\r\n",
       "<path fill=\"#e58139\" fill-opacity=\"0.439216\" stroke=\"black\" d=\"M131,-170C131,-170 12,-170 12,-170 6,-170 0,-164 0,-158 0,-158 0,-84 0,-84 0,-78 6,-72 12,-72 12,-72 131,-72 131,-72 137,-72 143,-78 143,-84 143,-84 143,-158 143,-158 143,-164 137,-170 131,-170\"/>\r\n",
       "<text text-anchor=\"middle\" x=\"71.5\" y=\"-154.8\" font-family=\"Helvetica,sans-Serif\" font-size=\"14.00\">node #3</text>\r\n",
       "<text text-anchor=\"middle\" x=\"71.5\" y=\"-139.8\" font-family=\"Helvetica,sans-Serif\" font-size=\"14.00\">total.cost &lt;= 4746.5</text>\r\n",
       "<text text-anchor=\"middle\" x=\"71.5\" y=\"-124.8\" font-family=\"Helvetica,sans-Serif\" font-size=\"14.00\">gini = 0.46</text>\r\n",
       "<text text-anchor=\"middle\" x=\"71.5\" y=\"-109.8\" font-family=\"Helvetica,sans-Serif\" font-size=\"14.00\">samples = 502</text>\r\n",
       "<text text-anchor=\"middle\" x=\"71.5\" y=\"-94.8\" font-family=\"Helvetica,sans-Serif\" font-size=\"14.00\">value = [322, 180]</text>\r\n",
       "<text text-anchor=\"middle\" x=\"71.5\" y=\"-79.8\" font-family=\"Helvetica,sans-Serif\" font-size=\"14.00\">class = YES</text>\r\n",
       "</g>\r\n",
       "<!-- 2&#45;&gt;3 -->\r\n",
       "<g id=\"edge3\" class=\"edge\"><title>2&#45;&gt;3</title>\r\n",
       "<path fill=\"none\" stroke=\"black\" d=\"M172.011,-205.972C160.684,-196.508 148.719,-186.512 137.146,-176.844\"/>\r\n",
       "<polygon fill=\"black\" stroke=\"black\" points=\"139.129,-173.939 129.211,-170.214 134.641,-179.311 139.129,-173.939\"/>\r\n",
       "</g>\r\n",
       "<!-- 266 -->\r\n",
       "<g id=\"node7\" class=\"node\"><title>266</title>\r\n",
       "<path fill=\"#e58139\" fill-opacity=\"0.752941\" stroke=\"black\" d=\"M285.5,-170C285.5,-170 173.5,-170 173.5,-170 167.5,-170 161.5,-164 161.5,-158 161.5,-158 161.5,-84 161.5,-84 161.5,-78 167.5,-72 173.5,-72 173.5,-72 285.5,-72 285.5,-72 291.5,-72 297.5,-78 297.5,-84 297.5,-84 297.5,-158 297.5,-158 297.5,-164 291.5,-170 285.5,-170\"/>\r\n",
       "<text text-anchor=\"middle\" x=\"229.5\" y=\"-154.8\" font-family=\"Helvetica,sans-Serif\" font-size=\"14.00\">node #266</text>\r\n",
       "<text text-anchor=\"middle\" x=\"229.5\" y=\"-139.8\" font-family=\"Helvetica,sans-Serif\" font-size=\"14.00\">vehicle.type &lt;= 0.5</text>\r\n",
       "<text text-anchor=\"middle\" x=\"229.5\" y=\"-124.8\" font-family=\"Helvetica,sans-Serif\" font-size=\"14.00\">gini = 0.318</text>\r\n",
       "<text text-anchor=\"middle\" x=\"229.5\" y=\"-109.8\" font-family=\"Helvetica,sans-Serif\" font-size=\"14.00\">samples = 725</text>\r\n",
       "<text text-anchor=\"middle\" x=\"229.5\" y=\"-94.8\" font-family=\"Helvetica,sans-Serif\" font-size=\"14.00\">value = [581, 144]</text>\r\n",
       "<text text-anchor=\"middle\" x=\"229.5\" y=\"-79.8\" font-family=\"Helvetica,sans-Serif\" font-size=\"14.00\">class = YES</text>\r\n",
       "</g>\r\n",
       "<!-- 2&#45;&gt;266 -->\r\n",
       "<g id=\"edge6\" class=\"edge\"><title>2&#45;&gt;266</title>\r\n",
       "<path fill=\"none\" stroke=\"black\" d=\"M229.5,-205.972C229.5,-197.691 229.5,-189.003 229.5,-180.483\"/>\r\n",
       "<polygon fill=\"black\" stroke=\"black\" points=\"233,-180.214 229.5,-170.214 226,-180.214 233,-180.214\"/>\r\n",
       "</g>\r\n",
       "<!-- 4 -->\r\n",
       "<g id=\"node5\" class=\"node\"><title>4</title>\r\n",
       "<path fill=\"#c0c0c0\" stroke=\"black\" d=\"M79.5,-36C79.5,-36 49.5,-36 49.5,-36 43.5,-36 37.5,-30 37.5,-24 37.5,-24 37.5,-12 37.5,-12 37.5,-6 43.5,-0 49.5,-0 49.5,-0 79.5,-0 79.5,-0 85.5,-0 91.5,-6 91.5,-12 91.5,-12 91.5,-24 91.5,-24 91.5,-30 85.5,-36 79.5,-36\"/>\r\n",
       "<text text-anchor=\"middle\" x=\"64.5\" y=\"-14.3\" font-family=\"Helvetica,sans-Serif\" font-size=\"14.00\">(...)</text>\r\n",
       "</g>\r\n",
       "<!-- 3&#45;&gt;4 -->\r\n",
       "<g id=\"edge4\" class=\"edge\"><title>3&#45;&gt;4</title>\r\n",
       "<path fill=\"none\" stroke=\"black\" d=\"M68.164,-71.8664C67.5539,-63.064 66.9372,-54.1654 66.3882,-46.2437\"/>\r\n",
       "<polygon fill=\"black\" stroke=\"black\" points=\"69.8716,-45.8816 65.6884,-36.1476 62.8883,-46.3657 69.8716,-45.8816\"/>\r\n",
       "</g>\r\n",
       "<!-- 69 -->\r\n",
       "<g id=\"node6\" class=\"node\"><title>69</title>\r\n",
       "<path fill=\"#c0c0c0\" stroke=\"black\" d=\"M151.5,-36C151.5,-36 121.5,-36 121.5,-36 115.5,-36 109.5,-30 109.5,-24 109.5,-24 109.5,-12 109.5,-12 109.5,-6 115.5,-0 121.5,-0 121.5,-0 151.5,-0 151.5,-0 157.5,-0 163.5,-6 163.5,-12 163.5,-12 163.5,-24 163.5,-24 163.5,-30 157.5,-36 151.5,-36\"/>\r\n",
       "<text text-anchor=\"middle\" x=\"136.5\" y=\"-14.3\" font-family=\"Helvetica,sans-Serif\" font-size=\"14.00\">(...)</text>\r\n",
       "</g>\r\n",
       "<!-- 3&#45;&gt;69 -->\r\n",
       "<g id=\"edge5\" class=\"edge\"><title>3&#45;&gt;69</title>\r\n",
       "<path fill=\"none\" stroke=\"black\" d=\"M102.477,-71.8664C108.528,-62.4638 114.65,-52.9515 120.001,-44.6373\"/>\r\n",
       "<polygon fill=\"black\" stroke=\"black\" points=\"122.996,-46.4508 125.464,-36.1476 117.109,-42.6625 122.996,-46.4508\"/>\r\n",
       "</g>\r\n",
       "<!-- 267 -->\r\n",
       "<g id=\"node8\" class=\"node\"><title>267</title>\r\n",
       "<path fill=\"#c0c0c0\" stroke=\"black\" d=\"M223.5,-36C223.5,-36 193.5,-36 193.5,-36 187.5,-36 181.5,-30 181.5,-24 181.5,-24 181.5,-12 181.5,-12 181.5,-6 187.5,-0 193.5,-0 193.5,-0 223.5,-0 223.5,-0 229.5,-0 235.5,-6 235.5,-12 235.5,-12 235.5,-24 235.5,-24 235.5,-30 229.5,-36 223.5,-36\"/>\r\n",
       "<text text-anchor=\"middle\" x=\"208.5\" y=\"-14.3\" font-family=\"Helvetica,sans-Serif\" font-size=\"14.00\">(...)</text>\r\n",
       "</g>\r\n",
       "<!-- 266&#45;&gt;267 -->\r\n",
       "<g id=\"edge7\" class=\"edge\"><title>266&#45;&gt;267</title>\r\n",
       "<path fill=\"none\" stroke=\"black\" d=\"M219.492,-71.8664C217.641,-62.9639 215.77,-53.9632 214.108,-45.974\"/>\r\n",
       "<polygon fill=\"black\" stroke=\"black\" points=\"217.528,-45.2257 212.065,-36.1476 210.674,-46.6507 217.528,-45.2257\"/>\r\n",
       "</g>\r\n",
       "<!-- 386 -->\r\n",
       "<g id=\"node9\" class=\"node\"><title>386</title>\r\n",
       "<path fill=\"#c0c0c0\" stroke=\"black\" d=\"M295.5,-36C295.5,-36 265.5,-36 265.5,-36 259.5,-36 253.5,-30 253.5,-24 253.5,-24 253.5,-12 253.5,-12 253.5,-6 259.5,-0 265.5,-0 265.5,-0 295.5,-0 295.5,-0 301.5,-0 307.5,-6 307.5,-12 307.5,-12 307.5,-24 307.5,-24 307.5,-30 301.5,-36 295.5,-36\"/>\r\n",
       "<text text-anchor=\"middle\" x=\"280.5\" y=\"-14.3\" font-family=\"Helvetica,sans-Serif\" font-size=\"14.00\">(...)</text>\r\n",
       "</g>\r\n",
       "<!-- 266&#45;&gt;386 -->\r\n",
       "<g id=\"edge8\" class=\"edge\"><title>266&#45;&gt;386</title>\r\n",
       "<path fill=\"none\" stroke=\"black\" d=\"M253.805,-71.8664C258.452,-62.6638 263.152,-53.3562 267.286,-45.1696\"/>\r\n",
       "<polygon fill=\"black\" stroke=\"black\" points=\"270.458,-46.6517 271.841,-36.1476 264.21,-43.4965 270.458,-46.6517\"/>\r\n",
       "</g>\r\n",
       "<!-- 530 -->\r\n",
       "<g id=\"node11\" class=\"node\"><title>530</title>\r\n",
       "<path fill=\"#399de5\" fill-opacity=\"0.803922\" stroke=\"black\" d=\"M447,-170C447,-170 328,-170 328,-170 322,-170 316,-164 316,-158 316,-158 316,-84 316,-84 316,-78 322,-72 328,-72 328,-72 447,-72 447,-72 453,-72 459,-78 459,-84 459,-84 459,-158 459,-158 459,-164 453,-170 447,-170\"/>\r\n",
       "<text text-anchor=\"middle\" x=\"387.5\" y=\"-154.8\" font-family=\"Helvetica,sans-Serif\" font-size=\"14.00\">node #530</text>\r\n",
       "<text text-anchor=\"middle\" x=\"387.5\" y=\"-139.8\" font-family=\"Helvetica,sans-Serif\" font-size=\"14.00\">total.cost &lt;= 7079.0</text>\r\n",
       "<text text-anchor=\"middle\" x=\"387.5\" y=\"-124.8\" font-family=\"Helvetica,sans-Serif\" font-size=\"14.00\">gini = 0.274</text>\r\n",
       "<text text-anchor=\"middle\" x=\"387.5\" y=\"-109.8\" font-family=\"Helvetica,sans-Serif\" font-size=\"14.00\">samples = 61</text>\r\n",
       "<text text-anchor=\"middle\" x=\"387.5\" y=\"-94.8\" font-family=\"Helvetica,sans-Serif\" font-size=\"14.00\">value = [10, 51]</text>\r\n",
       "<text text-anchor=\"middle\" x=\"387.5\" y=\"-79.8\" font-family=\"Helvetica,sans-Serif\" font-size=\"14.00\">class = YES</text>\r\n",
       "</g>\r\n",
       "<!-- 529&#45;&gt;530 -->\r\n",
       "<g id=\"edge10\" class=\"edge\"><title>529&#45;&gt;530</title>\r\n",
       "<path fill=\"none\" stroke=\"black\" d=\"M435.847,-205.972C430.818,-197.236 425.527,-188.046 420.364,-179.08\"/>\r\n",
       "<polygon fill=\"black\" stroke=\"black\" points=\"423.282,-177.134 415.26,-170.214 417.216,-180.627 423.282,-177.134\"/>\r\n",
       "</g>\r\n",
       "<!-- 557 -->\r\n",
       "<g id=\"node14\" class=\"node\"><title>557</title>\r\n",
       "<path fill=\"#399de5\" fill-opacity=\"0.007843\" stroke=\"black\" d=\"M598,-170C598,-170 489,-170 489,-170 483,-170 477,-164 477,-158 477,-158 477,-84 477,-84 477,-78 483,-72 489,-72 489,-72 598,-72 598,-72 604,-72 610,-78 610,-84 610,-84 610,-158 610,-158 610,-164 604,-170 598,-170\"/>\r\n",
       "<text text-anchor=\"middle\" x=\"543.5\" y=\"-154.8\" font-family=\"Helvetica,sans-Serif\" font-size=\"14.00\">node #557</text>\r\n",
       "<text text-anchor=\"middle\" x=\"543.5\" y=\"-139.8\" font-family=\"Helvetica,sans-Serif\" font-size=\"14.00\">vehicle.age &lt;= 2.5</text>\r\n",
       "<text text-anchor=\"middle\" x=\"543.5\" y=\"-124.8\" font-family=\"Helvetica,sans-Serif\" font-size=\"14.00\">gini = 0.5</text>\r\n",
       "<text text-anchor=\"middle\" x=\"543.5\" y=\"-109.8\" font-family=\"Helvetica,sans-Serif\" font-size=\"14.00\">samples = 297</text>\r\n",
       "<text text-anchor=\"middle\" x=\"543.5\" y=\"-94.8\" font-family=\"Helvetica,sans-Serif\" font-size=\"14.00\">value = [148, 149]</text>\r\n",
       "<text text-anchor=\"middle\" x=\"543.5\" y=\"-79.8\" font-family=\"Helvetica,sans-Serif\" font-size=\"14.00\">class = YES</text>\r\n",
       "</g>\r\n",
       "<!-- 529&#45;&gt;557 -->\r\n",
       "<g id=\"edge13\" class=\"edge\"><title>529&#45;&gt;557</title>\r\n",
       "<path fill=\"none\" stroke=\"black\" d=\"M492.608,-205.972C497.957,-197.145 503.588,-187.855 509.076,-178.8\"/>\r\n",
       "<polygon fill=\"black\" stroke=\"black\" points=\"512.09,-180.58 514.279,-170.214 506.103,-176.952 512.09,-180.58\"/>\r\n",
       "</g>\r\n",
       "<!-- 531 -->\r\n",
       "<g id=\"node12\" class=\"node\"><title>531</title>\r\n",
       "<path fill=\"#c0c0c0\" stroke=\"black\" d=\"M368.5,-36C368.5,-36 338.5,-36 338.5,-36 332.5,-36 326.5,-30 326.5,-24 326.5,-24 326.5,-12 326.5,-12 326.5,-6 332.5,-0 338.5,-0 338.5,-0 368.5,-0 368.5,-0 374.5,-0 380.5,-6 380.5,-12 380.5,-12 380.5,-24 380.5,-24 380.5,-30 374.5,-36 368.5,-36\"/>\r\n",
       "<text text-anchor=\"middle\" x=\"353.5\" y=\"-14.3\" font-family=\"Helvetica,sans-Serif\" font-size=\"14.00\">(...)</text>\r\n",
       "</g>\r\n",
       "<!-- 530&#45;&gt;531 -->\r\n",
       "<g id=\"edge11\" class=\"edge\"><title>530&#45;&gt;531</title>\r\n",
       "<path fill=\"none\" stroke=\"black\" d=\"M371.297,-71.8664C368.266,-62.8639 365.202,-53.7609 362.49,-45.7051\"/>\r\n",
       "<polygon fill=\"black\" stroke=\"black\" points=\"365.78,-44.5083 359.272,-36.1476 359.146,-46.7417 365.78,-44.5083\"/>\r\n",
       "</g>\r\n",
       "<!-- 552 -->\r\n",
       "<g id=\"node13\" class=\"node\"><title>552</title>\r\n",
       "<path fill=\"#c0c0c0\" stroke=\"black\" d=\"M440.5,-36C440.5,-36 410.5,-36 410.5,-36 404.5,-36 398.5,-30 398.5,-24 398.5,-24 398.5,-12 398.5,-12 398.5,-6 404.5,-0 410.5,-0 410.5,-0 440.5,-0 440.5,-0 446.5,-0 452.5,-6 452.5,-12 452.5,-12 452.5,-24 452.5,-24 452.5,-30 446.5,-36 440.5,-36\"/>\r\n",
       "<text text-anchor=\"middle\" x=\"425.5\" y=\"-14.3\" font-family=\"Helvetica,sans-Serif\" font-size=\"14.00\">(...)</text>\r\n",
       "</g>\r\n",
       "<!-- 530&#45;&gt;552 -->\r\n",
       "<g id=\"edge12\" class=\"edge\"><title>530&#45;&gt;552</title>\r\n",
       "<path fill=\"none\" stroke=\"black\" d=\"M405.61,-71.8664C408.997,-62.8639 412.422,-53.7609 415.453,-45.7051\"/>\r\n",
       "<polygon fill=\"black\" stroke=\"black\" points=\"418.803,-46.7396 419.048,-36.1476 412.251,-44.2745 418.803,-46.7396\"/>\r\n",
       "</g>\r\n",
       "<!-- 558 -->\r\n",
       "<g id=\"node15\" class=\"node\"><title>558</title>\r\n",
       "<path fill=\"#c0c0c0\" stroke=\"black\" d=\"M513.5,-36C513.5,-36 483.5,-36 483.5,-36 477.5,-36 471.5,-30 471.5,-24 471.5,-24 471.5,-12 471.5,-12 471.5,-6 477.5,-0 483.5,-0 483.5,-0 513.5,-0 513.5,-0 519.5,-0 525.5,-6 525.5,-12 525.5,-12 525.5,-24 525.5,-24 525.5,-30 519.5,-36 513.5,-36\"/>\r\n",
       "<text text-anchor=\"middle\" x=\"498.5\" y=\"-14.3\" font-family=\"Helvetica,sans-Serif\" font-size=\"14.00\">(...)</text>\r\n",
       "</g>\r\n",
       "<!-- 557&#45;&gt;558 -->\r\n",
       "<g id=\"edge14\" class=\"edge\"><title>557&#45;&gt;558</title>\r\n",
       "<path fill=\"none\" stroke=\"black\" d=\"M522.054,-71.8664C517.999,-62.7639 513.897,-53.5586 510.279,-45.437\"/>\r\n",
       "<polygon fill=\"black\" stroke=\"black\" points=\"513.407,-43.8575 506.14,-36.1476 507.013,-46.7064 513.407,-43.8575\"/>\r\n",
       "</g>\r\n",
       "<!-- 567 -->\r\n",
       "<g id=\"node16\" class=\"node\"><title>567</title>\r\n",
       "<path fill=\"#c0c0c0\" stroke=\"black\" d=\"M585.5,-36C585.5,-36 555.5,-36 555.5,-36 549.5,-36 543.5,-30 543.5,-24 543.5,-24 543.5,-12 543.5,-12 543.5,-6 549.5,-0 555.5,-0 555.5,-0 585.5,-0 585.5,-0 591.5,-0 597.5,-6 597.5,-12 597.5,-12 597.5,-24 597.5,-24 597.5,-30 591.5,-36 585.5,-36\"/>\r\n",
       "<text text-anchor=\"middle\" x=\"570.5\" y=\"-14.3\" font-family=\"Helvetica,sans-Serif\" font-size=\"14.00\">(...)</text>\r\n",
       "</g>\r\n",
       "<!-- 557&#45;&gt;567 -->\r\n",
       "<g id=\"edge15\" class=\"edge\"><title>557&#45;&gt;567</title>\r\n",
       "<path fill=\"none\" stroke=\"black\" d=\"M556.367,-71.8664C558.747,-62.9639 561.153,-53.9632 563.289,-45.974\"/>\r\n",
       "<polygon fill=\"black\" stroke=\"black\" points=\"566.715,-46.7123 565.916,-36.1476 559.952,-44.9044 566.715,-46.7123\"/>\r\n",
       "</g>\r\n",
       "<!-- 713 -->\r\n",
       "<g id=\"node18\" class=\"node\"><title>713</title>\r\n",
       "<path fill=\"#e58139\" fill-opacity=\"0.274510\" stroke=\"black\" d=\"M759.5,-304C759.5,-304 645.5,-304 645.5,-304 639.5,-304 633.5,-298 633.5,-292 633.5,-292 633.5,-218 633.5,-218 633.5,-212 639.5,-206 645.5,-206 645.5,-206 759.5,-206 759.5,-206 765.5,-206 771.5,-212 771.5,-218 771.5,-218 771.5,-292 771.5,-292 771.5,-298 765.5,-304 759.5,-304\"/>\r\n",
       "<text text-anchor=\"middle\" x=\"702.5\" y=\"-288.8\" font-family=\"Helvetica,sans-Serif\" font-size=\"14.00\">node #713</text>\r\n",
       "<text text-anchor=\"middle\" x=\"702.5\" y=\"-273.8\" font-family=\"Helvetica,sans-Serif\" font-size=\"14.00\">vehicle.age &lt;= 6.5</text>\r\n",
       "<text text-anchor=\"middle\" x=\"702.5\" y=\"-258.8\" font-family=\"Helvetica,sans-Serif\" font-size=\"14.00\">gini = 0.487</text>\r\n",
       "<text text-anchor=\"middle\" x=\"702.5\" y=\"-243.8\" font-family=\"Helvetica,sans-Serif\" font-size=\"14.00\">samples = 1769</text>\r\n",
       "<text text-anchor=\"middle\" x=\"702.5\" y=\"-228.8\" font-family=\"Helvetica,sans-Serif\" font-size=\"14.00\">value = [1025, 744]</text>\r\n",
       "<text text-anchor=\"middle\" x=\"702.5\" y=\"-213.8\" font-family=\"Helvetica,sans-Serif\" font-size=\"14.00\">class = YES</text>\r\n",
       "</g>\r\n",
       "<!-- 712&#45;&gt;713 -->\r\n",
       "<g id=\"edge17\" class=\"edge\"><title>712&#45;&gt;713</title>\r\n",
       "<path fill=\"none\" stroke=\"black\" d=\"M702.5,-339.972C702.5,-331.691 702.5,-323.003 702.5,-314.483\"/>\r\n",
       "<polygon fill=\"black\" stroke=\"black\" points=\"706,-314.214 702.5,-304.214 699,-314.214 706,-314.214\"/>\r\n",
       "</g>\r\n",
       "<!-- 1614 -->\r\n",
       "<g id=\"node25\" class=\"node\"><title>1614</title>\r\n",
       "<path fill=\"#399de5\" fill-opacity=\"0.352941\" stroke=\"black\" d=\"M1076.5,-304C1076.5,-304 962.5,-304 962.5,-304 956.5,-304 950.5,-298 950.5,-292 950.5,-292 950.5,-218 950.5,-218 950.5,-212 956.5,-206 962.5,-206 962.5,-206 1076.5,-206 1076.5,-206 1082.5,-206 1088.5,-212 1088.5,-218 1088.5,-218 1088.5,-292 1088.5,-292 1088.5,-298 1082.5,-304 1076.5,-304\"/>\r\n",
       "<text text-anchor=\"middle\" x=\"1019.5\" y=\"-288.8\" font-family=\"Helvetica,sans-Serif\" font-size=\"14.00\">node #1614</text>\r\n",
       "<text text-anchor=\"middle\" x=\"1019.5\" y=\"-273.8\" font-family=\"Helvetica,sans-Serif\" font-size=\"14.00\">vehicle.type &lt;= 3.5</text>\r\n",
       "<text text-anchor=\"middle\" x=\"1019.5\" y=\"-258.8\" font-family=\"Helvetica,sans-Serif\" font-size=\"14.00\">gini = 0.477</text>\r\n",
       "<text text-anchor=\"middle\" x=\"1019.5\" y=\"-243.8\" font-family=\"Helvetica,sans-Serif\" font-size=\"14.00\">samples = 2267</text>\r\n",
       "<text text-anchor=\"middle\" x=\"1019.5\" y=\"-228.8\" font-family=\"Helvetica,sans-Serif\" font-size=\"14.00\">value = [892, 1375]</text>\r\n",
       "<text text-anchor=\"middle\" x=\"1019.5\" y=\"-213.8\" font-family=\"Helvetica,sans-Serif\" font-size=\"14.00\">class = YES</text>\r\n",
       "</g>\r\n",
       "<!-- 712&#45;&gt;1614 -->\r\n",
       "<g id=\"edge24\" class=\"edge\"><title>712&#45;&gt;1614</title>\r\n",
       "<path fill=\"none\" stroke=\"black\" d=\"M775.624,-357.551C825.113,-336.944 890.429,-309.746 941.009,-288.684\"/>\r\n",
       "<polygon fill=\"black\" stroke=\"black\" points=\"942.389,-291.901 950.275,-284.825 939.698,-285.438 942.389,-291.901\"/>\r\n",
       "</g>\r\n",
       "<!-- 714 -->\r\n",
       "<g id=\"node19\" class=\"node\"><title>714</title>\r\n",
       "<path fill=\"#e58139\" fill-opacity=\"0.470588\" stroke=\"black\" d=\"M759,-170C759,-170 640,-170 640,-170 634,-170 628,-164 628,-158 628,-158 628,-84 628,-84 628,-78 634,-72 640,-72 640,-72 759,-72 759,-72 765,-72 771,-78 771,-84 771,-84 771,-158 771,-158 771,-164 765,-170 759,-170\"/>\r\n",
       "<text text-anchor=\"middle\" x=\"699.5\" y=\"-154.8\" font-family=\"Helvetica,sans-Serif\" font-size=\"14.00\">node #714</text>\r\n",
       "<text text-anchor=\"middle\" x=\"699.5\" y=\"-139.8\" font-family=\"Helvetica,sans-Serif\" font-size=\"14.00\">total.cost &lt;= 4263.0</text>\r\n",
       "<text text-anchor=\"middle\" x=\"699.5\" y=\"-124.8\" font-family=\"Helvetica,sans-Serif\" font-size=\"14.00\">gini = 0.453</text>\r\n",
       "<text text-anchor=\"middle\" x=\"699.5\" y=\"-109.8\" font-family=\"Helvetica,sans-Serif\" font-size=\"14.00\">samples = 922</text>\r\n",
       "<text text-anchor=\"middle\" x=\"699.5\" y=\"-94.8\" font-family=\"Helvetica,sans-Serif\" font-size=\"14.00\">value = [603, 319]</text>\r\n",
       "<text text-anchor=\"middle\" x=\"699.5\" y=\"-79.8\" font-family=\"Helvetica,sans-Serif\" font-size=\"14.00\">class = YES</text>\r\n",
       "</g>\r\n",
       "<!-- 713&#45;&gt;714 -->\r\n",
       "<g id=\"edge18\" class=\"edge\"><title>713&#45;&gt;714</title>\r\n",
       "<path fill=\"none\" stroke=\"black\" d=\"M701.408,-205.972C701.22,-197.691 701.023,-189.003 700.829,-180.483\"/>\r\n",
       "<polygon fill=\"black\" stroke=\"black\" points=\"704.322,-180.132 700.596,-170.214 697.324,-180.291 704.322,-180.132\"/>\r\n",
       "</g>\r\n",
       "<!-- 1179 -->\r\n",
       "<g id=\"node22\" class=\"node\"><title>1179</title>\r\n",
       "<path fill=\"#399de5\" fill-opacity=\"0.007843\" stroke=\"black\" d=\"M920,-170C920,-170 801,-170 801,-170 795,-170 789,-164 789,-158 789,-158 789,-84 789,-84 789,-78 795,-72 801,-72 801,-72 920,-72 920,-72 926,-72 932,-78 932,-84 932,-84 932,-158 932,-158 932,-164 926,-170 920,-170\"/>\r\n",
       "<text text-anchor=\"middle\" x=\"860.5\" y=\"-154.8\" font-family=\"Helvetica,sans-Serif\" font-size=\"14.00\">node #1179</text>\r\n",
       "<text text-anchor=\"middle\" x=\"860.5\" y=\"-139.8\" font-family=\"Helvetica,sans-Serif\" font-size=\"14.00\">total.cost &lt;= 2517.0</text>\r\n",
       "<text text-anchor=\"middle\" x=\"860.5\" y=\"-124.8\" font-family=\"Helvetica,sans-Serif\" font-size=\"14.00\">gini = 0.5</text>\r\n",
       "<text text-anchor=\"middle\" x=\"860.5\" y=\"-109.8\" font-family=\"Helvetica,sans-Serif\" font-size=\"14.00\">samples = 847</text>\r\n",
       "<text text-anchor=\"middle\" x=\"860.5\" y=\"-94.8\" font-family=\"Helvetica,sans-Serif\" font-size=\"14.00\">value = [422, 425]</text>\r\n",
       "<text text-anchor=\"middle\" x=\"860.5\" y=\"-79.8\" font-family=\"Helvetica,sans-Serif\" font-size=\"14.00\">class = YES</text>\r\n",
       "</g>\r\n",
       "<!-- 713&#45;&gt;1179 -->\r\n",
       "<g id=\"edge21\" class=\"edge\"><title>713&#45;&gt;1179</title>\r\n",
       "<path fill=\"none\" stroke=\"black\" d=\"M759.989,-205.972C771.316,-196.508 783.281,-186.512 794.854,-176.844\"/>\r\n",
       "<polygon fill=\"black\" stroke=\"black\" points=\"797.359,-179.311 802.789,-170.214 792.871,-173.939 797.359,-179.311\"/>\r\n",
       "</g>\r\n",
       "<!-- 715 -->\r\n",
       "<g id=\"node20\" class=\"node\"><title>715</title>\r\n",
       "<path fill=\"#c0c0c0\" stroke=\"black\" d=\"M660.5,-36C660.5,-36 630.5,-36 630.5,-36 624.5,-36 618.5,-30 618.5,-24 618.5,-24 618.5,-12 618.5,-12 618.5,-6 624.5,-0 630.5,-0 630.5,-0 660.5,-0 660.5,-0 666.5,-0 672.5,-6 672.5,-12 672.5,-12 672.5,-24 672.5,-24 672.5,-30 666.5,-36 660.5,-36\"/>\r\n",
       "<text text-anchor=\"middle\" x=\"645.5\" y=\"-14.3\" font-family=\"Helvetica,sans-Serif\" font-size=\"14.00\">(...)</text>\r\n",
       "</g>\r\n",
       "<!-- 714&#45;&gt;715 -->\r\n",
       "<g id=\"edge19\" class=\"edge\"><title>714&#45;&gt;715</title>\r\n",
       "<path fill=\"none\" stroke=\"black\" d=\"M673.765,-71.8664C668.845,-62.6638 663.869,-53.3562 659.492,-45.1696\"/>\r\n",
       "<polygon fill=\"black\" stroke=\"black\" points=\"662.47,-43.316 654.668,-36.1476 656.296,-46.6165 662.47,-43.316\"/>\r\n",
       "</g>\r\n",
       "<!-- 924 -->\r\n",
       "<g id=\"node21\" class=\"node\"><title>924</title>\r\n",
       "<path fill=\"#c0c0c0\" stroke=\"black\" d=\"M732.5,-36C732.5,-36 702.5,-36 702.5,-36 696.5,-36 690.5,-30 690.5,-24 690.5,-24 690.5,-12 690.5,-12 690.5,-6 696.5,-0 702.5,-0 702.5,-0 732.5,-0 732.5,-0 738.5,-0 744.5,-6 744.5,-12 744.5,-12 744.5,-24 744.5,-24 744.5,-30 738.5,-36 732.5,-36\"/>\r\n",
       "<text text-anchor=\"middle\" x=\"717.5\" y=\"-14.3\" font-family=\"Helvetica,sans-Serif\" font-size=\"14.00\">(...)</text>\r\n",
       "</g>\r\n",
       "<!-- 714&#45;&gt;924 -->\r\n",
       "<g id=\"edge20\" class=\"edge\"><title>714&#45;&gt;924</title>\r\n",
       "<path fill=\"none\" stroke=\"black\" d=\"M708.078,-71.8664C709.647,-63.064 711.233,-54.1654 712.645,-46.2437\"/>\r\n",
       "<polygon fill=\"black\" stroke=\"black\" points=\"716.135,-46.6066 714.444,-36.1476 709.244,-45.3783 716.135,-46.6066\"/>\r\n",
       "</g>\r\n",
       "<!-- 1180 -->\r\n",
       "<g id=\"node23\" class=\"node\"><title>1180</title>\r\n",
       "<path fill=\"#c0c0c0\" stroke=\"black\" d=\"M810.5,-36C810.5,-36 780.5,-36 780.5,-36 774.5,-36 768.5,-30 768.5,-24 768.5,-24 768.5,-12 768.5,-12 768.5,-6 774.5,-0 780.5,-0 780.5,-0 810.5,-0 810.5,-0 816.5,-0 822.5,-6 822.5,-12 822.5,-12 822.5,-24 822.5,-24 822.5,-30 816.5,-36 810.5,-36\"/>\r\n",
       "<text text-anchor=\"middle\" x=\"795.5\" y=\"-14.3\" font-family=\"Helvetica,sans-Serif\" font-size=\"14.00\">(...)</text>\r\n",
       "</g>\r\n",
       "<!-- 1179&#45;&gt;1180 -->\r\n",
       "<g id=\"edge22\" class=\"edge\"><title>1179&#45;&gt;1180</title>\r\n",
       "<path fill=\"none\" stroke=\"black\" d=\"M829.523,-71.8664C823.472,-62.4638 817.35,-52.9515 811.999,-44.6373\"/>\r\n",
       "<polygon fill=\"black\" stroke=\"black\" points=\"814.891,-42.6625 806.536,-36.1476 809.004,-46.4508 814.891,-42.6625\"/>\r\n",
       "</g>\r\n",
       "<!-- 1185 -->\r\n",
       "<g id=\"node24\" class=\"node\"><title>1185</title>\r\n",
       "<path fill=\"#c0c0c0\" stroke=\"black\" d=\"M882.5,-36C882.5,-36 852.5,-36 852.5,-36 846.5,-36 840.5,-30 840.5,-24 840.5,-24 840.5,-12 840.5,-12 840.5,-6 846.5,-0 852.5,-0 852.5,-0 882.5,-0 882.5,-0 888.5,-0 894.5,-6 894.5,-12 894.5,-12 894.5,-24 894.5,-24 894.5,-30 888.5,-36 882.5,-36\"/>\r\n",
       "<text text-anchor=\"middle\" x=\"867.5\" y=\"-14.3\" font-family=\"Helvetica,sans-Serif\" font-size=\"14.00\">(...)</text>\r\n",
       "</g>\r\n",
       "<!-- 1179&#45;&gt;1185 -->\r\n",
       "<g id=\"edge23\" class=\"edge\"><title>1179&#45;&gt;1185</title>\r\n",
       "<path fill=\"none\" stroke=\"black\" d=\"M863.836,-71.8664C864.446,-63.064 865.063,-54.1654 865.612,-46.2437\"/>\r\n",
       "<polygon fill=\"black\" stroke=\"black\" points=\"869.112,-46.3657 866.312,-36.1476 862.128,-45.8816 869.112,-46.3657\"/>\r\n",
       "</g>\r\n",
       "<!-- 1615 -->\r\n",
       "<g id=\"node26\" class=\"node\"><title>1615</title>\r\n",
       "<path fill=\"#399de5\" fill-opacity=\"0.462745\" stroke=\"black\" d=\"M1076.5,-170C1076.5,-170 962.5,-170 962.5,-170 956.5,-170 950.5,-164 950.5,-158 950.5,-158 950.5,-84 950.5,-84 950.5,-78 956.5,-72 962.5,-72 962.5,-72 1076.5,-72 1076.5,-72 1082.5,-72 1088.5,-78 1088.5,-84 1088.5,-84 1088.5,-158 1088.5,-158 1088.5,-164 1082.5,-170 1076.5,-170\"/>\r\n",
       "<text text-anchor=\"middle\" x=\"1019.5\" y=\"-154.8\" font-family=\"Helvetica,sans-Serif\" font-size=\"14.00\">node #1615</text>\r\n",
       "<text text-anchor=\"middle\" x=\"1019.5\" y=\"-139.8\" font-family=\"Helvetica,sans-Serif\" font-size=\"14.00\">vehicle.age &lt;= 5.5</text>\r\n",
       "<text text-anchor=\"middle\" x=\"1019.5\" y=\"-124.8\" font-family=\"Helvetica,sans-Serif\" font-size=\"14.00\">gini = 0.454</text>\r\n",
       "<text text-anchor=\"middle\" x=\"1019.5\" y=\"-109.8\" font-family=\"Helvetica,sans-Serif\" font-size=\"14.00\">samples = 1849</text>\r\n",
       "<text text-anchor=\"middle\" x=\"1019.5\" y=\"-94.8\" font-family=\"Helvetica,sans-Serif\" font-size=\"14.00\">value = [645, 1204]</text>\r\n",
       "<text text-anchor=\"middle\" x=\"1019.5\" y=\"-79.8\" font-family=\"Helvetica,sans-Serif\" font-size=\"14.00\">class = YES</text>\r\n",
       "</g>\r\n",
       "<!-- 1614&#45;&gt;1615 -->\r\n",
       "<g id=\"edge25\" class=\"edge\"><title>1614&#45;&gt;1615</title>\r\n",
       "<path fill=\"none\" stroke=\"black\" d=\"M1019.5,-205.972C1019.5,-197.691 1019.5,-189.003 1019.5,-180.483\"/>\r\n",
       "<polygon fill=\"black\" stroke=\"black\" points=\"1023,-180.214 1019.5,-170.214 1016,-180.214 1023,-180.214\"/>\r\n",
       "</g>\r\n",
       "<!-- 2568 -->\r\n",
       "<g id=\"node29\" class=\"node\"><title>2568</title>\r\n",
       "<path fill=\"#e58139\" fill-opacity=\"0.305882\" stroke=\"black\" d=\"M1238,-170C1238,-170 1119,-170 1119,-170 1113,-170 1107,-164 1107,-158 1107,-158 1107,-84 1107,-84 1107,-78 1113,-72 1119,-72 1119,-72 1238,-72 1238,-72 1244,-72 1250,-78 1250,-84 1250,-84 1250,-158 1250,-158 1250,-164 1244,-170 1238,-170\"/>\r\n",
       "<text text-anchor=\"middle\" x=\"1178.5\" y=\"-154.8\" font-family=\"Helvetica,sans-Serif\" font-size=\"14.00\">node #2568</text>\r\n",
       "<text text-anchor=\"middle\" x=\"1178.5\" y=\"-139.8\" font-family=\"Helvetica,sans-Serif\" font-size=\"14.00\">total.cost &lt;= 7812.5</text>\r\n",
       "<text text-anchor=\"middle\" x=\"1178.5\" y=\"-124.8\" font-family=\"Helvetica,sans-Serif\" font-size=\"14.00\">gini = 0.483</text>\r\n",
       "<text text-anchor=\"middle\" x=\"1178.5\" y=\"-109.8\" font-family=\"Helvetica,sans-Serif\" font-size=\"14.00\">samples = 418</text>\r\n",
       "<text text-anchor=\"middle\" x=\"1178.5\" y=\"-94.8\" font-family=\"Helvetica,sans-Serif\" font-size=\"14.00\">value = [247, 171]</text>\r\n",
       "<text text-anchor=\"middle\" x=\"1178.5\" y=\"-79.8\" font-family=\"Helvetica,sans-Serif\" font-size=\"14.00\">class = YES</text>\r\n",
       "</g>\r\n",
       "<!-- 1614&#45;&gt;2568 -->\r\n",
       "<g id=\"edge28\" class=\"edge\"><title>1614&#45;&gt;2568</title>\r\n",
       "<path fill=\"none\" stroke=\"black\" d=\"M1077.35,-205.972C1088.75,-196.508 1100.79,-186.512 1112.44,-176.844\"/>\r\n",
       "<polygon fill=\"black\" stroke=\"black\" points=\"1114.97,-179.294 1120.42,-170.214 1110.49,-173.909 1114.97,-179.294\"/>\r\n",
       "</g>\r\n",
       "<!-- 1616 -->\r\n",
       "<g id=\"node27\" class=\"node\"><title>1616</title>\r\n",
       "<path fill=\"#c0c0c0\" stroke=\"black\" d=\"M987.5,-36C987.5,-36 957.5,-36 957.5,-36 951.5,-36 945.5,-30 945.5,-24 945.5,-24 945.5,-12 945.5,-12 945.5,-6 951.5,-0 957.5,-0 957.5,-0 987.5,-0 987.5,-0 993.5,-0 999.5,-6 999.5,-12 999.5,-12 999.5,-24 999.5,-24 999.5,-30 993.5,-36 987.5,-36\"/>\r\n",
       "<text text-anchor=\"middle\" x=\"972.5\" y=\"-14.3\" font-family=\"Helvetica,sans-Serif\" font-size=\"14.00\">(...)</text>\r\n",
       "</g>\r\n",
       "<!-- 1615&#45;&gt;1616 -->\r\n",
       "<g id=\"edge26\" class=\"edge\"><title>1615&#45;&gt;1616</title>\r\n",
       "<path fill=\"none\" stroke=\"black\" d=\"M997.101,-71.8664C992.865,-62.7639 988.582,-53.5586 984.802,-45.437\"/>\r\n",
       "<polygon fill=\"black\" stroke=\"black\" points=\"987.872,-43.7373 980.48,-36.1476 981.525,-46.6907 987.872,-43.7373\"/>\r\n",
       "</g>\r\n",
       "<!-- 2051 -->\r\n",
       "<g id=\"node28\" class=\"node\"><title>2051</title>\r\n",
       "<path fill=\"#c0c0c0\" stroke=\"black\" d=\"M1059.5,-36C1059.5,-36 1029.5,-36 1029.5,-36 1023.5,-36 1017.5,-30 1017.5,-24 1017.5,-24 1017.5,-12 1017.5,-12 1017.5,-6 1023.5,-0 1029.5,-0 1029.5,-0 1059.5,-0 1059.5,-0 1065.5,-0 1071.5,-6 1071.5,-12 1071.5,-12 1071.5,-24 1071.5,-24 1071.5,-30 1065.5,-36 1059.5,-36\"/>\r\n",
       "<text text-anchor=\"middle\" x=\"1044.5\" y=\"-14.3\" font-family=\"Helvetica,sans-Serif\" font-size=\"14.00\">(...)</text>\r\n",
       "</g>\r\n",
       "<!-- 1615&#45;&gt;2051 -->\r\n",
       "<g id=\"edge27\" class=\"edge\"><title>1615&#45;&gt;2051</title>\r\n",
       "<path fill=\"none\" stroke=\"black\" d=\"M1031.41,-71.8664C1033.62,-62.9639 1035.85,-53.9632 1037.82,-45.974\"/>\r\n",
       "<polygon fill=\"black\" stroke=\"black\" points=\"1041.25,-46.6956 1040.26,-36.1476 1034.46,-45.0136 1041.25,-46.6956\"/>\r\n",
       "</g>\r\n",
       "<!-- 2569 -->\r\n",
       "<g id=\"node30\" class=\"node\"><title>2569</title>\r\n",
       "<path fill=\"#c0c0c0\" stroke=\"black\" d=\"M1157.5,-36C1157.5,-36 1127.5,-36 1127.5,-36 1121.5,-36 1115.5,-30 1115.5,-24 1115.5,-24 1115.5,-12 1115.5,-12 1115.5,-6 1121.5,-0 1127.5,-0 1127.5,-0 1157.5,-0 1157.5,-0 1163.5,-0 1169.5,-6 1169.5,-12 1169.5,-12 1169.5,-24 1169.5,-24 1169.5,-30 1163.5,-36 1157.5,-36\"/>\r\n",
       "<text text-anchor=\"middle\" x=\"1142.5\" y=\"-14.3\" font-family=\"Helvetica,sans-Serif\" font-size=\"14.00\">(...)</text>\r\n",
       "</g>\r\n",
       "<!-- 2568&#45;&gt;2569 -->\r\n",
       "<g id=\"edge29\" class=\"edge\"><title>2568&#45;&gt;2569</title>\r\n",
       "<path fill=\"none\" stroke=\"black\" d=\"M1161.34,-71.8664C1158.13,-62.8639 1154.89,-53.7609 1152.02,-45.7051\"/>\r\n",
       "<polygon fill=\"black\" stroke=\"black\" points=\"1155.27,-44.392 1148.61,-36.1476 1148.67,-46.7422 1155.27,-44.392\"/>\r\n",
       "</g>\r\n",
       "<!-- 2808 -->\r\n",
       "<g id=\"node31\" class=\"node\"><title>2808</title>\r\n",
       "<path fill=\"#c0c0c0\" stroke=\"black\" d=\"M1229.5,-36C1229.5,-36 1199.5,-36 1199.5,-36 1193.5,-36 1187.5,-30 1187.5,-24 1187.5,-24 1187.5,-12 1187.5,-12 1187.5,-6 1193.5,-0 1199.5,-0 1199.5,-0 1229.5,-0 1229.5,-0 1235.5,-0 1241.5,-6 1241.5,-12 1241.5,-12 1241.5,-24 1241.5,-24 1241.5,-30 1235.5,-36 1229.5,-36\"/>\r\n",
       "<text text-anchor=\"middle\" x=\"1214.5\" y=\"-14.3\" font-family=\"Helvetica,sans-Serif\" font-size=\"14.00\">(...)</text>\r\n",
       "</g>\r\n",
       "<!-- 2568&#45;&gt;2808 -->\r\n",
       "<g id=\"edge30\" class=\"edge\"><title>2568&#45;&gt;2808</title>\r\n",
       "<path fill=\"none\" stroke=\"black\" d=\"M1195.66,-71.8664C1198.87,-62.8639 1202.11,-53.7609 1204.98,-45.7051\"/>\r\n",
       "<polygon fill=\"black\" stroke=\"black\" points=\"1208.33,-46.7422 1208.39,-36.1476 1201.73,-44.392 1208.33,-46.7422\"/>\r\n",
       "</g>\r\n",
       "</g>\r\n",
       "</svg>\r\n"
      ],
      "text/plain": [
       "<graphviz.files.Source at 0x273bedde518>"
      ]
     },
     "execution_count": 84,
     "metadata": {},
     "output_type": "execute_result"
    }
   ],
   "source": [
    "dot_data = tree.export_graphviz(\n",
    "    arvore,\n",
    "    feature_names=X.columns,\n",
    "    class_names=y, # Mostra a classificação\n",
    "    max_depth=3, # nível máximo de 3 ramos \n",
    "    filled=True, # Colorindo a arvore\n",
    "    rounded=True, # Caixas arredondadas\n",
    "    node_ids=True, # Mostra o número dos nodes\n",
    "    label='all',\n",
    ")\n",
    "graph = graphviz.Source(dot_data)\n",
    "graph"
   ]
  },
  {
   "cell_type": "markdown",
   "metadata": {},
   "source": [
    "`**Conclusão**`:\n",
    "- *O nó que melhor separa os dados é o nó vehicle.age, em seguida o nó total.cost e mileage*"
   ]
  },
  {
   "cell_type": "code",
   "execution_count": null,
   "metadata": {},
   "outputs": [],
   "source": []
  }
 ],
 "metadata": {
  "kernelspec": {
   "display_name": "Python 3",
   "language": "python",
   "name": "python3"
  },
  "language_info": {
   "codemirror_mode": {
    "name": "ipython",
    "version": 3
   },
   "file_extension": ".py",
   "mimetype": "text/x-python",
   "name": "python",
   "nbconvert_exporter": "python",
   "pygments_lexer": "ipython3",
   "version": "3.7.3"
  }
 },
 "nbformat": 4,
 "nbformat_minor": 2
}
