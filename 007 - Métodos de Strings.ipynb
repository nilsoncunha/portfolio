{
  "cells": [
    {
      "metadata": {
        "collapsed": true
      },
      "cell_type": "markdown",
      "source": "## Métodos de Strings"
    },
    {
      "metadata": {
        "trusted": true
      },
      "cell_type": "code",
      "source": "import numpy as np\nimport pandas as pd",
      "execution_count": 1,
      "outputs": []
    },
    {
      "metadata": {
        "trusted": true
      },
      "cell_type": "code",
      "source": "arq = 'Sanduiches.txt'\nvendas = pd.read_table(arq)\nvendas.columns",
      "execution_count": 2,
      "outputs": [
        {
          "output_type": "execute_result",
          "execution_count": 2,
          "data": {
            "text/plain": "Index(['order_id', 'quantity', 'item_name', 'choice_description',\n       'item_price'],\n      dtype='object')"
          },
          "metadata": {}
        }
      ]
    },
    {
      "metadata": {
        "trusted": true
      },
      "cell_type": "code",
      "source": "# Como utilizamos um método de string normalmente?\n'data science'.upper()",
      "execution_count": 3,
      "outputs": [
        {
          "output_type": "execute_result",
          "execution_count": 3,
          "data": {
            "text/plain": "'DATA SCIENCE'"
          },
          "metadata": {}
        }
      ]
    },
    {
      "metadata": {},
      "cell_type": "markdown",
      "source": "## Os métodos de strings no Pandas são acessados via .str"
    },
    {
      "metadata": {
        "trusted": true
      },
      "cell_type": "code",
      "source": "vendas.item_name.str.upper().head()",
      "execution_count": 6,
      "outputs": [
        {
          "output_type": "execute_result",
          "execution_count": 6,
          "data": {
            "text/plain": "0             CHIPS AND FRESH TOMATO SALSA\n1                                     IZZE\n2                         NANTUCKET NECTAR\n3    CHIPS AND TOMATILLO-GREEN CHILI SALSA\n4                             CHICKEN BOWL\nName: item_name, dtype: object"
          },
          "metadata": {}
        }
      ]
    },
    {
      "metadata": {},
      "cell_type": "markdown",
      "source": "### Procurando sanduíches que contenha frango\n#### Para essa tarefa criaremos uma série booleana e aplicaremos ao Dataframe!"
    },
    {
      "metadata": {
        "trusted": true
      },
      "cell_type": "code",
      "source": "vendas.item_name.str.contains('Chicken').head(10)",
      "execution_count": 8,
      "outputs": [
        {
          "output_type": "execute_result",
          "execution_count": 8,
          "data": {
            "text/plain": "0    False\n1    False\n2    False\n3    False\n4     True\n5     True\n6    False\n7    False\n8    False\n9    False\nName: item_name, dtype: bool"
          },
          "metadata": {}
        }
      ]
    },
    {
      "metadata": {
        "trusted": true
      },
      "cell_type": "code",
      "source": "# Aplicando a série ao dataframe de forma direta\nvendas[vendas.item_name.str.contains('Chicken')].head()",
      "execution_count": 9,
      "outputs": [
        {
          "output_type": "execute_result",
          "execution_count": 9,
          "data": {
            "text/html": "<div>\n<style scoped>\n    .dataframe tbody tr th:only-of-type {\n        vertical-align: middle;\n    }\n\n    .dataframe tbody tr th {\n        vertical-align: top;\n    }\n\n    .dataframe thead th {\n        text-align: right;\n    }\n</style>\n<table border=\"1\" class=\"dataframe\">\n  <thead>\n    <tr style=\"text-align: right;\">\n      <th></th>\n      <th>order_id</th>\n      <th>quantity</th>\n      <th>item_name</th>\n      <th>choice_description</th>\n      <th>item_price</th>\n    </tr>\n  </thead>\n  <tbody>\n    <tr>\n      <th>4</th>\n      <td>2</td>\n      <td>2</td>\n      <td>Chicken Bowl</td>\n      <td>[Tomatillo-Red Chili Salsa (Hot), [Black Beans...</td>\n      <td>$16.98</td>\n    </tr>\n    <tr>\n      <th>5</th>\n      <td>3</td>\n      <td>1</td>\n      <td>Chicken Bowl</td>\n      <td>[Fresh Tomato Salsa (Mild), [Rice, Cheese, Sou...</td>\n      <td>$10.98</td>\n    </tr>\n    <tr>\n      <th>11</th>\n      <td>6</td>\n      <td>1</td>\n      <td>Chicken Crispy Tacos</td>\n      <td>[Roasted Chili Corn Salsa, [Fajita Vegetables,...</td>\n      <td>$8.75</td>\n    </tr>\n    <tr>\n      <th>12</th>\n      <td>6</td>\n      <td>1</td>\n      <td>Chicken Soft Tacos</td>\n      <td>[Roasted Chili Corn Salsa, [Rice, Black Beans,...</td>\n      <td>$8.75</td>\n    </tr>\n    <tr>\n      <th>13</th>\n      <td>7</td>\n      <td>1</td>\n      <td>Chicken Bowl</td>\n      <td>[Fresh Tomato Salsa, [Fajita Vegetables, Rice,...</td>\n      <td>$11.25</td>\n    </tr>\n  </tbody>\n</table>\n</div>",
            "text/plain": "    order_id  quantity             item_name  \\\n4          2         2          Chicken Bowl   \n5          3         1          Chicken Bowl   \n11         6         1  Chicken Crispy Tacos   \n12         6         1    Chicken Soft Tacos   \n13         7         1          Chicken Bowl   \n\n                                   choice_description item_price  \n4   [Tomatillo-Red Chili Salsa (Hot), [Black Beans...    $16.98   \n5   [Fresh Tomato Salsa (Mild), [Rice, Cheese, Sou...    $10.98   \n11  [Roasted Chili Corn Salsa, [Fajita Vegetables,...     $8.75   \n12  [Roasted Chili Corn Salsa, [Rice, Black Beans,...     $8.75   \n13  [Fresh Tomato Salsa, [Fajita Vegetables, Rice,...    $11.25   "
          },
          "metadata": {}
        }
      ]
    },
    {
      "metadata": {},
      "cell_type": "markdown",
      "source": "#### Retirando os colchetes da lista de ingredientes"
    },
    {
      "metadata": {
        "trusted": true
      },
      "cell_type": "code",
      "source": "vendas.choice_description.str.replace('[','').str.replace(']','').head(20)",
      "execution_count": 12,
      "outputs": [
        {
          "output_type": "execute_result",
          "execution_count": 12,
          "data": {
            "text/plain": "0                                                   NaN\n1                                            Clementine\n2                                                 Apple\n3                                                   NaN\n4     Tomatillo-Red Chili Salsa (Hot), Black Beans, ...\n5     Fresh Tomato Salsa (Mild), Rice, Cheese, Sour ...\n6                                                   NaN\n7     Tomatillo Red Chili Salsa, Fajita Vegetables, ...\n8     Tomatillo Green Chili Salsa, Pinto Beans, Chee...\n9     Fresh Tomato Salsa, Rice, Black Beans, Pinto B...\n10                                                  NaN\n11    Roasted Chili Corn Salsa, Fajita Vegetables, R...\n12    Roasted Chili Corn Salsa, Rice, Black Beans, C...\n13    Fresh Tomato Salsa, Fajita Vegetables, Rice, C...\n14                                                  NaN\n15                                                  NaN\n16    Tomatillo-Green Chili Salsa (Medium), Pinto Be...\n17    Fresh Tomato Salsa (Mild), Black Beans, Rice, ...\n18                                               Sprite\n19    Tomatillo Red Chili Salsa, Fajita Vegetables, ...\nName: choice_description, dtype: object"
          },
          "metadata": {}
        }
      ]
    },
    {
      "metadata": {
        "trusted": true
      },
      "cell_type": "code",
      "source": "",
      "execution_count": null,
      "outputs": []
    }
  ],
  "metadata": {
    "kernelspec": {
      "name": "python36",
      "display_name": "Python 3.6",
      "language": "python"
    },
    "language_info": {
      "mimetype": "text/x-python",
      "nbconvert_exporter": "python",
      "name": "python",
      "pygments_lexer": "ipython3",
      "version": "3.6.6",
      "file_extension": ".py",
      "codemirror_mode": {
        "version": 3,
        "name": "ipython"
      }
    }
  },
  "nbformat": 4,
  "nbformat_minor": 2
}